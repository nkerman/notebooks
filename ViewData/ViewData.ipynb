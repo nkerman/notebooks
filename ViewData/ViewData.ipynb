{
 "cells": [
  {
   "cell_type": "markdown",
   "metadata": {},
   "source": [
    "<a id=\"topV\"></a>\n",
    "\n",
    "# ViewData.ipynb\n",
    "#### Nat Kerman (nkerman@stsci.edu)\n",
    "\n",
    "# Learning Goals\n",
    "### This Notebook is designed to walk the user (*you*) through:\n",
    "- **Downloading Existing Cosmic Origins Spectrograph ([*COS*](https://www.nasa.gov/content/hubble-space-telescope-cosmic-origins-spectrograph)) data from the online archive**\n",
    "- **Reading in the data using `Python`**\n",
    "- **Displaying the data using common plotting techniques**\n",
    "\n",
    "# Introduction\n",
    "#### The Cosmic Origins Spectrograph ([*COS*](https://www.nasa.gov/content/hubble-space-telescope-cosmic-origins-spectrograph)) is an ultraviolet spectrograph on-board the Hubble Space Telescope([*HST*](https://www.stsci.edu/hst/about)) with capabilities in the near ultraviolet (*NUV*) and far ultraviolet (*FUV*).\n",
    "\n",
    "#### This tutorial aims to prepare you to begin analyzing COS data of your choice by walking you through downloading, reading, and viewing a spectrum obtained with COS.\n",
    "\n",
    "- For an in-depth manual to working with COS data and a discussion of caveats and user tips, see the [COS Data Handbook](https://hst-docs.stsci.edu/display/COSDHB/).\n",
    "- For a detailed overview of the COS instrument, see the [COS Instrument Handbook](https://hst-docs.stsci.edu/display/COSIHB/).\n",
    "\n",
    "\n",
    "\n",
    ">*This tutorial was generated to be in compliance with the [STScI style guides](https://github.com/spacetelescope/style-guides) and would like to cite the [Jupyter guide](https://github.com/spacetelescope/style-guides/blob/master/templates/example_notebook.ipynb) in particular.*"
   ]
  },
  {
   "cell_type": "markdown",
   "metadata": {},
   "source": [
    "## We will import the following packages:\n",
    "\n",
    "- numpy to handle array functions\n",
    "- astropy.io fits for accessing FITS files\n",
    "- astropy.table Table for creating tidy tables of the data\n",
    "- matplotlib.pyplot for plotting data\n",
    "- astroquery.mast Mast and Observations for finding and downloading data from the [MAST](https://mast.stsci.edu/portal/Mashup/Clients/Mast/Portal.html) archive"
   ]
  },
  {
   "cell_type": "code",
   "execution_count": 1,
   "metadata": {},
   "outputs": [],
   "source": [
    "%matplotlib inline\n",
    "\n",
    "colors = ['#e9dcb4', '#cec191']\n",
    "\n",
    "import numpy as np\n",
    "from astropy.io import fits\n",
    "from astropy.table import Table\n",
    "import matplotlib.pyplot as plt\n",
    "from astroquery.mast import Mast\n",
    "from astroquery.mast import Observations\n",
    "from astroquery.mast import Catalogs\n"
   ]
  },
  {
   "cell_type": "markdown",
   "metadata": {},
   "source": [
    "# 1. Downloading the Data\n",
    "\n",
    "One can search for COS data from both a browser-based gui and a command-line `Python` library.\n",
    "\n",
    "##### *A more in-depth MAST archive tutorial can be found [here](https://mast.stsci.edu/api/v0/MastApiTutorial.html).*\n",
    "\n",
    "\n",
    "## 1.1 The MAST Web Search\n",
    "A browser gui for searching HST archival data can be found [here](http://archive.stsci.edu/hst/search.php).\n",
    "\n",
    "The search page is laid out as in fig. 1.1:\n",
    "### Fig 1.1\n",
    "<center><img src=figures/Mast_hst_searchform3.png width =\"900\" title=\"MAST Archive search form for a COS data query\"> </center>\n",
    "\n",
    "where here we have indicated we would like to find all archival data from the **COS near-ultraviolet configuration science** data, taken with the **G230L grating** while looking at **stars**. The output columns we have selected to see are visible in the bottom left of Fig 1.1.\n",
    "\n",
    "Note that if you have a list of coordinates, Observation ID(s), etc. you can click on the \"File Upload Form\" and attach your list of OBSIDs or identifying features. Then specify which type of data your list contains using the \"File Contents\" drop-down menu.\n",
    "\n",
    "Figure 1.2 shows the *long* results of our search.\n",
    "### Fig 1.2\n",
    "<center><img src=figures/mast_hst_searchRes.png width =\"900\" title=\"MAST Archive search results for a COS data query\"> </center>\n",
    "\n",
    "\n",
    "#### We now choose our dataset.\n",
    "We *arbitrarily* select LBBD01020, taken under an calibration program described as:\n",
    "> \"NUV Spectroscopic Sensitivity Monitoring\"\n",
    "\n",
    "This is a white dwarf star  known as [WD1057+719](http://simbad.u-strasbg.fr/simbad/sim-id?Ident=WD1057%2B719&NbIdent=1&Radius=2&Radius.unit=arcmin&submit=submit+id)"
   ]
  },
  {
   "cell_type": "markdown",
   "metadata": {},
   "source": [
    "Clicking on the dataset, we are taken to a page displaying a preview spectrum (Fig 1.3).\n",
    "### Fig 1.3\n",
    "\n",
    "<center><img src=./figures/preview_spec1.png width =\"900\" title=\"MAST Archive preview spectrum of LBBD01020\"> </center>\n",
    "\n",
    "We now return to the [search page](http://archive.stsci.edu/hst/search.php) and enter in LBBD01020 under \"Dataset\" with no other parameters set. Hitting search, now we see a single-rowed table with just our dataset, and *crucially* the option to download datasets. We mark the row we wish to download and click \"Submit marked data for retrieval from STDADS\". See Fig 1.4.\n",
    "\n",
    "### Fig. 1.4\n",
    "\n",
    "<center><img src=figures/LBBD01020_res.png width =\"900\" title=\"MAST Archive dataset overview of LBBD01020\"> </center>\n",
    "\n",
    "Now we see a page like in Fig 1.5, where we can either sign in with STScI credentials, or simply provide our email to proceed (relatively) anonymously. Make sure to select \"Deliver the data to the Archive staging area\". Hit \"Send Retrieval Request to STDADS\" and you will recieve an email with instructions on downloading with ftp. You will need to do this step from the command line.\n",
    "\n",
    "In the case of this request, the command to retrieve the data was:\n",
    ">`wget -r --ftp-user=anonymous --ask-password ftps://archive.stsci.edu/stage/anonymous/anonymous42822`\n",
    "\n",
    "where the password was the email address used. Now all the data is in a subdirectory \"/archive.stsci.edu/stage/anonymous/anonymous42822/\"\n",
    "\n",
    "### Done!\n"
   ]
  },
  {
   "cell_type": "markdown",
   "metadata": {},
   "source": [
    "## 1.2 astroquery.mast\n",
    "Another way to search for and download archived datasets is within `Python` using the module [`astroquery.mast`](https://astroquery.readthedocs.io/en/latest/mast/mast.html). We have already imported 2 of this module's key tools: `Observations` and `Mast`.\n",
    "\n",
    "There are *many* options for searching the archive with astroquery, but we will begin with a very general search using the coordinates we found in the last section to find the same dataset. \n",
    "- Our coordinates were:      (11:00:34.126 +71:38:02.80). \n",
    "    - We can search these coordinates as sexagesimal coordinates, or convert them to decimal degrees."
   ]
  },
  {
   "cell_type": "code",
   "execution_count": 4,
   "metadata": {},
   "outputs": [],
   "source": [
    "query_1 = Observations.query_object(\"11:00:34.126 +71:38:02.80\", radius=\"5 sec\")"
   ]
  },
  {
   "cell_type": "markdown",
   "metadata": {},
   "source": [
    "This command has generated a table of objects called **\"query_1\"**. We can see what information we have on the objects in the table by printing its *`keys`*, and see how many objects are in the table with `len(query_1)`."
   ]
  },
  {
   "cell_type": "code",
   "execution_count": 5,
   "metadata": {},
   "outputs": [
    {
     "name": "stdout",
     "output_type": "stream",
     "text": [
      "We have table information on 708 observations in the following categories/columns:\n",
      "\n"
     ]
    },
    {
     "data": {
      "text/plain": [
       "['intentType',\n",
       " 'obs_collection',\n",
       " 'provenance_name',\n",
       " 'instrument_name',\n",
       " 'project',\n",
       " 'filters',\n",
       " 'wavelength_region',\n",
       " 'target_name',\n",
       " 'target_classification',\n",
       " 'obs_id',\n",
       " 's_ra',\n",
       " 's_dec',\n",
       " 'dataproduct_type',\n",
       " 'proposal_pi',\n",
       " 'calib_level',\n",
       " 't_min',\n",
       " 't_max',\n",
       " 't_exptime',\n",
       " 'em_min',\n",
       " 'em_max',\n",
       " 'obs_title',\n",
       " 't_obs_release',\n",
       " 'proposal_id',\n",
       " 'proposal_type',\n",
       " 'sequence_number',\n",
       " 's_region',\n",
       " 'jpegURL',\n",
       " 'dataURL',\n",
       " 'dataRights',\n",
       " 'mtFlag',\n",
       " 'srcDen',\n",
       " 'obsid',\n",
       " 'distance']"
      ]
     },
     "execution_count": 5,
     "metadata": {},
     "output_type": "execute_result"
    }
   ],
   "source": [
    "print(f\"We have table information on {len(query_1)} observations in the following categories/columns:\\n\")\n",
    "(query_1.keys())"
   ]
  },
  {
   "cell_type": "markdown",
   "metadata": {},
   "source": [
    "Now we narrow down a bit with some additional parameters (wavelength_region,instrument_name and configuration, dataproduct_type):"
   ]
  },
  {
   "cell_type": "code",
   "execution_count": 13,
   "metadata": {},
   "outputs": [
    {
     "data": {
      "text/html": [
       "<i>Table masked=True length=209</i>\n",
       "<table id=\"table140639032373488\" class=\"table-striped table-bordered table-condensed\">\n",
       "<thead><tr><th>dataproduct_type</th><th>calib_level</th><th>obs_collection</th><th>obs_id</th><th>target_name</th><th>s_ra</th><th>s_dec</th><th>t_min</th><th>t_max</th><th>t_exptime</th><th>wavelength_region</th><th>filters</th><th>em_min</th><th>em_max</th><th>target_classification</th><th>obs_title</th><th>t_obs_release</th><th>instrument_name</th><th>proposal_pi</th><th>proposal_id</th><th>proposal_type</th><th>project</th><th>sequence_number</th><th>provenance_name</th><th>s_region</th><th>jpegURL</th><th>dataURL</th><th>dataRights</th><th>mtFlag</th><th>srcDen</th><th>intentType</th><th>obsid</th><th>objID</th></tr></thead>\n",
       "<thead><tr><th>str8</th><th>int64</th><th>str3</th><th>str9</th><th>str10</th><th>float64</th><th>float64</th><th>float64</th><th>float64</th><th>float64</th><th>str2</th><th>str5</th><th>float64</th><th>float64</th><th>str7</th><th>str50</th><th>float64</th><th>str7</th><th>str19</th><th>str5</th><th>str7</th><th>str3</th><th>int64</th><th>str6</th><th>str47</th><th>str37</th><th>str38</th><th>str6</th><th>bool</th><th>float64</th><th>str7</th><th>str10</th><th>str10</th></tr></thead>\n",
       "<tr><td>spectrum</td><td>3</td><td>HST</td><td>le0sl2020</td><td>WD1057+719</td><td>165.1417487528</td><td>71.63404952112</td><td>59062.99029997</td><td>59063.00013793</td><td>850.208</td><td>UV</td><td>G230L</td><td>170.0</td><td>320.0</td><td>STAR;DA</td><td>Cycle 27 COS NUV Spectroscopic Sensitivity Monitor</td><td>59064.04225</td><td>COS/NUV</td><td>Fischer, William J.</td><td>15778</td><td>CAL/COS</td><td>HST</td><td>--</td><td>CALCOS</td><td>CIRCLE ICRS 165.14174867 71.63404945 0.00069444</td><td>mast:HST/product/le0sl2020_x1dsum.png</td><td>mast:HST/product/le0sl2020_x1dsum.fits</td><td>PUBLIC</td><td>False</td><td>nan</td><td>science</td><td>2008158631</td><td>2048961109</td></tr>\n",
       "<tr><td>spectrum</td><td>3</td><td>HST</td><td>le0sl2010</td><td>WD1057+719</td><td>165.1417487537</td><td>71.63404952125</td><td>59062.98133032</td><td>59062.98758032</td><td>540.0</td><td>UV</td><td>G230L</td><td>170.0</td><td>320.0</td><td>STAR;DA</td><td>Cycle 27 COS NUV Spectroscopic Sensitivity Monitor</td><td>59063.2483</td><td>COS/NUV</td><td>Fischer, William J.</td><td>15778</td><td>CAL/COS</td><td>HST</td><td>--</td><td>CALCOS</td><td>CIRCLE ICRS 165.14174868 71.63404945 0.00069444</td><td>mast:HST/product/le0sl2010_x1dsum.png</td><td>mast:HST/product/le0sl2010_x1dsum.fits</td><td>PUBLIC</td><td>False</td><td>nan</td><td>science</td><td>2008158537</td><td>2048960143</td></tr>\n",
       "<tr><td>spectrum</td><td>1</td><td>HST</td><td>le0sl2h7q</td><td>WD1057+719</td><td>165.1417487541</td><td>71.6340495213</td><td>59062.97992515</td><td>59062.97993325</td><td>0.7</td><td>UV</td><td>G230L</td><td>170.0</td><td>320.0</td><td>STAR;DA</td><td>Cycle 27 COS NUV Spectroscopic Sensitivity Monitor</td><td>59063.24816</td><td>COS/NUV</td><td>Fischer, William J.</td><td>15778</td><td>CAL/COS</td><td>HST</td><td>--</td><td>CALCOS</td><td>CIRCLE ICRS 165.14174868 71.63404945 0.00069444</td><td>--</td><td>mast:HST/product/le0sl2h7q_rawacq.fits</td><td>PUBLIC</td><td>False</td><td>nan</td><td>science</td><td>2008158485</td><td>2048960082</td></tr>\n",
       "<tr><td>spectrum</td><td>1</td><td>HST</td><td>le0sl2h6q</td><td>WD1057+719</td><td>165.1417487542</td><td>71.63404952132</td><td>59062.97652998</td><td>59062.97742115</td><td>77.0</td><td>UV</td><td>G230L</td><td>170.0</td><td>320.0</td><td>STAR;DA</td><td>Cycle 27 COS NUV Spectroscopic Sensitivity Monitor</td><td>59063.24814</td><td>COS/NUV</td><td>Fischer, William J.</td><td>15778</td><td>CAL/COS</td><td>HST</td><td>--</td><td>CALCOS</td><td>CIRCLE ICRS 165.14174868 71.63404945 0.00069444</td><td>--</td><td>mast:HST/product/le0sl2h6q_rawacq.fits</td><td>PUBLIC</td><td>False</td><td>nan</td><td>science</td><td>2008158489</td><td>2048960085</td></tr>\n",
       "<tr><td>spectrum</td><td>1</td><td>HST</td><td>le0sl2h5q</td><td>WD1057+719</td><td>165.1417487549</td><td>71.63404952141</td><td>59062.96944807</td><td>59062.97560547</td><td>532.0</td><td>UV</td><td>G230L</td><td>170.0</td><td>320.0</td><td>STAR;DA</td><td>Cycle 27 COS NUV Spectroscopic Sensitivity Monitor</td><td>59063.2481</td><td>COS/NUV</td><td>Fischer, William J.</td><td>15778</td><td>CAL/COS</td><td>HST</td><td>--</td><td>CALCOS</td><td>CIRCLE ICRS 165.14174868 71.63404945 0.00069444</td><td>--</td><td>mast:HST/product/le0sl2h5q_rawacq.fits</td><td>PUBLIC</td><td>False</td><td>nan</td><td>science</td><td>2008158486</td><td>2048960083</td></tr>\n",
       "<tr><td>spectrum</td><td>3</td><td>HST</td><td>le0sl1020</td><td>WD1057+719</td><td>165.1417703905</td><td>71.63405248633</td><td>58868.04901551</td><td>58868.05885347</td><td>850.176</td><td>UV</td><td>G230L</td><td>170.0</td><td>320.0</td><td>STAR;DA</td><td>Cycle 27 COS NUV Spectroscopic Sensitivity Monitor</td><td>58868.53459</td><td>COS/NUV</td><td>Fischer, William J.</td><td>15778</td><td>CAL/COS</td><td>HST</td><td>--</td><td>CALCOS</td><td>CIRCLE ICRS 165.14177054 71.63405255 0.00069444</td><td>mast:HST/product/le0sl1020_x1dsum.png</td><td>mast:HST/product/le0sl1020_x1dsum.fits</td><td>PUBLIC</td><td>False</td><td>nan</td><td>science</td><td>2008129527</td><td>2048957350</td></tr>\n",
       "<tr><td>spectrum</td><td>3</td><td>HST</td><td>le0sl1010</td><td>WD1057+719</td><td>165.1417703914</td><td>71.63405248645</td><td>58868.04004552</td><td>58868.04629552</td><td>540.0</td><td>UV</td><td>G230L</td><td>170.0</td><td>320.0</td><td>STAR;DA</td><td>Cycle 27 COS NUV Spectroscopic Sensitivity Monitor</td><td>58868.53442</td><td>COS/NUV</td><td>Fischer, William J.</td><td>15778</td><td>CAL/COS</td><td>HST</td><td>--</td><td>CALCOS</td><td>CIRCLE ICRS 165.14177054 71.63405255 0.00069444</td><td>mast:HST/product/le0sl1010_x1dsum.png</td><td>mast:HST/product/le0sl1010_x1dsum.fits</td><td>PUBLIC</td><td>False</td><td>nan</td><td>science</td><td>2008129526</td><td>2048950327</td></tr>\n",
       "<tr><td>spectrum</td><td>1</td><td>HST</td><td>le0sl1a9q</td><td>WD1057+719</td><td>165.1417703918</td><td>71.63405248651</td><td>58868.03864071</td><td>58868.03864881</td><td>0.7</td><td>UV</td><td>G230L</td><td>170.0</td><td>320.0</td><td>STAR;DA</td><td>Cycle 27 COS NUV Spectroscopic Sensitivity Monitor</td><td>58868.46453</td><td>COS/NUV</td><td>Fischer, William J.</td><td>15778</td><td>CAL/COS</td><td>HST</td><td>--</td><td>CALCOS</td><td>CIRCLE ICRS 165.14177054 71.63405255 0.00069444</td><td>--</td><td>mast:HST/product/le0sl1a9q_rawacq.fits</td><td>PUBLIC</td><td>False</td><td>nan</td><td>science</td><td>2008129472</td><td>2048956948</td></tr>\n",
       "<tr><td>spectrum</td><td>1</td><td>HST</td><td>le0sl1a8q</td><td>WD1057+719</td><td>165.1417703919</td><td>71.63405248652</td><td>58868.03524514</td><td>58868.03613634</td><td>77.0</td><td>UV</td><td>G230L</td><td>170.0</td><td>320.0</td><td>STAR;DA</td><td>Cycle 27 COS NUV Spectroscopic Sensitivity Monitor</td><td>58868.46453</td><td>COS/NUV</td><td>Fischer, William J.</td><td>15778</td><td>CAL/COS</td><td>HST</td><td>--</td><td>CALCOS</td><td>CIRCLE ICRS 165.14177054 71.63405255 0.00069444</td><td>--</td><td>mast:HST/product/le0sl1a8q_rawacq.fits</td><td>PUBLIC</td><td>False</td><td>nan</td><td>science</td><td>2008129474</td><td>2048955724</td></tr>\n",
       "<tr><td>spectrum</td><td>1</td><td>HST</td><td>le0sl1a7q</td><td>WD1057+719</td><td>165.1417703926</td><td>71.63405248661</td><td>58868.02815104</td><td>58868.03430841</td><td>532.0</td><td>UV</td><td>G230L</td><td>170.0</td><td>320.0</td><td>STAR;DA</td><td>Cycle 27 COS NUV Spectroscopic Sensitivity Monitor</td><td>58868.46453</td><td>COS/NUV</td><td>Fischer, William J.</td><td>15778</td><td>CAL/COS</td><td>HST</td><td>--</td><td>CALCOS</td><td>CIRCLE ICRS 165.14177054 71.63405255 0.00069444</td><td>--</td><td>mast:HST/product/le0sl1a7q_rawacq.fits</td><td>PUBLIC</td><td>False</td><td>nan</td><td>science</td><td>2008129473</td><td>2048954055</td></tr>\n",
       "<tr><td>...</td><td>...</td><td>...</td><td>...</td><td>...</td><td>...</td><td>...</td><td>...</td><td>...</td><td>...</td><td>...</td><td>...</td><td>...</td><td>...</td><td>...</td><td>...</td><td>...</td><td>...</td><td>...</td><td>...</td><td>...</td><td>...</td><td>...</td><td>...</td><td>...</td><td>...</td><td>...</td><td>...</td><td>...</td><td>...</td><td>...</td><td>...</td><td>...</td></tr>\n",
       "<tr><td>spectrum</td><td>3</td><td>HST</td><td>lbngl1010</td><td>WD1057+719</td><td>165.142136734</td><td>71.63410268923</td><td>55567.53780147</td><td>55567.54405147</td><td>540.0</td><td>UV</td><td>G230L</td><td>170.0</td><td>320.0</td><td>STAR;DA</td><td>NUV Spectroscopic Sensitivity Monitoring</td><td>55567.67846</td><td>COS/NUV</td><td>Osten, Rachel A.</td><td>12421</td><td>CAL/COS</td><td>HST</td><td>--</td><td>CALCOS</td><td>CIRCLE ICRS 165.14221615 71.63406364 0.00069444</td><td>mast:HST/product/lbngl1010_x1dsum.png</td><td>mast:HST/product/lbngl1010_x1dsum.fits</td><td>PUBLIC</td><td>False</td><td>nan</td><td>science</td><td>2003887547</td><td>2048956746</td></tr>\n",
       "<tr><td>spectrum</td><td>3</td><td>HST</td><td>lbbd03020</td><td>WD1057+719</td><td>165.1421882891</td><td>71.63410975414</td><td>55103.06355378</td><td>55103.07906304</td><td>1340.0</td><td>UV</td><td>G230L</td><td>170.0</td><td>320.0</td><td>STAR;DA</td><td>NUV Spectroscopic Sensitivity Monitoring</td><td>55103.22277</td><td>COS/NUV</td><td>Osten, Rachel A.</td><td>11896</td><td>CAL/COS</td><td>HST</td><td>--</td><td>CALCOS</td><td>CIRCLE ICRS 165.14222745 71.63411555 0.00069444</td><td>mast:HST/product/lbbd03020_x1dsum.png</td><td>mast:HST/product/lbbd03020_x1dsum.fits</td><td>PUBLIC</td><td>False</td><td>nan</td><td>science</td><td>2003886006</td><td>2048957199</td></tr>\n",
       "<tr><td>spectrum</td><td>1</td><td>HST</td><td>lc3zl2c3q</td><td>WD1057+719</td><td>165.1420454182</td><td>71.63409017561</td><td>56390.2325958</td><td>56390.2326039</td><td>0.7</td><td>UV</td><td>G230L</td><td>170.0</td><td>320.0</td><td>STAR;DA</td><td>NUV Spectroscopic Sensitivity Monitoring</td><td>56390.32397</td><td>COS/NUV</td><td>Bostroem, K. Azalee</td><td>13125</td><td>CAL/COS</td><td>HST</td><td>--</td><td>CALCOS</td><td>CIRCLE ICRS 165.14213547 71.63408501 0.00069444</td><td>--</td><td>mast:HST/product/lc3zl2c3q_rawacq.fits</td><td>PUBLIC</td><td>False</td><td>nan</td><td>science</td><td>2003191852</td><td>2048957200</td></tr>\n",
       "<tr><td>spectrum</td><td>3</td><td>HST</td><td>lc3zl3010</td><td>WD1057+719</td><td>165.1420269045</td><td>71.63408763853</td><td>56557.02678032</td><td>56557.03303032</td><td>540.032</td><td>UV</td><td>G230L</td><td>170.0</td><td>320.0</td><td>STAR;DA</td><td>NUV Spectroscopic Sensitivity Monitoring</td><td>56557.0858</td><td>COS/NUV</td><td>Bostroem, K. Azalee</td><td>13125</td><td>CAL/COS</td><td>HST</td><td>--</td><td>CALCOS</td><td>CIRCLE ICRS 165.14194589 71.63410105 0.00069444</td><td>mast:HST/product/lc3zl3010_x1dsum.png</td><td>mast:HST/product/lc3zl3010_x1dsum.fits</td><td>PUBLIC</td><td>False</td><td>nan</td><td>science</td><td>2003889077</td><td>2048957213</td></tr>\n",
       "<tr><td>spectrum</td><td>3</td><td>HST</td><td>lbujl3020</td><td>WD1057+719</td><td>165.1420849941</td><td>71.63409559896</td><td>56033.67946709</td><td>56033.68756895</td><td>700.0</td><td>UV</td><td>G230L</td><td>170.0</td><td>320.0</td><td>STAR;DA</td><td>NUV Spectroscopic Sensitivity Monitoring</td><td>56033.99213</td><td>COS/NUV</td><td>Osten, Rachel A.</td><td>12719</td><td>CAL/COS</td><td>HST</td><td>--</td><td>CALCOS</td><td>CIRCLE ICRS 165.14217631 71.63409363 0.00069444</td><td>mast:HST/product/lbujl3020_x1dsum.png</td><td>mast:HST/product/lbujl3020_x1dsum.fits</td><td>PUBLIC</td><td>False</td><td>nan</td><td>science</td><td>2003888267</td><td>2048957222</td></tr>\n",
       "<tr><td>spectrum</td><td>1</td><td>HST</td><td>lbbd15g7q</td><td>WD1057+719</td><td>165.1421479179</td><td>71.63410422183</td><td>55466.77742145</td><td>55466.78480571</td><td>638.0</td><td>UV</td><td>G230L</td><td>170.0</td><td>320.0</td><td>STAR;DA</td><td>NUV Spectroscopic Sensitivity Monitoring</td><td>55466.91579</td><td>COS/NUV</td><td>Osten, Rachel A.</td><td>11896</td><td>CAL/COS</td><td>HST</td><td>--</td><td>CALCOS</td><td>CIRCLE ICRS 165.14201880 71.63408201 0.00069444</td><td>--</td><td>mast:HST/product/lbbd15g7q_rawacq.fits</td><td>PUBLIC</td><td>False</td><td>nan</td><td>science</td><td>2003183280</td><td>2048957261</td></tr>\n",
       "<tr><td>spectrum</td><td>3</td><td>HST</td><td>lbbd13010</td><td>WD1057+719</td><td>165.1421541831</td><td>71.63410508038</td><td>55410.33419587</td><td>55410.33975142</td><td>480.0</td><td>UV</td><td>G230L</td><td>170.0</td><td>320.0</td><td>STAR;DA</td><td>NUV Spectroscopic Sensitivity Monitoring</td><td>55410.45917</td><td>COS/NUV</td><td>Osten, Rachel A.</td><td>11896</td><td>CAL/COS</td><td>HST</td><td>--</td><td>CALCOS</td><td>CIRCLE ICRS 165.14202378 71.63412663 0.00069444</td><td>mast:HST/product/lbbd13010_x1dsum.png</td><td>mast:HST/product/lbbd13010_x1dsum.fits</td><td>PUBLIC</td><td>False</td><td>nan</td><td>science</td><td>2003886030</td><td>2048957492</td></tr>\n",
       "<tr><td>spectrum</td><td>3</td><td>HST</td><td>lbbd01040</td><td>WD1057+719</td><td>165.1421933665</td><td>71.63411044993</td><td>55057.31938712</td><td>55057.33319499</td><td>1193.0</td><td>UV</td><td>G230L</td><td>170.0</td><td>320.0</td><td>STAR;DA</td><td>NUV Spectroscopic Sensitivity Monitoring</td><td>55083.66667</td><td>COS/NUV</td><td>Osten, Rachel A.</td><td>11896</td><td>CAL/COS</td><td>HST</td><td>--</td><td>CALCOS</td><td>CIRCLE ICRS 165.14223433 71.63410578 0.00069444</td><td>mast:HST/product/lbbd01040_x1dsum.png</td><td>mast:HST/product/lbbd01040_x1dsum.fits</td><td>PUBLIC</td><td>False</td><td>nan</td><td>science</td><td>2003886002</td><td>2048957569</td></tr>\n",
       "<tr><td>spectrum</td><td>3</td><td>HST</td><td>lc3zl3020</td><td>WD1057+719</td><td>165.1420269037</td><td>71.63408763842</td><td>56557.03509071</td><td>56557.04319256</td><td>700.0</td><td>UV</td><td>G230L</td><td>170.0</td><td>320.0</td><td>STAR;DA</td><td>NUV Spectroscopic Sensitivity Monitoring</td><td>56557.17656</td><td>COS/NUV</td><td>Bostroem, K. Azalee</td><td>13125</td><td>CAL/COS</td><td>HST</td><td>--</td><td>CALCOS</td><td>CIRCLE ICRS 165.14194589 71.63410105 0.00069444</td><td>mast:HST/product/lc3zl3020_x1dsum.png</td><td>mast:HST/product/lc3zl3020_x1dsum.fits</td><td>PUBLIC</td><td>False</td><td>nan</td><td>science</td><td>2003889078</td><td>2048957673</td></tr>\n",
       "<tr><td>spectrum</td><td>1</td><td>HST</td><td>lbbd08oxq</td><td>WD1057+719</td><td>165.1421710679</td><td>71.63410739422</td><td>55258.21292292</td><td>55258.21399931</td><td>93.0</td><td>UV</td><td>G230L</td><td>170.0</td><td>320.0</td><td>STAR;DA</td><td>NUV Spectroscopic Sensitivity Monitoring</td><td>55258.32361</td><td>COS/NUV</td><td>Osten, Rachel A.</td><td>11896</td><td>CAL/COS</td><td>HST</td><td>--</td><td>CALCOS</td><td>CIRCLE ICRS 165.14231701 71.63411347 0.00069444</td><td>--</td><td>mast:HST/product/lbbd08oxq_rawacq.fits</td><td>PUBLIC</td><td>False</td><td>nan</td><td>science</td><td>2003183246</td><td>2048957857</td></tr>\n",
       "</table>"
      ],
      "text/plain": [
       "<Table masked=True length=209>\n",
       "dataproduct_type calib_level obs_collection ... intentType   obsid      objID   \n",
       "      str8          int64         str3      ...    str7      str10      str10   \n",
       "---------------- ----------- -------------- ... ---------- ---------- ----------\n",
       "        spectrum           3            HST ...    science 2008158631 2048961109\n",
       "        spectrum           3            HST ...    science 2008158537 2048960143\n",
       "        spectrum           1            HST ...    science 2008158485 2048960082\n",
       "        spectrum           1            HST ...    science 2008158489 2048960085\n",
       "        spectrum           1            HST ...    science 2008158486 2048960083\n",
       "        spectrum           3            HST ...    science 2008129527 2048957350\n",
       "        spectrum           3            HST ...    science 2008129526 2048950327\n",
       "        spectrum           1            HST ...    science 2008129472 2048956948\n",
       "        spectrum           1            HST ...    science 2008129474 2048955724\n",
       "        spectrum           1            HST ...    science 2008129473 2048954055\n",
       "             ...         ...            ... ...        ...        ...        ...\n",
       "        spectrum           3            HST ...    science 2003887547 2048956746\n",
       "        spectrum           3            HST ...    science 2003886006 2048957199\n",
       "        spectrum           1            HST ...    science 2003191852 2048957200\n",
       "        spectrum           3            HST ...    science 2003889077 2048957213\n",
       "        spectrum           3            HST ...    science 2003888267 2048957222\n",
       "        spectrum           1            HST ...    science 2003183280 2048957261\n",
       "        spectrum           3            HST ...    science 2003886030 2048957492\n",
       "        spectrum           3            HST ...    science 2003886002 2048957569\n",
       "        spectrum           3            HST ...    science 2003889078 2048957673\n",
       "        spectrum           1            HST ...    science 2003183246 2048957857"
      ]
     },
     "execution_count": 13,
     "metadata": {},
     "output_type": "execute_result"
    }
   ],
   "source": [
    "query_2 = Observations.query_criteria(s_ra=[165., 166.], s_dec=[+71.,+72.],\n",
    "                                        wavelength_region=\"UV\", instrument_name=\"COS/NUV\", \n",
    "                                        dataproduct_type = \"spectrum\")\n",
    "query_2"
   ]
  },
  {
   "cell_type": "markdown",
   "metadata": {},
   "source": [
    "#### Caution! \n",
    "<img src=figures/warning.png width =\"60\" title=\"MAST Archive preview spectrum of LBBD01020\"> \n",
    "Please note that these queries are Astropy tables and do not always respond as expected for other data structures like Pandas DataFrames. For instance, the first way of filtering a table shown below is correct, but the second will consistently produce the *wrong result*."
   ]
  },
  {
   "cell_type": "code",
   "execution_count": 19,
   "metadata": {},
   "outputs": [
    {
     "name": "stdout",
     "output_type": "stream",
     "text": [
      "Correct way yields: \n",
      "   obs_id \n",
      "---------\n",
      "lbbd01020 \n",
      "\n",
      "\n",
      "Incorrect way yields: \n",
      " tess-s0014-4-3\n"
     ]
    }
   ],
   "source": [
    "# Searching a table generated with a query\n",
    "## First correct way using masking\n",
    "mask = (query_1['obs_id'] == 'lbbd01020')\n",
    "print(\"Correct way yields: \\n\" , query_1[mask]['obs_id'],\"\\n\\n\")\n",
    "\n",
    "# Second incorrect way\n",
    "print(\"Incorrect way yields: \\n\" , query_1['obs_id' == 'LBBD01020']['obs_id'])"
   ]
  },
  {
   "cell_type": "markdown",
   "metadata": {},
   "source": [
    "### Now we can choose download our data products from the archive dataset.\n",
    "\n",
    "We will first generate a list of data products in the dataset: `product_list`. Then we will download *just the* **minimum recommended products**, which are the fully calibrated spectrum (denoted by the suffix `_x1d` or here `x1dsum`) and the association file (denoted by the suffix `_asn`)."
   ]
  },
  {
   "cell_type": "code",
   "execution_count": 297,
   "metadata": {},
   "outputs": [
    {
     "data": {
      "text/html": [
       "<i>Table masked=True length=17</i>\n",
       "<table id=\"table140464684577848\" class=\"table-striped table-bordered table-condensed\">\n",
       "<thead><tr><th>obsID</th><th>obs_collection</th><th>dataproduct_type</th><th>obs_id</th><th>description</th><th>type</th><th>dataURI</th><th>productType</th><th>productGroupDescription</th><th>productSubGroupDescription</th><th>productDocumentationURL</th><th>project</th><th>prvversion</th><th>proposal_id</th><th>productFilename</th><th>size</th><th>parent_obsid</th></tr></thead>\n",
       "<thead><tr><th>str10</th><th>str3</th><th>str8</th><th>str9</th><th>str62</th><th>str1</th><th>str44</th><th>str9</th><th>str28</th><th>str9</th><th>str1</th><th>str6</th><th>str5</th><th>str5</th><th>str27</th><th>int64</th><th>str10</th></tr></thead>\n",
       "<tr><td>2007688613</td><td>HST</td><td>spectrum</td><td>ldlm42010</td><td>DADS JIF file</td><td>C</td><td>mast:HST/product/ldlm42010_jif.fits</td><td>AUXILIARY</td><td>--</td><td>JIF</td><td>--</td><td>CALCOS</td><td>--</td><td>15071</td><td>ldlm42010_jif.fits</td><td>34560</td><td>2007688613</td></tr>\n",
       "<tr><td>2007688613</td><td>HST</td><td>spectrum</td><td>ldlm42010</td><td>DADS JIT file</td><td>C</td><td>mast:HST/product/ldlm42010_jit.fits</td><td>AUXILIARY</td><td>--</td><td>JIT</td><td>--</td><td>CALCOS</td><td>--</td><td>15071</td><td>ldlm42010_jit.fits</td><td>118080</td><td>2007688613</td></tr>\n",
       "<tr><td>2007688613</td><td>HST</td><td>spectrum</td><td>ldlm42010</td><td>DADS TRL file - Processing log</td><td>C</td><td>mast:HST/product/ldlm42010_trl.fits</td><td>AUXILIARY</td><td>--</td><td>TRL</td><td>--</td><td>CALCOS</td><td>--</td><td>15071</td><td>ldlm42010_trl.fits</td><td>20160</td><td>2007688613</td></tr>\n",
       "<tr><td>2007688613</td><td>HST</td><td>spectrum</td><td>ldlm42010</td><td>DADS X3S file - Summed 1D spectrum COS</td><td>C</td><td>mast:HST/product/ldlm42010_x1dsum3.fits</td><td>AUXILIARY</td><td>--</td><td>X1DSUM3</td><td>--</td><td>CALCOS</td><td>3.3.9</td><td>15071</td><td>ldlm42010_x1dsum3.fits</td><td>198720</td><td>2007688613</td></tr>\n",
       "<tr><td>2007688613</td><td>HST</td><td>spectrum</td><td>ldlm42010</td><td>DADS ASN file - Association ACS/WFC3/STIS</td><td>C</td><td>mast:HST/product/ldlm42010_asn.fits</td><td>AUXILIARY</td><td>Minimum Recommended Products</td><td>ASN</td><td>--</td><td>CALCOS</td><td>3.3.9</td><td>15071</td><td>ldlm42010_asn.fits</td><td>11520</td><td>2007688613</td></tr>\n",
       "<tr><td>2007688613</td><td>HST</td><td>spectrum</td><td>ldlm42010</td><td>DADS XSM file - Calibrated combined extracted 1D spectrum COS</td><td>C</td><td>mast:HST/product/ldlm42010_x1dsum.fits</td><td>SCIENCE</td><td>Minimum Recommended Products</td><td>X1DSUM</td><td>--</td><td>CALCOS</td><td>3.3.9</td><td>15071</td><td>ldlm42010_x1dsum.fits</td><td>198720</td><td>2007688613</td></tr>\n",
       "<tr><td>2007688613</td><td>HST</td><td>spectrum</td><td>ldlm42010</td><td>Preview-Thumb</td><td>C</td><td>mast:HST/product/ldlm42010_x1dsum_thumb.png</td><td>THUMBNAIL</td><td>--</td><td>--</td><td>--</td><td>CALCOS</td><td>3.3.9</td><td>15071</td><td>ldlm42010_x1dsum_thumb.png</td><td>5477</td><td>2007688613</td></tr>\n",
       "<tr><td>2007688613</td><td>HST</td><td>spectrum</td><td>ldlm42010</td><td>Preview-Thumb</td><td>C</td><td>mast:HST/product/ldlm42010_x1dsum3_thumb.png</td><td>THUMBNAIL</td><td>--</td><td>--</td><td>--</td><td>CALCOS</td><td>3.3.9</td><td>15071</td><td>ldlm42010_x1dsum3_thumb.png</td><td>5477</td><td>2007688613</td></tr>\n",
       "<tr><td>2007688514</td><td>HST</td><td>spectrum</td><td>ldlm42yrq</td><td>DADS CTG file - Corrected events COS</td><td>S</td><td>mast:HST/product/ldlm42yrq_corrtag.fits</td><td>AUXILIARY</td><td>--</td><td>CORRTAG</td><td>--</td><td>CALCOS</td><td>3.3.9</td><td>15071</td><td>ldlm42yrq_corrtag.fits</td><td>102778560</td><td>2007688613</td></tr>\n",
       "<tr><td>2007688514</td><td>HST</td><td>spectrum</td><td>ldlm42yrq</td><td>DADS CNT file - Counts COS combined</td><td>S</td><td>mast:HST/product/ldlm42yrq_counts.fits</td><td>AUXILIARY</td><td>--</td><td>COUNTS</td><td>--</td><td>CALCOS</td><td>3.3.9</td><td>15071</td><td>ldlm42yrq_counts.fits</td><td>13092480</td><td>2007688613</td></tr>\n",
       "<tr><td>2007688514</td><td>HST</td><td>spectrum</td><td>ldlm42yrq</td><td>DADS LPF file - LampFlash exposure COS</td><td>S</td><td>mast:HST/product/ldlm42yrq_lampflash.fits</td><td>AUXILIARY</td><td>--</td><td>LAMPFLASH</td><td>--</td><td>CALCOS</td><td>3.3.9</td><td>15071</td><td>ldlm42yrq_lampflash.fits</td><td>267840</td><td>2007688613</td></tr>\n",
       "<tr><td>2007688514</td><td>HST</td><td>spectrum</td><td>ldlm42yrq</td><td>DADS SPT file - Engineering telemetry ACS/WFC3/NICMOS/COS/STIS</td><td>S</td><td>mast:HST/product/ldlm42yrq_spt.fits</td><td>AUXILIARY</td><td>--</td><td>SPT</td><td>--</td><td>CALCOS</td><td>3.3.9</td><td>15071</td><td>ldlm42yrq_spt.fits</td><td>218880</td><td>2007688613</td></tr>\n",
       "<tr><td>2007688514</td><td>HST</td><td>spectrum</td><td>ldlm42yrq</td><td>DADS TRL file - Processing log</td><td>S</td><td>mast:HST/product/ldlm42yrq_trl.fits</td><td>AUXILIARY</td><td>--</td><td>TRL</td><td>--</td><td>CALCOS</td><td>3.3.9</td><td>15071</td><td>ldlm42yrq_trl.fits</td><td>31680</td><td>2007688613</td></tr>\n",
       "<tr><td>2007688514</td><td>HST</td><td>spectrum</td><td>ldlm42yrq</td><td>DADS FLT file - Calibrated exposure ACS/WFC3/STIS/COS</td><td>S</td><td>mast:HST/product/ldlm42yrq_flt.fits</td><td>SCIENCE</td><td>--</td><td>FLT</td><td>--</td><td>CALCOS</td><td>3.3.9</td><td>15071</td><td>ldlm42yrq_flt.fits</td><td>13092480</td><td>2007688613</td></tr>\n",
       "<tr><td>2007688514</td><td>HST</td><td>spectrum</td><td>ldlm42yrq</td><td>DADS RTG file - Raw events COS combined</td><td>S</td><td>mast:HST/product/ldlm42yrq_rawtag.fits</td><td>SCIENCE</td><td>--</td><td>RAWTAG</td><td>--</td><td>CALCOS</td><td>3.3.9</td><td>15071</td><td>ldlm42yrq_rawtag.fits</td><td>21081600</td><td>2007688613</td></tr>\n",
       "<tr><td>2007688514</td><td>HST</td><td>spectrum</td><td>ldlm42yrq</td><td>DADS X1D file - Calibrated 1D spectrum STIS</td><td>S</td><td>mast:HST/product/ldlm42yrq_x1d.fits</td><td>SCIENCE</td><td>--</td><td>X1D</td><td>--</td><td>CALCOS</td><td>3.3.9</td><td>15071</td><td>ldlm42yrq_x1d.fits</td><td>368640</td><td>2007688613</td></tr>\n",
       "<tr><td>2007688514</td><td>HST</td><td>spectrum</td><td>ldlm42yrq</td><td>Preview-Thumb</td><td>S</td><td>mast:HST/product/ldlm42yrq_x1d_thumb.png</td><td>THUMBNAIL</td><td>--</td><td>--</td><td>--</td><td>CALCOS</td><td>3.3.9</td><td>15071</td><td>ldlm42yrq_x1d_thumb.png</td><td>5564</td><td>2007688613</td></tr>\n",
       "</table>"
      ],
      "text/plain": [
       "<Table masked=True length=17>\n",
       "  obsID    obs_collection dataproduct_type ...    size   parent_obsid\n",
       "  str10         str3            str8       ...   int64      str10    \n",
       "---------- -------------- ---------------- ... --------- ------------\n",
       "2007688613            HST         spectrum ...     34560   2007688613\n",
       "2007688613            HST         spectrum ...    118080   2007688613\n",
       "2007688613            HST         spectrum ...     20160   2007688613\n",
       "2007688613            HST         spectrum ...    198720   2007688613\n",
       "2007688613            HST         spectrum ...     11520   2007688613\n",
       "2007688613            HST         spectrum ...    198720   2007688613\n",
       "2007688613            HST         spectrum ...      5477   2007688613\n",
       "2007688613            HST         spectrum ...      5477   2007688613\n",
       "2007688514            HST         spectrum ... 102778560   2007688613\n",
       "2007688514            HST         spectrum ...  13092480   2007688613\n",
       "2007688514            HST         spectrum ...    267840   2007688613\n",
       "2007688514            HST         spectrum ...    218880   2007688613\n",
       "2007688514            HST         spectrum ...     31680   2007688613\n",
       "2007688514            HST         spectrum ...  13092480   2007688613\n",
       "2007688514            HST         spectrum ...  21081600   2007688613\n",
       "2007688514            HST         spectrum ...    368640   2007688613\n",
       "2007688514            HST         spectrum ...      5564   2007688613"
      ]
     },
     "execution_count": 297,
     "metadata": {},
     "output_type": "execute_result"
    }
   ],
   "source": [
    "product_list = Observations.get_product_list(query_2)\n",
    "product_list"
   ]
  },
  {
   "cell_type": "code",
   "execution_count": 315,
   "metadata": {},
   "outputs": [
    {
     "name": "stdout",
     "output_type": "stream",
     "text": [
      "Downloading URL https://mast.stsci.edu/api/v0.1/Download/file?uri=mast:HST/product/ldlm42010_asn.fits to ./data/mastDownload/HST/ldlm42010/ldlm42010_asn.fits ... [Done]\n",
      "Downloading URL https://mast.stsci.edu/api/v0.1/Download/file?uri=mast:HST/product/ldlm42010_x1dsum.fits to ./data/mastDownload/HST/ldlm42010/ldlm42010_x1dsum.fits ... [Done]\n"
     ]
    }
   ],
   "source": [
    "downloads = Observations.download_products(product_list, download_dir='./data/' , extension='fits', mrp_only=True, cache=False)\n",
    "# The cache = False allows it to re-download data it still finds on the computer"
   ]
  },
  {
   "cell_type": "markdown",
   "metadata": {},
   "source": [
    "## Excellent! You've now done the hardest part - finding and downloading the data. From here, it's a snap to read in and plot the spectrum.\n",
    "\n",
    "# 2. Reading in the data\n",
    "\n",
    "The calibrated data is now on our local machine as: `__current-working-directory__//data/mastDownload/HST/LBBD01020/LBBD01020_x1dsum.fits`\n",
    "\n",
    "We want to learn a bit about this file, then input the data.\n",
    "\n",
    "We can learn a great deal about our data from its primary fits header (see cell below)."
   ]
  },
  {
   "cell_type": "code",
   "execution_count": 339,
   "metadata": {},
   "outputs": [
    {
     "data": {
      "text/plain": [
       "SIMPLE  =                    T / conforms to FITS standard                      \n",
       "BITPIX  =                    8 / array data type                                \n",
       "NAXIS   =                    0 / number of array dimensions                     \n",
       "EXTEND  =                    T                                                  \n",
       "NEXTEND =                    1 / Number of standard extensions                  \n",
       "DATE    = '2020-07-30'         / date this file was written (yyyy-mm-dd)        \n",
       "FILENAME= 'ldlm42010_x1dsum.fits' / name of file                                \n",
       "FILETYPE= 'SCI      '          / type of data found in data file                \n",
       "                                                                                \n",
       "TELESCOP= 'HST'                / telescope used to acquire data                 \n",
       "INSTRUME= 'COS   '             / identifier for instrument used to acquire data \n",
       "EQUINOX =               2000.0 / equinox of celestial coord. system             \n",
       "                                                                                \n",
       "              / DATA DESCRIPTION KEYWORDS                                       \n",
       "                                                                                \n",
       "ROOTNAME= 'ldlm42yrq                         ' / rootname of the observation set\n",
       "IMAGETYP= 'TIME-TAG          ' / type of exposure identifier                    \n",
       "PRIMESI = 'COS   '             / instrument designated as prime                 \n",
       "                                                                                \n",
       "              / TARGET INFORMATION                                              \n",
       "                                                                                \n",
       "TARGNAME= '2MASS-J23062928-0502285        ' / proposer's target name            \n",
       "RA_TARG =   3.466269346926E+02 / right ascension of the target (deg) (J2000)    \n",
       "DEC_TARG=  -5.043739009676E+00 / declination of the target (deg) (J2000)        \n",
       "                                                                                \n",
       "              / PROPOSAL INFORMATION                                            \n",
       "                                                                                \n",
       "PROPOSID=                15071 / PEP proposal identifier                        \n",
       "LINENUM = '42.002         '    / proposal logsheet line number                  \n",
       "PR_INV_L= 'Froning                       ' / last name of principal investigator\n",
       "PR_INV_F= 'Cynthia             ' / first name of principal investigator         \n",
       "PR_INV_M= 'Suzanne             ' / middle name / initial of principal investigat\n",
       "                                                                                \n",
       "              / SUMMARY EXPOSURE INFORMATION                                    \n",
       "                                                                                \n",
       "QUALCOM1= '                                                                    '\n",
       "QUALCOM2= '                                                                    '\n",
       "QUALCOM3= '                                                                    '\n",
       "QUALITY = '                                                                    '\n",
       "                                                                                \n",
       "              / TARGET OFFSETS (POSTARGS)                                       \n",
       "                                                                                \n",
       "POSTARG1=             0.000000 / POSTARG in axis 1 direction                    \n",
       "POSTARG2=             0.000000 / POSTARG in axis 2 direction                    \n",
       "                                                                                \n",
       "              / DIAGNOSTIC KEYWORDS                                             \n",
       "                                                                                \n",
       "OPUS_VER= 'HSTDP 2020_3a     ' / data processing software system version        \n",
       "CSYS_VER= 'caldp_20200708'     / Calibration software system version id         \n",
       "CAL_VER = '3.3.9   '           / CALCOS code version                            \n",
       "PROCTIME=   5.906073980324E+04 / Pipeline processing time (MJD)                 \n",
       "                                                                                \n",
       "              / SCIENCE INSTRUMENT CONFIGURATION                                \n",
       "                                                                                \n",
       "OBSTYPE = 'SPECTROSCOPIC '     / observation type - imaging or spectroscopic    \n",
       "OBSMODE = 'TIME-TAG  '         / operating mode                                 \n",
       "EXPTYPE = 'EXTERNAL/SCI'       / type of exposure                               \n",
       "DETECTOR= 'NUV'                / FUV or NUV                                     \n",
       "DETECTHV= 'Low     '           / FUV High voltage state, from LDCSTATE          \n",
       "COSCOORD= 'USER    '           / COS output coordinate frame                    \n",
       "SUBARRAY=                    T / data from a subarray (T) or full frame (F)     \n",
       "LAMPPLAN= 'P1            '     / Name of lamp that was planned to be used       \n",
       "LAMPUSED= 'P1      '           / lamp status, NONE or name of lamp which is on  \n",
       "LAMPSET = 'Medium'             / spectral cal lamp current value (milliamps)    \n",
       "LIFE_ADJ=                    1 / Life Time Adjustment Position                  \n",
       "EXP_NUM =                    1 / exposure number for repeated observations      \n",
       "NRPTEXP =                    1 / number of repeat exposures in set: default 1   \n",
       "MFPPOS  = '3       '                                                            \n",
       "CENWAVE =                 2950 / central wavelength of spectrum                 \n",
       "MCENWAVE= '2950    '                                                            \n",
       "APERTURE= 'PSA '               / aperture name                                  \n",
       "PROPAPER= 'PSA             '   / proposed aperture name                         \n",
       "APER_FOV= '2.5 arcsec (0.700 mm) diameter circular' / aperture field of view    \n",
       "APMPOS  = 'PSA-NUV1'           / Aperture Mechanism Position from telemetry     \n",
       "APERXPOS=                 22.1 / Aperture Block Position dispersion (telemetry) \n",
       "APERYPOS=                125.1 / Aperture Block Pos. cross dispersion(telemetry)\n",
       "OPT_ELEM= 'G230L   '           / optical element in use                         \n",
       "SHUTTER = 'Open '              / External Shutter Position (OPEN, CLOSED)       \n",
       "EXTENDED= 'NO '                / Is target specified as extended object?        \n",
       "TAGFLASH= 'AUTO            '   / Type of flashed exposures in time-tag          \n",
       "                                                                                \n",
       "              / CALIBRATION SWITCHES: PERFORM, OMIT, COMPLETE                   \n",
       "                                                                                \n",
       "FLATCORR= 'COMPLETE'           / apply flat-field correction                    \n",
       "DEADCORR= 'COMPLETE'           / correct for deadtime                           \n",
       "DQICORR = 'COMPLETE'           / data quality initialization                    \n",
       "STATFLAG=                    T / Calculate statistics?                          \n",
       "BADTCORR= 'OMIT    '           / filter by time (excluding bad time intervals)  \n",
       "DOPPCORR= 'COMPLETE'           / orbital Doppler correction                     \n",
       "HELCORR = 'COMPLETE'           / heliocentric Doppler correction                \n",
       "X1DCORR = 'COMPLETE'           / 1-D spectral extraction                        \n",
       "BACKCORR= 'COMPLETE'           / subtract background (when doing 1-D extraction)\n",
       "WAVECORR= 'COMPLETE'           / use wavecal to adjust wavelength zeropoint     \n",
       "FLUXCORR= 'COMPLETE'           / convert count-rate to absolute flux units      \n",
       "BRSTCORR= 'OMIT    '           / switch controlling search for FUV bursts       \n",
       "TDSCORR = 'COMPLETE'           / switch for time-dependent sensitivity correctio\n",
       "PHOTCORR= 'OMIT    '           / populate photometric header keywords           \n",
       "                                                                                \n",
       "              / CALIBRATION REFERENCE FILES                                     \n",
       "                                                                                \n",
       "FLATFILE= 'lref$x5v1944hl_flat.fits' / Pixel to Pixel Flat Field Reference File \n",
       "DEADTAB = 'lref$s7g1700ql_dead.fits' / Deadtime Reference Table                 \n",
       "BPIXTAB = 'lref$uas19356l_bpix.fits' / bad pixel table                          \n",
       "BADTTAB = 'N/A                    ' / Bad Time Interval Reference Table         \n",
       "XTRACTAB= 'lref$w5g1439sl_1dx.fits' / 1-D Spectral Extraction Information Table \n",
       "LAMPTAB = 'lref$u1t1616ol_lamp.fits' / template calibration lamp spectra table  \n",
       "DISPTAB = 'lref$12e1345gl_disp.fits' / Dispersion Coefficient Reference Table   \n",
       "IMPHTTAB= 'N/A                    ' / Imaging photometric table                 \n",
       "FLUXTAB = 'lref$xah2038hl_phot.fits' / Spectroscopic flux calibration table     \n",
       "WCPTAB  = 'lref$03p1706jl_wcp.fits' / wavecal parameters table                  \n",
       "BRSTTAB = 'N/A                    ' / burst parameters table                    \n",
       "TDSTAB  = 'lref$47u1435rl_tds.fits' / time-dependent sensitivity correction tabl\n",
       "SPWCSTAB= 'lref$uai17387l_spwcs.fits' / Spectroscopic WCS Parameters Table      \n",
       "                                                                                \n",
       "              / ENGINEERING PARAMETERS FOR CALIBRATION                          \n",
       "                                                                                \n",
       "MFPOFSET= '0       '                                                            \n",
       "                                                                                \n",
       "              / TARGET ACQUISITION DATASET IDENTIFIERS                          \n",
       "                                                                                \n",
       "ACQSNAME= '          '         / rootname of first acquisition search exposure  \n",
       "ACQINAME= 'LDLM42YPx '         / rootname of first acquisition image exposure   \n",
       "PEAKXNAM= '          '         / Rootname of 1st cross-dispersion (XD) peakup   \n",
       "PEAKDNAM= '          '         / Rootname of 1st along-dispersion (AD) peakup   \n",
       "ACQ_NUM =                    1 / total number of exposures in acq sequence      \n",
       "                                                                                \n",
       "              / ARCHIVE SEARCH KEYWORDS                                         \n",
       "                                                                                \n",
       "BANDWID =    1485.907808911439 / bandwidth of the data                          \n",
       "SPECRES =               2900.0 / approx. resolving power at central wavelength  \n",
       "CENTRWV =    2430.871672745302 / central wavelength of the data                 \n",
       "MINWAVE =    1687.917768289583 / minimum wavelength in spectrum                 \n",
       "MAXWAVE =    3173.825577201022 / maximum wavelength in spectrum                 \n",
       "PLATESC =         0.0236287206 / plate scale (arcsec/pixel)                     \n",
       "                                                                                \n",
       "              / PAPER PRODUCT SUPPORT KEYWORDS                                  \n",
       "                                                                                \n",
       "PROPTTL1= 'The Mega-MUSCLES Treasury Survey: Measurements of the Ultraviolet Sp'\n",
       "PROPTTL2= 'ectral Characteristics of Low-mass Exoplanetary Systems             '\n",
       "OBSET_ID= '42'                 / observation set id                             \n",
       "TARDESCR= 'STAR;EXTRA-SOLAR PLANETARY SYSTEM;M V-IV                            '\n",
       "TARDESC2= '                                                                    '\n",
       "MTFLAG  = ' '                  / moving target flag; T if it is a moving target \n",
       "PARALLAX=   8.258000000000E-02 / target parallax from proposal                  \n",
       "MU_RA   =   9.221000000000E-01 / target proper motion from proposal (degrees RA)\n",
       "MU_DEC  =  -4.719000000000E-01 / target proper motion from proposal (deg. DEC)  \n",
       "MU_EPOCH= 'J2015.8   '         / epoch of proper motion from proposal           \n",
       "                                                                                \n",
       "              / ASSOCIATION KEYWORDS                                            \n",
       "                                                                                \n",
       "ASN_ID  = 'LDLM42010 '         / unique identifier assigned to association      \n",
       "ASN_TAB = 'ldlm42010_asn.fits     ' / name of the association table             \n",
       "CRDS_CTX= 'hst_0809.pmap'                                                       \n",
       "CRDS_VER= '7.5.0.0, b7.5.0.0, 7fc216e73bd81d334b5d98d165be2caa3b6175e1'         \n",
       "BRFTAB  = 'N/A     '                                                            \n",
       "DGEOFILE= 'N/A     '                                                            \n",
       "GEOFILE = 'N/A     '                                                            \n",
       "GSAGTAB = 'N/A     '                                                            \n",
       "HVTAB   = 'N/A     '                                                            \n",
       "PHATAB  = 'N/A     '                                                            \n",
       "PROFTAB = 'N/A     '                                                            \n",
       "SPOTTAB = 'N/A     '                                                            \n",
       "TRACETAB= 'N/A     '                                                            \n",
       "TWOZXTAB= 'N/A     '                                                            \n",
       "XWLKFILE= 'N/A     '                                                            \n",
       "YWLKFILE= 'N/A     '                                                            "
      ]
     },
     "execution_count": 339,
     "metadata": {},
     "output_type": "execute_result"
    }
   ],
   "source": [
    "x1d_filepath = './data/mastDownload/HST/LBBD01020/LBBD01020_x1dsum.fits'\n",
    "asn_filepath = './data/mastDownload/HST/LBBD01020/LBBD01020_asn.fits'\n",
    "\n",
    "\n",
    "header_x1d = fits.getheader(x1d_filepath)\n",
    "header_asn = fits.getheader(asn_filepath)\n",
    "\n",
    "header_x1d #This is the main 0th header"
   ]
  },
  {
   "cell_type": "markdown",
   "metadata": {},
   "source": [
    "For instance, we notice that the data was taken in [TIME-TAG mode](https://hst-docs.stsci.edu/cosdhb/chapter-5-cos-data-analysis/5-4-working-with-time-tag-data) and calibrated with calcos version `3.3.9`\n",
    "\n",
    "However, some metadata information, such as the time of observation and calculated exposure time, can be found in the **1st header** rather than the 0th:"
   ]
  },
  {
   "cell_type": "code",
   "execution_count": 366,
   "metadata": {},
   "outputs": [
    {
     "name": "stdout",
     "output_type": "stream",
     "text": [
      "This data was taken on 2017-12-15 starting at 07:19:18 with a net exposure time of 2731.2 seconds.\n"
     ]
    }
   ],
   "source": [
    "with fits.open(x1d_filepath) as hdu:\n",
    "    header1_x1d = hdu[1].header\n",
    "    date = header1_x1d['DATE-OBS']\n",
    "    time = header1_x1d['TIME-OBS']\n",
    "    exptime = header1_x1d['EXPTIME']\n",
    "\n",
    "print(f\"This data was taken on {date} starting at {time} with a net exposure time of {exptime} seconds.\")"
   ]
  },
  {
   "cell_type": "code",
   "execution_count": null,
   "metadata": {},
   "outputs": [],
   "source": []
  },
  {
   "cell_type": "code",
   "execution_count": null,
   "metadata": {},
   "outputs": [],
   "source": []
  },
  {
   "cell_type": "code",
   "execution_count": null,
   "metadata": {},
   "outputs": [],
   "source": []
  },
  {
   "cell_type": "code",
   "execution_count": null,
   "metadata": {},
   "outputs": [],
   "source": []
  },
  {
   "cell_type": "code",
   "execution_count": null,
   "metadata": {},
   "outputs": [],
   "source": []
  },
  {
   "cell_type": "code",
   "execution_count": null,
   "metadata": {},
   "outputs": [],
   "source": []
  },
  {
   "cell_type": "code",
   "execution_count": null,
   "metadata": {},
   "outputs": [],
   "source": []
  },
  {
   "cell_type": "code",
   "execution_count": 398,
   "metadata": {},
   "outputs": [],
   "source": [
    "x1d_data = fits.getdata(x1d_filepath)"
   ]
  },
  {
   "cell_type": "code",
   "execution_count": 395,
   "metadata": {},
   "outputs": [
    {
     "data": {
      "text/plain": [
       "(array([  2.,  16.,  52., 135., 244., 540., 170.,  76.,  31.,   8.]),\n",
       " array([-1.6029412e-14, -1.2956157e-14, -9.8829009e-15, -6.8096451e-15,\n",
       "        -3.7363894e-15, -6.6313362e-16,  2.4101221e-15,  5.4833779e-15,\n",
       "         8.5566337e-15,  1.1629889e-14,  1.4703145e-14], dtype=float32),\n",
       " <BarContainer object of 10 artists>)"
      ]
     },
     "execution_count": 395,
     "metadata": {},
     "output_type": "execute_result"
    },
    {
     "data": {
      "image/png": "[encoded data removed]",
      "text/plain": [
       "<Figure size 432x288 with 1 Axes>"
      ]
     },
     "metadata": {
      "needs_background": "light"
     },
     "output_type": "display_data"
    }
   ],
   "source": [
    "plt.hist(x1d_data['FLUX'][2])"
   ]
  },
  {
   "cell_type": "code",
   "execution_count": 397,
   "metadata": {},
   "outputs": [
    {
     "data": {
      "text/plain": [
       "(2, 3, 1274)"
      ]
     },
     "execution_count": 397,
     "metadata": {},
     "output_type": "execute_result"
    }
   ],
   "source": [
    "np.shape([x1d_data['WAVELENGTH'],x1d_data['FLUX']])"
   ]
  },
  {
   "cell_type": "code",
   "execution_count": 400,
   "metadata": {},
   "outputs": [
    {
     "data": {
      "text/plain": [
       "Text(0, 0.5, 'Flux [$erg\\\\ s^{-1}$]')"
      ]
     },
     "execution_count": 400,
     "metadata": {},
     "output_type": "execute_result"
    },
    {
     "data": {
      "image/png": "[encoded data removed]",
      "text/plain": [
       "<Figure size 432x288 with 1 Axes>"
      ]
     },
     "metadata": {
      "needs_background": "light"
     },
     "output_type": "display_data"
    }
   ],
   "source": [
    "for i in range(3):\n",
    "    plt.plot(x1d_data['WAVELENGTH'][i],x1d_data['FLUX'][i])\n",
    "plt.xlabel('Wavelength [$\\AA$]')\n",
    "plt.ylabel('Flux [$erg\\ s^{-1}$]')"
   ]
  },
  {
   "cell_type": "code",
   "execution_count": 365,
   "metadata": {},
   "outputs": [],
   "source": [
    "# fits.getheader(\"./data/archive.stsci.edu/stage/anonymous/anonymous42773/LBBD01020_x1dsum3.fits\")"
   ]
  },
  {
   "cell_type": "markdown",
   "metadata": {},
   "source": [
    "[Top of Page](#topV)\n",
    "<img style=\"float: right;\" src=\"https://raw.githubusercontent.com/spacetelescope/notebooks/master/assets/stsci_pri_combo_mark_horizonal_white_bkgd.png\" alt=\"Space Telescope Logo\" width=\"200px\"/> "
   ]
  },
  {
   "cell_type": "code",
   "execution_count": null,
   "metadata": {},
   "outputs": [],
   "source": []
  },
  {
   "cell_type": "code",
   "execution_count": null,
   "metadata": {},
   "outputs": [],
   "source": []
  },
  {
   "cell_type": "code",
   "execution_count": null,
   "metadata": {},
   "outputs": [],
   "source": []
  },
  {
   "cell_type": "code",
   "execution_count": null,
   "metadata": {},
   "outputs": [],
   "source": []
  },
  {
   "cell_type": "code",
   "execution_count": null,
   "metadata": {},
   "outputs": [],
   "source": []
  },
  {
   "cell_type": "code",
   "execution_count": null,
   "metadata": {},
   "outputs": [],
   "source": []
  },
  {
   "cell_type": "markdown",
   "metadata": {},
   "source": [
    "# Junk"
   ]
  },
  {
   "cell_type": "code",
   "execution_count": 7,
   "metadata": {},
   "outputs": [
    {
     "data": {
      "image/png": "[encoded data removed]",
      "text/plain": [
       "<Figure size 576x432 with 1 Axes>"
      ]
     },
     "metadata": {
      "needs_background": "light"
     },
     "output_type": "display_data"
    }
   ],
   "source": [
    "plt.figure(figsize=(8,6))\n",
    "a,b,c = plt.hist(query_1['distance'],bins = np.linspace(0,5,50), color= colors[1], alpha = 1)\n",
    "plt.yscale('log')\n",
    "plt.title(\"Distribution of datapoints around WD1057+719\", size = 20)\n",
    "plt.xlabel(\"Distance from input Coordinates [arcsec]\", size = 15)\n",
    "plt.ylabel(\"$Log_{10}(number\\ of\\ observations\\ in\\ the\\ catalog)$\", size = 15)\n",
    "plt.tight_layout()"
   ]
  },
  {
   "cell_type": "markdown",
   "metadata": {},
   "source": [
    "That's a **lot** of observations in a 5 arcsecond radius, because TRAPPIST-1 has been very closely studied. We can significantly narrow down the results with what we know about the data.\n",
    "\n",
    "#### Let's search for any observations in this region taken with the COS/NUV configuration, and producing a dataproduct of a spectrum:"
   ]
  },
  {
   "cell_type": "code",
   "execution_count": null,
   "metadata": {},
   "outputs": [],
   "source": []
  },
  {
   "cell_type": "code",
   "execution_count": null,
   "metadata": {},
   "outputs": [],
   "source": []
  }
 ],
 "metadata": {
  "kernelspec": {
   "display_name": "Python 3",
   "language": "python",
   "name": "python3"
  },
  "language_info": {
   "codemirror_mode": {
    "name": "ipython",
    "version": 3
   },
   "file_extension": ".py",
   "mimetype": "text/x-python",
   "name": "python",
   "nbconvert_exporter": "python",
   "pygments_lexer": "ipython3",
   "version": "3.6.12"
  }
 },
 "nbformat": 4,
 "nbformat_minor": 4
}
