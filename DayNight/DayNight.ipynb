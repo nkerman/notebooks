{
 "cells": [
  {
   "cell_type": "markdown",
   "metadata": {},
   "source": [
    "# Creating ASN File for splittag Products"
   ]
  },
  {
   "cell_type": "code",
   "execution_count": 1,
   "metadata": {},
   "outputs": [
    {
     "name": "stdout",
     "output_type": "stream",
     "text": [
      "The following tasks in the costools package can be run with TEAL:\n",
      "         splittag                 timefilter                 x1dcorr\n"
     ]
    }
   ],
   "source": [
    "from costools import timefilter\n",
    "\n",
    "import calcos \n",
    "\n",
    "from astropy.io import fits                                            \n",
    "import numpy as np\n",
    "import glob\n",
    "import os"
   ]
  },
  {
   "cell_type": "markdown",
   "metadata": {},
   "source": [
    "### timefilter example from https://costools.readthedocs.io/en/latest/timefilter.html"
   ]
  },
  {
   "cell_type": "markdown",
   "metadata": {},
   "source": [
    "# get the data"
   ]
  },
  {
   "cell_type": "code",
   "execution_count": 3,
   "metadata": {},
   "outputs": [],
   "source": [
    "from astroquery.mast import Observations"
   ]
  },
  {
   "cell_type": "code",
   "execution_count": 32,
   "metadata": {},
   "outputs": [],
   "source": [
    "# Observations.query_criteria(obsid)"
   ]
  },
  {
   "cell_type": "code",
   "execution_count": 33,
   "metadata": {},
   "outputs": [],
   "source": [
    "# nuv_downloads = Observations.download_products(Observations.get_product_list(Observations.query_criteria(obs_id = 'lbbd01020')), # GET the NUV data on WD1057+719 with the G230L grating; only the _x1dsum and _asn\n",
    "#                                            download_dir='.' , extension='fits', mrp_only=True, cache=False)"
   ]
  },
  {
   "cell_type": "code",
   "execution_count": 48,
   "metadata": {},
   "outputs": [
    {
     "name": "stdout",
     "output_type": "stream",
     "text": [
      "Downloading URL https://mast.stsci.edu/api/v0.1/Download/file?uri=mast:HST/product/lbek02niq_corrtag_a.fits to ./mastDownload/HST/lbek02niq/lbek02niq_corrtag_a.fits ... [Done]\n",
      "Downloading URL https://mast.stsci.edu/api/v0.1/Download/file?uri=mast:HST/product/lbek02niq_corrtag_b.fits to ./mastDownload/HST/lbek02niq/lbek02niq_corrtag_b.fits ... [Done]\n"
     ]
    },
    {
     "data": {
      "text/html": [
       "<i>Table length=2</i>\n",
       "<table id=\"table140379716650880\" class=\"table-striped table-bordered table-condensed\">\n",
       "<thead><tr><th>Local Path</th><th>Status</th><th>Message</th><th>URL</th></tr></thead>\n",
       "<thead><tr><th>str53</th><th>str8</th><th>object</th><th>object</th></tr></thead>\n",
       "<tr><td>./mastDownload/HST/lbek02niq/lbek02niq_corrtag_a.fits</td><td>COMPLETE</td><td>None</td><td>None</td></tr>\n",
       "<tr><td>./mastDownload/HST/lbek02niq/lbek02niq_corrtag_b.fits</td><td>COMPLETE</td><td>None</td><td>None</td></tr>\n",
       "</table>"
      ],
      "text/plain": [
       "<Table length=2>\n",
       "                      Local Path                       Status  Message  URL  \n",
       "                        str53                           str8    object object\n",
       "----------------------------------------------------- -------- ------- ------\n",
       "./mastDownload/HST/lbek02niq/lbek02niq_corrtag_a.fits COMPLETE    None   None\n",
       "./mastDownload/HST/lbek02niq/lbek02niq_corrtag_b.fits COMPLETE    None   None"
      ]
     },
     "execution_count": 48,
     "metadata": {},
     "output_type": "execute_result"
    }
   ],
   "source": [
    "query = Observations.query_criteria(obs_id = 'LBEK02010')\n",
    "pl = Observations.get_product_list(query)\n",
    "corrtag_mask = (pl[\"productSubGroupDescription\"] == \"CORRTAG_A\") | (pl[\"productSubGroupDescription\"] == \"CORRTAG_B\")\n",
    "Observations.download_products(pl[corrtag_mask][:2])"
   ]
  },
  {
   "cell_type": "code",
   "execution_count": 50,
   "metadata": {},
   "outputs": [
    {
     "data": {
      "text/plain": [
       "<costools.timefilter.TimelineFilter at 0x7face04ff160>"
      ]
     },
     "execution_count": 50,
     "metadata": {},
     "output_type": "execute_result"
    }
   ],
   "source": [
    "timefilter.TimelineFilter(\"lbek02niq_corrtag_a.fits\", \"temp_corrtag_a.fits\",  # your input names will be different\n",
    "                              \"sun_alt > 0.\")\n",
    "timefilter.TimelineFilter(\"lbek02niq_corrtag_b.fits\", \"temp_corrtag_b.fits\",\n",
    "                              \"sun_alt > 0.\")\n",
    "# repeat this for all exposures"
   ]
  },
  {
   "cell_type": "markdown",
   "metadata": {},
   "source": [
    "### Creating an ASN file out of the above files"
   ]
  },
  {
   "cell_type": "code",
   "execution_count": 51,
   "metadata": {},
   "outputs": [
    {
     "name": "stdout",
     "output_type": "stream",
     "text": [
      "Saved: temp_asn.fits\n"
     ]
    }
   ],
   "source": [
    "# this properly assigns the type of exposure in a way that CalCOS will recognize\n",
    "type_dict = {'WAVECAL' : 'EXP-AWAVE',\n",
    "             'EXTERNAL/SCI' : 'EXP-FP'}\n",
    "\n",
    "files = glob.glob('temp_corrtag_a*') ## This will be different depending on your output name ## only need the A segment in the ASN, and calcos will find B for you\n",
    "\n",
    "for f in files:\n",
    "    \n",
    "    # Adding the file details to the association table\n",
    "    rootnames = [f]  # MEMNAME\n",
    "    types = [type_dict[fits.getval(f, 'EXPTYPE')]] # MEMTYPE\n",
    "    included = [True] # MEMPRSNT\n",
    "    \n",
    "    # Adding the ASN details to the end of the association table\n",
    "    # the rootname needs to be the full name, not just the rootname\n",
    "    asn_root = os.path.basename(f.split('corrtag')[0][:-1]) # removing the extra \"_\" at the end of this\n",
    "    rootnames.append(asn_root.upper()) # MEMNAME\n",
    "    types.append('PROD-FP') # MEMTYPE\n",
    "    included.append(True) # MEMPRSNT\n",
    "    \n",
    "    # Putting together the fits table\n",
    "    #   40 is the number of characters allowed in this field. If your rootname is longer than 40, \n",
    "    #     you will need to increase this\n",
    "    c1 = fits.Column(name='MEMNAME', array=np.array(rootnames), format='40A') \n",
    "    c2 = fits.Column(name='MEMTYPE', array=np.array(types), format='14A')\n",
    "    c3 = fits.Column(name='MEMPRSNT', format='L', array=included)\n",
    "    t = fits.BinTableHDU.from_columns([c1, c2, c3])\n",
    "    \n",
    "    # Writing the fits table\n",
    "    t.writeto(asn_root.lower()+'_asn.fits')\n",
    "\n",
    "    print('Saved: {}'.format(asn_root.lower()+'_asn.fits'))\n"
   ]
  },
  {
   "cell_type": "code",
   "execution_count": 52,
   "metadata": {},
   "outputs": [
    {
     "name": "stdout",
     "output_type": "stream",
     "text": [
      "[('temp_corrtag_a.fits', 'EXP-FP',  1) ('TEMP', 'PROD-FP',  1)]\n"
     ]
    }
   ],
   "source": [
    "asnfile = 'temp_asn.fits'\n",
    "print(fits.getdata(asnfile))"
   ]
  },
  {
   "cell_type": "markdown",
   "metadata": {},
   "source": [
    "### Then run CalCOS on those individual files"
   ]
  },
  {
   "cell_type": "code",
   "execution_count": 53,
   "metadata": {},
   "outputs": [
    {
     "name": "stdout",
     "output_type": "stream",
     "text": [
      "Warning:  Creating output directory 'calibrated_filtered'.\n",
      "CALCOS version 3.3.9\n",
      "numpy version 1.19.2\n",
      "astropy version 4.0.2\n",
      "Begin 28-Oct-2020 18:06:17 EDT\n",
      "Association file = temp_asn.fits\n",
      "\n",
      "TIME-TAG calibration -- 28-Oct-2020 18:06:20 EDT\n",
      "Input     temp_corrtag_a.fits\n",
      "OutTag    calibrated_filtered/temp_corrtag_a.fits\n",
      "OutFlt    calibrated_filtered/temp_flt_a.fits\n",
      "OutCounts calibrated_filtered/temp_counts_a.fits\n",
      "OutFlash  calibrated_filtered/temp_lampflash_a.fits\n",
      "DETECTOR  FUV, segment A\n",
      "EXPTYPE   EXTERNAL/SCI\n",
      "OPT_ELEM  G160M, CENWAVE 1577, FPOFFSET -2\n",
      "APERTURE  PSA\n",
      "\n",
      "BADTCORR  OMIT\n",
      "RANDCORR  OMIT (already complete)\n",
      "TEMPCORR  OMIT (already complete)\n",
      "GEOCORR   OMIT (already complete)\n",
      "DGEOCORR  OMIT\n",
      "DEADCORR  OMIT (already complete)\n",
      "Warning:  No GTI table found in raw file.\n",
      "Warning:  exposure time in header was 0.000\n",
      "    exptime has been corrected to 400.032\n",
      "PHACORR   OMIT (already complete)\n",
      "DOPPCORR  OMIT (already complete)\n",
      "XTRACTAB= lref$x1v17414l_1dx.fits\n",
      "DISPTAB = lref$05i1639ml_disp.fits\n",
      "BRFTAB  = lref$x1u1459il_brf.fits\n",
      "FLATCORR  OMIT (already complete)\n",
      "WAVECORR  OMIT (already complete)\n",
      "BRSTCORR  OMIT\n",
      "Warning:  No GTI table found in raw file.\n",
      "TRCECORR  OMIT\n",
      "ALGNCORR  OMIT\n",
      "DQICORR   PERFORM (complete, but repeat)\n",
      "BPIXTAB = lref$36d1836ml_bpix.fits\n",
      "GSAGTAB = lref$41g2040ol_gsag.fits\n",
      "SPOTTAB = lref$zas1615jl_spot.fits\n",
      "Warning:  No trace profile, using zero\n",
      "Shifting to -532, 0\n",
      "Shifting to -531, 0\n",
      "Shifting to -530, 0\n",
      "Shifting to -531, 0\n",
      "Shifting to -530, 0\n",
      "STATFLAG  T\n",
      "Update the TIMELINE extension.\n",
      "Warning:  spt file not found, so TIMELINE extension is incomplete\n",
      "\n",
      "Spectral Extraction -- 28-Oct-2020 18:06:49 EDT\n",
      "Input     calibrated_filtered/temp_flt_a.fits\n",
      "Incounts  calibrated_filtered/temp_counts_a.fits\n",
      "Output    calibrated_filtered/temp_x1d_a.fits\n",
      "\n",
      "Info:  find-target option = no\n",
      "X1DCORR   PERFORM\n",
      "Extraction algorithm = BOXCAR\n",
      "XTRACTAB= lref$x1v17414l_1dx.fits\n",
      "DISPTAB = lref$05i1639ml_disp.fits\n",
      "HELCORR   PERFORM\n",
      "BACKCORR  PERFORM\n",
      "STATFLAG  T\n",
      "FLUXCORR  PERFORM\n",
      "FLUXTAB = lref$23n1744pl_phot.fits\n",
      "TDSCORR   PERFORM\n",
      "TDSTAB  = lref$46t1623fl_tds.fits\n"
     ]
    },
    {
     "name": "stderr",
     "output_type": "stream",
     "text": [
      "WARNING: AstropyDeprecationWarning: The following keywords are now recognized as special column-related attributes and should be set via the Column objects: TCDLTn, TCRPXn, TCRVLn, TCTYPn, TCUNIn. In future, these values will be dropped from manually specified headers automatically and replaced with values generated based on the Column objects. [astropy.io.fits.hdu.table]\n"
     ]
    },
    {
     "name": "stdout",
     "output_type": "stream",
     "text": [
      "FUVA spectrum was found at y = 525.32 vs. nominal y = 480.79\n",
      "    error estimate for y location = 999.00, FWHM = -1.00\n",
      "Spectrum will be extracted at y = 480.79\n",
      "\n",
      "TIME-TAG calibration -- 28-Oct-2020 18:06:53 EDT\n",
      "Input     temp_corrtag_b.fits\n",
      "OutTag    calibrated_filtered/temp_corrtag_b.fits\n",
      "OutFlt    calibrated_filtered/temp_flt_b.fits\n",
      "OutCounts calibrated_filtered/temp_counts_b.fits\n",
      "OutFlash  calibrated_filtered/temp_lampflash_b.fits\n",
      "DETECTOR  FUV, segment B\n",
      "EXPTYPE   EXTERNAL/SCI\n",
      "OPT_ELEM  G160M, CENWAVE 1577, FPOFFSET -2\n",
      "APERTURE  PSA\n",
      "\n",
      "BADTCORR  OMIT\n",
      "RANDCORR  OMIT (already complete)\n",
      "TEMPCORR  OMIT (already complete)\n",
      "GEOCORR   OMIT (already complete)\n",
      "DGEOCORR  OMIT\n",
      "DEADCORR  OMIT (already complete)\n",
      "Warning:  No GTI table found in raw file.\n",
      "Warning:  exposure time in header was 0.000\n",
      "    exptime has been corrected to 400.032\n",
      "PHACORR   OMIT (already complete)\n",
      "DOPPCORR  OMIT (already complete)\n",
      "XTRACTAB= lref$x1v17414l_1dx.fits\n",
      "DISPTAB = lref$05i1639ml_disp.fits\n",
      "BRFTAB  = lref$x1u1459il_brf.fits\n",
      "FLATCORR  OMIT (already complete)\n",
      "WAVECORR  OMIT (already complete)\n",
      "BRSTCORR  OMIT\n",
      "Warning:  No GTI table found in raw file.\n",
      "TRCECORR  OMIT\n",
      "ALGNCORR  OMIT\n",
      "DQICORR   PERFORM (complete, but repeat)\n",
      "BPIXTAB = lref$36d1836ml_bpix.fits\n",
      "GSAGTAB = lref$41g2040ol_gsag.fits\n",
      "SPOTTAB = lref$zas1615jl_spot.fits\n",
      "Warning:  No trace profile, using zero\n",
      "Shifting to -538, 0\n",
      "Shifting to -537, 0\n",
      "Shifting to -538, 0\n",
      "Shifting to -537, 0\n",
      "STATFLAG  T\n",
      "Update the TIMELINE extension.\n",
      "Warning:  spt file not found, so TIMELINE extension is incomplete\n",
      "\n",
      "Spectral Extraction -- 28-Oct-2020 18:07:20 EDT\n",
      "Input     calibrated_filtered/temp_flt_b.fits\n",
      "Incounts  calibrated_filtered/temp_counts_b.fits\n",
      "Output    calibrated_filtered/temp_x1d_b.fits\n",
      "\n",
      "Info:  find-target option = no\n",
      "X1DCORR   PERFORM\n",
      "Extraction algorithm = BOXCAR\n",
      "XTRACTAB= lref$x1v17414l_1dx.fits\n",
      "DISPTAB = lref$05i1639ml_disp.fits\n",
      "HELCORR   PERFORM\n",
      "BACKCORR  PERFORM\n",
      "STATFLAG  T\n",
      "FLUXCORR  PERFORM\n",
      "FLUXTAB = lref$23n1744pl_phot.fits\n",
      "TDSCORR   PERFORM\n",
      "TDSTAB  = lref$46t1623fl_tds.fits\n",
      "FUVB spectrum was found at y = 584.89 vs. nominal y = 540.14\n",
      "    error estimate for y location = 999.00, FWHM = -1.00\n",
      "Spectrum will be extracted at y = 540.14\n",
      "SPWCSTAB= lref$49g17154l_spwcs.fits\n",
      "\n",
      "Average 1-D spectra -- 28-Oct-2020 18:07:27 EDT\n",
      "Input     ['calibrated_filtered/temp_x1d.fits']\n",
      "Output    calibrated_filtered/temp_x1dsum.fits\n",
      "\n",
      "Average 1-D spectra -- 28-Oct-2020 18:07:27 EDT\n",
      "Input     ['calibrated_filtered/temp_x1d.fits']\n",
      "Output    calibrated_filtered/temp_x1dsum1.fits\n",
      "Warning:  spt file not found, so not copied to product\n",
      "End   28-Oct-2020 18:07:27 EDT\n"
     ]
    }
   ],
   "source": [
    "for f in glob.glob('temp_asn.fits'):\n",
    "    calcos.calcos(f, outdir='calibrated_filtered')"
   ]
  },
  {
   "cell_type": "code",
   "execution_count": 54,
   "metadata": {},
   "outputs": [
    {
     "name": "stdout",
     "output_type": "stream",
     "text": [
      "DayNight.html             lbek02niq_corrtag_a.fits  temp_asn.fits\n",
      "DayNight.ipynb            lbek02niq_corrtag_b.fits  temp_corrtag_a.fits\n",
      "\u001b[1m\u001b[36mcalibrated_filtered\u001b[m\u001b[m/      \u001b[1m\u001b[36mmastDownload\u001b[m\u001b[m/             temp_corrtag_b.fits\n"
     ]
    }
   ],
   "source": [
    "ls"
   ]
  },
  {
   "cell_type": "code",
   "execution_count": 58,
   "metadata": {},
   "outputs": [],
   "source": [
    "from astropy.io import fits\n",
    "from astropy.table import Table"
   ]
  },
  {
   "cell_type": "code",
   "execution_count": 59,
   "metadata": {},
   "outputs": [
    {
     "name": "stderr",
     "output_type": "stream",
     "text": [
      "WARNING: UnitsWarning: 'erg /s /cm**2 /angstrom' contains multiple slashes, which is discouraged by the FITS standard [astropy.units.format.generic]\n",
      "WARNING: UnitsWarning: 'count /s /pixel' contains multiple slashes, which is discouraged by the FITS standard [astropy.units.format.generic]\n"
     ]
    },
    {
     "data": {
      "text/html": [
       "<i>Table length=2</i>\n",
       "<table id=\"table140380209761696\" class=\"table-striped table-bordered table-condensed\">\n",
       "<thead><tr><th>SEGMENT</th><th>EXPTIME</th><th>NELEM</th><th>WAVELENGTH [16384]</th><th>FLUX [16384]</th><th>ERROR [16384]</th><th>GROSS [16384]</th><th>GCOUNTS [16384]</th><th>NET [16384]</th><th>BACKGROUND [16384]</th><th>DQ [16384]</th><th>DQ_WGT [16384]</th><th>BACKGROUND_PER_PIXEL [16384]</th></tr></thead>\n",
       "<thead><tr><th></th><th>s</th><th></th><th>Angstrom</th><th>erg / (Angstrom cm2 s)</th><th>erg / (Angstrom cm2 s)</th><th>ct / s</th><th>ct</th><th>ct / s</th><th>ct / s</th><th></th><th></th><th>ct / (pix s)</th></tr></thead>\n",
       "<thead><tr><th>bytes4</th><th>float64</th><th>int32</th><th>float64</th><th>float32</th><th>float32</th><th>float32</th><th>float32</th><th>float32</th><th>float32</th><th>int16</th><th>float32</th><th>float32</th></tr></thead>\n",
       "<tr><td>FUVA</td><td>400.032</td><td>16384</td><td>1562.7002363643853 .. 1763.2022630432666</td><td>0.0 .. 0.0</td><td>0.0 .. 0.0</td><td>0.0 .. 0.0</td><td>0.0 .. 0.0</td><td>0.0 .. 0.0</td><td>0.0 .. 0.0</td><td>128 .. 128</td><td>0.0 .. 0.0</td><td>0.0 .. 0.0</td></tr>\n",
       "<tr><td>FUVB</td><td>400.032</td><td>16384</td><td>1374.5475567326278 .. 1574.9566125479453</td><td>0.0 .. 0.0</td><td>0.0 .. 0.0</td><td>0.0 .. 0.0</td><td>0.0 .. 0.0</td><td>0.0 .. 0.0</td><td>0.0 .. 0.0</td><td>128 .. 128</td><td>0.0 .. 0.0</td><td>0.0 .. 0.0</td></tr>\n",
       "</table>"
      ],
      "text/plain": [
       "<Table length=2>\n",
       "SEGMENT EXPTIME  NELEM  ... DQ_WGT [16384] BACKGROUND_PER_PIXEL [16384]\n",
       "           s            ...                        ct / (pix s)        \n",
       " bytes4 float64  int32  ...    float32               float32           \n",
       "------- -------- ------ ... -------------- ----------------------------\n",
       "   FUVA  400.032  16384 ...     0.0 .. 0.0                   0.0 .. 0.0\n",
       "   FUVB  400.032  16384 ...     0.0 .. 0.0                   0.0 .. 0.0"
      ]
     },
     "execution_count": 59,
     "metadata": {},
     "output_type": "execute_result"
    }
   ],
   "source": [
    "Table.read('./calibrated_filtered/temp_x1dsum.fits')"
   ]
  },
  {
   "cell_type": "code",
   "execution_count": null,
   "metadata": {},
   "outputs": [],
   "source": []
  }
 ],
 "metadata": {
  "kernelspec": {
   "display_name": "Python 3",
   "language": "python",
   "name": "python3"
  },
  "language_info": {
   "codemirror_mode": {
    "name": "ipython",
    "version": 3
   },
   "file_extension": ".py",
   "mimetype": "text/x-python",
   "name": "python",
   "nbconvert_exporter": "python",
   "pygments_lexer": "ipython3",
   "version": "3.6.12"
  }
 },
 "nbformat": 4,
 "nbformat_minor": 4
}
