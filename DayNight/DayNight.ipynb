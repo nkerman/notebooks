{
 "cells": [
  {
   "cell_type": "markdown",
   "metadata": {},
   "source": [
    "<a id=\"topF\"></a>\n",
    "\n",
    "# Filtering out COS Data taken during the Day or Night\n",
    "\n",
    "# Learning Goals\n",
    "### This Notebook is designed to walk the user (*you*) through: **Filtering Cosmic Origins Spectrograph (*COS*) `TIME-TAG` data taken during the day from data taken during the night**:\n",
    "   #### 1. [**Processing a spectrum from a filtered dataset**](#procF)\n",
    "   ##### - 1.1. [Filtering the `TIME-TAG` data](#filtF)\n",
    "   ##### - 1.2. [Creating a new association file](#asnF)\n",
    "   ##### - 1.3. [Running the `calcos` pipeline on the filtered dataset](#calcosF)\n",
    "   #### 2. [**Comparing the filtered and unfiltered data**](#compF)"
   ]
  },
  {
   "cell_type": "markdown",
   "metadata": {},
   "source": [
    "# 0. Introduction and Setup\n",
    "#### The Cosmic Origins Spectrograph ([*COS*](https://www.nasa.gov/content/hubble-space-telescope-cosmic-origins-spectrograph)) is an ultraviolet spectrograph on-board the Hubble Space Telescope([*HST*](https://www.stsci.edu/hst/about)) with capabilities in the near ultraviolet (*NUV*) and far ultraviolet (*FUV*). \n",
    "\n",
    "#### This tutorial aims to prepare you to work with the COS data of your choice by walking you through filtering `TIME-TAG` datapoints obtained by COS. \n",
    "\n",
    "In particular, this tutorial will walk you through separating datapoints obtained during the Hubble Space Telescope's \"night\" - when the sun is below the geometric horizon from the observatory's point of view - from datapoints taken during the observatory's \"day\" - when the sun is above this horizon. \n",
    "You may wish to segregate photons from these two time periods, as data taken during the day can be subject to different and higher background noise conditions, as well as more intense geocoronal Lyman-alpha or Oxygen-I emission lines from the Earth’s atmosphere ([See Data Handbook 5.4.2](https://hst-docs.stsci.edu/cosdhb/chapter-5-cos-data-analysis/5-4-working-with-time-tag-data#id-5.4WorkingwithTIME-TAGData-5.4.2FilteringTime-TagData)).\n",
    "This type of data separation is possible with the [`TIME-TAG` data](https://hst-docs.stsci.edu/cosdhb/chapter-1-cos-overview/1-1-instrument-capabilities-and-design) obtained by the COS photon-counting detectors, because each individual encounter with a photon is recorded with its own metadata such as the time of the encounter, and the physical position of Hubble at that time.\n",
    "\n",
    "- For an in-depth manual to working with COS data and a discussion of caveats and user tips, see the [COS Data Handbook](https://hst-docs.stsci.edu/display/COSDHB/).\n",
    "- For a detailed overview of the COS instrument, see the [COS Instrument Handbook](https://hst-docs.stsci.edu/display/COSIHB/)."
   ]
  },
  {
   "cell_type": "markdown",
   "metadata": {},
   "source": [
    "## We will import the following packages:\n",
    "\n",
    "- `costools timefilter` to select `TIME-TAG` datapoints by their metadata parameters\n",
    "- `calcos` to re-process the data\n",
    "- `numpy` to handle array functions\n",
    "- `astropy.io fits` and `astropy.table Table` for accessing FITS files\n",
    "- `glob` and `os` for working with system files\n",
    "- `matplotlib.pyplot` and `gridspec` for plotting data\n",
    "- `astroquery.mast Mast` and `Observations` for finding and downloading data from the [MAST](https://mast.stsci.edu/portal/Mashup/Clients/Mast/Portal.html) archive\n",
    "\n",
    "These python packages, including `calcos` and `costools` are installed standard with the the STScI conda distribution. For more information, see our notebook tutorial on [setting up an environment](https://github.com/spacetelescope/COS-Notebooks/blob/master/Setup/Setup.ipynb)."
   ]
  },
  {
   "cell_type": "markdown",
   "metadata": {},
   "source": [
    "### A quick bug fix:\n",
    "At present, there is a small bug in the calcos package which affects us when we try to import another package: `costools`. \n",
    "\n",
    "Before you can import in the cell below, you must alter a single line in the `x1d.py` file of your `calcos` package. \n",
    "\n",
    "- The only tricky part is *locating the package*. once you've activated your conda environment as discussed in the aforementioned notebook tutorial on [setting up an environment](https://github.com/spacetelescope/COS-Notebooks/blob/master/Setup/Setup.ipynb), you can find the python path with:\n",
    "\n",
    "|Windows|Mac/Linux|\n",
    "|-|-|\n",
    "|`where python`|`which python`|\n",
    "\n",
    "- This will probably return a path like: `/Users/<your username>/<miniconda3 or anaconda>/envs/<whatever you titled your environment, i.e. calcos_env>/bin/python`.\n",
    "\n",
    "- The package file you need to edit will be close by, in a directory like: `/Users/<your username>/<miniconda3 or anaconda>/envs/<your_env>/lib/python3.6/site-packages/calcos/x1d.py`\n",
    "\n",
    "- Open this file in the editor of your choice, i.e.: `vim /Users/<your username>/<miniconda3 or anaconda>/envs/<your_env>/lib/python3.6/site-packages/calcos/x1d.py`\n",
    "\n",
    "- Comment out line \\#19, which says: `from .version import *`, as this is the line which causes the bug.\n",
    "\n",
    "- Save the file and now we can get to work!"
   ]
  },
  {
   "cell_type": "code",
   "execution_count": null,
   "metadata": {
    "execution": {
     "iopub.execute_input": "2021-02-04T20:01:55.239960Z",
     "iopub.status.busy": "2021-02-04T20:01:55.238745Z",
     "iopub.status.idle": "2021-02-04T20:01:56.941261Z",
     "shell.execute_reply": "2021-02-04T20:01:56.941787Z"
    }
   },
   "outputs": [],
   "source": [
    "# for filtering i.e. by sun altitude\n",
    "from costools import timefilter\n",
    "# for processing cos data\n",
    "import calcos \n",
    "# for array manipulation\n",
    "import numpy as np\n",
    "# for reading fits files\n",
    "from astropy.io import fits                                            \n",
    "from astropy.table import Table\n",
    "# for system files\n",
    "import glob\n",
    "import os\n",
    "# for plotting\n",
    "import matplotlib.pyplot as plt\n",
    "from matplotlib import gridspec\n",
    "# for downloading the data\n",
    "from astroquery.mast import Observations"
   ]
  },
  {
   "cell_type": "markdown",
   "metadata": {},
   "source": [
    "## We will also define a few directories we will need:"
   ]
  },
  {
   "cell_type": "code",
   "execution_count": null,
   "metadata": {
    "execution": {
     "iopub.execute_input": "2021-02-04T20:01:56.952996Z",
     "iopub.status.busy": "2021-02-04T20:01:56.952451Z",
     "iopub.status.idle": "2021-02-04T20:01:57.431419Z",
     "shell.execute_reply": "2021-02-04T20:01:57.431973Z"
    }
   },
   "outputs": [],
   "source": [
    "data_dir = './data/'\n",
    "intermediate_dir = './intermediate/'\n",
    "output_dir = './output/'\n",
    "plots_dir = output_dir + 'plots/'\n",
    "# Make the directories in case they don't exist\n",
    "!mkdir ./data\n",
    "!mkdir ./intermediate\n",
    "!mkdir ./output \n",
    "!mkdir ./output/plots/"
   ]
  },
  {
   "cell_type": "markdown",
   "metadata": {},
   "source": [
    "## And we will need to download the data we wish to filter and analyze\n",
    "We choose the exposure with obs_id: `lbry01i6q`, because we happen to know it contains data taken both in the observatory's night and day and shows strong airglow lines. For more information on downloading COS data, see our [notebook tutorial on downloading COS data](https://github.com/spacetelescope/COS-Notebooks/blob/master/DataDL/DataDl.ipynb)."
   ]
  },
  {
   "cell_type": "code",
   "execution_count": null,
   "metadata": {
    "execution": {
     "iopub.execute_input": "2021-02-04T20:01:57.438962Z",
     "iopub.status.busy": "2021-02-04T20:01:57.438432Z",
     "iopub.status.idle": "2021-02-04T20:02:08.013707Z",
     "shell.execute_reply": "2021-02-04T20:02:08.014330Z"
    }
   },
   "outputs": [],
   "source": [
    "filename_root = 'lbry01i6q'\n",
    "\n",
    "pl = Observations.get_product_list(Observations.query_criteria(proposal_id = '12604', obs_id = 'lbry01*')) # Get products list of all observations with that obs_id root\n",
    "pl_mask = ((pl['productSubGroupDescription'] == \"CORRTAG_A\") | (pl['productSubGroupDescription'] == \"CORRTAG_B\")) & (pl['obs_id'] == filename_root) # create mask with only the corrtag files\n",
    "Observations.download_products(pl[pl_mask], download_dir = './data') # Download those corrtag files\n",
    "\n",
    "file_locations_orig = glob.glob('./**/*corrtag*.fits', recursive=True)\n",
    "for file_orig in file_locations_orig:\n",
    "    os.rename(file_orig, './data/'+os.path.basename(file_orig)) # grabs the data out of its long convoluted filepath\n",
    "# NOTE - this is slightly dangerous if you may have any non-unique filenames - if you have lots of data, probably don't aggregate your data.\n",
    "\n",
    "file_locations_a = glob.glob('./**/*corrtag_a.fits', recursive=True) # Finds all the FUVA raw files\n",
    "file_locations_b = glob.glob('./**/*corrtag_b.fits', recursive=True) # Finds all the FUVB raw files"
   ]
  },
  {
   "cell_type": "markdown",
   "metadata": {},
   "source": [
    "<a id = procF></a>\n",
    "# 1. Processing a spectrum from a filtered dataset"
   ]
  },
  {
   "cell_type": "markdown",
   "metadata": {},
   "source": [
    "<a id = filtF></a>\n",
    "## 1.1. Filtering the `TIME-TAG` data\n",
    "The `costools` package contains the `TimelineFilter` class, which - upon instantiation - filters by the parameters you give it. In other words, you don't have to run any functions or methods aside from instantiating the class. This is done by passing the following parameters to `timefilter.TimelineFilter`:\n",
    "- input `time-tag` filepath (string)\n",
    "- output `time-tag` filepath (string)\n",
    "- filter (string)"
   ]
  },
  {
   "cell_type": "markdown",
   "metadata": {},
   "source": [
    "##### Below, we will filter by the sun's altitude above the geometric horizon from the point-of-view of the Hubble Observatory. **Daytime** is whenever this altitude is greater than 0 degrees.\n",
    "\n",
    "More filtering parameters can be found in the [Section 5.4.2 of the COS Data Handbook: Filtering Time-Tag Data](https://hst-docs.stsci.edu/cosdhb/chapter-5-cos-data-analysis/5-4-working-with-time-tag-data). \n",
    "\n",
    "*Some, but not all, of the available filters are*:\n",
    "- time\n",
    "- observatory latitude/longitude\n",
    "- dark current rate\n",
    "- any combination of filters"
   ]
  },
  {
   "cell_type": "code",
   "execution_count": null,
   "metadata": {
    "execution": {
     "iopub.execute_input": "2021-02-04T20:02:08.018603Z",
     "iopub.status.busy": "2021-02-04T20:02:08.018006Z",
     "iopub.status.idle": "2021-02-04T20:02:08.576181Z",
     "shell.execute_reply": "2021-02-04T20:02:08.576846Z"
    }
   },
   "outputs": [],
   "source": [
    "for afile, bfile in zip(file_locations_a,file_locations_b): # This must be repeated for all exposure files, so loop through both FUVA and FUVB\n",
    "    timefilter.TimelineFilter(input=afile, output=intermediate_dir+\"filtered_corrtag_a.fits\", # Run TimelineFilter on FUVA file\n",
    "                              filter = \"sun_alt > 0.\", verbose=True) # gets rid of Daytime data, i.e. where the sun's altitude above the horizon is 0 degrees\n",
    "    timefilter.TimelineFilter(bfile, intermediate_dir+\"filtered_corrtag_b.fits\", # Run TimelineFilter on FUVB file\n",
    "                                  \"sun_alt > 0.\")"
   ]
  },
  {
   "cell_type": "markdown",
   "metadata": {},
   "source": [
    "<a id = asnF></a>\n",
    "## 1.2. Creating a new association file\n",
    "In order to run the `calcos` pipeline on your newly filtered data, an association (`asn`) file must be made, instructing the pipeline where to look for the filtered `TIME-TAG` data files. In the next cells, we build **two** new association files from scratch:\n",
    "1. For these new **filtered** files\n",
    "2. For the original **unfiltered** files, so that we can compare and see the effect of filtering. "
   ]
  },
  {
   "cell_type": "code",
   "execution_count": null,
   "metadata": {
    "execution": {
     "iopub.execute_input": "2021-02-04T20:02:08.583871Z",
     "iopub.status.busy": "2021-02-04T20:02:08.583270Z",
     "iopub.status.idle": "2021-02-04T20:02:08.594592Z",
     "shell.execute_reply": "2021-02-04T20:02:08.595118Z"
    }
   },
   "outputs": [],
   "source": [
    "# FIRST, for the newly filtered-by-sun_alt files\n",
    "\n",
    "# this properly assigns the type of exposure in a way that CalCOS will recognize\n",
    "type_dict = {'WAVECAL' : 'EXP-AWAVE',\n",
    "             'EXTERNAL/SCI' : 'EXP-FP'}\n",
    "\n",
    "files = glob.glob(intermediate_dir+\"*_corrtag_a.fits\") # This finds all the corrtag (just FUVA) files you filtered above\n",
    "# You only need the A segment in the ASN, and calcos will find the associated B segment data for you\n",
    "# These file locations and names will be different depending on your output name \n",
    "\n",
    "for f in files:    \n",
    "    # Adding the file details to the association table\n",
    "    rootnames = [f]  # MEMNAME\n",
    "    types = [type_dict[fits.getval(f, 'EXPTYPE')]] # MEMTYPE\n",
    "    included = [True] # MEMPRSNT\n",
    "    \n",
    "    # Adding the ASN details to the end of the association table\n",
    "    # the rootname needs to be the full name, not just the rootname\n",
    "    asn_root = os.path.basename(f.split('corrtag')[0][:-1]) # removing the extra \"_\" at the end of this\n",
    "    rootnames.append(asn_root.upper()) # MEMNAME\n",
    "    types.append('PROD-FP') # MEMTYPE\n",
    "    included.append(True) # MEMPRSNT\n",
    "    \n",
    "    # Putting together the fits table\n",
    "    #   40 is the number of characters allowed in this field. If your rootname is longer than 40, \n",
    "    #     you will need to increase this\n",
    "    c1 = fits.Column(name='MEMNAME', array=np.array(rootnames), format='40A') \n",
    "    c2 = fits.Column(name='MEMTYPE', array=np.array(types), format='14A')\n",
    "    c3 = fits.Column(name='MEMPRSNT', format='L', array=included)\n",
    "    t = fits.BinTableHDU.from_columns([c1, c2, c3])\n",
    "    \n",
    "    # Writing the fits table\n",
    "    t.writeto(asn_root.lower()+'_asn.fits')\n",
    "\n",
    "    print('Saved: {}'.format(asn_root.lower()+'_asn.fits' ), \"in the cwd directory\")"
   ]
  },
  {
   "cell_type": "markdown",
   "metadata": {},
   "source": [
    "We can see the contents of this association file below:"
   ]
  },
  {
   "cell_type": "code",
   "execution_count": null,
   "metadata": {
    "execution": {
     "iopub.execute_input": "2021-02-04T20:02:08.598644Z",
     "iopub.status.busy": "2021-02-04T20:02:08.598112Z",
     "iopub.status.idle": "2021-02-04T20:02:08.653461Z",
     "shell.execute_reply": "2021-02-04T20:02:08.654109Z"
    }
   },
   "outputs": [],
   "source": [
    "Table.read(\"filtered_asn.fits\")"
   ]
  },
  {
   "cell_type": "markdown",
   "metadata": {},
   "source": [
    "*Note* that in the \"MEMNAME\" column, we define the location of the corrtag file we wish to process in terms of a local path (the path from the current working directory from which we run our code to the file in the `intermediate` directory.) It is also possible to simply give the \"MEMNAME\" column the file's rootname (i.e `filtered_corrtag_a`) as long as this file and the association files are in the same directory."
   ]
  },
  {
   "cell_type": "code",
   "execution_count": null,
   "metadata": {
    "execution": {
     "iopub.execute_input": "2021-02-04T20:02:08.660834Z",
     "iopub.status.busy": "2021-02-04T20:02:08.660257Z",
     "iopub.status.idle": "2021-02-04T20:02:08.672238Z",
     "shell.execute_reply": "2021-02-04T20:02:08.672792Z"
    }
   },
   "outputs": [],
   "source": [
    "# NOW, we make an association file for the unfiltered data files\n",
    "\n",
    "for f in file_locations_a:\n",
    "    # Adding the file details to the association table\n",
    "    rootnames = [f]  # MEMNAME\n",
    "    types = [type_dict[fits.getval(f, 'EXPTYPE')]] # MEMTYPE\n",
    "    included = [True] # MEMPRSNT\n",
    "    \n",
    "    # Adding the ASN details to the end of the association table\n",
    "    # the rootname needs to be the full name, not just the rootname\n",
    "    asn_root = os.path.basename(f.split('corrtag')[0][:-1]) # removing the extra \"_\" at the end of this\n",
    "    rootnames.append(asn_root.upper()) # MEMNAME\n",
    "    types.append('PROD-FP') # MEMTYPE\n",
    "    included.append(True) # MEMPRSNT\n",
    "    \n",
    "    # Putting together the fits table\n",
    "    c1 = fits.Column(name='MEMNAME', array=np.array(rootnames), format='40A') \n",
    "    c2 = fits.Column(name='MEMTYPE', array=np.array(types), format='14A')\n",
    "    c3 = fits.Column(name='MEMPRSNT', format='L', array=included)\n",
    "    t = fits.BinTableHDU.from_columns([c1, c2, c3])\n",
    "    \n",
    "    # Writing the fits table\n",
    "    t.writeto(asn_root.lower()+'_asn.fits', overwrite=True)\n",
    "\n",
    "    print('Saved: {}'.format(asn_root.lower()+'_asn.fits' ), \"in the cwd directory\")"
   ]
  },
  {
   "cell_type": "markdown",
   "metadata": {},
   "source": [
    "Again, we can see the contents of this association file below:"
   ]
  },
  {
   "cell_type": "code",
   "execution_count": null,
   "metadata": {
    "execution": {
     "iopub.execute_input": "2021-02-04T20:02:08.675977Z",
     "iopub.status.busy": "2021-02-04T20:02:08.675460Z",
     "iopub.status.idle": "2021-02-04T20:02:08.683106Z",
     "shell.execute_reply": "2021-02-04T20:02:08.683670Z"
    }
   },
   "outputs": [],
   "source": [
    "Table.read(f\"{filename_root}_asn.fits\")"
   ]
  },
  {
   "cell_type": "markdown",
   "metadata": {},
   "source": [
    "<a id = calcosF></a>\n",
    "## 1.3. Running the `calcos` pipeline\n",
    "\n",
    "Now we need to actually reduce the data using the `calcos` pipeline. If you have not already checked out our tutorial on [Running the `calcos` pipeline](), it contains vital information and is *highly recommended*.\n"
   ]
  },
  {
   "cell_type": "markdown",
   "metadata": {},
   "source": [
    "---\n",
    "### If you ran [Section 3 of our notebook on \"Setting up your environment\"](https://spacetelescope.github.io/COS-Notebooks/Setup.html#crdsS), you likely do not have to download more reference files. \n",
    "### [If you haven't downloaded the files as in Section 3 of \"Setup.ipynb\", click to skip this cell!](#skipcellF)\n",
    "#### You can instead simply point to the ones you downloaded, using the `crds bestrefs` command, as shown in the following three steps. Run these steps from your command line if and only if you already have the reference files in a local cache.\n",
    "\n",
    "1. The following sets environment variable for crds to look for the reference data online:\n",
    "\n",
    "```$ export CRDS_SERVER_URL=https://hst-crds.stsci.edu``` \n",
    "\n",
    "2. The following tells crds where to save the files it downloads - set this to the directory where you saved the crds_cache as in [Section 3 of our notebook on \"Setup\"](https://spacetelescope.github.io/COS-Notebooks/Setup.html#crdsS):\n",
    "\n",
    "```$ export CRDS_PATH=${HOME}/crds_cache```\n",
    "\n",
    "3. The following will update the data files you downloaded so that they will be processed with the reference files you previously downloaded:\n",
    "\n",
    "```$ crds bestrefs --files data/*raw*.fits --update-bestrefs --new-context '<the imap or pmap file you used to download the reference files>'```\n",
    "\n",
    "#### Assuming everything ran successfully, you can now [skip to Section 3](#runC).\n",
    "---"
   ]
  },
  {
   "cell_type": "markdown",
   "metadata": {},
   "source": [
    "<a id=skipcellF></a>\n",
    "### If you have not yet downloaded the reference files, you will need to do so, as shown below:\n",
    "Unless we are connected to the STScI network, or already have the reference files on our machine, we will need to download the reference files and tell the pipeline where to look for the flat files, bad-pixel files, etc.\n",
    "\n",
    "#### Caution!\n",
    "<img src=figures/warning.png width =\"60\" title=\"CAUTION!\"> \n",
    "\n",
    "#### The process in the following two cells can take a long time and strain network resources! If you have already downloaded *up-to-date* COS reference files, avoid doing so again.\n",
    "Instead, keep these crds files in an accessible location, and point an environment variable `lref` to this directory. For instance, if your lref files are on your username's home directory, in a subdirectory called `crds_cache`, give Jupyter the following command then skip the next 2 cells:\n",
    "\n",
    "```%env lref /Users/<your username>/crds_cache/references/hst/cos/```\n",
    "\n",
    "#### Only run the following two cells if you have not downloaded these files before:\n",
    "In the next two cells, we will setup an environment of reference files, download the files, and save the output of the crds download process in a log file:"
   ]
  },
  {
   "cell_type": "code",
   "execution_count": null,
   "metadata": {
    "execution": {
     "iopub.execute_input": "2021-02-04T20:02:08.691255Z",
     "iopub.status.busy": "2021-02-04T20:02:08.690722Z",
     "iopub.status.idle": "2021-02-04T20:05:08.579639Z",
     "shell.execute_reply": "2021-02-04T20:05:08.580285Z"
    }
   },
   "outputs": [],
   "source": [
    "%%capture cap --no-stderr\n",
    "\n",
    "%env lref ./data/reference/references/hst/cos/\n",
    "%env CRDS_SERVER_URL https://hst-crds.stsci.edu\n",
    "%env CRDS_PATH ./data/reference/\n",
    "\n",
    "# The next line depends on your context and pmap file \n",
    "!crds bestrefs --files **/*corrtag*.fits  --sync-references=2 --update-bestrefs --new-context 'hst_0836.pmap'"
   ]
  },
  {
   "cell_type": "code",
   "execution_count": null,
   "metadata": {
    "execution": {
     "iopub.execute_input": "2021-02-04T20:05:08.584909Z",
     "iopub.status.busy": "2021-02-04T20:05:08.584304Z",
     "iopub.status.idle": "2021-02-04T20:05:08.587176Z",
     "shell.execute_reply": "2021-02-04T20:05:08.586582Z"
    }
   },
   "outputs": [],
   "source": [
    "with open(output_dir+'crds_output_1.txt', 'w') as f: # This file now contains the output of the last cell\n",
    "    f.write(cap.stdout)"
   ]
  },
  {
   "cell_type": "markdown",
   "metadata": {},
   "source": [
    "#### And now, for the pipeline itself:\n",
    "\n",
    "Again, *because we wish to compare against the unfiltered data*, we must run the pipeline twice:\n",
    "1. For these new **filtered** files\n",
    "2. For the original **unfiltered** files, so that we can compare and see the effect of filtering. \n",
    "\n",
    "*You can ignore any `AstropyDeprecationWarning`s that pop up*"
   ]
  },
  {
   "cell_type": "code",
   "execution_count": null,
   "metadata": {
    "execution": {
     "iopub.execute_input": "2021-02-04T20:05:08.592370Z",
     "iopub.status.busy": "2021-02-04T20:05:08.591772Z",
     "iopub.status.idle": "2021-02-04T20:05:18.669464Z",
     "shell.execute_reply": "2021-02-04T20:05:18.670073Z"
    }
   },
   "outputs": [],
   "source": [
    "%%capture cap --no-stderr\n",
    "# First, run with the \"FILTERED\" data with only time-tag datapoints allowed by the filter\n",
    "calcos.calcos('./filtered_asn.fits', outdir = output_dir + \"filtered_data_outs\", verbosity = 0)"
   ]
  },
  {
   "cell_type": "code",
   "execution_count": null,
   "metadata": {
    "execution": {
     "iopub.execute_input": "2021-02-04T20:05:18.674123Z",
     "iopub.status.busy": "2021-02-04T20:05:18.673562Z",
     "iopub.status.idle": "2021-02-04T20:05:28.669186Z",
     "shell.execute_reply": "2021-02-04T20:05:28.669723Z"
    }
   },
   "outputs": [],
   "source": [
    "%%capture cap --no-stderr\n",
    "# Now, run calcos with the initial \"FULL\" data - with all time-tag datapoints\n",
    "calcos.calcos(f'./{filename_root}_asn.fits', outdir = output_dir + \"full_data_outs\", verbosity = 0)"
   ]
  },
  {
   "cell_type": "markdown",
   "metadata": {},
   "source": [
    "<a id = compF></a>\n",
    "# 2. Comparing the filtered and unfiltered data\n",
    "### Excellent! We're essentially done at this point. Let's just read in both of the processed spectra (the `x1dsum` files) and plot the spectra against one another.\n",
    "\n",
    "*You can ignore any `UnitsWarning`s that pop up about formatting.*"
   ]
  },
  {
   "cell_type": "code",
   "execution_count": null,
   "metadata": {
    "execution": {
     "iopub.execute_input": "2021-02-04T20:05:28.675139Z",
     "iopub.status.busy": "2021-02-04T20:05:28.674579Z",
     "iopub.status.idle": "2021-02-04T20:05:28.770663Z",
     "shell.execute_reply": "2021-02-04T20:05:28.771123Z"
    }
   },
   "outputs": [],
   "source": [
    "unfilt_tab = Table.read(\"./output/full_data_outs/\"+filename_root+\"_x1dsum.fits\")['WAVELENGTH','FLUX', 'ERROR'] # read in the wvln, flux, flux error of the unfiltered spectrum file\n",
    "filt_tab = Table.read(\"./output/filtered_data_outs/filtered_x1dsum.fits\")['WAVELENGTH','FLUX', 'ERROR'] # read in the wvln, flux, flux error of the filtered spectrum file\n",
    "\n",
    "combo_dict_f = {'WAVELENGTH':[], 'FLUX':[], 'ERROR':[]} # Convert to dict and combine segments\n",
    "combo_dict_u = {'WAVELENGTH':[], 'FLUX':[], 'ERROR':[]} # Convert to dict and combine segments\n",
    "\n",
    "for row in filt_tab[::-1]: # reverse segments FUVA and B for filtered data\n",
    "    for key in row.colnames:\n",
    "        combo_dict_f[key]+=(list(row[key]))\n",
    "        \n",
    "for row in unfilt_tab[::-1]: # reverse segments FUVA and B for unfiltered data\n",
    "    for key in row.colnames:\n",
    "        combo_dict_u[key]+=(list(row[key]))"
   ]
  },
  {
   "cell_type": "code",
   "execution_count": null,
   "metadata": {
    "execution": {
     "iopub.execute_input": "2021-02-04T20:05:28.814308Z",
     "iopub.status.busy": "2021-02-04T20:05:28.789273Z",
     "iopub.status.idle": "2021-02-04T20:05:32.518037Z",
     "shell.execute_reply": "2021-02-04T20:05:32.518513Z"
    }
   },
   "outputs": [],
   "source": [
    "fig = plt.figure(figsize=(15, 15)) \n",
    "gs = gridspec.GridSpec(3,1, height_ratios=[3, 1,1]) \n",
    "ax0 = plt.subplot(gs[0])\n",
    "ax1 = plt.subplot(gs[1])\n",
    "ax2 = plt.subplot(gs[2])\n",
    "\n",
    "\n",
    "ax0.scatter(combo_dict_u[\"WAVELENGTH\"], combo_dict_u[\"FLUX\"], s = 2, alpha = 1, c = 'C1',label = \"Unfiltered\")\n",
    "ax0.scatter(combo_dict_f[\"WAVELENGTH\"], combo_dict_f[\"FLUX\"], s = 2, alpha = 1, c = 'C2', label = \"Filtered to SUN_ALT<0\")\n",
    "\n",
    "ax1.scatter(combo_dict_u[\"WAVELENGTH\"], combo_dict_u[\"FLUX\"], s = 2, alpha = 1, c = 'C1',label = \"Unfiltered\")\n",
    "ax2.scatter(combo_dict_f[\"WAVELENGTH\"], combo_dict_f[\"FLUX\"], s = 2, alpha = 1, c = 'C2', label = \"Filtered to SUN_ALT<0\")\n",
    "\n",
    "# FORMATTING\n",
    "ax0.set_xticks([])\n",
    "ax1.set_xticks([])\n",
    "\n",
    "ax0.legend(fontsize = 20)\n",
    "ax1.legend(fontsize = 20)\n",
    "ax2.legend(fontsize = 20)\n",
    "\n",
    "ax2.set_ylim(ax1.get_ylim())\n",
    "\n",
    "ax0.set_title(\"Fig 2.1\\nSpectra of Filtered and Unfiltered by `SUN_ALT`\", size = 35)\n",
    "ax1.set_ylabel(\"Flux [$\\AA$]\", fontsize = 30, y=0.2, horizontalalignment='center')\n",
    "ax2.set_xlabel(\"Wavelength [$\\AA$]\", fontsize = 30)\n",
    "\n",
    "plt.tight_layout()\n",
    "\n",
    "plt.savefig(plots_dir + 'compare_spectra_sunalt.png', dpi = 300)"
   ]
  },
  {
   "cell_type": "markdown",
   "metadata": {},
   "source": [
    "#### We can see that the filtered spectrum largely follows the unfiltered spectrum; however, we significantly reduce the Lyman-alpha light from airglow around 1215 Å.\n",
    "\n",
    "Because we filter out many of the datapoints used to calculate the spectrum, we can see a significant reduction in precision in flux space (visible as a **banding** in the y-axis). This can come about because with few datapoints, the bands represent wavelengths which received (0,1,2...n) discrete photons. The banding can sometimes be more pronounced at longer, redder wavelengths. \n",
    "\n",
    "#### Below, let's make one final plot: a chunk of the spectrum around \\~1215 Å showing the errors in flux:"
   ]
  },
  {
   "cell_type": "code",
   "execution_count": null,
   "metadata": {
    "execution": {
     "iopub.execute_input": "2021-02-04T20:05:32.545252Z",
     "iopub.status.busy": "2021-02-04T20:05:32.536385Z",
     "iopub.status.idle": "2021-02-04T20:05:35.831029Z",
     "shell.execute_reply": "2021-02-04T20:05:35.831513Z"
    }
   },
   "outputs": [],
   "source": [
    "fig, (ax0) = plt.subplots(nrows=1, ncols=1, figsize=(15,8))\n",
    "\n",
    "ax0.errorbar(combo_dict_u[\"WAVELENGTH\"], combo_dict_u[\"FLUX\"], combo_dict_u[\"ERROR\"], \n",
    "             linestyle = '', markersize = 2, alpha = 1, c = 'C1',label = \"Unfiltered\")\n",
    "ax0.errorbar(combo_dict_f[\"WAVELENGTH\"], combo_dict_f[\"FLUX\"], combo_dict_f[\"ERROR\"], \n",
    "             linestyle = '', markersize = 2, alpha = 1, c = 'C2', label = \"Filtered to SUN_ALT<0\")\n",
    "\n",
    "ax0.legend(fontsize = 20)\n",
    "ax0.set_xlabel(\"Wavelength [$\\AA$]\", fontsize = 30)\n",
    "ax0.set_ylabel(\"Flux [$\\AA$]\", fontsize = 30, horizontalalignment='center')\n",
    "ax0.set_title(\"Fig 2.2\\nSpectra with Errors of Filtered and Unfiltered by `SUN_ALT`\", size = 30)\n",
    "ax0.set_xlim(1213,1218)\n",
    "\n",
    "plt.tight_layout()\n",
    "plt.savefig(plots_dir + 'ebar_compare_spectra_sunalt.png', dpi = 300)"
   ]
  },
  {
   "cell_type": "markdown",
   "metadata": {},
   "source": [
    "With substantially fewer datapoints, our filtered dataset has larger errors. We can, however, understand why we might want to filter by this, or another `sun_alt` filter. For instance, if most of your exposure was taken at night, but the last 10% was taken after the sun had risen and induced an atmospheric line which interferes with your data, it would often be necessary to filter out this last 10% of the exposure."
   ]
  },
  {
   "cell_type": "markdown",
   "metadata": {},
   "source": [
    "## Congratulations! You finished this notebook!\n",
    "### There are more COS data walkthrough notebooks on different topics. You can find them [here](https://github.com/spacetelescope/COS-Notebooks)."
   ]
  },
  {
   "cell_type": "markdown",
   "metadata": {},
   "source": [
    "---\n",
    "## About this Notebook\n",
    "**Author:** Nat Kerman <nkerman@stsci.edu>\n",
    "\n",
    "**Contributors:** Elaine Mae Frazer\n",
    "\n",
    "**Updated On:** 2020-12-16\n",
    "\n",
    "> *This tutorial was generated to be in compliance with the [STScI style guides](https://github.com/spacetelescope/style-guides) and would like to cite the [Jupyter guide](https://github.com/spacetelescope/style-guides/blob/master/templates/example_notebook.ipynb) in particular.*\n",
    "\n",
    "## Citations\n",
    "\n",
    "If you use `astropy`, `matplotlib`, `astroquery`, or `numpy` for published research, please cite the\n",
    "authors. Follow these links for more information about citations:\n",
    "\n",
    "* [Citing `astropy`/`numpy`/`matplotlib`](https://www.scipy.org/citing.html)\n",
    "* [Citing `astroquery`](https://astroquery.readthedocs.io/en/latest/)\n",
    "\n",
    "---\n",
    "\n",
    "[Top of Page](#topD)\n",
    "<img style=\"float: right;\" src=\"https://raw.githubusercontent.com/spacetelescope/notebooks/master/assets/stsci_pri_combo_mark_horizonal_white_bkgd.png\" alt=\"Space Telescope Logo\" width=\"200px\"/> \n",
    "\n",
    "<br></br>\n",
    "<br></br>\n",
    "<br></br>"
   ]
  }
 ],
 "metadata": {
  "kernelspec": {
   "display_name": "Python 3",
   "language": "python",
   "name": "python3"
  },
  "language_info": {
   "codemirror_mode": {
    "name": "ipython",
    "version": 3
   },
   "file_extension": ".py",
   "mimetype": "text/x-python",
   "name": "python",
   "nbconvert_exporter": "python",
   "pygments_lexer": "ipython3",
   "version": "3.6.12"
  }
 },
 "nbformat": 4,
 "nbformat_minor": 4
}
