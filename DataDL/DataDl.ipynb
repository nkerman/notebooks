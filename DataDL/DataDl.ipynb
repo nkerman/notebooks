{
 "cells": [
  {
   "cell_type": "markdown",
   "metadata": {},
   "source": [
    "<a id=\"topD\"></a>\n",
    "\n",
    "# Viewing COS Data\n",
    "\n",
    "# Learning Goals\n",
    "### This Notebook is designed to walk the user (*you*) through: **Downloading Existing Cosmic Origins Spectrograph (*COS*) data from the online archive**\n",
    "   #### 1. [**Using the web browser interface**](#mastD)\n",
    "   ##### $\\ \\ \\ \\ $ 1.1. [The MAST Web Search](#mastD)\n",
    "   ##### $\\ \\ \\ \\ $ 1.2. [Narrowing Search with Observational Parameters](#WebSearchSeriesD)\n",
    "   #### 2. [**Using the `Python` module `Astroquery`**](#astroqueryD)\n",
    "   ##### $\\ \\ \\ \\ $ 2.1. [Searching for a single source with Astroquery](#Astroquery1D)\n",
    "   ##### $\\ \\ \\ \\ $ 2.2. [Narrowing Search with Observational Parameters](#NarrowSearchD)\n",
    "   ##### $\\ \\ \\ \\ $ 2.3. [Choosing and Downloading Data Products](#dataprodsD)\n",
    "   ##### $\\ \\ \\ \\ $ 2.4. [Using astroquery to find data on a series of sources](#Astroquery2D)\n",
    "   \n",
    "\n",
    "# 0. Introduction\n",
    "#### The Cosmic Origins Spectrograph ([*COS*](https://www.nasa.gov/content/hubble-space-telescope-cosmic-origins-spectrograph)) is an ultraviolet spectrograph on-board the Hubble Space Telescope([*HST*](https://www.stsci.edu/hst/about)) with capabilities in the near ultraviolet (*NUV*) and far ultraviolet (*FUV*).\n",
    "\n",
    "#### This tutorial aims to prepare you to access the existing COS data of your choice by walking you through downloading a processed spectrum, as well as various calibration files obtained with COS.\n",
    "\n",
    "- For an in-depth manual to working with COS data and a discussion of caveats and user tips, see the [COS Data Handbook](https://hst-docs.stsci.edu/display/COSDHB/).\n",
    "- For a detailed overview of the COS instrument, see the [COS Instrument Handbook](https://hst-docs.stsci.edu/display/COSIHB/).\n"
   ]
  },
  {
   "cell_type": "markdown",
   "metadata": {},
   "source": [
    "## We will import the following packages:\n",
    "\n",
    "- numpy to handle array functions\n",
    "- astropy.io fits for accessing FITS files\n",
    "- astropy.table Table for creating tidy tables of the data\n",
    "- astropy.units and astropy.visualization.quantity_support for dealing with units\n",
    "- matplotlib.pyplot for plotting data\n",
    "- astroquery.mast Mast and Observations for finding and downloading data from the [MAST](https://mast.stsci.edu/portal/Mashup/Clients/Mast/Portal.html) archive\n",
    "- csv reader for reading in from a csv file of source names."
   ]
  },
  {
   "cell_type": "code",
   "execution_count": 18,
   "metadata": {},
   "outputs": [],
   "source": [
    "#Make matplotlib look good in a notebook\n",
    "%matplotlib inline\n",
    "# Manipulating arrays\n",
    "import numpy as np\n",
    "# Reading in data\n",
    "from astropy.table import Table\n",
    "\n",
    "# Downloading data from archive\n",
    "from astroquery.mast import Mast\n",
    "from astroquery.mast import Observations\n",
    "from astroquery.mast import Catalogs\n",
    "\n",
    "# Reading in multiple source names from a csv file\n",
    "from csv import reader"
   ]
  },
  {
   "cell_type": "markdown",
   "metadata": {},
   "source": [
    "## We will also define a few directories in which to place our data."
   ]
  },
  {
   "cell_type": "code",
   "execution_count": 46,
   "metadata": {},
   "outputs": [
    {
     "name": "stdout",
     "output_type": "stream",
     "text": [
      "mkdir: ./data: File exists\n"
     ]
    }
   ],
   "source": [
    "# These will be important directories for the notebook\n",
    "cwd = !pwd\n",
    "cwd = cwd[0]\n",
    "!mkdir ./data\n",
    "datadir = cwd + '/data/'"
   ]
  },
  {
   "cell_type": "markdown",
   "metadata": {},
   "source": [
    "<a id=\"downloadD\"></a>\n",
    "# 1. Downloading the Data through the Browser interface\n",
    "\n",
    "One can search for COS data from both a browser-based gui and a command-line `Python` library.\n",
    "\n",
    "##### *A more in-depth MAST archive tutorial can be found [here](https://mast.stsci.edu/api/v0/MastApiTutorial.html).*\n",
    "\n",
    "<a id=\"mastD\"></a>\n",
    "## 1.1 The MAST Web Search\n",
    "A browser gui for searching HST archival data can be found [here](http://archive.stsci.edu/hst/search.php).\n",
    "\n",
    "The search page is laid out as in fig. 1.1:\n",
    "### Fig 1.1\n",
    "<center><img src=./figures/Mast_hst_searchformQSO.png width =\"900\" title=\"MAST Archive search form for a COS data query\"> </center>\n",
    "\n",
    "where here we have indicated we would like to find all archival science data from the **COS far-ultraviolet (FUV) configuration**, taken with any grating while looking at Quasi-Stellar Objects (QSO) within a 3 arcminute radius of (1hr:37':40\", +33d 09m 32s). The output columns we have selected to see are visible in the bottom left of Fig 1.1.\n",
    "\n",
    "Note that if you have a list of coordinates, Observation ID(s), etc. for a series of targets you can click on the \"File Upload Form\" and attach your list of OBSIDs or identifying features. Then specify which type of data your list contains using the \"File Contents\" drop-down menu.\n",
    "\n",
    "Figure 1.2 shows the results of our search shown in Fig 1.1.\n",
    "### Fig 1.2\n",
    "<center><img src=figures/QSO_MastSearchRes.png width =\"900\" title=\"MAST Archive search results for a COS data query\"> </center>\n",
    "\n",
    "\n",
    "#### We now choose our dataset.\n",
    "We rather arbitrarily select LCXV13050 because of its long exposure time, taken under an calibration program described as:\n",
    "> \"Project AMIGA: Mapping the Circumgalactic Medium of Andromeda\"\n",
    "\n",
    "This is a Quasar known as [3C48](http://simbad.u-strasbg.fr/simbad/sim-basic?Ident=3c48&submit=SIMBAD+search), one of the first quasars discovered."
   ]
  },
  {
   "cell_type": "markdown",
   "metadata": {},
   "source": [
    "Clicking on the dataset, we are taken to a page displaying a preview spectrum (Fig 1.3).\n",
    "### Fig 1.3\n",
    "\n",
    "<center><img src=./figures/QSOPreviewSpec.png width =\"900\" title=\"MAST Archive preview spectrum of LCXV13050\"> </center>\n",
    "\n",
    "We now return to the [search page](http://archive.stsci.edu/hst/search.php) and enter in LCXV13050 under \"Dataset\" with no other parameters set. Hitting search, now we see a single-rowed table with *just* our dataset, and the option to download datasets. We mark the row we wish to download and click \"Submit marked data for retrieval from STDADS\". See Fig 1.4.\n",
    "\n",
    "### Fig. 1.4\n",
    "\n",
    "<center><img src =figures/LCXV13050_res.png width =\"900\" title=\"MAST Archive dataset overview of LCXV13050\"> </center>\n",
    "\n",
    "Now we see a page like in Fig 1.5, where we can either sign in with STScI credentials, or simply provide our email to proceed (relatively) anonymously. Make sure to select \"Deliver the data to the Archive staging area\". Hit \"Send Retrieval Request to STDADS\" and you will recieve an email with instructions on downloading with ftp. You will need to do this step from the command line.\n",
    "\n",
    "### Fig. 1.5\n",
    "<center><img src =figures/DownloadOptions.png width =\"900\" title=\"Download Options for LCXV13050\"> </center>\n",
    "\n",
    "In the case of this request, the command to retrieve the data was:\n",
    ">`wget -r --ftp-user=anonymous --ask-password ftps://archive.stsci.edu/stage/anonymous/anonymous42822 --directory-prefix=datadir`\n",
    "\n",
    "where the password was the email address used, and datadir is the directory defined at the beginning of this notebook.. Now all the data is in a subdirectory `\"/archive.stsci.edu/stage/anonymous/anonymous42822/\"`\n",
    "\n",
    "#### Well Done!\n"
   ]
  },
  {
   "cell_type": "markdown",
   "metadata": {},
   "source": [
    "### Exercise 1: *Searching the archive for TRAPPIST-1 data*\n",
    "\n",
    "[TRAPPIST-1](https://en.wikipedia.org/wiki/TRAPPIST-1) is a cool red dwarf with a multiple-exoplanet system. \n",
    "- Find its coordinates using the [SIMBAD Basic Search](http://simbad.u-strasbg.fr/simbad/sim-fbasic).\n",
    "- Use those coordinates in the [MAST web search](https://archive.stsci.edu/hst/search.php) to find all COS exposures of the system.\n",
    "- Limit the search terms to find the COS dataset taken in the COS far-UV configuration with the grating G130M.\n",
    "\n",
    "#### What is the dataset ID, and how long was the exposure?\n",
    "\n",
    "Place your answer in the cell below."
   ]
  },
  {
   "cell_type": "code",
   "execution_count": 6,
   "metadata": {},
   "outputs": [],
   "source": [
    "# Your answer here\n",
    "\n"
   ]
  },
  {
   "cell_type": "markdown",
   "metadata": {},
   "source": [
    "<a id=WebSearchSeriesD></a>\n",
    "## 1.2. Searching for a Series of Observations on the MAST Web Search\n",
    "\n",
    "Now let's try using the web interface's [file upload form](http://archive.stsci.edu/hst/search.php?form=fuf) to search for a series of observations by their dataset IDs. We're going to look for three observations of the same object, the white dwarf WD1057+719, taken with three different COS gratings. Two are in the FUV and one in the NUV. The dataset IDs are\n",
    "- LDYR52010\n",
    "- LBNM01040\n",
    "- LBBD04040\n",
    "\n",
    "We make a comma-separated-value txt file with these three obs_ids, and save it as `obsId_list.txt`. "
   ]
  },
  {
   "cell_type": "code",
   "execution_count": 56,
   "metadata": {},
   "outputs": [],
   "source": [
    "with open('./obsId_list.txt', 'w') as f:\n",
    "    for item in ['LDYR52010','LBNM01040','LBBD04040']:\n",
    "        f.writelines(item + \",\\n\")"
   ]
  },
  {
   "cell_type": "markdown",
   "metadata": {},
   "source": [
    "Then we link to this file under the **Local File Name** browse menu on the file upload form. We must set the **File Contents** term to Data ID, as that is the identifier we have provided in our file, and we change the **delimiter** to a comma.\n",
    "Because we are searching by Dataset ID, we don't need to specify any additional parameters to narrow down the data.\n",
    "\n",
    "### Fig 1.6\n",
    "<center><img src =figures/FUF_search.png width =\"900\" title=\"File Upload Search Form\"> </center>\n",
    "\n",
    "#### Perfect! We now can access all the datasets, as shown in Fig. 1.7:\n",
    "\n",
    "## Fig. 1.7\n",
    "<center><img src =figures/FUF_res.png width =\"900\" title=\"File Upload Search Results\"> </center>\n",
    "\n",
    "Now, to download all of the relavent files, we can check the **mark** box for all of them, and again hit  \"Submit marked data for retrieval from STDADS\". This time, we want to retrieve **all the calibration files** associated with each dataset, so we check the following boxes:\n",
    "- Uncalibrated\n",
    "- Calibrated\n",
    "- Used Reference Files\n",
    "See Fig. 1.8\n",
    "\n",
    "### Fig 1.8\n",
    "<center><img src =./figures/DownloadOptions_FUF.png width =\"900\" title=\"Download Options for multiple datasets\"> </center>\n",
    "\n",
    "\n",
    "The procedure from here is the same described above in Section 1.1. Now, when we download with wget, we obtain multiple subdirectories with each dataset separated."
   ]
  },
  {
   "cell_type": "markdown",
   "metadata": {},
   "source": [
    "<a id = astroqueryD></a>\n",
    "# 2. Downloading the data with astroquery.mast\n",
    "Another way to search for and download archived datasets is within `Python` using the module [`astroquery.mast`](https://astroquery.readthedocs.io/en/latest/mast/mast.html). We have already imported 2 of this module's key tools: `Observations` and `Mast`.\n",
    "\n",
    "<a id=Astroquery1D></a>\n",
    "## 2.1. Searching for a single source with Astroquery\n",
    "\n",
    "There are *many* options for searching the archive with astroquery, but we will begin with a very general search using the coordinates we found for WD1057+719 in the last section to find the dataset with the longest exposure time using the G160M filter. \n",
    "- Our coordinates were:      (11:00:34.126 +71:38:02.80). \n",
    "    - We can search these coordinates as sexagesimal coordinates, or convert them to decimal degrees."
   ]
  },
  {
   "cell_type": "code",
   "execution_count": 7,
   "metadata": {},
   "outputs": [],
   "source": [
    "query_1 = Observations.query_object(\"11:00:34.126 +71:38:02.80\", radius=\"5 sec\")"
   ]
  },
  {
   "cell_type": "markdown",
   "metadata": {},
   "source": [
    "This command has generated a table of objects called **\"query_1\"**. We can see what information we have on the objects in the table by printing its *`keys`*, and see how many objects are in the table with `len(query_1)`."
   ]
  },
  {
   "cell_type": "code",
   "execution_count": 36,
   "metadata": {},
   "outputs": [
    {
     "name": "stdout",
     "output_type": "stream",
     "text": [
      "We have table information on 708 observations in the following categories/columns:\n",
      "\n"
     ]
    },
    {
     "data": {
      "text/plain": [
       "['intentType',\n",
       " 'obs_collection',\n",
       " 'provenance_name',\n",
       " 'instrument_name',\n",
       " 'project',\n",
       " 'filters',\n",
       " 'wavelength_region',\n",
       " 'target_name',\n",
       " 'target_classification',\n",
       " 'obs_id',\n",
       " 's_ra',\n",
       " 's_dec',\n",
       " 'dataproduct_type',\n",
       " 'proposal_pi',\n",
       " 'calib_level',\n",
       " 't_min',\n",
       " 't_max',\n",
       " 't_exptime',\n",
       " 'em_min',\n",
       " 'em_max',\n",
       " 'obs_title',\n",
       " 't_obs_release',\n",
       " 'proposal_id',\n",
       " 'proposal_type',\n",
       " 'sequence_number',\n",
       " 's_region',\n",
       " 'jpegURL',\n",
       " 'dataURL',\n",
       " 'dataRights',\n",
       " 'mtFlag',\n",
       " 'srcDen',\n",
       " 'obsid',\n",
       " 'distance']"
      ]
     },
     "execution_count": 36,
     "metadata": {},
     "output_type": "execute_result"
    }
   ],
   "source": [
    "print(f\"We have table information on {len(query_1)} observations in the following categories/columns:\\n\")\n",
    "q1_keys = (query_1.keys())\n",
    "q1_keys"
   ]
  },
  {
   "cell_type": "markdown",
   "metadata": {},
   "source": [
    "<a id=NarrowSearchD></a>\n",
    "## 2.2. Narrowing Search with Observational Parameters\n",
    "#### Now we narrow down a bit with some additional parameters (wavelength_region, instrument_name / configuration, dataproduct_type), and sort by exposure time:"
   ]
  },
  {
   "cell_type": "code",
   "execution_count": 37,
   "metadata": {},
   "outputs": [
    {
     "name": "stdout",
     "output_type": "stream",
     "text": [
      "  obsid      obs_id  target_name ... filters wavelength_region t_exptime\n",
      "---------- --------- ----------- ... ------- ----------------- ---------\n",
      "2003183190 lbb9x3ckq  WD1057+719 ...   G160M                UV       1.0\n",
      "2003183667 lbe702iqs  WD1057+719 ...   G160M                UV       1.0\n",
      "2003183145 lbb918scq  WD1057+719 ...   G160M                UV       1.0\n",
      "2003177779 la9r02dfq WD-1057+719 ...   G160M                UV       1.0\n",
      "2003183129 lbb916lbq  WD1057+719 ...   G160M                UV       1.0\n",
      "2003183137 lbb917k7q  WD1057+719 ...   G160M                UV       1.0\n",
      "2003183144 lbb918sbq  WD1057+719 ...   G160M                UV     108.0\n",
      "2003183666 lbe702ips  WD1057+719 ...   G160M                UV     108.0\n",
      "2003177778 la9r02deq WD-1057+719 ...   G160M                UV     108.0\n",
      "2003183136 lbb917k6q  WD1057+719 ...   G160M                UV     108.0\n",
      "       ...       ...         ... ...     ...               ...       ...\n",
      "2003887628 lbnm03030  WD1057+719 ...   G160M                UV  2800.832\n",
      "2003887617 lbnm01020 WD-1057+719 ...   G160M                UV  2850.208\n",
      "2003887627 lbnm03020  WD1057+719 ...   G160M                UV  2900.608\n",
      "2003887629 lbnm03040  WD1057+719 ...   G160M                UV   3000.64\n",
      "2003183665 lbe702ios  WD1057+719 ...   G160M                UV    3179.0\n",
      "2003887626 lbnm03010  WD1057+719 ...   G160M                UV  3200.768\n",
      "2003883731 la9r02010 WD-1057+719 ...   G160M                UV  3280.128\n",
      "2003887620 lbnm01050 WD-1057+719 ...   G160M                UV  3350.368\n",
      "2003887630 lbnm03050  WD1057+719 ...   G160M                UV    3700.8\n",
      "2003886224 lbek02010  WD1057+719 ...   G160M                UV  4250.848\n",
      "2003886225 lbek02020  WD1057+719 ...   G160M                UV    5401.6\n",
      "Length = 159 rows\n",
      "\n",
      "\n",
      "The longest exposure with the G160M filter is: \n",
      "\n",
      "  obsid      obs_id  target_name dataproduct_type instrument_name project filters wavelength_region t_exptime\n",
      "---------- --------- ----------- ---------------- --------------- ------- ------- ----------------- ---------\n",
      "2003886225 lbek02020  WD1057+719         spectrum         COS/FUV     HST   G160M                UV    5401.6\n"
     ]
    }
   ],
   "source": [
    "query_2 = Observations.query_criteria(s_ra=[165., 166.], s_dec=[+71.,+72.],\n",
    "                                        wavelength_region=\"UV\", instrument_name=[\"COS/NUV\",\"COS/FUV\"], \n",
    "                                        dataproduct_type = \"spectrum\", filters = 'G160M')\n",
    "\n",
    "# Next line just simplifies the columns of data we see to some useful data we want to look at right now\n",
    "limq2 = query_2['obsid','obs_id', 'target_name', 'dataproduct_type', 'instrument_name', 'project', 'filters', 'wavelength_region', 't_exptime'] \n",
    "sort_order = query_2.argsort('t_exptime') # This is the index list in order of exposure time, increasing\n",
    "print(limq2[sort_order])\n",
    "chosenObs = limq2[sort_order][-1] # Grab the last value of the sorted list\n",
    "print(f\"\\n\\nThe longest exposure with the G160M filter is: \\n\\n{chosenObs}\") "
   ]
  },
  {
   "cell_type": "markdown",
   "metadata": {},
   "source": [
    "#### Caution! \n",
    "<img src=./figures/warning.png width =\"60\" title=\"CAUTION\"> \n",
    "\n",
    "Please note that these queries are Astropy tables and do not always respond as expected for other data structures like Pandas DataFrames. For instance, the first way of filtering a table shown below is correct, but the second will consistently produce the *wrong result*."
   ]
  },
  {
   "cell_type": "code",
   "execution_count": 10,
   "metadata": {},
   "outputs": [
    {
     "name": "stdout",
     "output_type": "stream",
     "text": [
      "Correct way yields: \n",
      "   obs_id \n",
      "---------\n",
      "lbbd01020 \n",
      "\n",
      "\n",
      "Incorrect way yields: \n",
      " tess-s0014-4-3 \n",
      "which is NOT what we're looking for!\n"
     ]
    }
   ],
   "source": [
    "# Searching a table generated with a query\n",
    "## First correct way using masking\n",
    "mask = (query_1['obs_id'] == 'lbbd01020') # NOTE, obs_id must be lower-case\n",
    "print(\"Correct way yields: \\n\" , query_1[mask]['obs_id'],\"\\n\\n\")\n",
    "\n",
    "# Second incorrect way\n",
    "print(\"Incorrect way yields: \\n\" , query_1['obs_id' == 'LBBD01020']['obs_id'], \"\\nwhich is NOT what we're looking for!\")"
   ]
  },
  {
   "cell_type": "markdown",
   "metadata": {},
   "source": [
    "<a id=dataprodsD></a>\n",
    "## 2.3. Choosing and Downloading Data Products\n",
    "\n",
    "### Now we can choose and download our data products from the archive dataset.\n",
    "\n",
    "We will first generate a list of data products in the dataset: `product_list`."
   ]
  },
  {
   "cell_type": "code",
   "execution_count": 16,
   "metadata": {},
   "outputs": [
    {
     "data": {
      "text/html": [
       "<i>Table masked=True length=10</i>\n",
       "<table id=\"table140248137697600\" class=\"table-striped table-bordered table-condensed\">\n",
       "<thead><tr><th>obsID</th><th>obs_collection</th><th>dataproduct_type</th><th>obs_id</th><th>description</th><th>type</th><th>dataURI</th><th>productType</th><th>productGroupDescription</th><th>productSubGroupDescription</th><th>productDocumentationURL</th><th>project</th><th>prvversion</th><th>proposal_id</th><th>productFilename</th><th>size</th><th>parent_obsid</th></tr></thead>\n",
       "<thead><tr><th>str10</th><th>str3</th><th>str8</th><th>str9</th><th>str62</th><th>str1</th><th>str44</th><th>str9</th><th>str28</th><th>str9</th><th>str1</th><th>str6</th><th>str6</th><th>str5</th><th>str27</th><th>int64</th><th>str10</th></tr></thead>\n",
       "<tr><td>2003886225</td><td>HST</td><td>spectrum</td><td>lbek02020</td><td>DADS JIF file</td><td>C</td><td>mast:HST/product/lbek02020_jif.fits</td><td>AUXILIARY</td><td>--</td><td>JIF</td><td>--</td><td>CALCOS</td><td>--</td><td>12086</td><td>lbek02020_jif.fits</td><td>216000</td><td>2003886225</td></tr>\n",
       "<tr><td>2003886225</td><td>HST</td><td>spectrum</td><td>lbek02020</td><td>DADS JIT file</td><td>C</td><td>mast:HST/product/lbek02020_jit.fits</td><td>AUXILIARY</td><td>--</td><td>JIT</td><td>--</td><td>CALCOS</td><td>--</td><td>12086</td><td>lbek02020_jit.fits</td><td>279360</td><td>2003886225</td></tr>\n",
       "<tr><td>2003886225</td><td>HST</td><td>spectrum</td><td>lbek02020</td><td>DADS TRL file - Processing log</td><td>C</td><td>mast:HST/product/lbek02020_trl.fits</td><td>AUXILIARY</td><td>--</td><td>TRL</td><td>--</td><td>CALCOS</td><td>--</td><td>12086</td><td>lbek02020_trl.fits</td><td>184320</td><td>2003886225</td></tr>\n",
       "<tr><td>2003886225</td><td>HST</td><td>spectrum</td><td>lbek02020</td><td>DADS X1S file - Summed 1D spectrum COS</td><td>C</td><td>mast:HST/product/lbek02020_x1dsum1.fits</td><td>AUXILIARY</td><td>--</td><td>X1DSUM1</td><td>--</td><td>CALCOS</td><td>3.3.10</td><td>12086</td><td>lbek02020_x1dsum1.fits</td><td>1811520</td><td>2003886225</td></tr>\n",
       "<tr><td>2003886225</td><td>HST</td><td>spectrum</td><td>lbek02020</td><td>DADS X2S file - Summed 1D spectrum COS</td><td>C</td><td>mast:HST/product/lbek02020_x1dsum2.fits</td><td>AUXILIARY</td><td>--</td><td>X1DSUM2</td><td>--</td><td>CALCOS</td><td>3.3.10</td><td>12086</td><td>lbek02020_x1dsum2.fits</td><td>1811520</td><td>2003886225</td></tr>\n",
       "<tr><td>2003886225</td><td>HST</td><td>spectrum</td><td>lbek02020</td><td>DADS X3S file - Summed 1D spectrum COS</td><td>C</td><td>mast:HST/product/lbek02020_x1dsum3.fits</td><td>AUXILIARY</td><td>--</td><td>X1DSUM3</td><td>--</td><td>CALCOS</td><td>3.3.10</td><td>12086</td><td>lbek02020_x1dsum3.fits</td><td>1811520</td><td>2003886225</td></tr>\n",
       "<tr><td>2003886225</td><td>HST</td><td>spectrum</td><td>lbek02020</td><td>DADS X4S file - Summed 1D spectrum COS</td><td>C</td><td>mast:HST/product/lbek02020_x1dsum4.fits</td><td>AUXILIARY</td><td>--</td><td>X1DSUM4</td><td>--</td><td>CALCOS</td><td>3.3.10</td><td>12086</td><td>lbek02020_x1dsum4.fits</td><td>1811520</td><td>2003886225</td></tr>\n",
       "<tr><td>2003886225</td><td>HST</td><td>spectrum</td><td>lbek02020</td><td>DADS ASN file - Association ACS/WFC3/STIS</td><td>C</td><td>mast:HST/product/lbek02020_asn.fits</td><td>AUXILIARY</td><td>Minimum Recommended Products</td><td>ASN</td><td>--</td><td>CALCOS</td><td>3.3.10</td><td>12086</td><td>lbek02020_asn.fits</td><td>11520</td><td>2003886225</td></tr>\n",
       "<tr><td>2003886225</td><td>HST</td><td>spectrum</td><td>lbek02020</td><td>DADS XSM file - Calibrated combined extracted 1D spectrum COS</td><td>C</td><td>mast:HST/product/lbek02020_x1dsum.fits</td><td>SCIENCE</td><td>Minimum Recommended Products</td><td>X1DSUM</td><td>--</td><td>CALCOS</td><td>3.3.10</td><td>12086</td><td>lbek02020_x1dsum.fits</td><td>1811520</td><td>2003886225</td></tr>\n",
       "<tr><td>2003886225</td><td>HST</td><td>spectrum</td><td>lbek02020</td><td>Preview-Thumb</td><td>C</td><td>mast:HST/product/lbek02020_x1dsum_thumb.png</td><td>THUMBNAIL</td><td>--</td><td>--</td><td>--</td><td>CALCOS</td><td>3.3.10</td><td>12086</td><td>lbek02020_x1dsum_thumb.png</td><td>6480</td><td>2003886225</td></tr>\n",
       "</table>"
      ],
      "text/plain": [
       "<Table masked=True length=10>\n",
       "  obsID    obs_collection dataproduct_type ...   size  parent_obsid\n",
       "  str10         str3            str8       ...  int64     str10    \n",
       "---------- -------------- ---------------- ... ------- ------------\n",
       "2003886225            HST         spectrum ...  216000   2003886225\n",
       "2003886225            HST         spectrum ...  279360   2003886225\n",
       "2003886225            HST         spectrum ...  184320   2003886225\n",
       "2003886225            HST         spectrum ... 1811520   2003886225\n",
       "2003886225            HST         spectrum ... 1811520   2003886225\n",
       "2003886225            HST         spectrum ... 1811520   2003886225\n",
       "2003886225            HST         spectrum ... 1811520   2003886225\n",
       "2003886225            HST         spectrum ...   11520   2003886225\n",
       "2003886225            HST         spectrum ... 1811520   2003886225\n",
       "2003886225            HST         spectrum ...    6480   2003886225"
      ]
     },
     "execution_count": 16,
     "metadata": {},
     "output_type": "execute_result"
    }
   ],
   "source": [
    "product_list = Observations.get_product_list(chosenObs)\n",
    "product_list[:10] #NOT THE WHOLE THING"
   ]
  },
  {
   "cell_type": "markdown",
   "metadata": {},
   "source": [
    "Now, we will download *just the* **minimum recommended products** (*mrp*), which are the fully calibrated spectrum (denoted by the suffix `_x1d` or here `x1dsum`) and the association file (denoted by the suffix `_asn`). This association file contains no data, but rather the metadata explaining which exposures produced the `x1dsum` dataset. \n",
    "\n",
    "If we wanted to download *all* the data from the observation, including: \n",
    "- support files such as the spacecraft's pointing data over time (`jit` files).\n",
    "- intermediate data products such as calibrated TIME-TAG data (`corrtag` or `corrtag_a`/`corrtag_b` files) and extracted 1-dimensional spectra averaged over exposures with a specific `FP-POS` value (`x1dsum<n>` files).\n",
    "\n",
    "<img src=./figures/warning.png width =\"60\" title=\"CAUTION\">\n",
    "\n",
    "However, use caution with downloading all files, as in this case, setting mrp to False results in the transfer of **7 Gigabytes** of data, which can take a long time to transfer and eat away at your computer's storage! In general, only download the files you need. Since here we only need the final `x1dsum` and `asn` files, we only need to download 2 Megabytes."
   ]
  },
  {
   "cell_type": "code",
   "execution_count": 43,
   "metadata": {},
   "outputs": [
    {
     "name": "stdout",
     "output_type": "stream",
     "text": [
      "Downloading URL https://mast.stsci.edu/api/v0.1/Download/file?uri=mast:HST/product/lbek02020_asn.fits to /Users/nkerman/Projects/COS-Notebooks/DataDL/data/mastDownload/HST/lbek02020/lbek02020_asn.fits ... [Done]\n",
      "Downloading URL https://mast.stsci.edu/api/v0.1/Download/file?uri=mast:HST/product/lbek02020_x1dsum.fits to /Users/nkerman/Projects/COS-Notebooks/DataDL/data/mastDownload/HST/lbek02020/lbek02020_x1dsum.fits ... [Done]\n"
     ]
    }
   ],
   "source": [
    "downloads = Observations.download_products(product_list, download_dir=datadir , extension='fits', mrp_only=True, cache=False)"
   ]
  },
  {
   "cell_type": "markdown",
   "metadata": {},
   "source": [
    "### Exercise 2: *Download the raw counts data on TRAPPIST-1*\n",
    "\n",
    "In the previous exercise, we found an observation COS took on TRAPPIST-1 system. In case you skipped Exercise 1, the observation's Dataset ID is `LDLM40010`.\n",
    "\n",
    "Use `Astroquery.mast` to download the raw `TIME-TAG` data, rather than the x1d spectra files. See the [COS Data Handbook Ch. 2](https://hst-docs.stsci.edu/cosdhb/chapter-2-cos-data-files/2-4-cos-data-products) for details on TIME-TAG data files. Make sure to get the data from both segments of the FUV detector (i.e. both `RAWTAG_A` and `RAWTAG_B` files). If you do this correctly, there should be five data files for each detector segment.\n",
    "\n",
    "*Note that some of the obs_id may appear in the table as slightly different, i.e.: ldlm40alq and ldlm40axq, rather than ldlm40010. The main obs_id they fall under is still ldlm40010, and this will still work as a search term. They are linked together by the association file described here in section 2.3.*"
   ]
  },
  {
   "cell_type": "code",
   "execution_count": 13,
   "metadata": {},
   "outputs": [],
   "source": [
    "# Your answer here\n",
    "\n",
    "\n"
   ]
  },
  {
   "cell_type": "markdown",
   "metadata": {},
   "source": [
    "<a id=Astroquery2D></a>\n",
    "## 2.4. Using astroquery to find data on a series of sources\n",
    "In this case, we'll look for COS data around several bright globular clusters. The clusters themselves are specified by common name in the file `objectname_list.csv`."
   ]
  },
  {
   "cell_type": "code",
   "execution_count": 38,
   "metadata": {},
   "outputs": [
    {
     "name": "stdout",
     "output_type": "stream",
     "text": [
      "The input csv file contained the following sources:\n",
      " ['omega Centauri', 'M5', 'M13', 'M15', 'M53']\n"
     ]
    },
    {
     "data": {
      "text/plain": [
       "{'omega Centauri': <Table masked=True length=15>\n",
       " dataproduct_type calib_level obs_collection ...   objID1        distance     \n",
       "       str8          int64         str3      ...   str10         float64      \n",
       " ---------------- ----------- -------------- ... ---------- ------------------\n",
       "            image           2            HST ... 2051601132 293.85414993790886\n",
       "         spectrum           1            HST ... 2051499144  87.65983662909147\n",
       "         spectrum           1            HST ... 2051499146  87.65983662909147\n",
       "            image           2            HST ... 2051499158  97.04717859213693\n",
       "         spectrum           3            HST ... 2051500860  97.04717859213693\n",
       "         spectrum           3            HST ... 2051501194  94.47272986343471\n",
       "         spectrum           3            HST ... 2051504297  87.65983662909147\n",
       "         spectrum           2            HST ... 2051523715  97.04717859213693\n",
       "         spectrum           1            HST ... 2051499145  87.65983662909147\n",
       "            image           2            HST ... 2051499712  94.47272986343471\n",
       "         spectrum           3            HST ... 2051501166  94.47272986343471\n",
       "         spectrum           3            HST ... 2051501921  87.65983662909147\n",
       "            image           2            HST ... 2051509659 295.35269365022396\n",
       "            image           2            HST ... 2051524761  294.8382904103309\n",
       "         spectrum           3            HST ... 2051586072  97.04717859213693,\n",
       " 'M5': <Table masked=True length=5>\n",
       " dataproduct_type calib_level obs_collection ...   objID1        distance    \n",
       "       str8          int64         str3      ...   str10         float64     \n",
       " ---------------- ----------- -------------- ... ---------- -----------------\n",
       "         spectrum           1            HST ... 2051480229 51.62395577766772\n",
       "         spectrum           1            HST ... 2051480235 51.62395577766772\n",
       "         spectrum           1            HST ... 2051480708 51.62395577766772\n",
       "         spectrum           3            HST ... 2051577316 51.62395577766772\n",
       "         spectrum           3            HST ... 2051480715 51.62395577766772,\n",
       " 'M13': <Table masked=True length=5>\n",
       " dataproduct_type calib_level obs_collection ...   objID1        distance     \n",
       "       str8          int64         str3      ...   str10         float64      \n",
       " ---------------- ----------- -------------- ... ---------- ------------------\n",
       "         spectrum           3            HST ... 2051477614 130.64769900053992\n",
       "         spectrum           1            HST ... 2051476243 130.64769900000118\n",
       "         spectrum           3            HST ... 2051477409 130.64769900053992\n",
       "         spectrum           1            HST ... 2051478513 130.64769900000118\n",
       "         spectrum           1            HST ... 2051476339 130.64769900000118,\n",
       " 'M15': <Table masked=True length=10>\n",
       " dataproduct_type calib_level obs_collection ...   objID1        distance     \n",
       "       str8          int64         str3      ...   str10         float64      \n",
       " ---------------- ----------- -------------- ... ---------- ------------------\n",
       "         spectrum           1            HST ... 2051477547 27.096650306913773\n",
       "         spectrum           3            HST ... 2051477896  99.67537720435718\n",
       "         spectrum           3            HST ... 2051477654  27.09665030692082\n",
       "         spectrum           1            HST ... 2051476235  99.67537720410724\n",
       "         spectrum           1            HST ... 2051476246  99.67537720410724\n",
       "         spectrum           1            HST ... 2051476332 27.096650306913773\n",
       "         spectrum           1            HST ... 2051476333  99.67537720410724\n",
       "         spectrum           1            HST ... 2051477549 27.096650306913773\n",
       "         spectrum           3            HST ... 2051477621  27.09665030692082\n",
       "         spectrum           3            HST ... 2051486300  99.67537720435718,\n",
       " 'M53': <Table masked=True length=3>\n",
       " dataproduct_type calib_level obs_collection ...   objID1        distance    \n",
       "       str8          int64         str3      ...   str10         float64     \n",
       " ---------------- ----------- -------------- ... ---------- -----------------\n",
       "         spectrum           3            HST ... 2051565593 261.1902814694652\n",
       "            image           2            HST ... 2051562057  263.628661035198\n",
       "         spectrum           3            HST ... 2051565709 261.1902814694652}"
      ]
     },
     "execution_count": 38,
     "metadata": {},
     "output_type": "execute_result"
    }
   ],
   "source": [
    "with open('./objectname_list.csv', 'r', newline = '') as csvFile:\n",
    "    objList = list(reader(csvFile, delimiter = ','))[0]\n",
    "\n",
    "print(\"The input csv file contained the following sources:\\n\", objList)\n",
    "\n",
    "globular_cluster_queries = {}\n",
    "for obj in objList:\n",
    "    query_x = Observations.query_criteria(objectname = obj, radius = \"5 min\", instrument_name=['COS/FUV', 'COS/NUV'])\n",
    "    globular_cluster_queries[obj] = (query_x)\n",
    "    \n",
    "globular_cluster_queries"
   ]
  },
  {
   "cell_type": "markdown",
   "metadata": {},
   "source": [
    "#### Excellent! You've now done the hardest part - finding and downloading the right data. From here, it's generally straightforward to read in and plot the spectrum. We recommend you look into our tutorial on [Viewing a COS Spectrum](#NEEDSLINK)."
   ]
  },
  {
   "cell_type": "markdown",
   "metadata": {},
   "source": [
    "## Congratulations! You finished this notebook!\n",
    "### There are more COS data walkthrough notebooks on different topics. You can find them [here](https://github.com/spacetelescope/COS-Notebooks)."
   ]
  },
  {
   "cell_type": "markdown",
   "metadata": {},
   "source": [
    "\n",
    "---\n",
    "## About this Notebook\n",
    "**Author:** [Nat Kerman](nkerman@stsci.edu)\n",
    "**Updated On:** 2020-10-28\n",
    "\n",
    "> *This tutorial was generated to be in compliance with the [STScI style guides](https://github.com/spacetelescope/style-guides) and would like to cite the [Jupyter guide](https://github.com/spacetelescope/style-guides/blob/master/templates/example_notebook.ipynb) in particular.*\n",
    "\n",
    "## Citations\n",
    "\n",
    "If you use `astropy`, `matplotlib`, `astroquery`, or `numpy` for published research, please cite the\n",
    "authors. Follow these links for more information about citations:\n",
    "\n",
    "* [Citing `astropy`/`numpy`/`matplotlib`](https://www.scipy.org/citing.html)\n",
    "* [Citing `astroquery`](https://astroquery.readthedocs.io/en/latest/)\n",
    "\n",
    "---\n",
    "\n",
    "[Top of Page](#topD)\n",
    "<img style=\"float: right;\" src=\"https://raw.githubusercontent.com/spacetelescope/notebooks/master/assets/stsci_pri_combo_mark_horizonal_white_bkgd.png\" alt=\"Space Telescope Logo\" width=\"200px\"/> \n",
    "\n",
    "<br></br>\n",
    "<br></br>\n",
    "<br></br>"
   ]
  },
  {
   "cell_type": "markdown",
   "metadata": {},
   "source": [
    "## Exercise Solutions:\n",
    "Note, that for many of these, there are multiple ways to get an answer."
   ]
  },
  {
   "cell_type": "code",
   "execution_count": 40,
   "metadata": {},
   "outputs": [
    {
     "name": "stdout",
     "output_type": "stream",
     "text": [
      "The TRAPPIST-1 COS data is in dataset LDLM40010, taken with an exosure time of 12403.904\n"
     ]
    }
   ],
   "source": [
    "## Ex. 1 soln:\n",
    "dataset_id_ = 'LDLM40010'\n",
    "exptime_ = 12403.904\n",
    "print(f\"The TRAPPIST-1 COS data is in dataset {dataset_id_}, taken with an exosure time of {exptime_}\")"
   ]
  },
  {
   "cell_type": "code",
   "execution_count": 49,
   "metadata": {},
   "outputs": [
    {
     "name": "stdout",
     "output_type": "stream",
     "text": [
      "Downloading URL https://mast.stsci.edu/api/v0.1/Download/file?uri=mast:HST/product/ldlm40alq_rawtag_a.fits to /Users/nkerman/Projects/COS-Notebooks/DataDL/data/Ex2/mastDownload/HST/ldlm40alq/ldlm40alq_rawtag_a.fits ... [Done]\n",
      "Downloading URL https://mast.stsci.edu/api/v0.1/Download/file?uri=mast:HST/product/ldlm40axq_rawtag_a.fits to /Users/nkerman/Projects/COS-Notebooks/DataDL/data/Ex2/mastDownload/HST/ldlm40axq/ldlm40axq_rawtag_a.fits ... [Done]\n",
      "Downloading URL https://mast.stsci.edu/api/v0.1/Download/file?uri=mast:HST/product/ldlm40blq_rawtag_a.fits to /Users/nkerman/Projects/COS-Notebooks/DataDL/data/Ex2/mastDownload/HST/ldlm40blq/ldlm40blq_rawtag_a.fits ... [Done]\n",
      "Downloading URL https://mast.stsci.edu/api/v0.1/Download/file?uri=mast:HST/product/ldlm40c2q_rawtag_a.fits to /Users/nkerman/Projects/COS-Notebooks/DataDL/data/Ex2/mastDownload/HST/ldlm40c2q/ldlm40c2q_rawtag_a.fits ... [Done]\n",
      "Downloading URL https://mast.stsci.edu/api/v0.1/Download/file?uri=mast:HST/product/ldlm40d2q_rawtag_a.fits to /Users/nkerman/Projects/COS-Notebooks/DataDL/data/Ex2/mastDownload/HST/ldlm40d2q/ldlm40d2q_rawtag_a.fits ... [Done]\n",
      "Downloading URL https://mast.stsci.edu/api/v0.1/Download/file?uri=mast:HST/product/ldlm40alq_rawtag_b.fits to /Users/nkerman/Projects/COS-Notebooks/DataDL/data/Ex2/mastDownload/HST/ldlm40alq/ldlm40alq_rawtag_b.fits ... [Done]\n",
      "Downloading URL https://mast.stsci.edu/api/v0.1/Download/file?uri=mast:HST/product/ldlm40axq_rawtag_b.fits to /Users/nkerman/Projects/COS-Notebooks/DataDL/data/Ex2/mastDownload/HST/ldlm40axq/ldlm40axq_rawtag_b.fits ... [Done]\n",
      "Downloading URL https://mast.stsci.edu/api/v0.1/Download/file?uri=mast:HST/product/ldlm40blq_rawtag_b.fits to /Users/nkerman/Projects/COS-Notebooks/DataDL/data/Ex2/mastDownload/HST/ldlm40blq/ldlm40blq_rawtag_b.fits ... [Done]\n",
      "Downloading URL https://mast.stsci.edu/api/v0.1/Download/file?uri=mast:HST/product/ldlm40c2q_rawtag_b.fits to /Users/nkerman/Projects/COS-Notebooks/DataDL/data/Ex2/mastDownload/HST/ldlm40c2q/ldlm40c2q_rawtag_b.fits ... [Done]\n",
      "Downloading URL https://mast.stsci.edu/api/v0.1/Download/file?uri=mast:HST/product/ldlm40d2q_rawtag_b.fits to /Users/nkerman/Projects/COS-Notebooks/DataDL/data/Ex2/mastDownload/HST/ldlm40d2q/ldlm40d2q_rawtag_b.fits ... [Done]\n",
      "Downloading URL https://mast.stsci.edu/api/v0.1/Download/file?uri=mast:HST/product/ldlm40010_asn.fits to /Users/nkerman/Projects/COS-Notebooks/DataDL/data/Ex2/mastDownload/HST/ldlm40010/ldlm40010_asn.fits ... [Done]\n",
      "Downloading URL https://mast.stsci.edu/api/v0.1/Download/file?uri=mast:HST/product/ldlm40010_x1dsum.fits to /Users/nkerman/Projects/COS-Notebooks/DataDL/data/Ex2/mastDownload/HST/ldlm40010/ldlm40010_x1dsum.fits ... [Done]\n",
      "   MEMNAME        MEMTYPE     MEMPRSNT\n",
      "-------------- -------------- --------\n",
      "     LDLM40ALQ         EXP-FP        1\n",
      "     LDLM40AXQ         EXP-FP        1\n",
      "     LDLM40BLQ         EXP-FP        1\n",
      "     LDLM40C2Q         EXP-FP        1\n",
      "     LDLM40D2Q         EXP-FP        1\n",
      "     LDLM40010        PROD-FP        1\n"
     ]
    }
   ],
   "source": [
    "## Ex. 2 soln:\n",
    "query_3 = Observations.query_criteria(obs_id = 'LDLM40010',\n",
    "                                        wavelength_region=\"UV\", instrument_name=\"COS/FUV\", filters = 'G130M')\n",
    "\n",
    "product_list2 = Observations.get_product_list(query_3)\n",
    "rawRowsA = np.where(product_list2['productSubGroupDescription'] == \"RAWTAG_A\")\n",
    "rawRowsB = np.where(product_list2['productSubGroupDescription'] == \"RAWTAG_B\")\n",
    "rawRows = np.append(rawRowsA,rawRowsB)\n",
    "!mkdir ./data/Ex2/\n",
    "downloads2 = Observations.download_products(product_list2[rawRows], download_dir=datadir+'Ex2/' , extension='fits', mrp_only=False, cache=True)\n",
    "downloads3 = Observations.download_products(product_list2, download_dir=datadir+'Ex2/' , extension='fits', mrp_only=True, cache=True)\n",
    "\n",
    "asn_data = Table.read('./data/Ex2/mastDownload/HST/ldlm40010/ldlm40010_asn.fits', hdu = 1)\n",
    "print(asn_data)"
   ]
  }
 ],
 "metadata": {
  "kernelspec": {
   "display_name": "Python 3",
   "language": "python",
   "name": "python3"
  },
  "language_info": {
   "codemirror_mode": {
    "name": "ipython",
    "version": 3
   },
   "file_extension": ".py",
   "mimetype": "text/x-python",
   "name": "python",
   "nbconvert_exporter": "python",
   "pygments_lexer": "ipython3",
   "version": "3.6.12"
  }
 },
 "nbformat": 4,
 "nbformat_minor": 4
}
