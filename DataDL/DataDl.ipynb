{
 "cells": [
  {
   "cell_type": "markdown",
   "metadata": {},
   "source": [
    "<a id=\"topD\"></a>\n",
    "\n",
    "# Viewing COS Data\n",
    "\n",
    "# Learning Goals\n",
    "### This Notebook is designed to walk the user (*you*) through:\n",
    "#### - **Downloading Existing Cosmic Origins Spectrograph (*COS*) data from the online archive**\n",
    "   - [**Using the web browser interface**](#mastD)\n",
    "   - [**Using the command line interface and the `Python` module `Astroquery`**](#astroqueryD)\n",
    "\n",
    "# 0. Introduction\n",
    "#### The Cosmic Origins Spectrograph ([*COS*](https://www.nasa.gov/content/hubble-space-telescope-cosmic-origins-spectrograph)) is an ultraviolet spectrograph on-board the Hubble Space Telescope([*HST*](https://www.stsci.edu/hst/about)) with capabilities in the near ultraviolet (*NUV*) and far ultraviolet (*FUV*).\n",
    "\n",
    "#### This tutorial aims to prepare you to access the existing COS data of your choice by walking you through downloading a processed spectrum, as well as various calibration files obtained with COS.\n",
    "\n",
    "- For an in-depth manual to working with COS data and a discussion of caveats and user tips, see the [COS Data Handbook](https://hst-docs.stsci.edu/display/COSDHB/).\n",
    "- For a detailed overview of the COS instrument, see the [COS Instrument Handbook](https://hst-docs.stsci.edu/display/COSIHB/).\n"
   ]
  },
  {
   "cell_type": "markdown",
   "metadata": {},
   "source": [
    "## We will import the following packages:\n",
    "\n",
    "- numpy to handle array functions\n",
    "- astropy.io fits for accessing FITS files\n",
    "- astropy.table Table for creating tidy tables of the data\n",
    "- astropy.units and astropy.visualization.quantity_support for dealing with units\n",
    "- matplotlib.pyplot for plotting data\n",
    "- astroquery.mast Mast and Observations for finding and downloading data from the [MAST](https://mast.stsci.edu/portal/Mashup/Clients/Mast/Portal.html) archive"
   ]
  },
  {
   "cell_type": "code",
   "execution_count": 1,
   "metadata": {},
   "outputs": [],
   "source": [
    "#Make matplotlib look good in a notebook\n",
    "%matplotlib inline\n",
    "# Manipulating arrays\n",
    "import numpy as np\n",
    "# Reading in data\n",
    "from astropy.table import Table\n",
    "\n",
    "# Downloading data from archive\n",
    "from astroquery.mast import Mast\n",
    "from astroquery.mast import Observations\n",
    "from astroquery.mast import Catalogs"
   ]
  },
  {
   "cell_type": "markdown",
   "metadata": {},
   "source": [
    "## We will also define a few directories in which to place our data."
   ]
  },
  {
   "cell_type": "code",
   "execution_count": 2,
   "metadata": {},
   "outputs": [
    {
     "name": "stdout",
     "output_type": "stream",
     "text": [
      "mkdir: ./data: File exists\n"
     ]
    }
   ],
   "source": [
    "# These will be important directories for the notebook\n",
    "cwd = !pwd\n",
    "cwd = cwd[0]\n",
    "!mkdir ./data\n",
    "datadir = cwd + '/data/'"
   ]
  },
  {
   "cell_type": "markdown",
   "metadata": {},
   "source": [
    "<a id=\"downloadD\"></a>\n",
    "# 1. Downloading the Data through the Browser interface\n",
    "\n",
    "One can search for COS data from both a browser-based gui and a command-line `Python` library.\n",
    "\n",
    "##### *A more in-depth MAST archive tutorial can be found [here](https://mast.stsci.edu/api/v0/MastApiTutorial.html).*\n",
    "\n",
    "<a id=\"mastD\"></a>\n",
    "## 1.1 The MAST Web Search\n",
    "A browser gui for searching HST archival data can be found [here](http://archive.stsci.edu/hst/search.php).\n",
    "\n",
    "The search page is laid out as in fig. 1.1:\n",
    "### Fig 1.1\n",
    "<center><img src=./figures/Mast_hst_searchformQSO.png width =\"900\" title=\"MAST Archive search form for a COS data query\"> </center>\n",
    "\n",
    "where here we have indicated we would like to find all archival science data from the **COS far-ultraviolet (FUV) configuration**, taken with any grating while looking at Quasi-Stellar Objects (QSO) within a 3 arcminute radius of (1hr:37':40\", +33d 09m 32s). The output columns we have selected to see are visible in the bottom left of Fig 1.1.\n",
    "\n",
    "Note that if you have a list of coordinates, Observation ID(s), etc. for a series of targets you can click on the \"File Upload Form\" and attach your list of OBSIDs or identifying features. Then specify which type of data your list contains using the \"File Contents\" drop-down menu.\n",
    "\n",
    "Figure 1.2 shows the results of our search shown in Fig 1.1.\n",
    "### Fig 1.2\n",
    "<center><img src=figures/QSO_MastSearchRes.png width =\"900\" title=\"MAST Archive search results for a COS data query\"> </center>\n",
    "\n",
    "\n",
    "#### We now choose our dataset.\n",
    "We select LCXV13050 because of its long exposure time, taken under an calibration program described as:\n",
    "> \"Project AMIGA: Mapping the Circumgalactic Medium of Andromeda\"\n",
    "\n",
    "This is a Quasar known as [3C48](http://simbad.u-strasbg.fr/simbad/sim-basic?Ident=3c48&submit=SIMBAD+search), one of the first quasars discovered."
   ]
  },
  {
   "cell_type": "markdown",
   "metadata": {},
   "source": [
    "Clicking on the dataset, we are taken to a page displaying a preview spectrum (Fig 1.3).\n",
    "### Fig 1.3\n",
    "\n",
    "<center><img src=./figures/QSOPreviewSpec.png width =\"900\" title=\"MAST Archive preview spectrum of LCXV13050\"> </center>\n",
    "\n",
    "We now return to the [search page](http://archive.stsci.edu/hst/search.php) and enter in LCXV13050 under \"Dataset\" with no other parameters set. Hitting search, now we see a single-rowed table with *just* our dataset, and the option to download datasets. We mark the row we wish to download and click \"Submit marked data for retrieval from STDADS\". See Fig 1.4.\n",
    "\n",
    "### Fig. 1.4\n",
    "\n",
    "<center><img src =figures/LCXV13050_res.png width =\"900\" title=\"MAST Archive dataset overview of LCXV13050\"> </center>\n",
    "\n",
    "Now we see a page like in Fig 1.5, where we can either sign in with STScI credentials, or simply provide our email to proceed (relatively) anonymously. Make sure to select \"Deliver the data to the Archive staging area\". Hit \"Send Retrieval Request to STDADS\" and you will recieve an email with instructions on downloading with ftp. You will need to do this step from the command line.\n",
    "\n",
    "### Fig. 1.5\n",
    "<center><img src =figures/DownloadOptions.png width =\"900\" title=\"Download Options for LCXV13050\"> </center>\n",
    "\n",
    "In the case of this request, the command to retrieve the data was:\n",
    ">`wget -r --ftp-user=anonymous --ask-password ftps://archive.stsci.edu/stage/anonymous/anonymous42822 --directory-prefix=datadir`\n",
    "\n",
    "where the password was the email address used, and datadir is the directory defined at the beginning of this notebook.. Now all the data is in a subdirectory `\"/archive.stsci.edu/stage/anonymous/anonymous42822/\"`\n",
    "\n",
    "#### Well Done!\n"
   ]
  },
  {
   "cell_type": "markdown",
   "metadata": {},
   "source": [
    "### Exercise 1: *Searching the archive for TRAPPIST-1 data*\n",
    "\n",
    "[TRAPPIST-1](https://en.wikipedia.org/wiki/TRAPPIST-1) is a cool red dwarf with a multiple-exoplanet system. \n",
    "- Find its coordinates using the [SIMBAD Basic Search](http://simbad.u-strasbg.fr/simbad/sim-fbasic).\n",
    "- Use those coordinates in the [MAST web search](https://archive.stsci.edu/hst/search.php) to find all COS exposures of the system.\n",
    "- Limit the search terms to find the COS dataset taken in the COS far-UV configuration with the grating G130M.\n",
    "\n",
    "#### What is the dataset ID, and how long was the exposure?\n",
    "\n",
    "Place your answer in the cell below."
   ]
  },
  {
   "cell_type": "code",
   "execution_count": 3,
   "metadata": {},
   "outputs": [],
   "source": [
    "# Your answer here\n",
    "\n"
   ]
  },
  {
   "cell_type": "markdown",
   "metadata": {},
   "source": [
    "## 1.2. Searching for a series of observations\n",
    "\n",
    "Now let's try using the web interface's [file upload form](http://archive.stsci.edu/hst/search.php?form=fuf) to search for a series of observations by their dataset IDs. We're going to look for three observations of the same object, the white dwarf WD1057+719, taken with three different COS gratings. Two are in the FUV and one in the NUV. The dataset IDs are\n",
    "- LDYR52010\n",
    "- LBNM01040\n",
    "- LBBD04040\n",
    "\n",
    "We make a comma-separated-value txt file with these three obs_ids, and save it as `obsId_list.txt`. Then we link to this file under the **Local File Name** browse menu on the file upload form. We must set the **File Contents** term to Data ID, as that is the identifier we have provided in our file, and we change the **delimiter** to a comma.\n",
    "Because we are searching by Dataset ID, we don't need to specify any additional parameters to narrow down the data.\n",
    "\n",
    "### Fig 1.6\n",
    "<center><img src =figures/FUF_search.png width =\"900\" title=\"File Upload Search Form\"> </center>\n",
    "\n",
    "#### Perfect! We now can access all the datasets, as shown in Fig. 1.7:\n",
    "\n",
    "## Fig. 1.7\n",
    "<center><img src =figures/FUF_res.png width =\"900\" title=\"File Upload Search Results\"> </center>\n",
    "\n",
    "Now, to download all of the relavent files, we can check the **mark** box for all of them, and again hit  \"Submit marked data for retrieval from STDADS\". This time, we want to retrieve **all the calibration files** associated with each dataset, so we check the following boxes:\n",
    "- Uncalibrated\n",
    "- Calibrated\n",
    "- Used Reference Files\n",
    "See Fig. 1.8\n",
    "\n",
    "### Fig 1.8\n",
    "<center><img src =./figures/DownloadOptions_FUF.png width =\"900\" title=\"Download Options for multiple datasets\"> </center>\n",
    "\n",
    "\n",
    "The procedure from here is the same described above in Section 1.1. Now, when we download with wget, we obtain multiple subdirectories with each dataset separated."
   ]
  },
  {
   "cell_type": "markdown",
   "metadata": {},
   "source": [
    "<a id = astroqueryD></a>\n",
    "# 2. Downloading the data with astroquery.mast\n",
    "Another way to search for and download archived datasets is within `Python` using the module [`astroquery.mast`](https://astroquery.readthedocs.io/en/latest/mast/mast.html). We have already imported 2 of this module's key tools: `Observations` and `Mast`.\n",
    "\n",
    "There are *many* options for searching the archive with astroquery, but we will begin with a very general search using the coordinates we found for WD1057+719 in the last section to find the dataset with the longest exposure time using the G160M filter. \n",
    "- Our coordinates were:      (11:00:34.126 +71:38:02.80). \n",
    "    - We can search these coordinates as sexagesimal coordinates, or convert them to decimal degrees."
   ]
  },
  {
   "cell_type": "code",
   "execution_count": 4,
   "metadata": {},
   "outputs": [],
   "source": [
    "query_1 = Observations.query_object(\"11:00:34.126 +71:38:02.80\", radius=\"5 sec\")"
   ]
  },
  {
   "cell_type": "markdown",
   "metadata": {},
   "source": [
    "This command has generated a table of objects called **\"query_1\"**. We can see what information we have on the objects in the table by printing its *`keys`*, and see how many objects are in the table with `len(query_1)`."
   ]
  },
  {
   "cell_type": "code",
   "execution_count": 5,
   "metadata": {},
   "outputs": [
    {
     "name": "stdout",
     "output_type": "stream",
     "text": [
      "We have table information on 708 observations in the following categories/columns:\n",
      "\n"
     ]
    },
    {
     "data": {
      "text/plain": [
       "['intentType',\n",
       " 'obs_collection',\n",
       " 'provenance_name',\n",
       " 'instrument_name',\n",
       " 'project',\n",
       " 'filters',\n",
       " 'wavelength_region',\n",
       " 'target_name',\n",
       " 'target_classification',\n",
       " 'obs_id',\n",
       " 's_ra',\n",
       " 's_dec',\n",
       " 'dataproduct_type',\n",
       " 'proposal_pi',\n",
       " 'calib_level',\n",
       " 't_min',\n",
       " 't_max',\n",
       " 't_exptime',\n",
       " 'em_min',\n",
       " 'em_max',\n",
       " 'obs_title',\n",
       " 't_obs_release',\n",
       " 'proposal_id',\n",
       " 'proposal_type',\n",
       " 'sequence_number',\n",
       " 's_region',\n",
       " 'jpegURL',\n",
       " 'dataURL',\n",
       " 'dataRights',\n",
       " 'mtFlag',\n",
       " 'srcDen',\n",
       " 'obsid',\n",
       " 'distance']"
      ]
     },
     "execution_count": 5,
     "metadata": {},
     "output_type": "execute_result"
    }
   ],
   "source": [
    "print(f\"We have table information on {len(query_1)} observations in the following categories/columns:\\n\")\n",
    "q1_keys = (query_1.keys())\n",
    "q1_keys"
   ]
  },
  {
   "cell_type": "markdown",
   "metadata": {},
   "source": [
    "#### Now we narrow down a bit with some additional parameters (wavelength_region,instrument_name and configuration, dataproduct_type), and sort by exposure time:"
   ]
  },
  {
   "cell_type": "code",
   "execution_count": 6,
   "metadata": {},
   "outputs": [
    {
     "name": "stdout",
     "output_type": "stream",
     "text": [
      "  obsid      obs_id  target_name ... filters wavelength_region t_exptime\n",
      "---------- --------- ----------- ... ------- ----------------- ---------\n",
      "2003183667 lbe702iqs  WD1057+719 ...   G160M                UV       1.0\n",
      "2003183129 lbb916lbq  WD1057+719 ...   G160M                UV       1.0\n",
      "2003183190 lbb9x3ckq  WD1057+719 ...   G160M                UV       1.0\n",
      "2003177779 la9r02dfq WD-1057+719 ...   G160M                UV       1.0\n",
      "2003183137 lbb917k7q  WD1057+719 ...   G160M                UV       1.0\n",
      "2003183145 lbb918scq  WD1057+719 ...   G160M                UV       1.0\n",
      "2003177778 la9r02deq WD-1057+719 ...   G160M                UV     108.0\n",
      "2003183144 lbb918sbq  WD1057+719 ...   G160M                UV     108.0\n",
      "2003183136 lbb917k6q  WD1057+719 ...   G160M                UV     108.0\n",
      "2003183128 lbb916laq  WD1057+719 ...   G160M                UV     108.0\n",
      "       ...       ...         ... ...     ...               ...       ...\n",
      "2003887628 lbnm03030  WD1057+719 ...   G160M                UV  2800.832\n",
      "2003887617 lbnm01020 WD-1057+719 ...   G160M                UV  2850.208\n",
      "2003887627 lbnm03020  WD1057+719 ...   G160M                UV  2900.608\n",
      "2003887629 lbnm03040  WD1057+719 ...   G160M                UV   3000.64\n",
      "2003183665 lbe702ios  WD1057+719 ...   G160M                UV    3179.0\n",
      "2003887626 lbnm03010  WD1057+719 ...   G160M                UV  3200.768\n",
      "2003883731 la9r02010 WD-1057+719 ...   G160M                UV  3280.128\n",
      "2003887620 lbnm01050 WD-1057+719 ...   G160M                UV  3350.368\n",
      "2003887630 lbnm03050  WD1057+719 ...   G160M                UV    3700.8\n",
      "2003886224 lbek02010  WD1057+719 ...   G160M                UV  4250.848\n",
      "2003886225 lbek02020  WD1057+719 ...   G160M                UV    5401.6\n",
      "Length = 159 rows\n",
      "\n",
      "\n",
      "The longest exposure with the G160M filter is: \n",
      "  obsid      obs_id  target_name dataproduct_type instrument_name project filters wavelength_region t_exptime\n",
      "---------- --------- ----------- ---------------- --------------- ------- ------- ----------------- ---------\n",
      "2003886225 lbek02020  WD1057+719         spectrum         COS/FUV     HST   G160M                UV    5401.6\n"
     ]
    }
   ],
   "source": [
    "query_2 = Observations.query_criteria(s_ra=[165., 166.], s_dec=[+71.,+72.],\n",
    "                                        wavelength_region=\"UV\", instrument_name=[\"COS/NUV\",\"COS/FUV\"], \n",
    "                                        dataproduct_type = \"spectrum\", filters = 'G160M')\n",
    "\n",
    "limq2 = query_2['obsid','obs_id', 'target_name', 'dataproduct_type', 'instrument_name', 'project', 'filters', 'wavelength_region', 't_exptime'] # This just simplifies the columns of data we see to some useful data we want to look at right now\n",
    "sort_order = query_2.argsort('t_exptime') # This is the index list in order of exposure time, increasing\n",
    "print(limq2[sort_order])\n",
    "chosenObs = limq2[sort_order][-1] # Grab the last value of the sorted list\n",
    "print(f\"\\n\\nThe longest exposure with the G160M filter is: \\n{chosenObs}\") "
   ]
  },
  {
   "cell_type": "markdown",
   "metadata": {},
   "source": [
    "#### Caution! \n",
    "<img src=./figures/warning.png width =\"60\" title=\"MAST Archive preview spectrum of LBBD01020\"> \n",
    "\n",
    "Please note that these queries are Astropy tables and do not always respond as expected for other data structures like Pandas DataFrames. For instance, the first way of filtering a table shown below is correct, but the second will consistently produce the *wrong result*."
   ]
  },
  {
   "cell_type": "code",
   "execution_count": 7,
   "metadata": {},
   "outputs": [
    {
     "name": "stdout",
     "output_type": "stream",
     "text": [
      "Correct way yields: \n",
      "   obs_id \n",
      "---------\n",
      "lbbd01020 \n",
      "\n",
      "\n",
      "Incorrect way yields: \n",
      " tess-s0014-4-3 \n",
      "which is NOT what we're looking for\n"
     ]
    }
   ],
   "source": [
    "# Searching a table generated with a query\n",
    "## First correct way using masking\n",
    "mask = (query_1['obs_id'] == 'lbbd01020') # NOTE, obs_id must be lower-case\n",
    "print(\"Correct way yields: \\n\" , query_1[mask]['obs_id'],\"\\n\\n\")\n",
    "\n",
    "# Second incorrect way\n",
    "print(\"Incorrect way yields: \\n\" , query_1['obs_id' == 'LBBD01020']['obs_id'], \"\\nwhich is NOT what we're looking for\")"
   ]
  },
  {
   "cell_type": "markdown",
   "metadata": {},
   "source": [
    "### Now we can choose and download our data products from the archive dataset.\n",
    "\n",
    "We will first generate a list of data products in the dataset: `product_list`. Then we will download *just the* **minimum recommended products**, which are the fully calibrated spectrum (denoted by the suffix `_x1d` or here `x1dsum`) and the association file (denoted by the suffix `_asn`)."
   ]
  },
  {
   "cell_type": "code",
   "execution_count": 8,
   "metadata": {},
   "outputs": [
    {
     "data": {
      "text/html": [
       "<i>Table masked=True length=118</i>\n",
       "<table id=\"table140521820373232\" class=\"table-striped table-bordered table-condensed\">\n",
       "<thead><tr><th>obsID</th><th>obs_collection</th><th>dataproduct_type</th><th>obs_id</th><th>description</th><th>type</th><th>dataURI</th><th>productType</th><th>productGroupDescription</th><th>productSubGroupDescription</th><th>productDocumentationURL</th><th>project</th><th>prvversion</th><th>proposal_id</th><th>productFilename</th><th>size</th><th>parent_obsid</th></tr></thead>\n",
       "<thead><tr><th>str10</th><th>str3</th><th>str8</th><th>str9</th><th>str62</th><th>str1</th><th>str44</th><th>str9</th><th>str28</th><th>str9</th><th>str1</th><th>str6</th><th>str5</th><th>str5</th><th>str27</th><th>int64</th><th>str10</th></tr></thead>\n",
       "<tr><td>2003886225</td><td>HST</td><td>spectrum</td><td>lbek02020</td><td>DADS JIF file</td><td>C</td><td>mast:HST/product/lbek02020_jif.fits</td><td>AUXILIARY</td><td>--</td><td>JIF</td><td>--</td><td>CALCOS</td><td>--</td><td>12086</td><td>lbek02020_jif.fits</td><td>216000</td><td>2003886225</td></tr>\n",
       "<tr><td>2003886225</td><td>HST</td><td>spectrum</td><td>lbek02020</td><td>DADS JIT file</td><td>C</td><td>mast:HST/product/lbek02020_jit.fits</td><td>AUXILIARY</td><td>--</td><td>JIT</td><td>--</td><td>CALCOS</td><td>--</td><td>12086</td><td>lbek02020_jit.fits</td><td>279360</td><td>2003886225</td></tr>\n",
       "<tr><td>2003886225</td><td>HST</td><td>spectrum</td><td>lbek02020</td><td>DADS TRL file - Processing log</td><td>C</td><td>mast:HST/product/lbek02020_trl.fits</td><td>AUXILIARY</td><td>--</td><td>TRL</td><td>--</td><td>CALCOS</td><td>--</td><td>12086</td><td>lbek02020_trl.fits</td><td>184320</td><td>2003886225</td></tr>\n",
       "<tr><td>2003886225</td><td>HST</td><td>spectrum</td><td>lbek02020</td><td>DADS X1S file - Summed 1D spectrum COS</td><td>C</td><td>mast:HST/product/lbek02020_x1dsum1.fits</td><td>AUXILIARY</td><td>--</td><td>X1DSUM1</td><td>--</td><td>CALCOS</td><td>3.3.9</td><td>12086</td><td>lbek02020_x1dsum1.fits</td><td>1287360</td><td>2003886225</td></tr>\n",
       "<tr><td>2003886225</td><td>HST</td><td>spectrum</td><td>lbek02020</td><td>DADS X2S file - Summed 1D spectrum COS</td><td>C</td><td>mast:HST/product/lbek02020_x1dsum2.fits</td><td>AUXILIARY</td><td>--</td><td>X1DSUM2</td><td>--</td><td>CALCOS</td><td>3.3.9</td><td>12086</td><td>lbek02020_x1dsum2.fits</td><td>1287360</td><td>2003886225</td></tr>\n",
       "<tr><td>2003886225</td><td>HST</td><td>spectrum</td><td>lbek02020</td><td>DADS X3S file - Summed 1D spectrum COS</td><td>C</td><td>mast:HST/product/lbek02020_x1dsum3.fits</td><td>AUXILIARY</td><td>--</td><td>X1DSUM3</td><td>--</td><td>CALCOS</td><td>3.3.9</td><td>12086</td><td>lbek02020_x1dsum3.fits</td><td>1287360</td><td>2003886225</td></tr>\n",
       "<tr><td>2003886225</td><td>HST</td><td>spectrum</td><td>lbek02020</td><td>DADS X4S file - Summed 1D spectrum COS</td><td>C</td><td>mast:HST/product/lbek02020_x1dsum4.fits</td><td>AUXILIARY</td><td>--</td><td>X1DSUM4</td><td>--</td><td>CALCOS</td><td>3.3.9</td><td>12086</td><td>lbek02020_x1dsum4.fits</td><td>1287360</td><td>2003886225</td></tr>\n",
       "<tr><td>2003886225</td><td>HST</td><td>spectrum</td><td>lbek02020</td><td>DADS ASN file - Association ACS/WFC3/STIS</td><td>C</td><td>mast:HST/product/lbek02020_asn.fits</td><td>AUXILIARY</td><td>Minimum Recommended Products</td><td>ASN</td><td>--</td><td>CALCOS</td><td>3.3.9</td><td>12086</td><td>lbek02020_asn.fits</td><td>11520</td><td>2003886225</td></tr>\n",
       "<tr><td>2003886225</td><td>HST</td><td>spectrum</td><td>lbek02020</td><td>DADS XSM file - Calibrated combined extracted 1D spectrum COS</td><td>C</td><td>mast:HST/product/lbek02020_x1dsum.fits</td><td>SCIENCE</td><td>Minimum Recommended Products</td><td>X1DSUM</td><td>--</td><td>CALCOS</td><td>3.3.9</td><td>12086</td><td>lbek02020_x1dsum.fits</td><td>1287360</td><td>2003886225</td></tr>\n",
       "<tr><td>2003886225</td><td>HST</td><td>spectrum</td><td>lbek02020</td><td>Preview-Thumb</td><td>C</td><td>mast:HST/product/lbek02020_x1dsum_thumb.png</td><td>THUMBNAIL</td><td>--</td><td>--</td><td>--</td><td>CALCOS</td><td>3.3.9</td><td>12086</td><td>lbek02020_x1dsum_thumb.png</td><td>6474</td><td>2003886225</td></tr>\n",
       "<tr><td>...</td><td>...</td><td>...</td><td>...</td><td>...</td><td>...</td><td>...</td><td>...</td><td>...</td><td>...</td><td>...</td><td>...</td><td>...</td><td>...</td><td>...</td><td>...</td><td>...</td></tr>\n",
       "<tr><td>2003183780</td><td>HST</td><td>spectrum</td><td>lbek02oiq</td><td>DADS CNB file - Counts COS segment B</td><td>S</td><td>mast:HST/product/lbek02oiq_counts_b.fits</td><td>AUXILIARY</td><td>--</td><td>COUNTS_B</td><td>--</td><td>CALCOS</td><td>3.3.9</td><td>12086</td><td>lbek02oiq_counts_b.fits</td><td>167820480</td><td>2003886225</td></tr>\n",
       "<tr><td>2003183780</td><td>HST</td><td>spectrum</td><td>lbek02oiq</td><td>DADS FLA file - Calibrated exposure COS segment A</td><td>S</td><td>mast:HST/product/lbek02oiq_flt_a.fits</td><td>AUXILIARY</td><td>--</td><td>FLT_A</td><td>--</td><td>CALCOS</td><td>3.3.9</td><td>12086</td><td>lbek02oiq_flt_a.fits</td><td>167820480</td><td>2003886225</td></tr>\n",
       "<tr><td>2003183780</td><td>HST</td><td>spectrum</td><td>lbek02oiq</td><td>DADS FLB file - Calibrated exposure COS segment B</td><td>S</td><td>mast:HST/product/lbek02oiq_flt_b.fits</td><td>AUXILIARY</td><td>--</td><td>FLT_B</td><td>--</td><td>CALCOS</td><td>3.3.9</td><td>12086</td><td>lbek02oiq_flt_b.fits</td><td>167820480</td><td>2003886225</td></tr>\n",
       "<tr><td>2003183780</td><td>HST</td><td>spectrum</td><td>lbek02oiq</td><td>DADS LPF file - LampFlash exposure COS</td><td>S</td><td>mast:HST/product/lbek02oiq_lampflash.fits</td><td>AUXILIARY</td><td>--</td><td>LAMPFLASH</td><td>--</td><td>CALCOS</td><td>3.3.9</td><td>12086</td><td>lbek02oiq_lampflash.fits</td><td>696960</td><td>2003886225</td></tr>\n",
       "<tr><td>2003183780</td><td>HST</td><td>spectrum</td><td>lbek02oiq</td><td>DADS RTA file - Raw events COS segment A</td><td>S</td><td>mast:HST/product/lbek02oiq_rawtag_a.fits</td><td>AUXILIARY</td><td>--</td><td>RAWTAG_A</td><td>--</td><td>CALCOS</td><td>3.3.9</td><td>12086</td><td>lbek02oiq_rawtag_a.fits</td><td>11949120</td><td>2003886225</td></tr>\n",
       "<tr><td>2003183780</td><td>HST</td><td>spectrum</td><td>lbek02oiq</td><td>DADS RTB file - Raw events COS segment B</td><td>S</td><td>mast:HST/product/lbek02oiq_rawtag_b.fits</td><td>AUXILIARY</td><td>--</td><td>RAWTAG_B</td><td>--</td><td>CALCOS</td><td>3.3.9</td><td>12086</td><td>lbek02oiq_rawtag_b.fits</td><td>39401280</td><td>2003886225</td></tr>\n",
       "<tr><td>2003183780</td><td>HST</td><td>spectrum</td><td>lbek02oiq</td><td>DADS SPT file - Engineering telemetry ACS/WFC3/NICMOS/COS/STIS</td><td>S</td><td>mast:HST/product/lbek02oiq_spt.fits</td><td>AUXILIARY</td><td>--</td><td>SPT</td><td>--</td><td>CALCOS</td><td>3.3.9</td><td>12086</td><td>lbek02oiq_spt.fits</td><td>414720</td><td>2003886225</td></tr>\n",
       "<tr><td>2003183780</td><td>HST</td><td>spectrum</td><td>lbek02oiq</td><td>DADS TRL file - Processing log</td><td>S</td><td>mast:HST/product/lbek02oiq_trl.fits</td><td>AUXILIARY</td><td>--</td><td>TRL</td><td>--</td><td>CALCOS</td><td>3.3.9</td><td>12086</td><td>lbek02oiq_trl.fits</td><td>51840</td><td>2003886225</td></tr>\n",
       "<tr><td>2003183780</td><td>HST</td><td>spectrum</td><td>lbek02oiq</td><td>DADS X1D file - Calibrated 1D spectrum STIS</td><td>S</td><td>mast:HST/product/lbek02oiq_x1d.fits</td><td>SCIENCE</td><td>--</td><td>X1D</td><td>--</td><td>CALCOS</td><td>3.3.9</td><td>12086</td><td>lbek02oiq_x1d.fits</td><td>2862720</td><td>2003886225</td></tr>\n",
       "<tr><td>2003183780</td><td>HST</td><td>spectrum</td><td>lbek02oiq</td><td>Preview-Thumb</td><td>S</td><td>mast:HST/product/lbek02oiq_x1d_thumb.png</td><td>THUMBNAIL</td><td>--</td><td>--</td><td>--</td><td>CALCOS</td><td>3.3.9</td><td>12086</td><td>lbek02oiq_x1d_thumb.png</td><td>8438</td><td>2003886225</td></tr>\n",
       "</table>"
      ],
      "text/plain": [
       "<Table masked=True length=118>\n",
       "  obsID    obs_collection dataproduct_type ...    size   parent_obsid\n",
       "  str10         str3            str8       ...   int64      str10    \n",
       "---------- -------------- ---------------- ... --------- ------------\n",
       "2003886225            HST         spectrum ...    216000   2003886225\n",
       "2003886225            HST         spectrum ...    279360   2003886225\n",
       "2003886225            HST         spectrum ...    184320   2003886225\n",
       "2003886225            HST         spectrum ...   1287360   2003886225\n",
       "2003886225            HST         spectrum ...   1287360   2003886225\n",
       "2003886225            HST         spectrum ...   1287360   2003886225\n",
       "2003886225            HST         spectrum ...   1287360   2003886225\n",
       "2003886225            HST         spectrum ...     11520   2003886225\n",
       "2003886225            HST         spectrum ...   1287360   2003886225\n",
       "2003886225            HST         spectrum ...      6474   2003886225\n",
       "       ...            ...              ... ...       ...          ...\n",
       "2003183780            HST         spectrum ... 167820480   2003886225\n",
       "2003183780            HST         spectrum ... 167820480   2003886225\n",
       "2003183780            HST         spectrum ... 167820480   2003886225\n",
       "2003183780            HST         spectrum ...    696960   2003886225\n",
       "2003183780            HST         spectrum ...  11949120   2003886225\n",
       "2003183780            HST         spectrum ...  39401280   2003886225\n",
       "2003183780            HST         spectrum ...    414720   2003886225\n",
       "2003183780            HST         spectrum ...     51840   2003886225\n",
       "2003183780            HST         spectrum ...   2862720   2003886225\n",
       "2003183780            HST         spectrum ...      8438   2003886225"
      ]
     },
     "execution_count": 8,
     "metadata": {},
     "output_type": "execute_result"
    }
   ],
   "source": [
    "product_list = Observations.get_product_list(chosenObs)\n",
    "product_list"
   ]
  },
  {
   "cell_type": "code",
   "execution_count": 9,
   "metadata": {},
   "outputs": [
    {
     "name": "stdout",
     "output_type": "stream",
     "text": [
      "Downloading URL https://mast.stsci.edu/api/v0.1/Download/file?uri=mast:HST/product/lbek02020_asn.fits to /Users/nkerman/Projects/Walkthroughs/DataDL/data/mastDownload/HST/lbek02020/lbek02020_asn.fits ... [Done]\n",
      "Downloading URL https://mast.stsci.edu/api/v0.1/Download/file?uri=mast:HST/product/lbek02020_x1dsum.fits to /Users/nkerman/Projects/Walkthroughs/DataDL/data/mastDownload/HST/lbek02020/lbek02020_x1dsum.fits ... [Done]\n"
     ]
    }
   ],
   "source": [
    "downloads = Observations.download_products(product_list, download_dir=datadir , extension='fits', mrp_only=True, cache=False)"
   ]
  },
  {
   "cell_type": "markdown",
   "metadata": {},
   "source": [
    "### Exercise 2: *Download the raw counts data on TRAPPIST-1*\n",
    "\n",
    "In the previous exercise, we found an observation COS took on TRAPPIST-1 system. In case you skipped Exercise 1, the observation's Dataset ID is `LDLM40010`.\n",
    "\n",
    "Use `Astroquery.mast` to download the raw `TIME-TAG` data, rather than the x1d spectra files. See the [COS Data Handbook Ch. 2](https://hst-docs.stsci.edu/cosdhb/chapter-2-cos-data-files/2-4-cos-data-products) for details on TIME-TAG data files. Make sure to get the data from both segments of the FUV detector (i.e. both `RAWTAG_A` and `RAWTAG_B` files). If you do this correctly, there should be five data files for each detector segment.\n",
    "\n",
    "*Note that some of the obs_id may appear in the table as slightly different, i.e.: ldlm40alq and ldlm40axq, rather than ldlm40010. The main obs_id they fall under is still ldlm40010, and this will still work as a search term. They are linked together by the association file described here in section 2.3.*"
   ]
  },
  {
   "cell_type": "code",
   "execution_count": 10,
   "metadata": {},
   "outputs": [],
   "source": [
    "# Your answer here\n",
    "\n",
    "\n"
   ]
  },
  {
   "cell_type": "markdown",
   "metadata": {},
   "source": [
    "### We will now demonstrate using astroquery to find observations for a series of sources\n",
    "In this case, we'll look for COS data around several bright globular clusters. The clusters themselves are specified by common name in the file `objectname_list.csv`."
   ]
  },
  {
   "cell_type": "code",
   "execution_count": 11,
   "metadata": {},
   "outputs": [
    {
     "data": {
      "text/plain": [
       "{'omega Centauri': <Table masked=True length=15>\n",
       " dataproduct_type calib_level obs_collection ...   objID1        distance     \n",
       "       str8          int64         str3      ...   str10         float64      \n",
       " ---------------- ----------- -------------- ... ---------- ------------------\n",
       "         spectrum           2            HST ... 2048682699  97.04717859213693\n",
       "            image           2            HST ... 2048665922 295.35269365022396\n",
       "         spectrum           1            HST ... 2048802296  87.65983662909147\n",
       "            image           2            HST ... 2048650864  94.47272986343471\n",
       "         spectrum           1            HST ... 2048803154  87.65983662909147\n",
       "         spectrum           3            HST ... 2050133345  94.47272986343471\n",
       "         spectrum           3            HST ... 2050133503  87.65983662909147\n",
       "         spectrum           3            HST ... 2050137845  97.04717859213693\n",
       "            image           2            HST ... 2048651830  97.04717859213693\n",
       "            image           2            HST ... 2048687322  294.8382904103309\n",
       "         spectrum           1            HST ... 2048804620  87.65983662909147\n",
       "         spectrum           3            HST ... 2050137478  97.04717859213693\n",
       "            image           2            HST ... 2048676209 293.85414993790886\n",
       "         spectrum           3            HST ... 2050133855  87.65983662909147\n",
       "         spectrum           3            HST ... 2050143845  94.47272986343471,\n",
       " 'M5': <Table masked=True length=5>\n",
       " dataproduct_type calib_level obs_collection ...   objID1        distance    \n",
       "       str8          int64         str3      ...   str10         float64     \n",
       " ---------------- ----------- -------------- ... ---------- -----------------\n",
       "         spectrum           3            HST ... 2050119820 51.62395577766772\n",
       "         spectrum           1            HST ... 2048798303 51.62395577766772\n",
       "         spectrum           1            HST ... 2048791723 51.62395577766772\n",
       "         spectrum           3            HST ... 2050121060 51.62395577766772\n",
       "         spectrum           1            HST ... 2048795469 51.62395577766772,\n",
       " 'M13': <Table masked=True length=5>\n",
       " dataproduct_type calib_level obs_collection ...   objID1        distance     \n",
       "       str8          int64         str3      ...   str10         float64      \n",
       " ---------------- ----------- -------------- ... ---------- ------------------\n",
       "         spectrum           3            HST ... 2050120256 130.64769900053992\n",
       "         spectrum           3            HST ... 2050120176 130.64769900053992\n",
       "         spectrum           1            HST ... 2048788595 130.64769900000118\n",
       "         spectrum           1            HST ... 2048799402 130.64769900000118\n",
       "         spectrum           1            HST ... 2048797109 130.64769900000118,\n",
       " 'M15': <Table masked=True length=10>\n",
       " dataproduct_type calib_level obs_collection ...   objID1        distance     \n",
       "       str8          int64         str3      ...   str10         float64      \n",
       " ---------------- ----------- -------------- ... ---------- ------------------\n",
       "         spectrum           1            HST ... 2048792641 27.096650306913773\n",
       "         spectrum           1            HST ... 2048796723 27.096650306913773\n",
       "         spectrum           3            HST ... 2050120842  99.67537720435718\n",
       "         spectrum           1            HST ... 2048788646  99.67537720410724\n",
       "         spectrum           1            HST ... 2048789911 27.096650306913773\n",
       "         spectrum           3            HST ... 2050120940  27.09665030692082\n",
       "         spectrum           3            HST ... 2050120983  27.09665030692082\n",
       "         spectrum           1            HST ... 2048790075  99.67537720410724\n",
       "         spectrum           1            HST ... 2048792042  99.67537720410724\n",
       "         spectrum           3            HST ... 2050120730  99.67537720435718,\n",
       " 'M53': <Table masked=True length=3>\n",
       " dataproduct_type calib_level obs_collection ...   objID1        distance    \n",
       "       str8          int64         str3      ...   str10         float64     \n",
       " ---------------- ----------- -------------- ... ---------- -----------------\n",
       "         spectrum           3            HST ... 2050194639 261.1902814694652\n",
       "            image           2            HST ... 2048700971  263.628661035198\n",
       "         spectrum           3            HST ... 2050194600 261.1902814694652}"
      ]
     },
     "execution_count": 11,
     "metadata": {},
     "output_type": "execute_result"
    }
   ],
   "source": [
    "from csv import reader\n",
    "\n",
    "with open('./objectname_list.csv', 'r', newline = '') as csvFile:\n",
    "    objList = list(reader(csvFile, delimiter = ','))[0]\n",
    "\n",
    "\n",
    "globular_cluster_queries = {}\n",
    "for obj in objList:\n",
    "    query_x = Observations.query_criteria(objectname = obj, radius = \"5 min\", instrument_name=['COS/FUV', 'COS/NUV'])\n",
    "    globular_cluster_queries[obj] = (query_x)\n",
    "    \n",
    "globular_cluster_queries"
   ]
  },
  {
   "cell_type": "markdown",
   "metadata": {},
   "source": [
    "#### Excellent! You've now done the hardest part - finding and downloading the data. From here, it's generally straightforward to read in and plot the spectrum. We recommend you look into our tutorial on [Viewing a COS Spectrum](#NEEDSLINK)."
   ]
  },
  {
   "cell_type": "markdown",
   "metadata": {},
   "source": [
    "## Congratulations! You finished this notebook!\n",
    "### There are more COS data walkthrough notebooks on different topics. You can find them [here](https://github.com/nkerman/Walkthroughs)."
   ]
  },
  {
   "cell_type": "markdown",
   "metadata": {},
   "source": [
    "\n",
    "---\n",
    "## About this Notebook\n",
    "**Author:** [Nat Kerman](nkerman@stsci.edu)\n",
    "**Updated On:** 2020-10-06\n",
    "\n",
    "> *This tutorial was generated to be in compliance with the [STScI style guides](https://github.com/spacetelescope/style-guides) and would like to cite the [Jupyter guide](https://github.com/spacetelescope/style-guides/blob/master/templates/example_notebook.ipynb) in particular.*\n",
    "\n",
    "## Citations\n",
    "\n",
    "If you use `astropy`, `matplotlib`, `astroquery`, or `numpy` for published research, please cite the\n",
    "authors. Follow these links for more information about citations:\n",
    "\n",
    "* [Citing `astropy`/`numpy`/`matplotlib`](https://www.scipy.org/citing.html)\n",
    "* [Citing `astroquery`](https://astroquery.readthedocs.io/en/latest/)\n",
    "\n",
    "---\n",
    "\n",
    "[Top of Page](#topD)\n",
    "<img style=\"float: right;\" src=\"https://raw.githubusercontent.com/spacetelescope/notebooks/master/assets/stsci_pri_combo_mark_horizonal_white_bkgd.png\" alt=\"Space Telescope Logo\" width=\"200px\"/> \n",
    "\n"
   ]
  },
  {
   "cell_type": "code",
   "execution_count": null,
   "metadata": {},
   "outputs": [],
   "source": []
  },
  {
   "cell_type": "code",
   "execution_count": null,
   "metadata": {},
   "outputs": [],
   "source": []
  },
  {
   "cell_type": "code",
   "execution_count": null,
   "metadata": {},
   "outputs": [],
   "source": []
  },
  {
   "cell_type": "code",
   "execution_count": null,
   "metadata": {},
   "outputs": [],
   "source": []
  },
  {
   "cell_type": "code",
   "execution_count": null,
   "metadata": {},
   "outputs": [],
   "source": []
  },
  {
   "cell_type": "code",
   "execution_count": null,
   "metadata": {},
   "outputs": [],
   "source": []
  },
  {
   "cell_type": "markdown",
   "metadata": {},
   "source": [
    "# Any miscellaneous cells/quick hacks/ exercise solutions below:"
   ]
  },
  {
   "cell_type": "markdown",
   "metadata": {},
   "source": [
    "## Exercise Solutions:"
   ]
  },
  {
   "cell_type": "code",
   "execution_count": 12,
   "metadata": {},
   "outputs": [
    {
     "ename": "NameError",
     "evalue": "name 'u' is not defined",
     "output_type": "error",
     "traceback": [
      "\u001b[0;31m---------------------------------------------------------------------------\u001b[0m",
      "\u001b[0;31mNameError\u001b[0m                                 Traceback (most recent call last)",
      "\u001b[0;32m<ipython-input-12-8971569b8a4a>\u001b[0m in \u001b[0;36m<module>\u001b[0;34m\u001b[0m\n\u001b[1;32m      1\u001b[0m \u001b[0;31m## Ex. 1 soln:\u001b[0m\u001b[0;34m\u001b[0m\u001b[0;34m\u001b[0m\u001b[0;34m\u001b[0m\u001b[0m\n\u001b[1;32m      2\u001b[0m \u001b[0mdataset_id_\u001b[0m \u001b[0;34m=\u001b[0m \u001b[0;34m'LDLM40010'\u001b[0m\u001b[0;34m\u001b[0m\u001b[0;34m\u001b[0m\u001b[0m\n\u001b[0;32m----> 3\u001b[0;31m \u001b[0mexptime_\u001b[0m \u001b[0;34m=\u001b[0m \u001b[0;36m12403.904\u001b[0m\u001b[0;34m*\u001b[0m\u001b[0mu\u001b[0m\u001b[0;34m.\u001b[0m\u001b[0ms\u001b[0m\u001b[0;34m\u001b[0m\u001b[0;34m\u001b[0m\u001b[0m\n\u001b[0m\u001b[1;32m      4\u001b[0m \u001b[0mprint\u001b[0m\u001b[0;34m(\u001b[0m\u001b[0;34mf\"The TRAPPIST-1 COS data is in dataset {dataset_id_}, taken with an exosure time of {exptime_}\"\u001b[0m\u001b[0;34m)\u001b[0m\u001b[0;34m\u001b[0m\u001b[0;34m\u001b[0m\u001b[0m\n",
      "\u001b[0;31mNameError\u001b[0m: name 'u' is not defined"
     ]
    }
   ],
   "source": [
    "## Ex. 1 soln:\n",
    "dataset_id_ = 'LDLM40010'\n",
    "exptime_ = 12403.904*u.s\n",
    "print(f\"The TRAPPIST-1 COS data is in dataset {dataset_id_}, taken with an exosure time of {exptime_}\")"
   ]
  },
  {
   "cell_type": "code",
   "execution_count": null,
   "metadata": {},
   "outputs": [],
   "source": [
    "## Ex. 2 soln:\n",
    "query_3 = Observations.query_criteria(obs_id = 'LDLM40010',\n",
    "                                        wavelength_region=\"UV\", instrument_name=\"COS/FUV\", filters = 'G130M')\n",
    "\n",
    "product_list2 = Observations.get_product_list(query_3)\n",
    "rawRowsA = np.where(product_list2['productSubGroupDescription'] == \"RAWTAG_A\")\n",
    "rawRowsB = np.where(product_list2['productSubGroupDescription'] == \"RAWTAG_B\")\n",
    "rawRows = np.append(rawRowsA,rawRowsB)\n",
    "\n",
    "downloads2 = Observations.download_products(product_list2[rawRows], download_dir=datadir+'Ex2/' , extension='fits', mrp_only=False, cache=True)\n",
    "downloads3 = Observations.download_products(product_list2, download_dir=datadir+'Ex2/' , extension='fits', mrp_only=True, cache=True)\n",
    "\n",
    "asn_data = Table.read('./data/Ex2/mastDownload/HST/ldlm40010/ldlm40010_asn.fits', hdu = 1)\n",
    "print(asn_data)"
   ]
  },
  {
   "cell_type": "markdown",
   "metadata": {},
   "source": [
    "<a id=\"readInV\"></a>\n",
    "# 2. Reading in the data\n",
    "\n",
    "The calibrated spectrum data is now on our local machine as: **`current-working-directory`**`/data/mastDownload/HST/LBBD01020/LBBD01020_x1dsum.fits`\n",
    "\n",
    "## 2.1. Investigating the Data - *Basics*\n",
    "We want to learn a bit about this file, then input the data.\n",
    "\n",
    "We can learn a great deal about our data from its primary fits header (see cell below)."
   ]
  },
  {
   "cell_type": "code",
   "execution_count": null,
   "metadata": {},
   "outputs": [],
   "source": [
    "x1d_filepath = './data/mastDownload/HST/LBBD01020/LBBD01020_x1dsum.fits' # Make sure these point to your new data!\n",
    "asn_filepath = './data/mastDownload/HST/LBBD01020/LBBD01020_asn.fits'    # This is the association file\n",
    "\n",
    "\n",
    "header_x1d = fits.getheader(x1d_filepath)\n",
    "header_asn = fits.getheader(asn_filepath)\n",
    "\n",
    "header_x1d[:18],\"...\",header_x1d[45:50] #This is the main 0th header; THIS IS NOT THE WHOLE THING!"
   ]
  },
  {
   "cell_type": "markdown",
   "metadata": {},
   "source": [
    "For instance, we notice that the data was taken in [TIME-TAG mode](https://hst-docs.stsci.edu/cosdhb/chapter-5-cos-data-analysis/5-4-working-with-time-tag-data) and calibrated with `calcos` version `3.3.9`\n",
    "\n",
    "However, some metadata information, such as the time of observation and calculated exposure time, can be found in the **1st header** rather than the 0th. We will read and print this below:"
   ]
  },
  {
   "cell_type": "code",
   "execution_count": null,
   "metadata": {},
   "outputs": [],
   "source": [
    "with fits.open(x1d_filepath) as hdu:\n",
    "    header1_x1d = hdu[1].header\n",
    "    date = header1_x1d['DATE-OBS']\n",
    "    time = header1_x1d['TIME-OBS']\n",
    "    exptime = header1_x1d['EXPTIME']\n",
    "    \"\"\"\n",
    "    It's also perfectly valid to access the 1st extension header using 'fits.getheader(x1d_filepath, ext=1)'\n",
    "    \"\"\"\n",
    "\n",
    "print(f\"This data was taken on {date} starting at {time} with a net exposure time of {exptime} seconds.\")"
   ]
  },
  {
   "cell_type": "markdown",
   "metadata": {},
   "source": [
    "## 2.2. Reading in the `x1d` Main Data\n",
    "#### The simplest way to read in the `x1d` data from fits extension \\#1 is using the [`astropy.table.getdata`](https://docs.astropy.org/en/stable/io/fits/api/files.html#astropy.io.table.getdata) command.\n",
    "We can then display all the fields contained in this data table using the `.colnames` method. You can ignore the warnings about multiple slashes that come up while reading in the data. The proper units are displayed in LaTex as:\n",
    "\n",
    "- 'erg /s /cm\\**2 /angstrom'  ==> $$\\ \\ erg\\ s^{-1}\\ cm^{-2}\\ Aangstrom^{-1}$$\n",
    "- 'count /s /pixel'          ==> $$\\ \\ counts\\ s^{-1}\\ pixel^{-1}$$\n",
    "\n",
    "\n",
    "#### In the case of the NUV data, we see an astropy style table of 3 rows (next python cell). These rows contain data from the 3 stripes of the NUV spectrum (see figure 2.1).\n",
    "\n",
    "### Fig. 2.1 from [COS DHB Fig. 1.10](https://hst-docs.stsci.edu/cosdhb/chapter-1-cos-overview/1-2-cos-physical-configuration#id-1.2COSPhysicalConfiguration-Figure1.10)\n",
    "\n",
    "The columns of this table include some scalar values which *describe* the data (i.e. EXPTIME), while the columns containing actual data hold it in lists (i.e. WAVELENGTH, FLUX, etc.)\n",
    "\n",
    "<center><img src=figures/ch1_cos_overview3.10.jpg width =\"900\" title=\"An example COS NUV spectrum\"> </center>\n",
    "\n",
    "An important thing to note about this data in particular is that with the grating used here (G230L), segment C is actually a 2nd order spectrum with a higher dispersion (x2) and ~5% contamination from the 1st order spectrum. See the [COS Data Handbook](https://hst-docs.stsci.edu/cosdhb/chapter-1-cos-overview/1-1-instrument-capabilities-and-design), *especially Fig. 1.3,* for more information."
   ]
  },
  {
   "cell_type": "code",
   "execution_count": null,
   "metadata": {},
   "outputs": [],
   "source": [
    "x1d_data = Table.read(x1d_filepath)\n",
    "columns = x1d_data.colnames\n",
    "\n",
    "print(\"\\n\\n\",columns, \"\\n\\n\")\n",
    "\n",
    "x1d_data"
   ]
  },
  {
   "cell_type": "markdown",
   "metadata": {},
   "source": [
    "## 2.3. The Association `_asn` file\n",
    "\n",
    "#### It's also likely we will want to see what observations went into making this calibrated spectrum. This information is contained in the Association (`_asn`) file, under the MEMNAME column."
   ]
  },
  {
   "cell_type": "code",
   "execution_count": null,
   "metadata": {},
   "outputs": [],
   "source": [
    "print(fits.info(asn_filepath),'\\n\\n----\\n')\n",
    "asn_data = Table.read(asn_filepath, hdu = 1)\n",
    "print(asn_data)"
   ]
  },
  {
   "cell_type": "markdown",
   "metadata": {},
   "source": [
    "We see that our data has MEMTYPE = `PROD-FP`, meaning it is an Output science product, see COS DHB [Table 2.6](https://hst-docs.stsci.edu/cosdhb/chapter-2-cos-data-files/2-4-cos-data-products).\n",
    "This particular association file lists only one `EXP-FP` (Input science exposure), with the `MEMNAME` (Dataset ID) LBBD01HPQ. We could search for this dataset, if we needed the raw data."
   ]
  },
  {
   "cell_type": "markdown",
   "metadata": {},
   "source": [
    "<a id=\"plottingV\"></a>\n",
    "# 3. Plotting our Data"
   ]
  },
  {
   "cell_type": "markdown",
   "metadata": {},
   "source": [
    "## 3.1. Examining the first-order spectrum\n",
    "\n",
    "#### Let's grab the simplest data we need to plot a spectrum: **WAVELENGTH, FLUX, and ERROR**.\n",
    "- *Here, ERROR is flux error*\n",
    "\n",
    "We will limit this first plot to only our first order spectra (so we will exclude segment C). We will plot these two spectra together (in the top panel) and then segment-by-segment in the lower 2 panes.\n",
    "- The former view gives a better sense of the continuum\n",
    "- The latter views show zooms which allow us to meaningfully view the errors and see specific emission/absorption features."
   ]
  },
  {
   "cell_type": "code",
   "execution_count": null,
   "metadata": {},
   "outputs": [],
   "source": [
    "fig, (ax0, ax1, ax2) = plt.subplots(3, 1, figsize = (16, 16))\n",
    "\n",
    "for i in range(2):\n",
    "    wvln, flux, fluxErr = x1d_data[i][\"WAVELENGTH\"], x1d_data[i][\"FLUX\"], x1d_data[i][\"ERROR\"]\n",
    "    segment = x1d_data[i][\"SEGMENT\"]\n",
    "\n",
    "    ax0.plot(wvln, flux,\n",
    "                linestyle = \"-\", label = segment, c = segment_colors[segment])\n",
    "    ax0.legend(fontsize = 20 )\n",
    "    ax0.set_title(\"Fig 3.1\\nFirst-order NUV Spectra with G230L Grating\", size = 35)\n",
    "    \n",
    "    if i == 0:\n",
    "        ax1.errorbar(x = wvln, y = flux, yerr = fluxErr,\n",
    "                    linestyle = \"\",  label = segment, c = segment_colors[segment] )\n",
    "        ax1.set_xlim(2100,2510)\n",
    "        ax1.set_ylim(0.5E-13,1.5E-13)\n",
    "        ax1.legend(fontsize = 20 )\n",
    "        ax1.set_ylabel('Flux [$erg\\ s^{-1}\\ cm^{-2}\\ Aangstrom^{-1}$]', size = 30)\n",
    "        \n",
    "    if i == 1:\n",
    "        ax2.errorbar(x = wvln, y = flux, yerr = fluxErr,\n",
    "                    linestyle = \"\",  label = segment, c = segment_colors[segment] )\n",
    "        ax2.set_xlim(3190,3600)\n",
    "        ax2.set_ylim(1E-14,4.5E-14)\n",
    "        ax2.legend(fontsize = 20 )\n",
    "        ax2.set_xlabel('Wavelength [$\\AA$]', size = 30)\n",
    "\n",
    "plt.tight_layout()\n",
    "plt.show()"
   ]
  },
  {
   "cell_type": "markdown",
   "metadata": {},
   "source": [
    "## 3.2. Examining the second-order spectrum\n",
    "\n",
    "On segment C, we have a more dispersed spectrum over a smaller chunk of the NUV. Below, we plot this portion over the first-order spectrum from segment A.\n",
    "\n",
    "Clearly, our errorbars on the second-order spectrum are *much larger*. However, if we need a very high dispersion, for instance, to split close-together lines, the lower panel (zoom) shows a potential advantage of segment C. Its higher spectral sampling rate allows for finer distinctions in wavelength."
   ]
  },
  {
   "cell_type": "code",
   "execution_count": null,
   "metadata": {},
   "outputs": [],
   "source": [
    "fig, (ax0,ax1) = plt.subplots(2,1,figsize = (16, 8))\n",
    "\n",
    "for i in [2,0]: #We reverse this order, so that the 0th segment (A) is plotted OVER the 2nd segment (C). It's purely aesthetic\n",
    "    wvln, flux, fluxErr = x1d_data[i][\"WAVELENGTH\"], x1d_data[i][\"FLUX\"], x1d_data[i][\"ERROR\"]\n",
    "    segment = x1d_data[i][\"SEGMENT\"]\n",
    "    \n",
    "    if i == 0:\n",
    "        ax0.errorbar(x = wvln, y = flux, yerr = fluxErr,\n",
    "                    linestyle = \"\",  label = segment, c = 'k', alpha = 0.3)\n",
    "        \n",
    "        ax1.errorbar(x = wvln, y = flux, yerr = fluxErr,\n",
    "                    linestyle = \"\",  label = segment, c = 'k', alpha = 0.3)\n",
    "        \n",
    "    if i == 2:\n",
    "        ax0.errorbar(x = wvln, y = flux, yerr = fluxErr,\n",
    "                    linestyle = \"\",  label = segment, c = segment_colors[segment] , alpha = 0.8)\n",
    "        \n",
    "        ax1.errorbar(x = wvln, y = flux, yerr = fluxErr,\n",
    "                    linestyle = \"\",  label = segment, c = segment_colors[segment] , alpha = 0.8)\n",
    "\n",
    " \n",
    "ax0.set_xlim(2100,2510)\n",
    "ax0.set_ylim(0.48E-13,1.75E-13)\n",
    "\n",
    "ax0.set_title(\"Fig 3.2\\nOverlay of First and Second-order Spectrum with G230L Grating\", size = 25)\n",
    "\n",
    "ax1.set_xlim(2200,2210)\n",
    "ax1.set_ylim(0.6E-13,1.75E-13)\n",
    "\n",
    "ax1.set_xlabel('Wavelength [$\\AA$]', size = 20)\n",
    "fig.text(-0.015, 0.5, 'Flux [$erg\\ s^{-1}\\ cm^{-2}\\ Aangstrom^{-1}$]', size = 20, va='center', rotation='vertical')       \n",
    "\n",
    "#Let's add a dashed rectangle to show where we are zooming into in the lower panel.\n",
    "ax0.plot([2210,2200,2200,2210,2210],[0.6E-13,0.6E-13,1.7E-13,1.7E-13,0.6E-13], \n",
    "        'b', linewidth = 5, linestyle = '--', alpha = 0.7, label = \"Lower panel zoom bounds\")\n",
    "\n",
    "\n",
    "handles,labels = ax0.get_legend_handles_labels() # These lines just ensure that the legend is ordered correctly (first ax0)\n",
    "handles = [handles[2], handles[1], handles[0]]\n",
    "labels = [labels[2], labels[1], labels[0]]\n",
    "ax0.legend(handles, labels, fontsize = 20 , loc = 'upper right')\n",
    "handles,labels = ax1.get_legend_handles_labels() # Now for ax1\n",
    "handles = [handles[1], handles[0]]\n",
    "labels = [labels[1], labels[0]]\n",
    "ax1.legend(handles,labels, fontsize = 20 , loc = 'upper right')\n",
    "\n",
    "plt.tight_layout()\n",
    "plt.show()"
   ]
  },
  {
   "cell_type": "markdown",
   "metadata": {},
   "source": [
    "### Exercise 3: *Removing the zeros*\n",
    "\n",
    "All of the segments have real, useful data, bookended on each size by zeros (see Fig. 3.1, upper panel).\n",
    "\n",
    "1. Plot a histogram of each section's FLUX to visualize this \n",
    "2. Plot segments A and B as in Fig. 3.1, without these zero values"
   ]
  },
  {
   "cell_type": "code",
   "execution_count": null,
   "metadata": {},
   "outputs": [],
   "source": [
    "# Your answer here\n",
    "\n",
    "\n"
   ]
  },
  {
   "cell_type": "markdown",
   "metadata": {},
   "source": [
    "## 3.3. Reading in and plotting with `specutils`\n",
    "### *(Optional)*\n",
    "An alternative way to read in spectral data is with the [`specutils` package](https://specutils.readthedocs.io/en/stable/), which contains quite a bit of functionality for working with spectra. It also can make dealing with units easier, as it works well with astropy units and other modules.\n",
    "\n",
    "Below is a simple example of using `specutils` to read-in, plot, and continuum-normalize our spectrum."
   ]
  },
  {
   "cell_type": "code",
   "execution_count": null,
   "metadata": {},
   "outputs": [],
   "source": [
    "import specutils\n",
    "from specutils.fitting import fit_generic_continuum\n",
    "spec1d = specutils.Spectrum1D.read(x1d_filepath)\n",
    "\n",
    "fig, (ax0,ax1) = plt.subplots(2,1,figsize = (10,8))\n",
    "\n",
    "#Plot the non-normalized flux\n",
    "ax0.plot(spec1d.wavelength , spec1d.flux)\n",
    "ax0.set_title(\"Un-normalized flux\")\n",
    "\n",
    "# Continuum Normalize the flux:\n",
    "cont_norm_spec1d = spec1d /fit_generic_continuum(spec1d)(spec1d.spectral_axis) \n",
    "\n",
    "#Plot the normalized flux\n",
    "ax1.plot(cont_norm_spec1d.wavelength , cont_norm_spec1d.flux)\n",
    "ax1.set_title(\"Normalized flux\")\n",
    "\n",
    "plt.tight_layout()\n",
    "plt.show()"
   ]
  },
  {
   "cell_type": "code",
   "execution_count": null,
   "metadata": {},
   "outputs": [],
   "source": [
    "## Ex. 3 Soln:\n",
    "fig, (ax0,ax1) = plt.subplots(2,1,figsize = (16, 8))\n",
    "\n",
    "for q in range(3):\n",
    "    ax0.hist(x1d_data[q][\"FLUX\"], alpha = 0.5, label = x1d_data[q][\"SEGMENT\"], bins = np.linspace(0,1.8E-13,40))\n",
    "\n",
    "for q in range(2):\n",
    "    mask_no_zeros = (x1d_data[q][\"FLUX\"] > 0)\n",
    "    ax1.plot(x1d_data[q][\"WAVELENGTH\"][mask_no_zeros],x1d_data[q][\"FLUX\"][mask_no_zeros], alpha = 0.5, label = x1d_data[q][\"SEGMENT\"])\n",
    "\n",
    "ax0.legend()\n",
    "ax0.set_title(\"Flux distributions\", size = 30)\n",
    "\n",
    "ax1.legend()\n",
    "ax1.set_title(\"First-order spectrum without zeros\", size = 30)\n",
    "\n",
    "ax0.set_xlabel('Flux [$erg\\ s^{-1}\\ cm^{-2}\\ Aangstrom^{-1}$]\\n----\\n', size = 20)\n",
    "ax1.set_xlabel('Wavelength [$\\AA$]', size = 20)\n",
    "ax1.set_ylabel('Flux [$erg\\ s^{-1}\\ cm^{-2}\\ Aangstrom^{-1}$]', size = 12)\n",
    "\n",
    "plt.tight_layout()"
   ]
  },
  {
   "cell_type": "markdown",
   "metadata": {},
   "source": [
    "### Misc/Junk"
   ]
  },
  {
   "cell_type": "code",
   "execution_count": null,
   "metadata": {},
   "outputs": [],
   "source": [
    "# mask = (query_1['obs_id'] == 'lbbd01020')\n",
    "mask_prod_list2 = (product_list['obs_id'] == 'lbbd01hpq') | (product_list['obs_id'] == 'lbbd01020' )\n",
    "product_list[mask_prod_list2]"
   ]
  },
  {
   "cell_type": "code",
   "execution_count": null,
   "metadata": {},
   "outputs": [],
   "source": []
  },
  {
   "cell_type": "code",
   "execution_count": null,
   "metadata": {},
   "outputs": [],
   "source": []
  }
 ],
 "metadata": {
  "kernelspec": {
   "display_name": "Python 3",
   "language": "python",
   "name": "python3"
  },
  "language_info": {
   "codemirror_mode": {
    "name": "ipython",
    "version": 3
   },
   "file_extension": ".py",
   "mimetype": "text/x-python",
   "name": "python",
   "nbconvert_exporter": "python",
   "pygments_lexer": "ipython3",
   "version": "3.6.12"
  }
 },
 "nbformat": 4,
 "nbformat_minor": 4
}
