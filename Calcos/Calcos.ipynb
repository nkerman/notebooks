{
 "cells": [
  {
   "cell_type": "markdown",
   "metadata": {},
   "source": [
    "<a id=\"topC\"></a>\n",
    "\n",
    "# Running the COS Pipeline (`calcos`)\n",
    "\n",
    "# Learning Goals\n",
    "### This Notebook is designed to walk the user (*you*) through:\n",
    "#### 1. **[Setting up the environment to run `calcos`](#setupC)**\n",
    "##### $\\ \\ \\ \\ $ 1.1. [Prerequisites](#prereqC)\n",
    "##### $\\ \\ \\ \\ $ 1.2. [Create your conda environment](#condaenvC)\n",
    "\n",
    "\n",
    "#### 2. **[Processing raw COS data using `calcos`](#runC)**\n",
    "#### 3. **[Re-processing data COS data with altered parameters](#rerunC)**\n",
    "\n",
    "# 0. Introduction\n",
    "#### The Cosmic Origins Spectrograph ([*COS*](https://www.nasa.gov/content/hubble-space-telescope-cosmic-origins-spectrograph)) is an ultraviolet spectrograph on-board the Hubble Space Telescope ([*HST*](https://www.stsci.edu/hst/about)) with capabilities in the near ultraviolet (*NUV*) and far ultraviolet (*FUV*).\n",
    "\n",
    "#### This tutorial aims to prepare you to begin analyzing COS data of your choice by walking you through reading and viewing a spectrum obtained with COS, as well as obtaining a few diagnostic measurements of your spectrum.\n",
    "\n",
    "- For an in-depth manual to working with COS data and a discussion of caveats and user tips, see the [COS Data Handbook](https://hst-docs.stsci.edu/display/COSDHB/).\n",
    "- For a detailed overview of the COS instrument, see the [COS Instrument Handbook](https://hst-docs.stsci.edu/display/COSIHB/).\n",
    "\n"
   ]
  },
  {
   "cell_type": "markdown",
   "metadata": {},
   "source": [
    "#### **`Calcos`** is the data processing pipeline which converts the raw data produced by COS's detectors onboard Hubble into usable spectral data. It transitions the data from a list of many individual recorded photon interactions into tables of wavelength and flux."
   ]
  },
  {
   "cell_type": "markdown",
   "metadata": {},
   "source": [
    "<a id = setupC></a>\n",
    "# 1. Setting up the environment to run calcos\n",
    "\n",
    "The first step to processing your data is setting up an environment from which to run `calcos`.\n",
    "<a id = prereqC></a>\n",
    "## 1.1. Prerequisites\n",
    "This tutorial assumes some basic knowledge of the command line and was built using a unix bash-style shell. Those using a Windows computer will likely have the best results if working within the [Windows Subsystem for Linux](https://docs.microsoft.com/en-us/windows/wsl/install-win10).\n",
    "\n",
    "\n",
    "If you do not already have any distribution of the `conda` tool, see [this page](https://astroconda.readthedocs.io/en/latest/getting_started.html#getting-started-jump) for instructions, and install either [`anaconda` - more beginner friendly, \\~ 3 GB, lots of extras you likely won't use](https://docs.anaconda.com/anaconda/install/) or [`miniconda` - \\~ 400 MB, only what you need](https://docs.conda.io/en/latest/miniconda.html).\n",
    "\n",
    "<a id = condaenvC></a>\n",
    "## 1.2. Create your conda environment\n",
    "Once you have `conda` installed, it's time to create an environment. \n",
    "\n",
    "Open up your terminal app, likely `Terminal` or `iTerm` on a Mac or `Windows Terminal` or `Powershell` on Windows.\n",
    "\n",
    "First, add the stsci channel to your computer's conda channel list. This enables conda to look in the right place to find all the packages we want to install.\n",
    "\n",
    "\n",
    "``` $ conda config --add channels http://ssb.stsci.edu/astroconda```"
   ]
  },
  {
   "cell_type": "markdown",
   "metadata": {},
   "source": [
    "\n",
    "Now we can create a new environment for running calcos; let's call it `calcos_env`, and initialize it with the packages in the stsci channel's list we just added.\n",
    "\n",
    "\n",
    "``` $ conda create -n astroconda stsci ```\n",
    "\n",
    "After allowing conda to proceed to installing the packages (type `y` then hit enter/return), you can see all of your environments with:\n",
    "\n",
    "``` $ conda env list```\n",
    "\n",
    "and then switch over to your new environment with \n",
    "\n",
    "``` $ conda activate calcos_env ```\n",
    "\n",
    "At this point, typing `calcos` into the command line and hitting enter should no longer yield the error \n",
    "\n",
    "> ```command not found: calcos``` \n",
    "\n",
    "but rather respond that:\n",
    "\n",
    "> ```The command-line options are:\n",
    "  --version (print the version number and exit)\n",
    "  -r (print the full version string and exit)\n",
    "  ...\n",
    "  ERROR:  An association file name or observation rootname must be specified.```"
   ]
  },
  {
   "cell_type": "markdown",
   "metadata": {},
   "source": [
    "<a id = runC></a>\n",
    "# 2. Processing raw COS data using `calcos`"
   ]
  },
  {
   "cell_type": "markdown",
   "metadata": {},
   "source": [
    "<a id = rerunC></a>\n",
    "# 3. Re-processing data COS data with altered parameters"
   ]
  },
  {
   "cell_type": "code",
   "execution_count": null,
   "metadata": {},
   "outputs": [],
   "source": []
  }
 ],
 "metadata": {
  "kernelspec": {
   "display_name": "Python 3",
   "language": "python",
   "name": "python3"
  },
  "language_info": {
   "codemirror_mode": {
    "name": "ipython",
    "version": 3
   },
   "file_extension": ".py",
   "mimetype": "text/x-python",
   "name": "python",
   "nbconvert_exporter": "python",
   "pygments_lexer": "ipython3",
   "version": "3.6.12"
  }
 },
 "nbformat": 4,
 "nbformat_minor": 4
}
