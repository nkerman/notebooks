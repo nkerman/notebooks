{
 "cells": [
  {
   "cell_type": "markdown",
   "metadata": {},
   "source": [
    "<a id=\"topC\"></a>\n",
    "\n",
    "# Running the COS Pipeline (`calcos`)\n",
    "\n",
    "# Learning Goals\n",
    "### This Notebook is designed to walk the user (*you*) through:\n",
    "#### 1. **[Setting up the environment to run `calcos`](#setupC)**\n",
    "##### $\\ \\ \\ \\ $ 1.1. [Prerequisites](#prereqC)\n",
    "##### $\\ \\ \\ \\ $ 1.2. [Create your conda environment](#condaenvC)\n",
    "##### $\\ \\ \\ \\ $ 1.3. [Set up a reference file directory](#lrefC)\n",
    "\n",
    "\n",
    "#### 2. **[Processing raw COS data using `calcos`](#runC)**\n",
    "##### $\\ \\ \\ \\ $ 2.1. [Downloading the data](#datadlC)\n",
    "##### $\\ \\ \\ \\ $ 2.2. [Gathering reference files](#reffileC)\n",
    "##### $\\ \\ \\ \\ $ 2.3. [Running `calcos`: *From a python environment*](#runpyC)\n",
    "##### $\\ \\ \\ \\ $ 2.4. [Running `calcos`: *From the command line*](#runcliC)\n",
    "\n",
    "\n",
    "#### 3. **[Re-processing data COS data with altered parameters](#rerunC)**\n",
    "##### $\\ \\ \\ \\ $ 3.1. [Altering the calibration switches](#alterswitchC)\n",
    "\n",
    "\n",
    "\n",
    "\n",
    "# 0. Introduction\n",
    "#### The Cosmic Origins Spectrograph ([*COS*](https://www.nasa.gov/content/hubble-space-telescope-cosmic-origins-spectrograph)) is an ultraviolet spectrograph on-board the Hubble Space Telescope ([*HST*](https://www.stsci.edu/hst/about)) with capabilities in the near ultraviolet (*NUV*) and far ultraviolet (*FUV*).\n",
    "\n",
    "#### This tutorial aims to prepare you to begin analyzing COS data of your choice by walking you through reading and viewing a spectrum obtained with COS, as well as obtaining a few diagnostic measurements of your spectrum.\n",
    "\n",
    "- For an in-depth manual to working with COS data and a discussion of caveats and user tips, see the [COS Data Handbook](https://hst-docs.stsci.edu/display/COSDHB/).\n",
    "- For a detailed overview of the COS instrument, see the [COS Instrument Handbook](https://hst-docs.stsci.edu/display/COSIHB/)."
   ]
  },
  {
   "cell_type": "markdown",
   "metadata": {},
   "source": [
    "#### **`Calcos`** is the data processing pipeline which converts the raw data produced by COS's detectors onboard Hubble into usable spectral data. It transitions the data from a list of many individual recorded photon interactions into tables of wavelength and flux.\n",
    "\n",
    "#### Notes for those new to Python/Jupyter/Coding:\n",
    "- You will frequently see exclamation points (**!**) or dollar signs (**\\$**) at the beginning of a line of code. These are not part of the actual commands. The exclamation points tell a jupyter notebook to pass the following line to the command line, and the dollar sign merely indicates the start of a terminal prompt. "
   ]
  },
  {
   "cell_type": "markdown",
   "metadata": {},
   "source": [
    "## We will import the following packages:\n",
    "\n",
    "- `astroquery.mast Mast and Observations` for finding and downloading data from the [MAST](https://mast.stsci.edu/portal/Mashup/Clients/Mast/Portal.html) archive\n",
    "- `numpy` to handle array functions (version $\\ge$ 1.17)\n",
    "- `astropy.io` fits for accessing FITS files\n",
    "- `astropy.table Table` for creating tidy tables of the data\n",
    "<!-- - `astropy.units` and `astropy.visualization.quantity_support` for dealing with units -->\n",
    "- `matplotlib.pyplot` for plotting data\n",
    "- `glob` and `os` for searching and working with system files\n",
    "\n",
    "- *Later on, we will import the `calcos` package to run out pipeline*"
   ]
  },
  {
   "cell_type": "code",
   "execution_count": 1,
   "metadata": {},
   "outputs": [],
   "source": [
    "# This line is just to make any plots we might make look good in a notebook\n",
    "%matplotlib inline\n",
    "\n",
    "# Manipulating arrays\n",
    "import numpy as np\n",
    "\n",
    "# Reading in data\n",
    "from astropy.io import fits\n",
    "from astropy.table import Table\n",
    "\n",
    "# Plotting\n",
    "import matplotlib.pyplot as plt\n",
    "\n",
    "# Downloading data from archive\n",
    "from astroquery.mast import Observations\n",
    "\n",
    "# Searching for files on our system\n",
    "import glob\n",
    "# Making directories and such\n",
    "import os"
   ]
  },
  {
   "cell_type": "markdown",
   "metadata": {},
   "source": [
    "## We will also define a few directories in which to place our data and plots, as well as a few colors we will use in plots later."
   ]
  },
  {
   "cell_type": "code",
   "execution_count": 2,
   "metadata": {},
   "outputs": [
    {
     "name": "stdout",
     "output_type": "stream",
     "text": [
      "mkdir: ./data: File exists\n"
     ]
    }
   ],
   "source": [
    "# These will be important directories for the notebook\n",
    "cwd = !pwd\n",
    "cwd = cwd[0]\n",
    "\n",
    "!mkdir ./data\n",
    "!mkdir ./output/\n",
    "\n",
    "datadir = cwd + '/data/'\n",
    "outputdir = cwd + '/output/'"
   ]
  },
  {
   "cell_type": "markdown",
   "metadata": {},
   "source": [
    "<a id = setupC></a>\n",
    "# 1. Setting up the environment to run calcos\n",
    "\n",
    "The first step to processing your data is setting up an environment from which to run `calcos`.\n",
    "<a id = prereqC></a>\n",
    "## 1.1. Prerequisites\n",
    "This tutorial assumes some basic knowledge of the command line and was built using a unix bash-style shell. Those using a Windows computer will likely have the best results if working within the [Windows Subsystem for Linux](https://docs.microsoft.com/en-us/windows/wsl/install-win10).\n",
    "\n",
    "\n",
    "If you do not already have any distribution of the `conda` tool, see [this page](https://astroconda.readthedocs.io/en/latest/getting_started.html#getting-started-jump) for instructions, and install either [`anaconda` - more beginner friendly, \\~ 3 GB, lots of extras you likely won't use](https://docs.anaconda.com/anaconda/install/) or [`miniconda` - \\~ 400 MB, only what you need](https://docs.conda.io/en/latest/miniconda.html).\n",
    "\n",
    "<a id = condaenvC></a>\n",
    "## 1.2. Create your conda environment\n",
    "Once you have `conda` installed, it's time to create an environment. \n",
    "\n",
    "Open up your terminal app, likely `Terminal` or `iTerm` on a Mac or `Windows Terminal` or `Powershell` on Windows.\n",
    "\n",
    "First, add the stsci channel to your computer's conda channel list. This enables conda to look in the right place to find all the packages we want to install.\n",
    "\n",
    "\n",
    "``` $ conda config --add channels http://ssb.stsci.edu/astroconda```"
   ]
  },
  {
   "cell_type": "markdown",
   "metadata": {},
   "source": [
    "Now we can create a new environment for running calcos; let's call it `calcos_env`, and initialize it with the packages in the stsci channel's list we just added.\n",
    "\n",
    "\n",
    "``` $ conda create -n astroconda stsci ```\n",
    "\n",
    "After allowing conda to proceed to installing the packages (type `y` then hit enter/return), you can see all of your environments with:\n",
    "\n",
    "``` $ conda env list```\n",
    "\n",
    "and then switch over to your new environment with \n",
    "\n",
    "``` $ conda activate calcos_env ```\n",
    "\n",
    "At this point, typing `calcos` into the command line and hitting enter should no longer yield the error \n",
    "\n",
    "> ```command not found: calcos``` \n",
    "\n",
    "but rather respond that:\n",
    "\n",
    "> ```The command-line options are:\n",
    "  --version (print the version number and exit)\n",
    "  -r (print the full version string and exit)\n",
    "  ...\n",
    "  ERROR:  An association file name or observation rootname must be specified.```"
   ]
  },
  {
   "cell_type": "markdown",
   "metadata": {},
   "source": [
    "<a id = lrefC></a>\n",
    "## 1.3. Set up a reference file directory\n",
    "\n",
    "`calcos` needs to be able to find all your reference files, (flat field image, bad pixel table, etc.), and the best way to enable that is to create a central directory of all the calibration files you'll need. We refer to this directory  as \"lref\" by convention, and set a system variable `lref` to the location of the directory. \n",
    "\n",
    "We can assign a system variable in three different ways, depending on whether we are working from:\n",
    "1. The command line\n",
    "2. A python environment\n",
    "3. A Jupyter Notebook\n",
    "\n",
    "|Unix-style Command Line| Python | Jupyter Notebook|\n",
    "|-|-|-|\n",
    "| export lref='./data/reference' | import os| %env lref ./data/reference|\n",
    "||os.environ[\"lref\"] = \"./data/reference\" ||\n",
    "\n",
    "\n",
    "Note that this system variable must be set again with every new instance of a terminal - if you frequently need to use the same `lref` directory, consider adding an export statement to your `.bash_profile` or equivalent file.\n",
    "\n",
    "Because this is a jupyter notebook, we set our reference directory with the [cell magic](https://ipython.readthedocs.io/en/stable/interactive/magics.html) below:\n",
    "\n",
    "<!-- Looking in the headers of our data below, we see that the `$lref` argument appears at the beginning of all of the reference file locations: -->"
   ]
  },
  {
   "cell_type": "code",
   "execution_count": 3,
   "metadata": {},
   "outputs": [
    {
     "name": "stdout",
     "output_type": "stream",
     "text": [
      "env: lref=./data/reference/references/hst/cos/\n"
     ]
    }
   ],
   "source": [
    "%env lref ./data/reference/references/hst/cos/"
   ]
  },
  {
   "cell_type": "markdown",
   "metadata": {},
   "source": [
    "We can note the value of the system variable using the `echo` command:"
   ]
  },
  {
   "cell_type": "code",
   "execution_count": 4,
   "metadata": {},
   "outputs": [
    {
     "name": "stdout",
     "output_type": "stream",
     "text": [
      "./data/reference/references/hst/cos/\n"
     ]
    }
   ],
   "source": [
    "!echo $lref"
   ]
  },
  {
   "cell_type": "markdown",
   "metadata": {},
   "source": [
    "And finally we can create the directory with the line below."
   ]
  },
  {
   "cell_type": "markdown",
   "metadata": {},
   "source": [
    "<a id = runC></a>\n",
    "# 2. Processing raw COS data using `calcos`\n",
    "\n",
    "The calcos pipeline can be run either from a python environment, or directly from a Unix-style command line. The two use the same underlying machinery but can differ in syntax. For specifics on the keywords to run `calcos` with specific behaviors and arguments, see [Table 3.2: Arguments for Running calcos in Python](https://hst-docs.stsci.edu/cosdhb/chapter-3-cos-calibration/3-6-customizing-cos-data-calibration) and [Table 3.2:Command-line Options for Running calcos in Unix/Linux/Mac](https://hst-docs.stsci.edu/cosdhb/chapter-3-cos-calibration/3-6-customizing-cos-data-calibration).\n",
    "\n",
    "<a id = datadlC></a>\n",
    "## 2.1. Downloading the data\n",
    "\n",
    "First, we need to make sure we have all of our data ready and in the right spot. If you are unfamiliar with searching the archive for data, we recommend that you view our [tutorial on downloading COS data](https://github.com/spacetelescope/COS-Notebooks). This notebook will largely gloss over downloading the data.\n",
    "\n",
    "To run calcos, we will need the following files:\n",
    "1. All the **raw data** from separate exposures we wish to combine as `rawtag` fits files\n",
    "2. The **association** file telling calcos which files to combine as a `asn` fits file.\n",
    "\n",
    "For this example, we're choosing the dataset `LCXV13040` of COS/FUV observing the [quasar 3C48](https://en.wikipedia.org/wiki/3C_48). In the cell below we download the data from the archive."
   ]
  },
  {
   "cell_type": "code",
   "execution_count": 61,
   "metadata": {},
   "outputs": [
    {
     "name": "stdout",
     "output_type": "stream",
     "text": [
      "Downloading URL https://mast.stsci.edu/api/v0.1/Download/file?uri=mast:HST/product/lcxv13ezq_rawtag_a.fits to ./data/mastDownload/HST/lcxv13ezq/lcxv13ezq_rawtag_a.fits ... [Done]\n",
      "Downloading URL https://mast.stsci.edu/api/v0.1/Download/file?uri=mast:HST/product/lcxv13ezq_rawtag_b.fits to ./data/mastDownload/HST/lcxv13ezq/lcxv13ezq_rawtag_b.fits ... [Done]\n",
      "Downloading URL https://mast.stsci.edu/api/v0.1/Download/file?uri=mast:HST/product/lcxv13f4q_rawtag_a.fits to ./data/mastDownload/HST/lcxv13f4q/lcxv13f4q_rawtag_a.fits ... [Done]\n",
      "Downloading URL https://mast.stsci.edu/api/v0.1/Download/file?uri=mast:HST/product/lcxv13f4q_rawtag_b.fits to ./data/mastDownload/HST/lcxv13f4q/lcxv13f4q_rawtag_b.fits ... [Done]\n",
      "Downloading URL https://mast.stsci.edu/api/v0.1/Download/file?uri=mast:HST/product/lcxv13faq_rawtag_a.fits to ./data/mastDownload/HST/lcxv13faq/lcxv13faq_rawtag_a.fits ... [Done]\n",
      "Downloading URL https://mast.stsci.edu/api/v0.1/Download/file?uri=mast:HST/product/lcxv13faq_rawtag_b.fits to ./data/mastDownload/HST/lcxv13faq/lcxv13faq_rawtag_b.fits ... [Done]\n",
      "Downloading URL https://mast.stsci.edu/api/v0.1/Download/file?uri=mast:HST/product/lcxv13ffq_rawtag_a.fits to ./data/mastDownload/HST/lcxv13ffq/lcxv13ffq_rawtag_a.fits ... [Done]\n",
      "Downloading URL https://mast.stsci.edu/api/v0.1/Download/file?uri=mast:HST/product/lcxv13ffq_rawtag_b.fits to ./data/mastDownload/HST/lcxv13ffq/lcxv13ffq_rawtag_b.fits ... [Done]\n",
      "Downloading URL https://mast.stsci.edu/api/v0.1/Download/file?uri=mast:HST/product/lcxv13040_asn.fits to ./data/mastDownload/HST/lcxv13040/lcxv13040_asn.fits ... [Done]\n"
     ]
    },
    {
     "data": {
      "text/html": [
       "<i>Table length=1</i>\n",
       "<table id=\"table140627331863720\" class=\"table-striped table-bordered table-condensed\">\n",
       "<thead><tr><th>Local Path</th><th>Status</th><th>Message</th><th>URL</th></tr></thead>\n",
       "<thead><tr><th>str52</th><th>str8</th><th>object</th><th>object</th></tr></thead>\n",
       "<tr><td>./data/mastDownload/HST/lcxv13040/lcxv13040_asn.fits</td><td>COMPLETE</td><td>None</td><td>None</td></tr>\n",
       "</table>"
      ],
      "text/plain": [
       "<Table length=1>\n",
       "                     Local Path                       Status  Message  URL  \n",
       "                       str52                           str8    object object\n",
       "---------------------------------------------------- -------- ------- ------\n",
       "./data/mastDownload/HST/lcxv13040/lcxv13040_asn.fits COMPLETE    None   None"
      ]
     },
     "execution_count": 61,
     "metadata": {},
     "output_type": "execute_result"
    }
   ],
   "source": [
    "# query the MAST archive for data with observation id starting with lcxv1304\n",
    "q1 = Observations.query_criteria(obs_id = 'lcxv1304*')\n",
    "\n",
    "# Get a list of all products we could download associates with this file\n",
    "pl = Observations.get_product_list(q1)\n",
    "\n",
    "# Get a list of only the products which are association files\n",
    "asn_file_list = pl[pl[\"productSubGroupDescription\"] == 'ASN']\n",
    "\n",
    "# Get a list of only the products which are rawtag files\n",
    "rawtag_list = pl[(pl[\"productSubGroupDescription\"] == 'RAWTAG_A') | (pl[\"productSubGroupDescription\"] == 'RAWTAG_B')]\n",
    "\n",
    "#Download the two lists to the data directory\n",
    "Observations.download_products(rawtag_list, download_dir='./data')\n",
    "Observations.download_products(asn_file_list, download_dir='./data')"
   ]
  },
  {
   "cell_type": "markdown",
   "metadata": {},
   "source": [
    "By default, each exposure's files are downloaded to separate directories, as is the association file.\n",
    "We need to move around these files to all be in the same directory, which we do below."
   ]
  },
  {
   "cell_type": "code",
   "execution_count": 62,
   "metadata": {},
   "outputs": [],
   "source": [
    "!mv ./data/mastDownload/HST/lcxv13*/*fits* ./data\n",
    "!rm -r ./data/mastDownload"
   ]
  },
  {
   "cell_type": "markdown",
   "metadata": {},
   "source": [
    "<a id = reffileC></a>\n",
    "## 2.2. Gathering reference files\n",
    "\n",
    "Each data file has an associated set of calibration files which are needed to run the associated correction with (i.e. you need the `FLATFILE` to flat field correct the data.) These reference files must be located in the `$lref` directory to run the pipeline.\n",
    "\n",
    "The Space Telescope Science Institute (STScI) team is regularly producing new calibration files, in an effort to keep improving data reduction. Periodically the pipeline is re-run on all COS data.\n",
    "To determine which reference files were used most recently by STScI to calibrate your data (often, but not always the newest/best,) you can refer to your data file's \"CRDS_CTX\" keyword in its fits header (see next cell)."
   ]
  },
  {
   "cell_type": "code",
   "execution_count": 7,
   "metadata": {},
   "outputs": [
    {
     "name": "stdout",
     "output_type": "stream",
     "text": [
      "The CRDS Context last run with data/lcxv13ezq_rawtag_a.fits was:\thst_0836.pmap\n"
     ]
    }
   ],
   "source": [
    "rawfiles = glob.glob('data/*raw*.fits')\n",
    "crds_ctx = fits.getheader(rawfiles[0])['CRDS_CTX']\n",
    "print(f\"The CRDS Context last run with {rawfiles[0]} was:\\t{crds_ctx}\")"
   ]
  },
  {
   "cell_type": "markdown",
   "metadata": {},
   "source": [
    "The value of this keyword in the header is a `.pmap` file which tells the CRDS calibration data distribution program which files to distribute. To download the reference files specified by the context, we use the tool `crds`, installed with the stsci conda channel. \n",
    "\n",
    "Again, we first need to set some system variables to tell the program where to look and save the downloaded files. "
   ]
  },
  {
   "cell_type": "markdown",
   "metadata": {},
   "source": [
    "<img src= ../figures/warning.png width =\"60\" title=\"CAUTION!\"> "
   ]
  },
  {
   "cell_type": "markdown",
   "metadata": {},
   "source": [
    "Note that as of the time of this notebook's creation, the context used below was **`hst_0836.pmap`**. You are running this in the future, and there is very possibly a newer context you would be better off working with. Take a minute to consider this, and check the results of the previous code cell before running the next cell.\n",
    "\n",
    "Also note that this cell can produce quite a lot of output."
   ]
  },
  {
   "cell_type": "code",
   "execution_count": 39,
   "metadata": {},
   "outputs": [
    {
     "name": "stdout",
     "output_type": "stream",
     "text": [
      "env: CRDS_SERVER_URL=https://hst-crds.stsci.edu\n",
      "env: CRDS_PATH=./data/reference/\n",
      "CRDS - INFO -  No comparison context or source comparison requested.\n",
      "CRDS - INFO -  ===> Processing data/lcxv13ezq_rawtag_a.fits\n",
      "CRDS - INFO -  ===> Processing data/lcxv13ezq_rawtag_b.fits\n",
      "CRDS - INFO -  ===> Processing data/lcxv13f4q_rawtag_a.fits\n",
      "CRDS - INFO -  ===> Processing data/lcxv13f4q_rawtag_b.fits\n",
      "CRDS - INFO -  ===> Processing data/lcxv13faq_rawtag_a.fits\n",
      "CRDS - INFO -  ===> Processing data/lcxv13faq_rawtag_b.fits\n",
      "CRDS - INFO -  ===> Processing data/lcxv13ffq_rawtag_a.fits\n",
      "CRDS - INFO -  ===> Processing data/lcxv13ffq_rawtag_b.fits\n",
      "CRDS - INFO -  0 errors\n",
      "CRDS - INFO -  0 warnings\n",
      "CRDS - INFO -  9 infos\n"
     ]
    }
   ],
   "source": [
    "%env CRDS_SERVER_URL https://hst-crds.stsci.edu\n",
    "%env CRDS_PATH ./data/reference/\n",
    "\n",
    "# The next line depends on your context and pmap file \n",
    "!crds bestrefs --files data/*raw*.fits  --sync-references=2 --update-bestrefs --new-context 'hst_0836.pmap'"
   ]
  },
  {
   "cell_type": "markdown",
   "metadata": {},
   "source": [
    "### Now we can run the pipeline on our data using our reference files\n",
    "\n",
    "This following cell running the pipeline can take several minutes, sometimes more than **10 minutes**, so you do *not* need to run this cell. It also outputs hundreds of lines of text if the verbosity parameter is set to 2."
   ]
  },
  {
   "cell_type": "markdown",
   "metadata": {},
   "source": [
    "<a id = runpyC></a>\n",
    "## 2.3. Running `calcos`: *From a python environment*\n",
    "\n",
    "First, we import the pipeline package:"
   ]
  },
  {
   "cell_type": "code",
   "execution_count": 11,
   "metadata": {},
   "outputs": [],
   "source": [
    "import calcos"
   ]
  },
  {
   "cell_type": "markdown",
   "metadata": {},
   "source": [
    "#### Now, we can run the pipeline program!\n",
    "\n",
    "Note that generally, calcos should be run on an association file (in this case: `./data/lcxv13040_asn.fits`). In this case we also specify that `verbosity` = 2, resulting in a **very** verbose output, and we specify a directory to put all the output files in: `output/calcos_processed_1`. To avoid polluting this notebook with more than a thousand lines of the output, we capture the output of the next cell and save it to `output/output_calcos_1.txt` in the cell below."
   ]
  },
  {
   "cell_type": "code",
   "execution_count": 29,
   "metadata": {},
   "outputs": [],
   "source": [
    "%%capture cap --no-stderr\n",
    "calcos.calcos('./data/lcxv13040_asn.fits', verbosity=2, outdir=outputdir+\"/calcos_processed_1\", )"
   ]
  },
  {
   "cell_type": "code",
   "execution_count": 32,
   "metadata": {},
   "outputs": [],
   "source": [
    "with open(outputdir+'output_calcos_1.txt', 'w') as f: # This file now contains the output of the last cell\n",
    "    f.write(cap.stdout)"
   ]
  },
  {
   "cell_type": "markdown",
   "metadata": {},
   "source": [
    "<a id = runcliC></a>\n",
    "\n",
    "## 2.4. Running `calcos`: *From the command line*\n",
    "\n",
    "The syntax for running calcos from the command line is very similar. Assuming your data files, `lref` directory, and reference files are all in order, you can simply run:\n",
    "\n",
    "```calcos --outdir directory_to_save_outputs_in filename_asn.fits```\n",
    "\n",
    "*or, if you want to save a very verbose output to a log file `log.txt`*:\n",
    "\n",
    "```calcos -v --outdir directory_to_save_outputs_in filename_asn.fits > log.txt```\n",
    "\n",
    "To see the full list of commands, [Table 3.2:Command-line Options for Running calcos in Unix/Linux/Mac](https://hst-docs.stsci.edu/cosdhb/chapter-3-cos-calibration/3-6-customizing-cos-data-calibration), or run the following cell with no arguments."
   ]
  },
  {
   "cell_type": "code",
   "execution_count": 41,
   "metadata": {},
   "outputs": [
    {
     "name": "stdout",
     "output_type": "stream",
     "text": [
      "The command-line options are:\n",
      "  --version (print the version number and exit)\n",
      "  -r (print the full version string and exit)\n",
      "  -q (quiet)\n",
      "  -v (very verbose)\n",
      "  -s (save temporary files)\n",
      "  -o outdir (output directory name)\n",
      "  --find yes (find Y location of spectrum)\n",
      "  --find no (use Y location of spectrum from 1dx file and wavecal)\n",
      "  --find cutoff (find Y location if sigma <= cutoff)\n",
      "  --csum (create 'calcos sum' image)\n",
      "  --only_csum (do little else but create csum)\n",
      "  --raw (use raw coordinates for csum image)\n",
      "  --compress parameters (compress csum image)\n",
      "  --binx X_bin_factor (csum bin factor in X)\n",
      "  --biny Y_bin_factor (csum bin factor in Y)\n",
      "  --shift filename (file to specify shift values)\n",
      "  --stim filename (append stim locations to filename)\n",
      "  --live filename (append livetime factors to filename)\n",
      "  --burst filename (append burst info to filename)\n",
      "\n",
      "Following the options, list one or more association\n",
      "files (rootname_asn) or raw files (rootname_raw).\n",
      "ERROR:  An association file name or observation rootname must be specified.\n"
     ]
    }
   ],
   "source": [
    "!calcos"
   ]
  },
  {
   "cell_type": "markdown",
   "metadata": {},
   "source": [
    "<a id = rerunC></a>\n",
    "# 3. Re-processing data COS data with altered parameters"
   ]
  },
  {
   "cell_type": "markdown",
   "metadata": {},
   "source": [
    "<a id = alterswitchC></a>\n",
    "## 3.1. Altering the calibration switches\n",
    "\n"
   ]
  },
  {
   "cell_type": "markdown",
   "metadata": {},
   "source": [
    "The way to tweak how `calcos` runs - which calibrations it performs - is with the calibration switches contained in the fits headers. The switches (with the exception of \"XTRACTALG\"), can be set to:\n",
    "\n",
    "|\"PERFORM\"|\"OMIT\"|\"N/A\"|\n",
    "|-|-|-|\n",
    "|Performs the calibration step|Does not perform the calibration step|This step would not make sense for this file|\n",
    "\n",
    "In the cell below, we get a full list of the switches by name. If you to learn more about the calibration steps and switches, see [Chapters 2 and 3 of the COS Data Handbook](https://hst-docs.stsci.edu/cosdhb)."
   ]
  },
  {
   "cell_type": "code",
   "execution_count": 53,
   "metadata": {},
   "outputs": [
    {
     "data": {
      "text/plain": [
       "              / CALIBRATION SWITCHES: PERFORM, OMIT, COMPLETE                   \n",
       "                                                                                \n",
       "FLATCORR= 'PERFORM '           / apply flat-field correction                    \n",
       "DEADCORR= 'PERFORM '           / correct for deadtime                           \n",
       "DQICORR = 'PERFORM '           / data quality initialization                    \n",
       "STATFLAG=                    T / Calculate statistics?                          \n",
       "TEMPCORR= 'PERFORM '           / correct for thermal distortion                 \n",
       "GEOCORR = 'PERFORM '           / correct FUV for geometic distortion            \n",
       "DGEOCORR= 'OMIT    '           / Delta Corrections to FUV Geometric Distortion  \n",
       "IGEOCORR= 'PERFORM '           / interpolate geometric distortion in INL file   \n",
       "RANDCORR= 'PERFORM '           / add pseudo-random numbers to raw x and y       \n",
       "RANDSEED=                   -1 / seed for pseudo-random number generator        \n",
       "XWLKCORR= 'PERFORM '           / Correct FUV for Walk Distortion in X           \n",
       "YWLKCORR= 'PERFORM '           / Correct FUV for Walk Distortion in Y           \n",
       "PHACORR = 'PERFORM '           / filter by pulse-height                         \n",
       "TRCECORR= 'PERFORM '           / trace correction                               \n",
       "ALGNCORR= 'PERFORM '           / align data to profile                          \n",
       "XTRCTALG= 'TWOZONE '           / BOXCAR or TWOZONE                              \n",
       "BADTCORR= 'OMIT    '           / filter by time (excluding bad time intervals)  \n",
       "DOPPCORR= 'PERFORM '           / orbital Doppler correction                     \n",
       "HELCORR = 'PERFORM '           / heliocentric Doppler correction                \n",
       "X1DCORR = 'PERFORM '           / 1-D spectral extraction                        \n",
       "BACKCORR= 'PERFORM '           / subtract background (when doing 1-D extraction)\n",
       "WAVECORR= 'PERFORM '           / use wavecal to adjust wavelength zeropoint     \n",
       "FLUXCORR= 'PERFORM '           / convert count-rate to absolute flux units      \n",
       "BRSTCORR= 'OMIT    '           / switch controlling search for FUV bursts       \n",
       "TDSCORR = 'PERFORM '           / switch for time-dependent sensitivity correctio"
      ]
     },
     "execution_count": 53,
     "metadata": {},
     "output_type": "execute_result"
    }
   ],
   "source": [
    "header = fits.getheader(rawfiles[0])\n",
    "calibswitches = header[82:109]\n",
    "calibswitches"
   ]
  },
  {
   "cell_type": "markdown",
   "metadata": {},
   "source": [
    "#### Let's begin by switching off all the switches currently set to \"PERFORM\", in every rawfile:"
   ]
  },
  {
   "cell_type": "code",
   "execution_count": 68,
   "metadata": {},
   "outputs": [],
   "source": [
    "verbose = False \n",
    "\n",
    "for i, rawfile in enumerate(rawfiles):\n",
    "    if verbose:\n",
    "        print(rawfile)\n",
    "    header = fits.getheader(rawfiles[i])\n",
    "    corrections = [key for key in list(header.keys()) if \"CORR\" in key]\n",
    "\n",
    "    for correction in corrections:\n",
    "        if header[correction] == 'PERFORM':\n",
    "            if verbose:\n",
    "                print(\"switching\\t\", header[correction], \"\\t\",correction, \"\\tto OMIT\")\n",
    "            fits.setval(rawfile, correction, value='OMIT', ext = 0)"
   ]
  },
  {
   "cell_type": "markdown",
   "metadata": {},
   "source": [
    "#### `calcos` realizes that all the switches are set to \"OMIT\", and exits without doing anything."
   ]
  },
  {
   "cell_type": "code",
   "execution_count": 70,
   "metadata": {},
   "outputs": [
    {
     "name": "stdout",
     "output_type": "stream",
     "text": [
      "CALCOS version 3.3.9\n",
      "numpy version 1.19.2\n",
      "astropy version 4.0.2\n",
      "Nothing to do; all calibration switches are OMIT.\n"
     ]
    },
    {
     "data": {
      "text/plain": [
       "0"
      ]
     },
     "execution_count": 70,
     "metadata": {},
     "output_type": "execute_result"
    }
   ],
   "source": [
    "calcos.calcos('./data/lcxv13040_asn.fits', verbosity=0, outdir=outputdir+\"calcos_processed_2\" )"
   ]
  },
  {
   "cell_type": "code",
   "execution_count": 71,
   "metadata": {},
   "outputs": [
    {
     "ename": "SyntaxError",
     "evalue": "'break' outside loop (<ipython-input-71-6aaf1f276005>, line 4)",
     "output_type": "error",
     "traceback": [
      "\u001b[0;36m  File \u001b[0;32m\"<ipython-input-71-6aaf1f276005>\"\u001b[0;36m, line \u001b[0;32m4\u001b[0m\n\u001b[0;31mSyntaxError\u001b[0m\u001b[0;31m:\u001b[0m 'break' outside loop\n"
     ]
    }
   ],
   "source": [
    "break"
   ]
  },
  {
   "cell_type": "code",
   "execution_count": null,
   "metadata": {},
   "outputs": [],
   "source": []
  },
  {
   "cell_type": "code",
   "execution_count": null,
   "metadata": {},
   "outputs": [],
   "source": []
  },
  {
   "cell_type": "code",
   "execution_count": 139,
   "metadata": {},
   "outputs": [
    {
     "name": "stderr",
     "output_type": "stream",
     "text": [
      "WARNING: UnitsWarning: 'erg /s /cm**2 /angstrom' contains multiple slashes, which is discouraged by the FITS standard [astropy.units.format.generic]\n",
      "WARNING: UnitsWarning: 'count /s /pixel' contains multiple slashes, which is discouraged by the FITS standard [astropy.units.format.generic]\n"
     ]
    },
    {
     "data": {
      "text/plain": [
       "[<matplotlib.lines.Line2D at 0x7fd2ec5722b0>]"
      ]
     },
     "execution_count": 139,
     "metadata": {},
     "output_type": "execute_result"
    },
    {
     "data": {
      "image/png": "[encoded data removed]",
      "text/plain": [
       "<Figure size 1440x720 with 1 Axes>"
      ]
     },
     "metadata": {
      "needs_background": "light"
     },
     "output_type": "display_data"
    }
   ],
   "source": [
    "output_spectrum = Table.read('new2/lcxv13040_x1dsum.fits')\n",
    "wvln, flux, fluxErr, dqwgt = output_spectrum[1][\"WAVELENGTH\", \"FLUX\", \"ERROR\" ,\"DQ_WGT\"]\n",
    "dqwgt = np.asarray(dqwgt, dtype=bool)\n",
    "\n",
    "\n",
    "plt.figure(figsize=(20,10))\n",
    "plt.plot(wvln[dqwgt], flux[dqwgt],)"
   ]
  },
  {
   "cell_type": "code",
   "execution_count": 151,
   "metadata": {},
   "outputs": [
    {
     "name": "stderr",
     "output_type": "stream",
     "text": [
      "WARNING: UnitsWarning: 'erg /s /cm**2 /angstrom' contains multiple slashes, which is discouraged by the FITS standard [astropy.units.format.generic]\n",
      "WARNING: UnitsWarning: 'count /s /pixel' contains multiple slashes, which is discouraged by the FITS standard [astropy.units.format.generic]\n"
     ]
    },
    {
     "data": {
      "text/plain": [
       "[<matplotlib.lines.Line2D at 0x7fd37e339e80>]"
      ]
     },
     "execution_count": 151,
     "metadata": {},
     "output_type": "execute_result"
    },
    {
     "data": {
      "image/png": "[encoded data removed]",
      "text/plain": [
       "<Figure size 1440x720 with 1 Axes>"
      ]
     },
     "metadata": {
      "needs_background": "light"
     },
     "output_type": "display_data"
    }
   ],
   "source": [
    "output_spectrum = Table.read('/Users/nkerman/Projects/COS-Notebooks/Calcos/mastDownload/HST/lcxv13040copy/lcxv13040_x1dsum1.fits')\n",
    "wvln_orig, flux_orig, fluxErr_orig, dqwgt_orig = output_spectrum[1][\"WAVELENGTH\", \"FLUX\", \"ERROR\" ,\"DQ_WGT\"]\n",
    "dqwgt_orig = np.asarray(dqwgt_orig, dtype=bool)\n",
    "\n",
    "\n",
    "plt.figure(figsize=(20,10))\n",
    "plt.plot(wvln[dqwgt_orig], flux[dqwgt_orig])"
   ]
  },
  {
   "cell_type": "code",
   "execution_count": null,
   "metadata": {},
   "outputs": [],
   "source": []
  },
  {
   "cell_type": "code",
   "execution_count": 104,
   "metadata": {},
   "outputs": [
    {
     "data": {
      "text/plain": [
       "(16384, 16384)"
      ]
     },
     "execution_count": 104,
     "metadata": {},
     "output_type": "execute_result"
    }
   ],
   "source": [
    "dqwgt.size, dqwgt[dqwgt].size"
   ]
  },
  {
   "cell_type": "code",
   "execution_count": 111,
   "metadata": {},
   "outputs": [
    {
     "data": {
      "text/plain": [
       "(array([1386.68454682, 1386.6967854 , 1386.70902398, ..., 1587.16466588,\n",
       "        1587.17690445, 1587.18914303]),\n",
       " array([1405.34837575, 1405.36061432, 1405.3728529 , ..., 1575.74607415,\n",
       "        1575.75831273, 1575.7705513 ]))"
      ]
     },
     "execution_count": 111,
     "metadata": {},
     "output_type": "execute_result"
    }
   ],
   "source": [
    "wvln, wvln[dqwgt ==1]"
   ]
  },
  {
   "cell_type": "code",
   "execution_count": 110,
   "metadata": {},
   "outputs": [
    {
     "data": {
      "text/plain": [
       "array([0., 0., 0., ..., 0., 0., 0.], dtype=float32)"
      ]
     },
     "execution_count": 110,
     "metadata": {},
     "output_type": "execute_result"
    }
   ],
   "source": [
    "flux[list(dqwgt)]"
   ]
  },
  {
   "cell_type": "code",
   "execution_count": 98,
   "metadata": {},
   "outputs": [
    {
     "data": {
      "text/html": [
       "<i>Table masked=True length=52</i>\n",
       "<table id=\"table140231610200696\" class=\"table-striped table-bordered table-condensed\">\n",
       "<thead><tr><th>obsID</th><th>obs_collection</th><th>dataproduct_type</th><th>obs_id</th><th>description</th><th>type</th><th>dataURI</th><th>productType</th><th>productGroupDescription</th><th>productSubGroupDescription</th><th>productDocumentationURL</th><th>project</th><th>prvversion</th><th>proposal_id</th><th>productFilename</th><th>size</th><th>parent_obsid</th></tr></thead>\n",
       "<thead><tr><th>str10</th><th>str3</th><th>str8</th><th>str9</th><th>str62</th><th>str1</th><th>str44</th><th>str9</th><th>str28</th><th>str9</th><th>str1</th><th>str6</th><th>str6</th><th>str5</th><th>str27</th><th>int64</th><th>str10</th></tr></thead>\n",
       "<tr><td>2004636330</td><td>HST</td><td>spectrum</td><td>lcxv13040</td><td>DADS JIF file</td><td>C</td><td>mast:HST/product/lcxv13040_jif.fits</td><td>AUXILIARY</td><td>--</td><td>JIF</td><td>--</td><td>CALCOS</td><td>--</td><td>14268</td><td>lcxv13040_jif.fits</td><td>112320</td><td>2004636330</td></tr>\n",
       "<tr><td>2004636330</td><td>HST</td><td>spectrum</td><td>lcxv13040</td><td>DADS JIT file</td><td>C</td><td>mast:HST/product/lcxv13040_jit.fits</td><td>AUXILIARY</td><td>--</td><td>JIT</td><td>--</td><td>CALCOS</td><td>--</td><td>14268</td><td>lcxv13040_jit.fits</td><td>216000</td><td>2004636330</td></tr>\n",
       "<tr><td>2004636330</td><td>HST</td><td>spectrum</td><td>lcxv13040</td><td>DADS TRL file - Processing log</td><td>C</td><td>mast:HST/product/lcxv13040_trl.fits</td><td>AUXILIARY</td><td>--</td><td>TRL</td><td>--</td><td>CALCOS</td><td>--</td><td>14268</td><td>lcxv13040_trl.fits</td><td>164160</td><td>2004636330</td></tr>\n",
       "<tr><td>2004636330</td><td>HST</td><td>spectrum</td><td>lcxv13040</td><td>DADS X1S file - Summed 1D spectrum COS</td><td>C</td><td>mast:HST/product/lcxv13040_x1dsum1.fits</td><td>AUXILIARY</td><td>--</td><td>X1DSUM1</td><td>--</td><td>CALCOS</td><td>3.3.10</td><td>14268</td><td>lcxv13040_x1dsum1.fits</td><td>1941120</td><td>2004636330</td></tr>\n",
       "<tr><td>2004636330</td><td>HST</td><td>spectrum</td><td>lcxv13040</td><td>DADS X2S file - Summed 1D spectrum COS</td><td>C</td><td>mast:HST/product/lcxv13040_x1dsum2.fits</td><td>AUXILIARY</td><td>--</td><td>X1DSUM2</td><td>--</td><td>CALCOS</td><td>3.3.10</td><td>14268</td><td>lcxv13040_x1dsum2.fits</td><td>1941120</td><td>2004636330</td></tr>\n",
       "<tr><td>2004636330</td><td>HST</td><td>spectrum</td><td>lcxv13040</td><td>DADS X3S file - Summed 1D spectrum COS</td><td>C</td><td>mast:HST/product/lcxv13040_x1dsum3.fits</td><td>AUXILIARY</td><td>--</td><td>X1DSUM3</td><td>--</td><td>CALCOS</td><td>3.3.10</td><td>14268</td><td>lcxv13040_x1dsum3.fits</td><td>1941120</td><td>2004636330</td></tr>\n",
       "<tr><td>2004636330</td><td>HST</td><td>spectrum</td><td>lcxv13040</td><td>DADS X4S file - Summed 1D spectrum COS</td><td>C</td><td>mast:HST/product/lcxv13040_x1dsum4.fits</td><td>AUXILIARY</td><td>--</td><td>X1DSUM4</td><td>--</td><td>CALCOS</td><td>3.3.10</td><td>14268</td><td>lcxv13040_x1dsum4.fits</td><td>1941120</td><td>2004636330</td></tr>\n",
       "<tr><td>2004636330</td><td>HST</td><td>spectrum</td><td>lcxv13040</td><td>DADS ASN file - Association ACS/WFC3/STIS</td><td>C</td><td>mast:HST/product/lcxv13040_asn.fits</td><td>AUXILIARY</td><td>Minimum Recommended Products</td><td>ASN</td><td>--</td><td>CALCOS</td><td>3.3.10</td><td>14268</td><td>lcxv13040_asn.fits</td><td>11520</td><td>2004636330</td></tr>\n",
       "<tr><td>2004636068</td><td>HST</td><td>spectrum</td><td>lcxv13ezq</td><td>DADS CTA file - Corrected events COS segment A</td><td>S</td><td>mast:HST/product/lcxv13ezq_corrtag_a.fits</td><td>AUXILIARY</td><td>--</td><td>CORRTAG_A</td><td>--</td><td>CALCOS</td><td>3.3.10</td><td>14268</td><td>lcxv13ezq_corrtag_a.fits</td><td>1215360</td><td>2004636330</td></tr>\n",
       "<tr><td>2004636068</td><td>HST</td><td>spectrum</td><td>lcxv13ezq</td><td>DADS CTB file - Corrected events COS segment B</td><td>S</td><td>mast:HST/product/lcxv13ezq_corrtag_b.fits</td><td>AUXILIARY</td><td>--</td><td>CORRTAG_B</td><td>--</td><td>CALCOS</td><td>3.3.10</td><td>14268</td><td>lcxv13ezq_corrtag_b.fits</td><td>2099520</td><td>2004636330</td></tr>\n",
       "<tr><td>...</td><td>...</td><td>...</td><td>...</td><td>...</td><td>...</td><td>...</td><td>...</td><td>...</td><td>...</td><td>...</td><td>...</td><td>...</td><td>...</td><td>...</td><td>...</td><td>...</td></tr>\n",
       "<tr><td>2004636071</td><td>HST</td><td>spectrum</td><td>lcxv13ffq</td><td>DADS CTB file - Corrected events COS segment B</td><td>S</td><td>mast:HST/product/lcxv13ffq_corrtag_b.fits</td><td>AUXILIARY</td><td>--</td><td>CORRTAG_B</td><td>--</td><td>CALCOS</td><td>3.3.10</td><td>14268</td><td>lcxv13ffq_corrtag_b.fits</td><td>3510720</td><td>2004636330</td></tr>\n",
       "<tr><td>2004636071</td><td>HST</td><td>spectrum</td><td>lcxv13ffq</td><td>DADS CNA file - Counts COS segment A</td><td>S</td><td>mast:HST/product/lcxv13ffq_counts_a.fits</td><td>AUXILIARY</td><td>--</td><td>COUNTS_A</td><td>--</td><td>CALCOS</td><td>3.3.10</td><td>14268</td><td>lcxv13ffq_counts_a.fits</td><td>167820480</td><td>2004636330</td></tr>\n",
       "<tr><td>2004636071</td><td>HST</td><td>spectrum</td><td>lcxv13ffq</td><td>DADS CNB file - Counts COS segment B</td><td>S</td><td>mast:HST/product/lcxv13ffq_counts_b.fits</td><td>AUXILIARY</td><td>--</td><td>COUNTS_B</td><td>--</td><td>CALCOS</td><td>3.3.10</td><td>14268</td><td>lcxv13ffq_counts_b.fits</td><td>167820480</td><td>2004636330</td></tr>\n",
       "<tr><td>2004636071</td><td>HST</td><td>spectrum</td><td>lcxv13ffq</td><td>DADS FLA file - Calibrated exposure COS segment A</td><td>S</td><td>mast:HST/product/lcxv13ffq_flt_a.fits</td><td>AUXILIARY</td><td>--</td><td>FLT_A</td><td>--</td><td>CALCOS</td><td>3.3.10</td><td>14268</td><td>lcxv13ffq_flt_a.fits</td><td>167820480</td><td>2004636330</td></tr>\n",
       "<tr><td>2004636071</td><td>HST</td><td>spectrum</td><td>lcxv13ffq</td><td>DADS FLB file - Calibrated exposure COS segment B</td><td>S</td><td>mast:HST/product/lcxv13ffq_flt_b.fits</td><td>AUXILIARY</td><td>--</td><td>FLT_B</td><td>--</td><td>CALCOS</td><td>3.3.10</td><td>14268</td><td>lcxv13ffq_flt_b.fits</td><td>167820480</td><td>2004636330</td></tr>\n",
       "<tr><td>2004636071</td><td>HST</td><td>spectrum</td><td>lcxv13ffq</td><td>DADS LPF file - LampFlash exposure COS</td><td>S</td><td>mast:HST/product/lcxv13ffq_lampflash.fits</td><td>AUXILIARY</td><td>--</td><td>LAMPFLASH</td><td>--</td><td>CALCOS</td><td>3.3.10</td><td>14268</td><td>lcxv13ffq_lampflash.fits</td><td>1356480</td><td>2004636330</td></tr>\n",
       "<tr><td>2004636071</td><td>HST</td><td>spectrum</td><td>lcxv13ffq</td><td>DADS RTA file - Raw events COS segment A</td><td>S</td><td>mast:HST/product/lcxv13ffq_rawtag_a.fits</td><td>AUXILIARY</td><td>--</td><td>RAWTAG_A</td><td>--</td><td>CALCOS</td><td>3.3.10</td><td>14268</td><td>lcxv13ffq_rawtag_a.fits</td><td>489600</td><td>2004636330</td></tr>\n",
       "<tr><td>2004636071</td><td>HST</td><td>spectrum</td><td>lcxv13ffq</td><td>DADS RTB file - Raw events COS segment B</td><td>S</td><td>mast:HST/product/lcxv13ffq_rawtag_b.fits</td><td>AUXILIARY</td><td>--</td><td>RAWTAG_B</td><td>--</td><td>CALCOS</td><td>3.3.10</td><td>14268</td><td>lcxv13ffq_rawtag_b.fits</td><td>823680</td><td>2004636330</td></tr>\n",
       "<tr><td>2004636071</td><td>HST</td><td>spectrum</td><td>lcxv13ffq</td><td>DADS SPT file - Engineering telemetry ACS/WFC3/NICMOS/COS/STIS</td><td>S</td><td>mast:HST/product/lcxv13ffq_spt.fits</td><td>AUXILIARY</td><td>--</td><td>SPT</td><td>--</td><td>CALCOS</td><td>3.3.10</td><td>14268</td><td>lcxv13ffq_spt.fits</td><td>120960</td><td>2004636330</td></tr>\n",
       "<tr><td>2004636071</td><td>HST</td><td>spectrum</td><td>lcxv13ffq</td><td>DADS TRL file - Processing log</td><td>S</td><td>mast:HST/product/lcxv13ffq_trl.fits</td><td>AUXILIARY</td><td>--</td><td>TRL</td><td>--</td><td>CALCOS</td><td>3.3.10</td><td>14268</td><td>lcxv13ffq_trl.fits</td><td>54720</td><td>2004636330</td></tr>\n",
       "</table>"
      ],
      "text/plain": [
       "<Table masked=True length=52>\n",
       "  obsID    obs_collection dataproduct_type ...    size   parent_obsid\n",
       "  str10         str3            str8       ...   int64      str10    \n",
       "---------- -------------- ---------------- ... --------- ------------\n",
       "2004636330            HST         spectrum ...    112320   2004636330\n",
       "2004636330            HST         spectrum ...    216000   2004636330\n",
       "2004636330            HST         spectrum ...    164160   2004636330\n",
       "2004636330            HST         spectrum ...   1941120   2004636330\n",
       "2004636330            HST         spectrum ...   1941120   2004636330\n",
       "2004636330            HST         spectrum ...   1941120   2004636330\n",
       "2004636330            HST         spectrum ...   1941120   2004636330\n",
       "2004636330            HST         spectrum ...     11520   2004636330\n",
       "2004636068            HST         spectrum ...   1215360   2004636330\n",
       "2004636068            HST         spectrum ...   2099520   2004636330\n",
       "       ...            ...              ... ...       ...          ...\n",
       "2004636071            HST         spectrum ...   3510720   2004636330\n",
       "2004636071            HST         spectrum ... 167820480   2004636330\n",
       "2004636071            HST         spectrum ... 167820480   2004636330\n",
       "2004636071            HST         spectrum ... 167820480   2004636330\n",
       "2004636071            HST         spectrum ... 167820480   2004636330\n",
       "2004636071            HST         spectrum ...   1356480   2004636330\n",
       "2004636071            HST         spectrum ...    489600   2004636330\n",
       "2004636071            HST         spectrum ...    823680   2004636330\n",
       "2004636071            HST         spectrum ...    120960   2004636330\n",
       "2004636071            HST         spectrum ...     54720   2004636330"
      ]
     },
     "execution_count": 98,
     "metadata": {},
     "output_type": "execute_result"
    }
   ],
   "source": [
    "pl[pl['productType'] == 'AUXILIARY']"
   ]
  },
  {
   "cell_type": "code",
   "execution_count": null,
   "metadata": {},
   "outputs": [],
   "source": []
  }
 ],
 "metadata": {
  "kernelspec": {
   "display_name": "Python 3",
   "language": "python",
   "name": "python3"
  },
  "language_info": {
   "codemirror_mode": {
    "name": "ipython",
    "version": 3
   },
   "file_extension": ".py",
   "mimetype": "text/x-python",
   "name": "python",
   "nbconvert_exporter": "python",
   "pygments_lexer": "ipython3",
   "version": "3.6.12"
  }
 },
 "nbformat": 4,
 "nbformat_minor": 4
}
