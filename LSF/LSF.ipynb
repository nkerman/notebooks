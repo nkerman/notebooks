{
 "cells": [
  {
   "cell_type": "markdown",
   "metadata": {},
   "source": [
    "<a id=\"topL\"></a>\n",
    "\n",
    "# Working with the COS Line Spread Function\n",
    "\n",
    "# Learning Goals\n",
    "### This Notebook is designed to walk the user (*you*) through: **Working with the COS Line Spread Function(LSF) to simulate, fit, or model COS observations**\n",
    "   #### 1. [**Understanding the Line Spread Function**](#undL)\n",
    "   ##### - 1.1. [What is an LSF?](#whatL)\n",
    "   ##### - 1.2. [Getting the files you need](#whichL)\n",
    "\n",
    "   #### 2. [**Taking a look at the LSF kernels**](#lookL)\n",
    "   ##### - 2.1. [Reading in an LSF](#readL)\n",
    "   ##### - 2.2. [Plotting an LSF kernel](#plotL)\n",
    "\n",
    "   #### 3. [**Convolving an LSF**](#convL)\n",
    "   ##### - 3.1. [Defining some functions for LSF convolution](#funcL)\n",
    "   ###### + 3.1.1 [`get_disp_params`: Getting the dispersion relationship parameters](#fndispL)\n",
    "   ###### + 3.1.2 [`redefine_lsf`: Redefining the LSF in terms of wavelength](#fnredefL)\n",
    "   ###### + 3.1.3 [`convolve_lsf`: Applying the convolution](#fnconvL)\n",
    "   ##### - 3.2. [Convolving simple line profiles](#picketL)\n",
    "   ##### - 3.3. [Convolving real data from STIS](#stisL)\n"
   ]
  },
  {
   "cell_type": "markdown",
   "metadata": {},
   "source": [
    "\n",
    "# 0. Introduction\n",
    "#### The Cosmic Origins Spectrograph ([*COS*](https://www.nasa.gov/content/hubble-space-telescope-cosmic-origins-spectrograph)) is an ultraviolet spectrograph on-board the Hubble Space Telescope([*HST*](https://www.stsci.edu/hst/about)) with capabilities in the near ultraviolet (*NUV*) and far ultraviolet (*FUV*).\n",
    "\n",
    "#### This tutorial aims to prepare you to work with the COS data of your choice by walking you through convolving a template or high-resolution spectrum with the COS LSF. Note that at present, this notebook does not support working with NUV data.\n",
    "\n",
    "- For an in-depth manual to working with COS data and a discussion of caveats and user tips, see the [COS Data Handbook](https://hst-docs.stsci.edu/display/COSDHB/).\n",
    "- For a detailed overview of the COS instrument, see the [COS Instrument Handbook](https://hst-docs.stsci.edu/display/COSIHB/).\n"
   ]
  },
  {
   "cell_type": "markdown",
   "metadata": {},
   "source": [
    "## We will import the following packages:\n",
    "\n",
    "- `numpy` to handle arrays and functions\n",
    "- `astropy.io fits` and `astropy.table Table` for accessing FITS files\n",
    "- `astropy.modeling functional_models` to generate synthetic spectral line shapes\n",
    "- `astropy.convolution convolve` for a convolution of two discretized functions\n",
    "<!-- - glob, os, and shutil for working with system files -->\n",
    "- `astroquery.mast Mast` and `Observations` for finding and downloading data from the [MAST](https://mast.stsci.edu/portal/Mashup/Clients/Mast/Portal.html) archive\n",
    "- `scipy.interpolate interp1d` for interpolating two discretized functions to the same sampling\n",
    "- `matplotlib.pyplot` for plotting\n",
    "- `urllib` for downloading files stored at a web address online\n",
    "\n",
    "These python packages are installed standard with the the STScI conda distribution. For more information, see our notebook tutorial on [setting up an environment](https://github.com/spacetelescope/COS-Notebooks/blob/master/Setup/Setup.ipynb)."
   ]
  },
  {
   "cell_type": "code",
   "execution_count": null,
   "metadata": {
    "execution": {
     "iopub.execute_input": "2021-02-01T19:52:30.141392Z",
     "iopub.status.busy": "2021-02-01T19:52:30.139992Z",
     "iopub.status.idle": "2021-02-01T19:52:32.014778Z",
     "shell.execute_reply": "2021-02-01T19:52:32.015315Z"
    }
   },
   "outputs": [],
   "source": [
    "# for array manipulation\n",
    "import numpy as np\n",
    "# for reading fits files\n",
    "from astropy.table import Table\n",
    "from astropy.io import fits\n",
    "# For line profile functions\n",
    "from astropy.modeling import functional_models\n",
    "# For convolutions\n",
    "from astropy.convolution import convolve\n",
    "# For downloading the data\n",
    "from astroquery.mast import Observations\n",
    "# Interpolating a discretized function\n",
    "from scipy.interpolate import interp1d\n",
    "# Plotting\n",
    "from matplotlib import pyplot as plt\n",
    "# To download COS' LSF files within python\n",
    "import urllib "
   ]
  },
  {
   "cell_type": "markdown",
   "metadata": {},
   "source": [
    "## We will also define a few directories we will need:"
   ]
  },
  {
   "cell_type": "code",
   "execution_count": null,
   "metadata": {
    "execution": {
     "iopub.execute_input": "2021-02-01T19:52:32.059922Z",
     "iopub.status.busy": "2021-02-01T19:52:32.059306Z",
     "iopub.status.idle": "2021-02-01T19:52:32.427649Z",
     "shell.execute_reply": "2021-02-01T19:52:32.427057Z"
    }
   },
   "outputs": [],
   "source": [
    "# These will be important directories for the notebook\n",
    "datadir = './data/'\n",
    "outputdir = './output/'\n",
    "plotsdir = './output/plots/'\n",
    "\n",
    "# Make the directories in case they don't exist\n",
    "!mkdir ./output\n",
    "!mkdir ./output/plots\n",
    "!mkdir ./data"
   ]
  },
  {
   "cell_type": "markdown",
   "metadata": {},
   "source": [
    "## And we will need to download the data we wish to filter and analyze\n",
    "We choose the exposures with the association obs_ids: `LCRS51010`, because we know there is also STIS data on the source, AV75. For more information on downloading COS data, see our [notebook tutorial on downloading COS data](https://github.com/spacetelescope/COS-Notebooks/blob/master/DataDL/DataDl.ipynb)."
   ]
  },
  {
   "cell_type": "code",
   "execution_count": null,
   "metadata": {
    "execution": {
     "iopub.execute_input": "2021-02-01T19:52:32.433060Z",
     "iopub.status.busy": "2021-02-01T19:52:32.432410Z",
     "iopub.status.idle": "2021-02-01T19:52:33.770067Z",
     "shell.execute_reply": "2021-02-01T19:52:33.770686Z"
    }
   },
   "outputs": [],
   "source": [
    "pl = Observations.get_product_list(Observations.query_criteria(obs_id = 'LCRS51010')) # search for file, generate data product list\n",
    "download = Observations.download_products(pl[pl['productSubGroupDescription']=='X1DSUM'], # filter and download searched files\n",
    "                                          download_dir = datadir)\n",
    "fuvFile = download['Local Path'][0]# Give the program the path to your downloaded data"
   ]
  },
  {
   "cell_type": "markdown",
   "metadata": {},
   "source": [
    "<a id = undL></a>\n",
    "# 1. Understanding the Line Spread Function\n",
    "\n",
    "Each COS observation is taken with a specific **grating** and a specific **central wavelength setting** (**cenwave**). Each such configuration (grating and cenwave) and thus each COS dataset has a set of corresponding Line Spread Functions (LSFs). \n",
    "\n",
    "<a id = whatL></a>\n",
    "## 1.1. What is an LSF?\n",
    "A Line Spread Function (LSF) is a model of a spectrograph's response to a monochromatic light source: it explains how an infinitely thin spectral line (a [delta function](https://en.wikipedia.org/wiki/Dirac_delta_function)) input into the spectrograph would be output at the focal plane. A spectrum with infinite sprectral resolution convolved with the COS LSF will reproduce the COS spectral line profiles:\n",
    "\n",
    "$$True\\ Input\\ Spectrum \\ast COS\\ LSF = True\\ Output\\ Spectrum$$\n",
    "\n",
    "Of course, we don't have access to a \"true\", infinite resolution input spectrum, nor can we know the infinite resolution LSF. The best we can do is use a model spectrum, or a spectrum from a higher resolution spectrograph (STIS often works well) and convolve it with a kernel of our LSF model. Convolving these yields our model output spectrum:\n",
    "\n",
    "$$Model\\ Input\\ Spectrum \\ast COS\\ LSF\\ Model = Model\\ Output\\ Spectrum$$\n",
    "\n",
    "***Note*** *that there is a corresponding spread function in the cross-dispersion direction, known as the cross-dispersion spread function (CDSF). These functions are also modelled by the COS team and hosted on their website listed below. Working with the CDSFs is out of the scope of this notebook.*\n",
    "\n",
    "#### How does COS handle the LSF?\n",
    "\n",
    "The COS LSFs are generated using an optical model of the spectrograph in the program [Code V](https://www.synopsys.com/optical-solutions/codev.html), and are then validated using real spectral data obtained with the instrument. The LSF kernels are sampled at regular intervals over the wavelength range of each COS configuration. Each of these wavelengths thus corresponds to an LSF kernel. The kernel size (in [COS \"pixels\"](https://hst-docs.stsci.edu/cosihb/glossary)) of each LSF varies for the near ultraviolet (NUV) and far ultraviolet (FUV) modes, as does the sample rate (how many Angstroms between sampled kernels). These values are shown below:\n",
    "\n",
    "### Table 1.1:\n",
    "### <center>Line Spread Function (LSF) kernel parameters for the COS instrument</center>\n",
    "\n",
    "\n",
    "\n",
    "||LSF kernels sampled every... |Kernel size... |\n",
    "|-|-|-|\n",
    "|**COS/NUV**|100 Å|321 *pixels*|\n",
    "|**COS/FUV**|5 Å|101 *pixels*|\n"
   ]
  },
  {
   "cell_type": "markdown",
   "metadata": {},
   "source": [
    "#### How are the LSF files structured?\n",
    "\n",
    "In short, the LSF files are structured as a list of LSF profile kernels. It begins with a space-separated list of central sample wavelengths and the input monochromatic lines used by Code V. These are not to be confused with COS central wavelength settings, or cenwaves. To avoid confusing the two concepts, we'll call the central wavelengths of the LSF kernels the **LSF wavelengths**.\n"
   ]
  },
  {
   "cell_type": "markdown",
   "metadata": {},
   "source": [
    "<a id = whichL></a>\n",
    "## 1.2. Getting the files you need\n",
    "\n",
    "#### Which LSF files will you need?\n",
    "\n",
    "This depends on your data's parameters, specifically those listed in Table 1.2.\n",
    "\n",
    "|**Parameter**|**Corresponding Header Keyword**|**Example used in this notebook**|\n",
    "|-|-|-|\n",
    "|Wavelength range|*DETECTOR*|FUV|\n",
    "|COS lifetime position|*LIFE_ADJ*|3|\n",
    "|Grating|*OPT_ELEM*|G130M|\n",
    "|Central wavelength setting|*CENWAVE*|1291|\n",
    "\n",
    "If your data was taken in COS' NUV configuration, there's only one NUV LSF file which contains all the LSF profiles for the entire NUV. Things are a bit more complicated for FUV data, where you will need to choose an LSF file based on the [COS Lifetime position](https://hst-docs.stsci.edu/cosdhb/appendix-a-cos-lifetime-positions/a-1-cos-lifetime-positions), [grating](https://hst-docs.stsci.edu/cosihb/chapter-13-spectroscopic-reference-material/13-3-gratings), and [central wavelength setting](https://hst-docs.stsci.edu/cosihb/chapter-5-spectroscopy-with-cos/5-5-spanning-the-gap-with-multiple-cenwave-settings) used to capture your data.\n",
    "\n",
    "You'll also need to get the DISPTAB file associated with your data. This Dispersion Coefficient Table, or DISPTAB, file contains polynomial coefficients to convert from pixel number to wavelength. You can find all of these in your data's primary fits header. You can do figure out the relevant DISPTAB file by examining your data's header in [DS9](https://sites.google.com/cfa.harvard.edu/saoimageds9) or other software, but we'll briefly do this programmatically below:"
   ]
  },
  {
   "cell_type": "code",
   "execution_count": null,
   "metadata": {
    "execution": {
     "iopub.execute_input": "2021-02-01T19:52:33.776076Z",
     "iopub.status.busy": "2021-02-01T19:52:33.775557Z",
     "iopub.status.idle": "2021-02-01T19:52:33.780616Z",
     "shell.execute_reply": "2021-02-01T19:52:33.781202Z"
    }
   },
   "outputs": [],
   "source": [
    "fuvHeader0 = fits.getheader(fuvFile, ext = 0) # Grab the primary header\n",
    "print(f\"For the file {fuvFile}, the relevant parameters are: \")\n",
    "param_dict = {} # Make a dict to store what you find here\n",
    "\n",
    "for hdrKeyword in ['DETECTOR', 'OPT_ELEM', 'LIFE_ADJ', 'CENWAVE', 'DISPTAB']: # print out the relevant values\n",
    "    try: # For DISPTAB\n",
    "        value = fuvHeader0[hdrKeyword].split('$')[1] # Save the key/value pairs to the dictionary, DISPTAB needs the split\n",
    "        param_dict[hdrKeyword] = value\n",
    "    except: # For other params\n",
    "        value = fuvHeader0[hdrKeyword] # Save the key/value pairs to the dictionary\n",
    "        param_dict[hdrKeyword] = value\n",
    "    print(f\"{hdrKeyword} = {value}\") # Print the key/value pairs"
   ]
  },
  {
   "cell_type": "markdown",
   "metadata": {},
   "source": [
    "##### Now that you know *which* LSF files you need, we'll go gather them from the COS team's website:"
   ]
  },
  {
   "cell_type": "markdown",
   "metadata": {},
   "source": [
    "#### Where can you find the LSF files?\n",
    "The COS team maintains up-to-date LSF files on the [COS Spectral Resolution page](https://www.stsci.edu/hst/instrumentation/cos/performance/spectral-resolution). Opening up this link leads to a page like that shown in Fig. 1.1, where the LSF files are discussed in detail. The bottom part of this page has links to all the relavent files. The links at the top of the page will take you to the relevant section. In Fig. 1.1, we have circled in black the link to the section pertaining to our data: FUV at the Lifetime Position: 3.\n",
    "\n",
    "### Fig 1.1\n",
    "### <center>Screenshot of the COS Spectral Resolution Site</center>\n",
    "<center><img src=./figures/LSFHomepage.png width =\"900\" title=\"COS Spectral Resolution Site\"> </center>\n",
    "\n",
    "Clicking on the circled link takes us to the table of hyperlinks to all the files perataining to data taken with the FUV, Lifetime Postition 3 configutation, shown in Fig. 1.2:\n",
    "\n",
    "### Fig 1.2\n",
    "### <center>Screenshot of the COS Spectral Resolution Site - Focus on LP-POS 3</center>\n",
    "<center><img src=./figures/LSFHomepage2.png width =\"900\" title=\"COS Spectral Resolution Site - Lifetime Position 3\"> </center>\n",
    "\n",
    "Circled in solid red is the button to download the LSF file we need for our data with CENWAVE = 1291. Circled in dashed black is the corresponding CDSF.\n",
    "\n",
    "You can click on the solid red circled button to download the LSF file and move it to this current working directory **or** right-click and select \"Download Linked File As...\" and download directly to this directory.\n",
    "* *This step may look somewhat different depending on your browser*\n",
    "* *If you're unsure of the current working directory, un-comment the `!pwd` statement in the next cell, and run the cell.*"
   ]
  },
  {
   "cell_type": "code",
   "execution_count": null,
   "metadata": {
    "execution": {
     "iopub.execute_input": "2021-02-01T19:52:33.784272Z",
     "iopub.status.busy": "2021-02-01T19:52:33.783761Z",
     "iopub.status.idle": "2021-02-01T19:52:33.785238Z",
     "shell.execute_reply": "2021-02-01T19:52:33.785756Z"
    }
   },
   "outputs": [],
   "source": [
    "# !pwd"
   ]
  },
  {
   "cell_type": "markdown",
   "metadata": {},
   "source": [
    "These files can also be downloaded programattically from with python, with the function we define below:"
   ]
  },
  {
   "cell_type": "code",
   "execution_count": null,
   "metadata": {
    "execution": {
     "iopub.execute_input": "2021-02-01T19:52:33.791009Z",
     "iopub.status.busy": "2021-02-01T19:52:33.790477Z",
     "iopub.status.idle": "2021-02-01T19:52:33.792229Z",
     "shell.execute_reply": "2021-02-01T19:52:33.792768Z"
    }
   },
   "outputs": [],
   "source": [
    "def fetch_files(det, grating, lpPos, cenwave, disptab):\n",
    "    \"\"\"\n",
    "    Given all the inputs: (detector, grating, LP-POS, cenwave, dispersion table,) this will download both\n",
    "    the LSF file and Disptab file you should use in the convolution and return their paths.\n",
    "    Returns:\n",
    "    LSF_file_name (str): filename of the new downloaded LSF file\n",
    "    disptab_path (str): path to the new downloaded disptab file\n",
    "    \"\"\"\n",
    "    COS_site_rootname = \"https://www.stsci.edu/files/live/sites/www/files/home/hst/instrumentation/cos/\"\\\n",
    "    \"performance/spectral-resolution/_documents/\" # Link to where all the files live - split into 2 lines\n",
    "    if det == \"NUV\": # Only one file for NUV\n",
    "        LSF_file_name = \"nuv_model_lsf.dat\"\n",
    "    elif det == \"FUV\": # FUV files follow a naming pattern\n",
    "        LSF_file_name = f\"aa_LSFTable_{grating}_{cenwave}_LP{lpPos}_cn.dat\"\n",
    "        \n",
    "    LSF_file_webpath = COS_site_rootname + LSF_file_name # Where to find file online\n",
    "    urllib.request.urlretrieve(LSF_file_webpath, datadir+LSF_file_name) # Where to save file to locally\n",
    "    print(f\"Downloaded LSF file to {datadir + LSF_file_name}\")\n",
    "    # And we'll need to get the DISPTAB file as well\n",
    "    disptab_path = datadir + disptab\n",
    "    urllib.request.urlretrieve(f\"https://hst-crds.stsci.edu/unchecked_get/references/hst/{disptab}\", disptab_path)\n",
    "    print(f\"Downloaded DISPTAB file to {disptab_path}\")\n",
    "\n",
    "    return LSF_file_name, disptab_path"
   ]
  },
  {
   "cell_type": "markdown",
   "metadata": {},
   "source": [
    "We'll run this function with the parameters we saved earlier to gather the proper LSF file:"
   ]
  },
  {
   "cell_type": "code",
   "execution_count": null,
   "metadata": {
    "execution": {
     "iopub.execute_input": "2021-02-01T19:52:33.796304Z",
     "iopub.status.busy": "2021-02-01T19:52:33.795677Z",
     "iopub.status.idle": "2021-02-01T19:52:34.802917Z",
     "shell.execute_reply": "2021-02-01T19:52:34.803521Z"
    }
   },
   "outputs": [],
   "source": [
    "# We'll pass that fetch function the parameters we determined earlier\n",
    "# This phrasing works because of the order in which we added the params to the dict\n",
    "LSF_file_name, disptab_path = fetch_files(*list(param_dict.values())) "
   ]
  },
  {
   "cell_type": "markdown",
   "metadata": {},
   "source": [
    "<a id = lookL></a>\n",
    "# 2. Taking a look at the LSF kernels\n",
    "<a id = readL></a>\n",
    "## 2.1. Reading in an LSF\n",
    "#### Below, we create a simple function to read in an LSF file as an astropy table:"
   ]
  },
  {
   "cell_type": "code",
   "execution_count": null,
   "metadata": {
    "execution": {
     "iopub.execute_input": "2021-02-01T19:52:34.808589Z",
     "iopub.status.busy": "2021-02-01T19:52:34.807952Z",
     "iopub.status.idle": "2021-02-01T19:52:34.809752Z",
     "shell.execute_reply": "2021-02-01T19:52:34.810328Z"
    }
   },
   "outputs": [],
   "source": [
    "def read_lsf(filename):\n",
    "    # This is the table of all the LSFs: called \"lsf\"\n",
    "    # The first column is a list of the wavelengths corresponding to the line profile, so we set our header accordingly\n",
    "    lsf = Table.read(filename, format='ascii', header_start=0)\n",
    "\n",
    "    # This is the range of each LSF in pixels (for FUV from -160 to +160, inclusive)\n",
    "    # middle pixel of the lsf is considered zero ; center is relative zero\n",
    "    pix = np.arange(len(lsf)) - len(lsf) // 2 # integer division to yield whole pixels\n",
    "\n",
    "    # the column names returned as integers.\n",
    "    lsf_wvlns = np.array([int(k) for k in lsf.keys()])\n",
    "\n",
    "    return lsf, pix, lsf_wvlns"
   ]
  },
  {
   "cell_type": "markdown",
   "metadata": {},
   "source": [
    "#### Now let's read the LSF file we downloaded and display the first 5 columns:\n",
    "*Because this is an FUV file, the columns are 321 values long, corresponding to the 321 pixel size of an LSF kernal in the FUV.*"
   ]
  },
  {
   "cell_type": "code",
   "execution_count": null,
   "metadata": {
    "execution": {
     "iopub.execute_input": "2021-02-01T19:52:34.814787Z",
     "iopub.status.busy": "2021-02-01T19:52:34.814272Z",
     "iopub.status.idle": "2021-02-01T19:52:34.873030Z",
     "shell.execute_reply": "2021-02-01T19:52:34.873574Z"
    }
   },
   "outputs": [],
   "source": [
    "lsf, pix, lsf_wvlns = read_lsf(datadir + LSF_file_name)\n",
    "lsf[lsf.colnames[:5]]"
   ]
  },
  {
   "cell_type": "markdown",
   "metadata": {},
   "source": [
    "<a id = plotL></a>\n",
    "## 2.2. Plotting an LSF kernel\n",
    "#### It's easy enough to plot the LSF kernels to take a look.\n",
    "Here's a very simple plot of the first LSF kernel sampled at 1134 Å:"
   ]
  },
  {
   "cell_type": "code",
   "execution_count": null,
   "metadata": {
    "execution": {
     "iopub.execute_input": "2021-02-01T19:52:34.890073Z",
     "iopub.status.busy": "2021-02-01T19:52:34.889608Z",
     "iopub.status.idle": "2021-02-01T19:52:35.339626Z",
     "shell.execute_reply": "2021-02-01T19:52:35.340131Z"
    }
   },
   "outputs": [],
   "source": [
    "# Set up the figure\n",
    "plt.figure(figsize = (10,8))\n",
    "# Fill the figure with a plot of the data\n",
    "plt.plot(pix, lsf['1134'])\n",
    "# Give fig the title and labels\n",
    "plt.title(\"Figure 2.1\\nCOS FUV LSF kernel sampled at 1134 Å\", size = 20)\n",
    "plt.xlabel(\"Pixel\", size = 20)\n",
    "plt.ylabel(\"Flux [$normalized,unitless$]\", size = 20)\n",
    "# format and save the figure\n",
    "plt.tight_layout()\n",
    "plt.savefig(plotsdir + 'oneKernel.png', bbox_inches = 'tight')"
   ]
  },
  {
   "cell_type": "markdown",
   "metadata": {},
   "source": [
    "#### We'll now make a more complex plot showing all of the lines contained in the LSF file, distributed in wavelength space\n",
    "*Note* that while the centers of the lines are correctly mapped to the LSF wavelength at which they were sampled, their kernel width *in pixels* has only been roughly translated to a wavelength range in Å. In short, the x-axis is not strictly to-scale. This will be rectified by the remapping shown in Fig 3.1."
   ]
  },
  {
   "cell_type": "code",
   "execution_count": null,
   "metadata": {
    "execution": {
     "iopub.execute_input": "2021-02-01T19:52:35.356302Z",
     "iopub.status.busy": "2021-02-01T19:52:35.355840Z",
     "iopub.status.idle": "2021-02-01T19:52:36.136264Z",
     "shell.execute_reply": "2021-02-01T19:52:36.136930Z"
    }
   },
   "outputs": [],
   "source": [
    "fig, (ax0,ax1) = plt.subplots(2,1, figsize = (10,8), dpi = 100)\n",
    "\n",
    "# Loop through the lsf kernels\n",
    "for i, col in enumerate(lsf.colnames):\n",
    "    line_wvln = int(col) # central position\n",
    "    contents = lsf[col].data # actual shape\n",
    "    if line_wvln < 1291: # split into the FUVB segment\n",
    "        xrange = (0.0099*pix + line_wvln) # ROUGHLY convert pix to wvln\n",
    "        ax1.plot(xrange , contents, linewidth = 0.5) # Plot the kernel\n",
    "        ax1.axvline(line_wvln, linewidth = 0.1) # plot the LSF wvln as a faded line\n",
    "    elif line_wvln > 1291: # split into the FUVA segment\n",
    "        xrange = (0.0099*pix + line_wvln) # ROUGHLY convert pix to wvln\n",
    "        ax0.plot(xrange , contents, linewidth = 0.5) # Plot the kernel\n",
    "        ax0.axvline(line_wvln, linewidth = 0.1) # plot the LSF wvln as a faded line\n",
    "ax0.set_xlim(1290,1435)\n",
    "ax1.set_xlim(1125,1295)\n",
    "# Add labels, titles and text\n",
    "fig.suptitle(f\"Fig 2.2\\nAll the LSF kernels in {LSF_file_name}\")\n",
    "ax1.set_title(\"FUVB Detector\")\n",
    "ax0.set_title(\"FUVA Detector\")\n",
    "ax1.set_xlabel(\"Wavelength [$\\AA$]\", size = 14)\n",
    "fig.text(s = \"Flux [$normalized,unitless$]\", x = -0.01, y = 0.35, rotation = 'vertical' , size = 14)\n",
    "\n",
    "# format and save the figure\n",
    "plt.tight_layout()\n",
    "plt.savefig(plotsdir + 'allKernels.png', bbox_inches = 'tight')"
   ]
  },
  {
   "cell_type": "markdown",
   "metadata": {},
   "source": [
    "<a id = convL></a>\n",
    "# 3. Convolving an LSF\n",
    "\n",
    "Now we come to the central point of the notebook, convolving a spectrum with the COS LSF. We'll begin by defining some functions we'll use for the convolution."
   ]
  },
  {
   "cell_type": "markdown",
   "metadata": {},
   "source": [
    "<a id = funcL></a>\n",
    "## 3.1. Defining some functions for LSF convolution\n",
    "\n",
    "We've already defined a function to read in the LSF file, but we'll need the main function to take a spectrum and convolve it with the LSF kernel. We'll call this function:`convolve_lsf`. This function will, in turn, call two short functions: `get_disp_params` to and `redefine_lsf`:"
   ]
  },
  {
   "cell_type": "markdown",
   "metadata": {},
   "source": [
    "<a id = fndispL></a>\n",
    "### 3.1.1. Getting the dispersion relationship parameters\n",
    "### First, we'll define a function, `get_disp_params`, to interpret the DISPTAB to find the dispersion relationship.\n",
    "If provided with a range of pixel values, it will apply the dispersion relationship to those values and return the equivalent wavelength values as well as the dispersion coefficients."
   ]
  },
  {
   "cell_type": "code",
   "execution_count": null,
   "metadata": {
    "execution": {
     "iopub.execute_input": "2021-02-01T19:52:36.145172Z",
     "iopub.status.busy": "2021-02-01T19:52:36.144642Z",
     "iopub.status.idle": "2021-02-01T19:52:36.146227Z",
     "shell.execute_reply": "2021-02-01T19:52:36.146763Z"
    }
   },
   "outputs": [],
   "source": [
    "def get_disp_params(disptab, cenwave, segment, x=[]):\n",
    "    \"\"\"\n",
    "    Helper function to redefine_lsf(). Reads through a DISPTAB file and gives relevant\\\n",
    "    dispersion relationship/wavelength solution over input pixels.\n",
    "    Parameters:\n",
    "    disptab (str): Path to your DISPTAB file.\n",
    "    cenwave (str): Cenwave for calculation of dispersion relationship.\n",
    "    segment (str): FUVA or FUVB?\n",
    "    x (list): Range in pixels over which to calculate wvln with dispersion relationship (optional).\n",
    "    Returns:\n",
    "    disp_coeff (list): Coefficients of the relevant polynomial dispersion relationship\n",
    "    wavelength (list; if applicable): Wavelengths corresponding to input x pixels \n",
    "    \"\"\"\n",
    "    with fits.open(disptab) as d:\n",
    "        wh_disp= np.where((d[1].data['cenwave'] == cenwave) &\n",
    "                          (d[1].data['segment'] == segment) &\n",
    "                          (d[1].data['aperture'] == 'PSA'))[0]\n",
    "        disp_coeff = d[1].data[wh_disp]['COEFF'][0] # for some reason this returns nested list [[arr]]\n",
    "        d_tv03 = d[1].data[wh_disp]['D_TV03'] # Offset from WCA to PSA in Thermal Vac. 2003 data\n",
    "        d_orbit = d[1].data[wh_disp]['D'] # Current offset from WCA to PSA\n",
    "\n",
    "    delta_d = d_tv03 - d_orbit\n",
    "\n",
    "    if len(x): # If given a pixel range, build up a polynomial wvln solution pix -> λ\n",
    "        wavelength = np.polyval(p=disp_coeff[::-1], x = np.arange(16384))\n",
    "        return disp_coeff, wavelength\n",
    "    else: # If x is empty:\n",
    "        return disp_coeff"
   ]
  },
  {
   "cell_type": "markdown",
   "metadata": {},
   "source": [
    "<a id=\"fnredefL\"></a>\n",
    "### 3.1.2. Redefining the LSF in terms of wavelength\n",
    "\n",
    "### Now, we'll define a function, `redefine_lsf`, to apply the dispersion relationship to the LSF kernels.\n",
    "This effectively converts an LSF kernel from a function of pixel to a function of wavelength, making it compatible with a spectrum. This function has currently only been implemented for working with FUV data."
   ]
  },
  {
   "cell_type": "code",
   "execution_count": null,
   "metadata": {
    "execution": {
     "iopub.execute_input": "2021-02-01T19:52:36.156189Z",
     "iopub.status.busy": "2021-02-01T19:52:36.155621Z",
     "iopub.status.idle": "2021-02-01T19:52:36.157983Z",
     "shell.execute_reply": "2021-02-01T19:52:36.157461Z"
    }
   },
   "outputs": [],
   "source": [
    "def redefine_lsf(lsf_file, cenwave, disptab, detector='FUV'):\n",
    "    \"\"\"\n",
    "    Helper function to convolve_lsf(). Converts the LSF kernels in the LSF file from a fn(pixel) -> fn(λ)\\\n",
    "    which can then be used by convolve_lsf() and re-bins the kernels. Only works for FUV.\n",
    "    Parameters:\n",
    "    lsf_file (str): path to your LSF file\n",
    "    cenwave (str): Cenwave for calculation of dispersion relationship\n",
    "    disptab (str): path to your DISPTAB file\n",
    "    detector (str): FUV or NUV? (only FUV is implemented, assumed FUV)\n",
    "    Returns:\n",
    "    new_lsf (numpy.ndarray): Remapped LSF kernels.\n",
    "    new_w (numpy.ndarray): New LSF kernel's LSF wavelengths.\n",
    "    step (float): first order coefficient of the FUVA dispersion relationship; proxy for Δλ/Δpixel.\n",
    "    \"\"\"\n",
    "    \n",
    "    \n",
    "    if detector == 'FUV':\n",
    "        # Works with FUV detector only at present\n",
    "        xfull = np.arange(16384)\n",
    "\n",
    "    elif detector == 'NUV':\n",
    "        raise NotImplementedError()\n",
    "        xfull = np.arange(1024)\n",
    "\n",
    "    # Read in the dispersion relationship here for the segments \n",
    "    ### FUVA is simple\n",
    "    disp_coeff_a, wavelength_a = get_disp_params(disptab, cenwave, 'FUVA', x=xfull)\n",
    "    ### FUVB isn't taken for cenwave 1105\n",
    "    if cenwave != 1105:\n",
    "        disp_coeff_b, wavelength_b = get_disp_params(disptab, cenwave, 'FUVB', x=xfull)\n",
    "    elif cenwave == 1105:\n",
    "        # 1105 doesn't have an FUVB so set it to something arbitrary, clearly not real:\n",
    "        wavelength_b = [-99., 0.]\n",
    "\n",
    "    # Get the step size info from the FUVA 1st order dispersion coefficient\n",
    "    step = disp_coeff_a[1] \n",
    "\n",
    "    # Read in the lsf file\n",
    "    lsf, pix, w = read_lsf(lsf_file)\n",
    "\n",
    "    # take median spacing between original LSF kernels\n",
    "    deltaw = np.median(np.diff(w))\n",
    "    \n",
    "    lsf_array = [np.array(lsf[key]) for key in lsf.keys()] \n",
    "    if deltaw > len(pix)*step*2: # makes sure the spacing of the original LSF wvlns is not too wide\n",
    "        raise ValueError('deltaw too large:\\ndeltaw:{}\\nthreshold:{}'.format(deltaw, len(pix)*step*2))\n",
    "\n",
    "    # this is all a set up of the bins we want to use\n",
    "    new_deltaw = round(len(pix)*step*2.) # The wvln difference between kernels of the new LSF should be about twice their width\n",
    "    new_nw = int(round((max(w)-min(w))/new_deltaw))+1 # nw = number of LSF wavelengths\n",
    "    new_w = min(w) + np.arange(new_nw)*new_deltaw # new version of lsf_wvlns\n",
    "\n",
    "    # populating the lsf with the proper bins\n",
    "    new_lsf = np.zeros((len(pix), new_nw)) #empty 2-D array to populate\n",
    "    for i, current_w in enumerate(new_w):\n",
    "        dist = abs(current_w - w) # Find closest original LSF wavelength to new LSF wavelength\n",
    "        lsf_index = np.argmin(dist)\n",
    "        orig_lsf_wvln_key = lsf.keys()[lsf_index] # column name corresponding to closest orig LSF wvln\n",
    "        new_lsf[:, i] = np.array(lsf[orig_lsf_wvln_key]) # assign new LSF wvln the kernel of the closest original lsf wvln\n",
    "    return new_lsf, new_w, step"
   ]
  },
  {
   "cell_type": "code",
   "execution_count": null,
   "metadata": {
    "execution": {
     "iopub.execute_input": "2021-02-01T19:52:36.161214Z",
     "iopub.status.busy": "2021-02-01T19:52:36.160683Z",
     "iopub.status.idle": "2021-02-01T19:52:36.297028Z",
     "shell.execute_reply": "2021-02-01T19:52:36.297493Z"
    }
   },
   "outputs": [],
   "source": [
    "new_lsf, new_w, step = redefine_lsf(datadir+LSF_file_name, param_dict['CENWAVE'], datadir+param_dict['DISPTAB'])"
   ]
  },
  {
   "cell_type": "markdown",
   "metadata": {},
   "source": [
    "### Let's make a version of Fig. 2.2 with these newly remapped LSF kernels:"
   ]
  },
  {
   "cell_type": "code",
   "execution_count": null,
   "metadata": {
    "execution": {
     "iopub.execute_input": "2021-02-01T19:52:36.314577Z",
     "iopub.status.busy": "2021-02-01T19:52:36.313152Z",
     "iopub.status.idle": "2021-02-01T19:52:37.126634Z",
     "shell.execute_reply": "2021-02-01T19:52:37.127101Z"
    }
   },
   "outputs": [],
   "source": [
    "fig, (ax0,ax1) = plt.subplots(2,1, figsize = (10,8), dpi = 100)\n",
    "\n",
    "# Loop through the NEW remapped lsf kernels\n",
    "for i, col in enumerate(new_w):\n",
    "    line_wvln = int(col) # central position\n",
    "    contents = new_lsf[:,i] # actual shape\n",
    "    if line_wvln < 1291: # split into the FUVB segment\n",
    "        xrange = (new_w[i] + pix*step) # ROUGHLY convert pix to wvln\n",
    "        ax1.plot(xrange , contents, linewidth = 0.5) # Plot the kernel\n",
    "        ax1.axvline(line_wvln, linewidth = 0.1) # plot the LSF wvln as a faded line\n",
    "    elif line_wvln > 1291: # split into the FUVA segment\n",
    "        xrange = (new_w[i] + pix*step) # ROUGHLY convert pix to wvln\n",
    "        ax0.plot(xrange , contents, linewidth = 0.5) # Plot the kernel\n",
    "        ax0.axvline(line_wvln, linewidth = 0.1) # plot the LSF wvln as a faded line\n",
    "\n",
    "# Add labels, titles and text\n",
    "fig.suptitle(f\"Fig 3.1\\nAll the $remapped$ LSF kernels in {LSF_file_name}\")\n",
    "ax1.set_title(\"FUVB Detector\")\n",
    "ax0.set_title(\"FUVA Detector\")\n",
    "ax0.set_xlim(1290,1435)\n",
    "ax1.set_xlim(1125,1295)\n",
    "\n",
    "ax1.set_xlabel(\"Wavelength [$\\AA$]\", size = 14)\n",
    "fig.text(s = \"Flux [$normalized,unitless$]\", x = -0.01, y = 0.35, rotation = 'vertical' , size = 14)\n",
    "\n",
    "# format and save the figure\n",
    "plt.tight_layout()\n",
    "plt.savefig(plotsdir + 'allKernels_new.png', bbox_inches = 'tight')"
   ]
  },
  {
   "cell_type": "markdown",
   "metadata": {},
   "source": [
    "<a id = fnconvL></a>\n",
    "### 3.1.3. Applying the convolution\n",
    "\n",
    "### Finally, we'll define the main function, `convolve_lsf`, to convolve the template spectrum with the redefined LSF:\n",
    "\n"
   ]
  },
  {
   "cell_type": "code",
   "execution_count": null,
   "metadata": {
    "execution": {
     "iopub.execute_input": "2021-02-01T19:52:37.134236Z",
     "iopub.status.busy": "2021-02-01T19:52:37.133786Z",
     "iopub.status.idle": "2021-02-01T19:52:37.135683Z",
     "shell.execute_reply": "2021-02-01T19:52:37.135997Z"
    }
   },
   "outputs": [],
   "source": [
    "def convolve_lsf(wavelength, spec, cenwave, lsf_file, disptab):\n",
    "    \"\"\"\n",
    "    Main function; Convolves an input spectrum - i.e. template or STIS spectrum - with the COS LSF.\n",
    "    Parameters:\n",
    "    wavelength (list or array): Wavelengths of the spectrum to convolve.\n",
    "    spec (list or array): Fluxes or intensities of the spectrum to convolve.\n",
    "    cenwave (str): Cenwave for calculation of dispersion relationship\n",
    "    lsf_file (str): Path to your LSF file\n",
    "    disptab (str): Path to your DISPTAB file\n",
    "    Returns:\n",
    "    wave_cos (numpy.ndarray): Wavelengths of convolved spectrum.!Different length from input wvln\n",
    "    final_spec (numpy.ndarray): New LSF kernel's LSF wavelengths.!Different length from input spec\n",
    "    \"\"\"\n",
    "    # First calls redefine to get right format of LSF kernels \n",
    "    new_lsf, new_w, step = redefine_lsf(lsf_file, cenwave, disptab)\n",
    "\n",
    "    # sets up new wavelength scale used in the convolution\n",
    "    nstep = round(( max(wavelength)-min(wavelength))/step)-1\n",
    "    wave_cos = min(wavelength) + np.arange(nstep)*step\n",
    "\n",
    "    # resampling onto the input spectrum's wavelength scale\n",
    "    interp_func = interp1d(wavelength, spec) # builds up interpolated function from input spectrum\n",
    "    spec_cos    = interp_func(wave_cos) # builds interpolated initial spectrum at COS' wavelength scale for convolution\n",
    "    final_spec  = interp_func(wave_cos) # Initializes final spectrum to the interpolated input spectrum\n",
    "\n",
    "    \n",
    "    for i, w in enumerate(new_w): # Loop through the redefined LSF kernels\n",
    "        # First need to find the boundaries of each kernel's \"jurisdiction\"\n",
    "        # The first and last elements need to be treated separately\n",
    "        if i == 0:              # First kernel\n",
    "            diff_wave_left = 500\n",
    "            diff_wave_right = (new_w[i+1]-w)/2.\n",
    "        elif i == len(new_w)-1: # Last kernel\n",
    "            diff_wave_right = 500\n",
    "            diff_wave_left = (w-new_w[i-1])/2.\n",
    "        else:                   # All other kernels\n",
    "            diff_wave_left = (w-new_w[i-1])/2.\n",
    "            diff_wave_right = (new_w[i+1]-w)/2.\n",
    " \n",
    "        # splitting up the spectrum into slices around the redefined LSF kernel wvlns\n",
    "        # will apply the kernel corresponding to that chunk to that region of the spectrum - its \"jurisdiction\"\n",
    "        chunk = np.where( (wave_cos < w+diff_wave_right) &\n",
    "                        (wave_cos >= w-diff_wave_left))[0]\n",
    "        if len(chunk) == 0:\n",
    "            # off the edge, go to the next chunk\n",
    "            continue\n",
    "\n",
    "        current_lsf = new_lsf[:, i] # selects the current kernel \n",
    "\n",
    "        if len(chunk) >= len(current_lsf): # Makes sure that the kernel is smaller than the chunk\n",
    "            final_spec[chunk] = convolve(spec_cos[chunk], current_lsf, # Applies the actual convolution\n",
    "                                         boundary=\"extend\", normalize_kernel=True)\n",
    "\n",
    "    return wave_cos, final_spec # Remember, not the same length as input spectrum data!"
   ]
  },
  {
   "cell_type": "markdown",
   "metadata": {},
   "source": [
    "<a id = picketL></a>\n",
    "## 3.2. Convolving simple line profiles"
   ]
  },
  {
   "cell_type": "markdown",
   "metadata": {},
   "source": [
    "### Let's demonstrate the convolution with a quick initial plot.\n",
    "The cell below first creates a simple synthetic spectrum (with a wavelength range from 1147-1153Å and a Voigt profile line at 1150Å), then convolves it with the COS LSF. It then plots the two spectra together."
   ]
  },
  {
   "cell_type": "code",
   "execution_count": null,
   "metadata": {
    "execution": {
     "iopub.execute_input": "2021-02-01T19:52:37.143027Z",
     "iopub.status.busy": "2021-02-01T19:52:37.142579Z",
     "iopub.status.idle": "2021-02-01T19:52:37.658017Z",
     "shell.execute_reply": "2021-02-01T19:52:37.658550Z"
    }
   },
   "outputs": [],
   "source": [
    "##### Generate data:\n",
    "# Define a model spectral line with a Voigt profile\n",
    "voigt_shape = functional_models.Voigt1D(x_0 = 1150, amplitude_L = 1, fwhm_G = .1, fwhm_L = 0.1) \n",
    "# Make a simple spectrum with just that line at 1150 Å\n",
    "wvln_in = np.linspace(1147,1153, int(1E5)) # generate x data - Minimum size of Δ6Å for the kernel to apply here.\n",
    "spec_in = voigt_shape(wvln_in) # Generate the y data\n",
    "spec_in /= max(spec_in) # Normalize the y data to a max of 1\n",
    "### Run the convolution\n",
    "wvln_out, spec_out = convolve_lsf(wvln_in, spec_in, 1291, datadir+LSF_file_name, datadir+param_dict['DISPTAB'])\n",
    "############################################################################################\n",
    "##### Make a plot from that data:\n",
    "plt.figure(figsize = (10,8)) # Set up figure\n",
    "# Plot the two spectra\n",
    "plt.plot(wvln_in, spec_in, label = \"Un-Convolved Voigt line spectrum\")\n",
    "plt.plot(wvln_out, spec_out, linestyle = '--', linewidth = 2,\n",
    "         c = 'k', label = \"Convolved Voigt line spectrum\")\n",
    "# Add a legend\n",
    "plt.legend(fontsize = 12, loc = 'upper right')\n",
    "# Give fig the title and labels\n",
    "plt.title(\"Figure 3.2\\nConvolution applied to a single synthetic line\", size = 20)\n",
    "plt.xlabel(\"Pixel\", size = 20)\n",
    "plt.ylabel(\"Flux [$normalized,unitless$]\", size = 20)\n",
    "# format and save the figure\n",
    "plt.tight_layout()\n",
    "plt.savefig(plotsdir + 'applyConv1.png', bbox_inches = 'tight')"
   ]
  },
  {
   "cell_type": "markdown",
   "metadata": {},
   "source": [
    "#### As shown above, the LSF pushes power from the line's peak into the wings of the line profile.\n",
    "As we confirm below, the total flux has not changed, but has just been spread out:"
   ]
  },
  {
   "cell_type": "code",
   "execution_count": null,
   "metadata": {
    "execution": {
     "iopub.execute_input": "2021-02-01T19:52:37.662260Z",
     "iopub.status.busy": "2021-02-01T19:52:37.661698Z",
     "iopub.status.idle": "2021-02-01T19:52:37.664768Z",
     "shell.execute_reply": "2021-02-01T19:52:37.664253Z"
    }
   },
   "outputs": [],
   "source": [
    "integral1,integral2 = np.trapz(x = wvln_in, y = spec_in),np.trapz(x = wvln_out, y = spec_out)\n",
    "print(f\"The integrated fluxes are within {100* (integral1-integral2)/integral2:.2f} % of eachother\")"
   ]
  },
  {
   "cell_type": "markdown",
   "metadata": {},
   "source": [
    "### We can now examine how the convolution differs across the spectrum.\n",
    "We do this by creating a [\"picket fence\"/\"frequency comb\"](https://en.wikipedia.org/wiki/Frequency_comb)-like spectrum of evenly-spaced, identical, normalized Voigt profiles. Each of these lines is normalized to a maximum of 1. We then use `convolve_lsf` to convolve each of these synthetic spectral lines with the LSF kernel under whose \"jurisdiction\" they fall. For each line, we plot *pre-* and *post-* convolution spectrum in the 8 smaller panels. In the bottom, larger panel, we also plot the entire spectrum of all the lines."
   ]
  },
  {
   "cell_type": "code",
   "execution_count": null,
   "metadata": {
    "execution": {
     "iopub.execute_input": "2021-02-01T19:52:37.681823Z",
     "iopub.status.busy": "2021-02-01T19:52:37.681281Z",
     "iopub.status.idle": "2021-02-01T19:52:42.500228Z",
     "shell.execute_reply": "2021-02-01T19:52:42.500765Z"
    }
   },
   "outputs": [],
   "source": [
    "########## Set up the DATA ##############\n",
    "\n",
    "wvln = np.linspace(1120,1442, 16384 * 2) # Build up a synthetic wavelength range comparable to a real COS spectrum\n",
    "flux = np.zeros(wvln.shape) # Initialize the spectrum to zero, we'll build it up with a series of Voigt profiles\n",
    "combo_flux = flux # A copy of flux that we'll add each new line's flux to, in turn\n",
    "\n",
    "# Set up figure\n",
    "fig = plt.figure(figsize = (20, 15))\n",
    "gs = fig.add_gridspec(nrows = 10, ncols = 4) # Using gridspec to let us control panel sizes and locations\n",
    "\n",
    "# Loop through the input spectrum's wavelength range and place a synthetic Voigt line every 40 Å\n",
    "for i, discrete_wvln in enumerate(np.arange(int(min(wvln)+5), max(wvln)-5, 40)):\n",
    "    voigt_shape = functional_models.Voigt1D(x_0 = discrete_wvln, # Center a Voigt profile there\n",
    "        amplitude_L = 1, fwhm_G = .1, fwhm_L = 0.1)\n",
    "    flux = voigt_shape(wvln) # evaluate flux from that Voigt profile function\n",
    "    flux /= max(flux) # Normalize that line's flux\n",
    "    combo_flux = combo_flux + flux # Add each line's flux to total summed flux\n",
    "\n",
    "# Apply the convolution to the combined (many-line) synthetic spectrum to create an lsf_convolved wvln and flux\n",
    "lwvln, lsf_combo_flux = convolve_lsf(wvln, combo_flux, 1291, datadir + LSF_file_name , datadir + param_dict['DISPTAB'])\n",
    "\n",
    "########## Make the PLOTS ##############\n",
    "\n",
    "# Loop through again to build up the plots\n",
    "for i, discrete_wvln in enumerate(np.arange(int(min(wvln)+5), max(wvln)-5, 40)): # This will make 8 subplots\n",
    "    ###### Build the small subplots for each line\n",
    "    ax = fig.add_subplot(gs[4*int(i/4):4*int(i/4) + 4, i%4:(i)%4 + 1]) # Add a plot at the right position on the grid\n",
    "    ax.plot(wvln, combo_flux, label = 'Un-convolved') # First plot the original, unconvolved line at each position\n",
    "    ax.plot(lwvln, lsf_combo_flux, c = 'k', linestyle = '--', linewidth = 2, label = 'LSF-convolved') # now the convolved line\n",
    "    ax.axvline(discrete_wvln, c = 'C1', linestyle = 'dotted', alpha = 0.8, label = 'Peak of Voigt') # add the peak wvln\n",
    "    ax.set_xlim(discrete_wvln-0.5, discrete_wvln+0.5)\n",
    "    ax.ticklabel_format(axis = 'x', style = 'plain', useOffset = True, useMathText = True)\n",
    "    if i == 0: # Add a legend to the first subplot\n",
    "        ax.legend(fontsize = 12, loc = 'upper left')\n",
    "\n",
    "# Build up lower plot of all the lines:\n",
    "low_ax = fig.add_subplot(gs[8:,:])\n",
    "low_ax.plot(wvln, combo_flux, label = 'Un-convolved')\n",
    "low_ax.plot(lwvln, lsf_combo_flux, c = 'k', linestyle = '--', label = 'LSF-convolved')\n",
    "low_ax.legend(fontsize = 14, loc = 'upper right')\n",
    "\n",
    "fig.suptitle(\"Fig 3.3\\nComparison of convolutions across a \\\"picket fence\\\" of lines\", size = 25)\n",
    "\n",
    "fig.text(0.5, -0.01, 'Wavelength [$\\AA$]', ha='center', fontsize = 20)\n",
    "fig.text(-0.01, 0.5, 'Flux [$normalized,\\ unitless$]', va='center', rotation='vertical', fontsize = 20)\n",
    "\n",
    "plt.tight_layout()\n",
    "plt.savefig(plotsdir + 'applyConv_picketFence.png', bbox_inches='tight', dpi = 200)"
   ]
  },
  {
   "cell_type": "markdown",
   "metadata": {},
   "source": [
    "### The above figure demonstrates the way in which the LSF changes significantly throughout the wavelength range of a spectrum.\n",
    "It can be difficult to distinguish the LSFs plotted on their own; however, the results of their convolution with a synthetic line shows some are more sharply peaked, or contain more flux in the wings, etc."
   ]
  },
  {
   "cell_type": "markdown",
   "metadata": {},
   "source": [
    "<a id = stisL></a>\n",
    "## 3.3. Convolving real data from STIS\n",
    "\n",
    "##### Let's first read in the COS spectrum. For more information, see our notebook on [Reading-in and Plotting data COS in Python](https://spacetelescope.github.io/COS-Notebooks/ViewData.html)."
   ]
  },
  {
   "cell_type": "code",
   "execution_count": null,
   "metadata": {
    "execution": {
     "iopub.execute_input": "2021-02-01T19:52:42.505955Z",
     "iopub.status.busy": "2021-02-01T19:52:42.505457Z",
     "iopub.status.idle": "2021-02-01T19:52:42.636200Z",
     "shell.execute_reply": "2021-02-01T19:52:42.636854Z"
    }
   },
   "outputs": [],
   "source": [
    "cos_table = Table.read(fuvFile)\n",
    "COS_wvln, COS_flux = [],[]\n",
    "for cos_segment in [1,0]: # The COS segment at index 0 has a longer wvln domain\n",
    "    COS_wvln_, COS_flux_ = list(cos_table[cos_segment]['WAVELENGTH','FLUX'])\n",
    "    COS_dqw_ = np.asarray(cos_table[cos_segment]['DQ_WGT'], dtype = bool)\n",
    "    COS_wvln+=(list(COS_wvln_[COS_dqw_]))\n",
    "    COS_flux+=(list(COS_flux_[COS_dqw_]))\n",
    "COS_wvln, COS_flux = np.asarray(COS_wvln), np.asarray(COS_flux)"
   ]
  },
  {
   "cell_type": "markdown",
   "metadata": {},
   "source": [
    "##### Now, download the STIS spectrum, using astroquery, as demonstrated in our notebook on [Downloading data from the archive](https://spacetelescope.github.io/COS-Notebooks/DataDl.html)."
   ]
  },
  {
   "cell_type": "code",
   "execution_count": null,
   "metadata": {
    "execution": {
     "iopub.execute_input": "2021-02-01T19:52:42.640200Z",
     "iopub.status.busy": "2021-02-01T19:52:42.639770Z",
     "iopub.status.idle": "2021-02-01T19:52:43.560820Z",
     "shell.execute_reply": "2021-02-01T19:52:43.561280Z"
    }
   },
   "outputs": [],
   "source": [
    "pl = Observations.get_product_list(Observations.query_criteria(obs_id = 'O4WR11010', instrument_name = 'STIS/FUV-MAMA')) # search for the file\n",
    "download = Observations.download_products(pl[pl['productSubGroupDescription']=='X1D'], # filter and download searched files\n",
    "                                          download_dir = datadir)\n",
    "stisfile = download['Local Path'][0]# Give the program the path to your downloaded data"
   ]
  },
  {
   "cell_type": "markdown",
   "metadata": {},
   "source": [
    "##### Read in the STIS spectrum.\n",
    "This is a bit trickier than with the COS data, as there are many more segments of the STIS data (one per echelle order), each represented by a row of the table. We choose to combine them all here and sort by wavelength, but this may or may not be the right choice for your data. For more information on working with STIS data, see the [STIS Instrument Handbook](https://hst-docs.stsci.edu/stisdhb)."
   ]
  },
  {
   "cell_type": "code",
   "execution_count": null,
   "metadata": {
    "execution": {
     "iopub.execute_input": "2021-02-01T19:52:43.565853Z",
     "iopub.status.busy": "2021-02-01T19:52:43.565263Z",
     "iopub.status.idle": "2021-02-01T19:52:43.753994Z",
     "shell.execute_reply": "2021-02-01T19:52:43.754468Z"
    }
   },
   "outputs": [],
   "source": [
    "stis_table = Table.read(stisfile) # read the fits to an astropy Table\n",
    "STIS_wvln, STIS_flux = [],[] # Empty list to populate\n",
    "\n",
    "for i in range(len(stis_table)): # go through Echelle order rows + populate\n",
    "    stis_chunk_mask = stis_table['DQ'][i] == 0 # We'll filter to only data with no identified quality issues\n",
    "    STIS_wvln += list(stis_table['WAVELENGTH'][i][stis_chunk_mask])\n",
    "    STIS_flux += list(stis_table['FLUX'][i][stis_chunk_mask])\n",
    "sort_order = np.argsort(STIS_wvln) # sort by wvln to work out order overlaps - blunt fix\n",
    "STIS_wvln, STIS_flux = np.asarray(STIS_wvln)[sort_order], np.asarray(STIS_flux)[sort_order] # Get STIS spec as sorted array"
   ]
  },
  {
   "cell_type": "code",
   "execution_count": null,
   "metadata": {
    "execution": {
     "iopub.execute_input": "2021-02-01T19:52:43.757716Z",
     "iopub.status.busy": "2021-02-01T19:52:43.757260Z",
     "iopub.status.idle": "2021-02-01T19:52:43.978706Z",
     "shell.execute_reply": "2021-02-01T19:52:43.979185Z"
    }
   },
   "outputs": [],
   "source": [
    "# Run the actual convolution on the STIS data - a simple task once we have those functions defined\n",
    "STIS_lwvln, STIS_lflux = convolve_lsf(STIS_wvln, STIS_flux, 1291, \n",
    "                                      datadir + LSF_file_name , datadir + param_dict['DISPTAB'])"
   ]
  },
  {
   "cell_type": "markdown",
   "metadata": {},
   "source": [
    "#### We'll plot the COS spectra with the STIS spectra, (both pre- and post- convolution,) to demonstrate the effect on our data.\n",
    "We'll first plot the entire spectrum:"
   ]
  },
  {
   "cell_type": "code",
   "execution_count": null,
   "metadata": {
    "execution": {
     "iopub.execute_input": "2021-02-01T19:52:43.996009Z",
     "iopub.status.busy": "2021-02-01T19:52:43.995557Z",
     "iopub.status.idle": "2021-02-01T19:52:44.791075Z",
     "shell.execute_reply": "2021-02-01T19:52:44.791549Z"
    }
   },
   "outputs": [],
   "source": [
    "# Set up figure\n",
    "plt.figure(figsize = (10,8))\n",
    "\n",
    "# Plot each of the spectra\n",
    "plt.plot(STIS_wvln, STIS_flux, linestyle = '-', c = 'C0',\n",
    "            label = \"STIS Un-convolved\")\n",
    "plt.plot(STIS_lwvln, STIS_lflux, markersize = 1, linestyle = '-', c = 'C1',\n",
    "            label = \"STIS Convolved\")\n",
    "plt.plot(COS_wvln, COS_flux, markersize = 0.1, linestyle = '-', c ='k', alpha = 0.8,\n",
    "            label = \"COS\")\n",
    "# Set ybounds to avoid spike at shorter λ side\n",
    "plt.ylim(-1E-13, 1E-12)\n",
    "#Add a legend\n",
    "plt.legend(fontsize = 15, loc = 'upper right')\n",
    "# Give fig the title and labels\n",
    "plt.title(\"Figure 3.4\\nCOS FUV LSF kernel sampled at 1134 Å\", size = 20)\n",
    "plt.xlabel(\"Wavelength [$\\AA$]\", size = 20)\n",
    "plt.ylabel(\"Flux [$erg\\ \\AA^{-1}\\ cm^{-2}\\ s^{-1}$]\", size = 20)\n",
    "# format and save the figure\n",
    "plt.tight_layout()\n",
    "plt.savefig(plotsdir + 'COS_STIS_compare_wide.png', bbox_inches = 'tight')"
   ]
  },
  {
   "cell_type": "markdown",
   "metadata": {},
   "source": [
    "We can tell that the peaks have been cut shorter in the STIS convolved spectrum.\n",
    "\n",
    "However, to see a bit more detail, let's make plots zooming in on spectral lines. We arbitrarily grabbed a few spectral lines in the UV from Table 1 of [Leitherer et al.'s \"An ultraviolet spectroscopic atlas of local starbursts and star-forming galaxies: the legacy of FOS and GHRS.\" The Astronomical Journal 141, no. 2 (2011): 37.](https://iopscience.iop.org/article/10.1088/0004-6256/141/2/37/meta)"
   ]
  },
  {
   "cell_type": "code",
   "execution_count": null,
   "metadata": {
    "execution": {
     "iopub.execute_input": "2021-02-01T19:52:44.815088Z",
     "iopub.status.busy": "2021-02-01T19:52:44.814530Z",
     "iopub.status.idle": "2021-02-01T19:52:46.277363Z",
     "shell.execute_reply": "2021-02-01T19:52:46.277818Z"
    }
   },
   "outputs": [],
   "source": [
    "# Grab a few UV lines from the table in Leitherer et al, 2011\n",
    "lines = {\"S II\":1250.58, \"Si II\":1304.37, \"C II\":1335.71, \"Si IV\":1393.76}\n",
    "\n",
    "# Set up figure\n",
    "fig = plt.figure(figsize = (10, 16))\n",
    "gs = fig.add_gridspec(nrows = 4, ncols = 1) # Using gridspec to let us control panel sizes and locations\n",
    "\n",
    "for i, (linename, line) in enumerate(lines.items()): # For each line:\n",
    "    \n",
    "    ax = fig.add_subplot(gs[i,0]) # Add a plot at the correct position on the grid\n",
    "\n",
    "    ax.plot(STIS_wvln, STIS_flux, linestyle = '-.', c = 'C0', # Plot all the spectra for each line\n",
    "                label = \"STIS Un-convolved\")\n",
    "    ax.plot(STIS_lwvln, STIS_lflux, markersize = 1, linestyle = '-', c = 'C1',\n",
    "                label = \"STIS Convolved\")\n",
    "    ax.plot(COS_wvln, COS_flux, markersize = 0.1, linestyle = '--', c ='k', \n",
    "                label = \"COS\")\n",
    "    # Add a vertical line at the reference frame wavelength of the line\n",
    "    ax.axvline(line, c = 'gray', linestyle = '--', label = f\"{linename} line at {line}Å\")\n",
    "    \n",
    "    # Set bounds and add legends\n",
    "    ax.set_xlim(line - 1, line + 1)\n",
    "    ax.set_ylim(-1E-13, 1E-12)\n",
    "    ax.legend(fontsize = 15, loc = 'upper right')\n",
    "\n",
    "# Give fig the title and labels\n",
    "fig.suptitle(f\"Fig. 3.5\\nA series of UV lines with COS\\n and STIS spectra convolved with COS LSFs\", size = 20)\n",
    "ax.set_xlabel(\"Wavelength [$\\AA$]\", size = 20)\n",
    "fig.text(s = \"Flux [$erg\\ \\AA^{-1}\\ cm^{-2}\\ s^{-1}$]\", x = -0.018, y = 0.4, rotation = 'vertical' , size = 20)\n",
    "\n",
    "# format and save the figure\n",
    "plt.tight_layout()\n",
    "plt.savefig(plotsdir + 'COS_STIS_compare.png', bbox_inches = 'tight')"
   ]
  },
  {
   "cell_type": "markdown",
   "metadata": {},
   "source": [
    "## Congratulations! You finished this notebook!\n",
    "### There are more COS data walkthrough notebooks on different topics. You can find them [here](https://github.com/spacetelescope/COS-Notebooks)."
   ]
  },
  {
   "cell_type": "markdown",
   "metadata": {},
   "source": [
    "\n",
    "---\n",
    "## About this Notebook\n",
    "**Author:** Nat Kerman <nkerman@stsci.edu>\n",
    "\n",
    "**Contributors:** Rachel Plesha, Julia Roman-Duval\n",
    "\n",
    "**Updated On:** 2021-02-01\n",
    "\n",
    "> *This tutorial was generated to be in compliance with the [STScI style guides](https://github.com/spacetelescope/style-guides) and would like to cite the [Jupyter guide](https://github.com/spacetelescope/style-guides/blob/master/templates/example_notebook.ipynb) in particular.*\n",
    "\n",
    "## Citations\n",
    "\n",
    "If you use `astropy`, `matplotlib`, `astroquery`, or `numpy` for published research, please cite the\n",
    "authors. Follow these links for more information about citations:\n",
    "\n",
    "* [Citing `astropy`/`numpy`/`matplotlib`](https://www.scipy.org/citing.html)\n",
    "* [Citing `astroquery`](https://astroquery.readthedocs.io/en/latest/)\n",
    "\n",
    "---\n",
    "\n",
    "[Top of Page](#topL)\n",
    "<img style=\"float: right;\" src=\"https://raw.githubusercontent.com/spacetelescope/notebooks/master/assets/stsci_pri_combo_mark_horizonal_white_bkgd.png\" alt=\"Space Telescope Logo\" width=\"200px\"/> \n",
    "\n",
    "<br></br>\n",
    "<br></br>\n",
    "<br></br>"
   ]
  }
 ],
 "metadata": {
  "kernelspec": {
   "display_name": "Python 3",
   "language": "python",
   "name": "python3"
  },
  "language_info": {
   "codemirror_mode": {
    "name": "ipython",
    "version": 3
   },
   "file_extension": ".py",
   "mimetype": "text/x-python",
   "name": "python",
   "nbconvert_exporter": "python",
   "pygments_lexer": "ipython3",
   "version": "3.6.12"
  }
 },
 "nbformat": 4,
 "nbformat_minor": 4
}
