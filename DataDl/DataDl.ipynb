{
 "cells": [
  {
   "cell_type": "markdown",
   "metadata": {},
   "source": [
    "<a id=\"topD\"></a>\n",
    "\n",
    "# Downloading COS Data\n",
    "\n",
    "# Learning Goals\n",
    "### This Notebook is designed to walk the user (*you*) through: **Downloading existing Cosmic Origins Spectrograph (*COS*) data from the online archive**\n",
    "   #### 1. [**Using the web browser interface**](#mastD)\n",
    "   ##### - 1.1. [The Classic HST Web Search](#mastD)\n",
    "   ##### - 1.2. [Searching for a Series of Observations on the Classic Web Search](#WebSearchSeriesD)\n",
    "   ##### - 1.3. [The New MAST Portal](#mastportD)\n",
    "   ##### - 1.4. [Searching for a Series of Observations on the New MAST Portal](#mastportSeriesD)\n",
    "   #### 2. [**Using the `Python` module `Astroquery`**](#astroqueryD)\n",
    "   ##### - 2.1. [Searching for a single source with Astroquery](#Astroquery1D)\n",
    "   ##### - 2.2. [Narrowing Search with Observational Parameters](#NarrowSearchD)\n",
    "   ##### - 2.3. [Choosing and Downloading Data Products](#dataprodsD)\n",
    "   ##### - 2.4. [Using astroquery to find data on a series of sources](#Astroquery2D)\n"
   ]
  },
  {
   "cell_type": "markdown",
   "metadata": {},
   "source": [
    "## Choosing how to access the data\n",
    "\n",
    "#### This notebook explains three methods of accessing COS data hosted by the STScI MAST Library. \n",
    "You may read through all three, or you may wish to focus on a particular method which best suits your needs. \n",
    "#### Please use the table below to determine which section on which to focus.\n",
    "\n",
    "||The [Classic HST Search (Web Interface)](https://archive.stsci.edu/hst/search.php)|The [MAST Portal (Web Interface)](https://mast.stsci.edu/portal/Mashup/Clients/Mast/Portal.html)|The [`Astroquery` (`Python` Interface)](http://astroquery.readthedocs.io/)|\n",
    "|-|-|-|-|\n",
    "||- User-friendly point-and-click searching|- Very user-friendly point-and-click searching|- Requires a bit of `Python` experience|\n",
    "||- Advanced **mission-specific** search parameters, including: central wavelength, detector, etc.|- Lacks some mission-specific search parameters|- Allows for programmatic searching and downloads|\n",
    "||- Can be difficult to download the data if not on the STScI network|- Easy to download selected data|- Best for large datasets|\n",
    "|||||\n",
    "|***Use this method if...***   |*...You're unfamiliar with `Python` and need to search for data by cenwave*|*...You're exploring the data and you don't need to search by cenwave*|*...You know `Python` and have an idea of what data you're looking for, or you have a lot of data*|\n",
    "|***Described in...***|*[Section 1.1](#mastD)*|*[Section 1.3](#mastportD)*|*[Section 2.1](#astroqueryD)*|\n",
    "\n",
    "*Note* that these are only recommendations, and you may prefer another option. For most purposes, the writer of this tutorial recommends the `Astroquery` `Python` interface, unless you are not at all comfortable using python or doing purely exploratory work.\n",
    "\n",
    "  \n",
    "<!-- *You may review Section 1 or 2 independently or together.* -->\n",
    "<!-- *The web search (Section 1) is generally better for introductory users and exploratory use, while the `astroquery` method (Section 2) is easier for those with some `python` experience.* -->"
   ]
  },
  {
   "cell_type": "markdown",
   "metadata": {},
   "source": [
    "\n",
    "# 0. Introduction\n",
    "#### The Cosmic Origins Spectrograph ([*COS*](https://www.nasa.gov/content/hubble-space-telescope-cosmic-origins-spectrograph)) is an ultraviolet spectrograph on-board the Hubble Space Telescope([*HST*](https://www.stsci.edu/hst/about)) with capabilities in the near ultraviolet (*NUV*) and far ultraviolet (*FUV*).\n",
    "\n",
    "#### This tutorial aims to prepare you to access the existing COS data of your choice by walking you through downloading a processed spectrum, as well as various calibration files obtained with COS.\n",
    "\n",
    "- For an in-depth manual to working with COS data and a discussion of caveats and user tips, see the [COS Data Handbook](https://hst-docs.stsci.edu/display/COSDHB/).\n",
    "- For a detailed overview of the COS instrument, see the [COS Instrument Handbook](https://hst-docs.stsci.edu/display/COSIHB/).\n"
   ]
  },
  {
   "cell_type": "markdown",
   "metadata": {},
   "source": [
    "## We will define a few directories in which to place our data."
   ]
  },
  {
   "cell_type": "code",
   "execution_count": null,
   "metadata": {
    "execution": {
     "iopub.execute_input": "2020-12-17T00:04:04.634882Z",
     "iopub.status.busy": "2020-12-17T00:04:04.633593Z",
     "iopub.status.idle": "2020-12-17T00:04:04.771017Z",
     "shell.execute_reply": "2020-12-17T00:04:04.771774Z"
    }
   },
   "outputs": [],
   "source": [
    "# These will be important directories for the notebook\n",
    "cwd = !pwd\n",
    "cwd = cwd[0]\n",
    "!mkdir ./data\n",
    "data_dir = cwd + '/data/'"
   ]
  },
  {
   "cell_type": "markdown",
   "metadata": {},
   "source": [
    "<a id=\"downloadD\"></a>\n",
    "# 1. Downloading the Data through the Browser interface\n",
    "\n",
    "One can search for COS data from both a browser-based Graphical User Interface (*gui*) and a `Python` interface. This Section (1) will examine two web interfaces. [Section 2](#astroqueryD) will explain the `Python` interface.\n",
    "\n",
    "*Note, there are other, more specialized ways to query the mast API not discussed in this notebook. An in-depth MAST API tutorial can be found [here](https://mast.stsci.edu/api/v0/MastApiTutorial.html).*"
   ]
  },
  {
   "cell_type": "markdown",
   "metadata": {},
   "source": [
    "<a id=\"mastD\"></a>\n",
    "## 1.1 The Classic HST Web Search\n",
    "#### A browser gui for searching *specifically* through [HST archival data can be found here](http://archive.stsci.edu/hst/search.php). We will be discussing *this* HST search below.\n",
    "\n",
    "A newer and more general MAST gui, which also allows access to data from other telescopes such as TESS, but does not offer all HST-specific search parameters, is now available. We will discuss this interface in [Section 1.3](#mastportD).\n",
    "\n",
    "The search page  of the HST interface is laid out as in fig. 1.1:\n",
    "### Fig 1.1\n",
    "<center><img src=./figures/Mast_hst_searchformQSO.png width =\"900\" title=\"MAST Archive search form for a COS data query\"> </center>\n",
    "\n",
    "\n",
    "where here we have indicated we would like to find all archival science data from the **COS far-ultraviolet (FUV) configuration**, taken with any grating while looking at Quasi-Stellar Objects (QSO) within a 3 arcminute radius of (1hr:37':40\", +33d 09m 32s). The output columns we have selected to see are visible in the bottom left of Fig 1.1.\n",
    "\n",
    "Note that if you have a list of coordinates, Observation ID(s), etc. for a series of targets you can click on the \"File Upload Form\" and attach your list of OBSIDs or identifying features. Then specify which type of data your list contains using the \"File Contents\" drop-down menu.\n",
    "\n",
    "Figure 1.2 shows the results of our search shown in Fig 1.1.\n",
    "### Fig 1.2\n",
    "<center><img src=figures/QSO_MastSearchRes.png width =\"900\" title=\"MAST Archive search results for a COS data query\"> </center>\n",
    "\n",
    "\n",
    "#### We now choose our dataset.\n",
    "We rather arbitrarily select LCXV13050 because of its long exposure time, taken under an calibration program described as:\n",
    "> \"Project AMIGA: Mapping the Circumgalactic Medium of Andromeda\"\n",
    "\n",
    "This is a Quasar known as [3C48](http://simbad.u-strasbg.fr/simbad/sim-basic?Ident=3c48&submit=SIMBAD+search), one of the first quasars discovered."
   ]
  },
  {
   "cell_type": "markdown",
   "metadata": {},
   "source": [
    "Clicking on the dataset, we are taken to a page displaying a preview spectrum (Fig 1.3).\n",
    "### Fig 1.3\n",
    "\n",
    "<center><img src=./figures/QSOPreviewSpec.png width =\"900\" title=\"MAST Archive preview spectrum of LCXV13050\"> </center>\n",
    "\n",
    "We now return to the [search page](http://archive.stsci.edu/hst/search.php) and enter in LCXV13050 under \"Dataset\" with no other parameters set. Hitting search, now we see a single-rowed table with *just* our dataset, and the option to download datasets. We mark the row we wish to download and click \"Submit marked data for retrieval from STDADS\". See Fig 1.4.\n",
    "\n",
    "### Fig 1.4\n",
    "\n",
    "<center><img src =figures/LCXV13050_res.png width =\"900\" title=\"MAST Archive dataset overview of LCXV13050\"> </center>\n",
    "\n",
    "Now we see a page like in Fig 1.5,\n",
    "where we can either sign in with STScI credentials, or simply provide our email to proceed without credentials. Make sure to select \"Deliver the data to the Archive staging area\". Hit \"Send Retrieval Request to STDADS\" and you will recieve an email with instructions on downloading with ftp. You will need to do this step from the command line.\n",
    "\n",
    "### Fig 1.5\n",
    "<center><img src =figures/DownloadOptions.png width =\"900\" title=\"Download Options for LCXV13050\"> </center>\n",
    "\n",
    "In the case of this request, the command to retrieve the data depends on how you are connected to the internet.\n",
    "\n",
    "##### If you are connected to the STScI network, either in-person or via VPN , you should use the `wget` command as in the example below:\n",
    ">`wget -r --ftp-user=[anonymous] --ask-password [ftps://archive.stsci.edu/stage/anonymous/anonymous42822] --directory-prefix=[data_dir]`\n",
    "\n",
    "where the password was the email address used, and data_dir is the directory defined at the beginning of this notebook. Now all the data is in a subdirectory `\"./archive.stsci.edu/stage/anonymous/anonymous42822/\"`\n",
    "\n",
    "##### If you are not on the STScI network, downloading from the staged data is more complicated and the best way to download staged data may vary. \n",
    "Below are several options for downloading this data. Unless you need to download many files, the Web Browser approach will likely be the easiest. However, if you are having particular difficulty downloading the staged data you may simply opt to use the `Astroquery Python` method described in [Section 2](#astroqueryD).\n",
    "\n",
    "|Mac/UNIX terminal or Windows CLI |Web Browser (*system-independent but must download files one-at-a-time*)| Direct Download from the *New* MAST Portal (simple but can be slow for large downloads)|\n",
    "|-|-|-|\n",
    "|[install the gnu ftp tool](https://www.gnu.org/software/inetutils/) easily done on Macos with [brew](https://brew.sh)|Open a browser|Navigate to the [new MAST portal](https://mast.stsci.edu/portal/Mashup/Clients/Mast/Portal.html) - described in detail in [Section 1.3](#mastportD)|\n",
    "|`ftp archive.stsci.edu`|in the address bar, type:|search for your datasets, either by narrowing down with the filters described above, or **much more quickly**:|\n",
    "|enter username (**anonymous**) and password (**email address**)|ftp://your_email_address@archive.stsci.edu/stage/< your_directory_name \\> |search for the Observation IDs you previously found querying the \"MAST Observations by Observation ID\" at the top left|\n",
    "|`cd /stage/<username>/<usernamennnnn>`|i.e. `ftp://anonymous@archive.stsci.edu:/stage/anonymous/<anonymousnnnnn>`|select the products you would like to download and hit the button at the top right \"Add data products to Downloads Basket\"|\n",
    "|`prompt`|allow to open folder and sign in with anonymous and email address|click \"My Download Basket\" (upper left)|\n",
    "|`binary`||select the data and data filters you want to download|\n",
    "|`mget *`||click \"Download selected items\" (upper right); Note that the \"Batch Retrieval\" button will stage the data as the previous HST Search interface did.|\n",
    "|`quit`||select your preferred compression and click \"Download\"|\n",
    "|||make sure to allow the pop-up window, which will begin the download|\n",
    "\n",
    "#### Well Done!\n"
   ]
  },
  {
   "cell_type": "markdown",
   "metadata": {},
   "source": [
    "### Exercise 1: *Searching the archive for TRAPPIST-1 data*\n",
    "\n",
    "[TRAPPIST-1](https://en.wikipedia.org/wiki/TRAPPIST-1) is a cool red dwarf with a multiple-exoplanet system. \n",
    "- Find its coordinates using the [SIMBAD Basic Search](http://simbad.u-strasbg.fr/simbad/sim-fbasic).\n",
    "- Use those coordinates in the [HST web search](https://archive.stsci.edu/hst/search.php) or the new new [MAST portal](https://mast.stsci.edu/portal/Mashup/Clients/Mast/Portal.html) to find all COS exposures of the system.\n",
    "- Limit the search terms to find the COS dataset taken in the COS far-UV configuration with the grating G130M.\n",
    "\n",
    "#### What is the dataset ID, and how long was the exposure?\n",
    "\n",
    "Place your answer in the cell below."
   ]
  },
  {
   "cell_type": "code",
   "execution_count": null,
   "metadata": {
    "execution": {
     "iopub.execute_input": "2020-12-17T00:04:04.775873Z",
     "iopub.status.busy": "2020-12-17T00:04:04.775280Z",
     "iopub.status.idle": "2020-12-17T00:04:04.777066Z",
     "shell.execute_reply": "2020-12-17T00:04:04.778115Z"
    }
   },
   "outputs": [],
   "source": [
    "# Your answer here\n",
    "\n"
   ]
  },
  {
   "cell_type": "markdown",
   "metadata": {},
   "source": [
    "<a id=WebSearchSeriesD></a>\n",
    "## 1.2. Searching for a Series of Observations on the Classic HST Web Search\n",
    "\n",
    "Now let's try using the web interface's [file upload form](http://archive.stsci.edu/hst/search.php?form=fuf) to search for a series of observations by their dataset IDs. We're going to look for three observations of the same object, the white dwarf WD1057+719, taken with three different COS gratings. Two are in the FUV and one in the NUV. The dataset IDs are\n",
    "- LDYR52010\n",
    "- LBNM01040\n",
    "- LBBD04040\n",
    "\n",
    "So that we have an example list of datasets to input to the web search, we make a comma-separated-value txt file with these three obs_ids, and save it as `obsId_list.txt`. "
   ]
  },
  {
   "cell_type": "code",
   "execution_count": null,
   "metadata": {
    "execution": {
     "iopub.execute_input": "2020-12-17T00:04:04.783638Z",
     "iopub.status.busy": "2020-12-17T00:04:04.782970Z",
     "iopub.status.idle": "2020-12-17T00:04:04.785310Z",
     "shell.execute_reply": "2020-12-17T00:04:04.785916Z"
    }
   },
   "outputs": [],
   "source": [
    "obsIdList = ['LDYR52010','LBNM01040','LBBD04040'] # The three observation IDs we want to gather\n",
    "obsIdList_length = len(obsIdList) \n",
    "\n",
    "with open('./obsId_list.txt', 'w') as f: # open up this new file in \"write\" mode\n",
    "    for i, item in enumerate(obsIdList): # We want a newline after each obs_id except the last one\n",
    "        if i < obsIdList_length - 1:\n",
    "            f.writelines(item + \",\" + '\\n')\n",
    "        if i == obsIdList_length - 1: # makes sure we don't end the file with a blank line (below)\n",
    "            f.writelines(item)"
   ]
  },
  {
   "cell_type": "markdown",
   "metadata": {},
   "source": [
    "Then we link to this file under the **Local File Name** browse menu on the file upload form. We must set the **File Contents** term to Data ID, as that is the identifier we have provided in our file, and we change the **delimiter** to a comma.\n",
    "Because we are searching by Dataset ID, we don't need to specify any additional parameters to narrow down the data.\n",
    "\n",
    "### Fig 1.6\n",
    "<!-- fig -->\n",
    "\n",
    "#### Perfect! We now can access all the datasets, as shown in Fig. 1.7:\n",
    "\n",
    "## Fig 1.7\n",
    "<center><img src =figures/FUF_res.png width =\"900\" title=\"File Upload Search Results\"> </center>\n",
    "\n",
    "Now, to download all of the relavent files, we can check the **mark** box for all of them, and again hit  \"Submit marked data for retrieval from STDADS\". This time, we want to retrieve **all the calibration files** associated with each dataset, so we check the following boxes:\n",
    "- Uncalibrated\n",
    "- Calibrated\n",
    "- Used Reference Files\n",
    "See Fig. 1.8\n",
    "\n",
    "### Fig 1.8\n",
    "<center><img src =./figures/DownloadOptions_FUF.png width =\"900\" title=\"Download Options for multiple datasets\"> </center>\n",
    "\n",
    "\n",
    "The procedure from here is the same described above in Section 1.1. Now, when we download the staged data, we obtain multiple subdirectories with each dataset separated."
   ]
  },
  {
   "cell_type": "markdown",
   "metadata": {},
   "source": [
    "<a id = mastportD></a>\n",
    "## 1.3. The New MAST Portal\n",
    "\n",
    "STScI hosts another web-based gui for accessing data, the [MAST Portal](https://mast.stsci.edu/portal/Mashup/Clients/Mast/Portal.html). This is a newer interface which hosts data from across many missions and allows the user to visualize the target in survey images, take quick looks at spectra or lightcurves, and manage multiple search tabs at once. Additionally, it handles downloads in a slightly more beginner-friendly manner than the current implementation of the Classic HST Search. This guide will only cover the basics of accessing COS data through the MAST Portal; you can find more in-depth documentation in the form of helpful video guides on the [MAST YouTube Channel](https://www.youtube.com/user/STScIMAST).\n",
    "\n",
    "#### Let's find the same data we found in Section 1.1, on the QSO 3C48: \n",
    "\n",
    "Navigate to the MAST Portal at <https://mast.stsci.edu/portal/Mashup/Clients/Mast/Portal.html>, and you will be greeted by a screen where the top looks like Fig. 1.9. Below this, you will find:\n",
    "### Fig 1.9\n",
    "<center><img src =figures/mastp_top.png width =\"900\" title=\"Top of New MAST Portal Home\"> </center>\n",
    "\n",
    "Click on \"Advanced Search\" (boxed in red in Fig. 1.9). This will open up a new search tab, as shown in Fig. 1.10:\n",
    "### Fig 1.10\n",
    "<center><img src =figures/mastp_adv.png width =\"900\" title=\"The advanced search tab\"> </center>\n",
    "\n",
    "Fig 1.10 (above) shows the default search fields which appear. Depending on what you are looking for, these may or may not be the most helpful search fields. By unchecking some of the fields which we are not interested in searching by right now (boxed in green), and then entering the parameter values by which to narrow the search into each parameter's box, we generate Fig. 1.11 (below). One of the six fields (Mission) by which we are narrowing is boxed in a dashed blue line. The list of applied filters is boxed in red. A dashed pink box at the top left indicates that 2 records were found matching all of these parameters. To its left is an orange box around the \"Search\" button to press to bring up the list of results\n",
    "\n",
    "Here we are searching by:\n",
    "\n",
    "|**Search Parameter**|**Value**|\n",
    "|-|-|\n",
    "|Mission|HST|\n",
    "|Instrument|COS/FUV|\n",
    "|Filters|G160M|\n",
    "|Target Name|3C48|\n",
    "|Observation ID|LCXV\\* (*the star is a \"wild card\" value*)|\n",
    "|Product Type|spectrum|\n",
    "\n",
    "### Fig 1.11\n",
    "<center><img src =figures/mastp_adv_2.png width =\"900\" title=\"The advanced search tab with some selections\"> </center>\n",
    "\n"
   ]
  },
  {
   "cell_type": "markdown",
   "metadata": {},
   "source": [
    "Click the \"Search\" button (boxed in orange), and you will be brought to a page resembling Fig. 1.12. \n",
    "\n",
    "### Fig 1.12\n",
    "<center><img src =figures/mastp_res1.png width =\"900\" title=\"Results of MAST Portal search\"> </center>"
   ]
  },
  {
   "cell_type": "markdown",
   "metadata": {},
   "source": [
    "#### Above, in Fig 1.12:\n",
    "- The yellow box to the right shows the AstroView panel, where you can interactively explore the area around your target:\n",
    "  - click and drag to pan around\n",
    "  - scroll to zoom in/out\n",
    "- The dashed-blue box highlights additional filters you can use to narrow your search results.\n",
    "- The red box highlights a button you can click with *some* spectral datasets to pull up an interactive spectrum.\n",
    "- The green box highlights the \"Mark\" checkboxes for each dataset. \n",
    "- The black circle highlights the single dataset download button:\n",
    "   - **If you only need to download one or two datasets, you may simply click this button for each dataset**\n",
    "   - Clicking the single dataset download button will attempt to open a \"pop-up\" window, which you must allow in order to download the file. Some browsers will require you to manually allow pop-ups.\n",
    "\n",
    "#### To download multiple datasets:\n",
    "The MAST portal acts a bit like an online shopping website, where you add your *data products* to the checkout *cart*/*basket*, then open up your cart to *checkout* and download the files.\n",
    "\n",
    "Using the checkboxes, mark all the datasets you wish to download (in this case, we'll download both LCXV13040 and LCXV13050). Then, click the \"Add data products to Download Basket\" button (circled in a dashed-purple line), which will take you to a \"Download Basket\" screen resembling Fig 1.13:"
   ]
  },
  {
   "cell_type": "markdown",
   "metadata": {},
   "source": [
    "### Fig 1.13\n",
    "<center><img src =figures/mastp_cart2.png width =\"900\" title=\"MAST Portal Download Basket\"> </center>\n",
    "\n",
    "Each dataset contains *many* files, most of which are calibration files or intermediate processing files. You may or may not want some of these intermediate files in addition to the final product file.\n",
    "In the leftmost \"Filters\" section of the Download Basket page, you can narrow which files will be downloaded (boxed in red).\n",
    "By default, only the **minimum recommended products** (*mrp*) will be selected. In the case of most COS data, this will be the final spectrum `x1dsum` file and association `asn` file for each dataset. The mrp files for the first dataset (`LCXV13040`) are highlighted in yellow. These two mrp filetypes are fine for our purposes here; however if you want to download files associated with specific exposures, or any calibration files or intermediate files, you can select those you wish to download with the checkboxes in the file tree system (boxed in dashed-green)."
   ]
  },
  {
   "cell_type": "markdown",
   "metadata": {},
   "source": [
    "##### For this tutorial, we simply select Minimum Recommended Products at the top left. With this box checked, all of the folders representing individual exposures are no longer visible.\n",
    "Check the box labelled \"HST\" to select all files included by the filters, and click the \"Download Selected Items\" button at the top right (dashed-black circle). This will bring up a small window asking you what format to download your files as. For datasets smaller than several Gigabytes, the `Zip` format will do fine. Click Download, and a pop-up window will try to open to download the files. If no download begins, make sure to enable this particular pop-up, or allow pop-ups on the MAST page.\n",
    "\n",
    "### There you go! Your files should now be downloaded as a compressed `Zip` folder. \n",
    "If you need help uncompressing the `Zip`ped files, check out these links for: [Windows](https://support.microsoft.com/en-us/windows/zip-and-unzip-files-8d28fa72-f2f9-712f-67df-f80cf89fd4e5), [Mac](https://support.apple.com/guide/mac-help/zip-and-unzip-files-and-folders-on-mac-mchlp2528/mac). There are numerous ways to do this on Linux, however we have not vetted them."
   ]
  },
  {
   "cell_type": "markdown",
   "metadata": {},
   "source": [
    "<a id = astroqueryD></a>\n",
    "# 2. The Python Package `astroquery.mast`\n",
    "Another way to search for and download archived datasets is within `Python` using the module [`astroquery.mast`](https://astroquery.readthedocs.io/en/latest/mast/mast.html). We have already imported 2 of this module's key tools: `Observations` and `Mast`."
   ]
  },
  {
   "cell_type": "markdown",
   "metadata": {},
   "source": [
    "## We will import the following packages:\n",
    "\n",
    "- `astroquery.mast`'s submodules `Mast`, `Catalogs`, and `Observations` for finding and downloading data from the [MAST](https://mast.stsci.edu/portal/Mashup/Clients/Mast/Portal.html) archive\n",
    "- `csv`'s submodule `reader` for reading in/out from a csv file of source names."
   ]
  },
  {
   "cell_type": "code",
   "execution_count": null,
   "metadata": {
    "execution": {
     "iopub.execute_input": "2020-12-17T00:04:04.789705Z",
     "iopub.status.busy": "2020-12-17T00:04:04.789137Z",
     "iopub.status.idle": "2020-12-17T00:04:06.051764Z",
     "shell.execute_reply": "2020-12-17T00:04:06.052302Z"
    }
   },
   "outputs": [],
   "source": [
    "# Downloading data from archive\n",
    "from astroquery.mast import Mast\n",
    "from astroquery.mast import Observations\n",
    "from astroquery.mast import Catalogs\n",
    "\n",
    "# Reading in multiple source names from a csv file\n",
    "from csv import reader"
   ]
  },
  {
   "cell_type": "markdown",
   "metadata": {},
   "source": [
    "<a id=Astroquery1D></a>\n",
    "## 2.1. Searching for a single source with Astroquery\n",
    "\n",
    "There are *many* options for searching the archive with astroquery, but we will begin with a very general search using the coordinates we found for WD1057+719 in the last section to find the dataset with the longest exposure time using the COS/FUV mode through the G160M filter. We could also search by object name to have it resolved to a set of coordinates, with the function `Observations.query_object(objectname = '3C48')`.\n",
    "- Our coordinates were:      (11:00:34.126 +71:38:02.80). \n",
    "    - We can search these coordinates as sexagesimal coordinates, or convert them to decimal degrees."
   ]
  },
  {
   "cell_type": "code",
   "execution_count": null,
   "metadata": {
    "execution": {
     "iopub.execute_input": "2020-12-17T00:04:06.055987Z",
     "iopub.status.busy": "2020-12-17T00:04:06.055471Z",
     "iopub.status.idle": "2020-12-17T00:04:07.838795Z",
     "shell.execute_reply": "2020-12-17T00:04:07.839118Z"
    }
   },
   "outputs": [],
   "source": [
    "query_1 = Observations.query_object(\"11:00:34.126 +71:38:02.80\", radius=\"5 sec\")"
   ]
  },
  {
   "cell_type": "markdown",
   "metadata": {},
   "source": [
    "This command has generated a table of objects called **\"query_1\"**. We can see what information we have on the objects in the table by printing its *`keys`*, and see how many objects are in the table with `len(query_1)`."
   ]
  },
  {
   "cell_type": "code",
   "execution_count": null,
   "metadata": {
    "execution": {
     "iopub.execute_input": "2020-12-17T00:04:07.846543Z",
     "iopub.status.busy": "2020-12-17T00:04:07.845974Z",
     "iopub.status.idle": "2020-12-17T00:04:07.850474Z",
     "shell.execute_reply": "2020-12-17T00:04:07.850954Z"
    }
   },
   "outputs": [],
   "source": [
    "print(f\"We have table information on {len(query_1)} observations in the following categories/columns:\\n\")\n",
    "q1_keys = (query_1.keys())\n",
    "q1_keys"
   ]
  },
  {
   "cell_type": "markdown",
   "metadata": {},
   "source": [
    "<a id=NarrowSearchD></a>\n",
    "## 2.2. Narrowing Search with Observational Parameters\n",
    "#### Now we narrow down a bit with some additional parameters and sort by exposure time.\n",
    "The parameter limits we add to the search are:\n",
    "- *Only look for sources in the coordinate range between right ascension 165 to 166 degrees and declination +71 to +72 degrees*\n",
    "- *Only find observations in the UV*\n",
    "- *Only find observations taken with the COS instrument (either in its FUV or NUV configuration).*\n",
    "- *Only find spectrographic observations*\n",
    "- *Only find observations made using the COS grating \"G160M\"*"
   ]
  },
  {
   "cell_type": "code",
   "execution_count": 1,
   "metadata": {},
   "outputs": [
    {
     "ename": "NameError",
     "evalue": "name 'Observations' is not defined",
     "output_type": "error",
     "traceback": [
      "\u001b[0;31m---------------------------------------------------------------------------\u001b[0m",
      "\u001b[0;31mNameError\u001b[0m                                 Traceback (most recent call last)",
      "\u001b[0;32m<ipython-input-1-322d412f2b8d>\u001b[0m in \u001b[0;36m<module>\u001b[0;34m\u001b[0m\n\u001b[0;32m----> 1\u001b[0;31m query_2 = Observations.query_criteria(s_ra=[165., 166.], s_dec=[+71.,+72.],\n\u001b[0m\u001b[1;32m      2\u001b[0m                                         \u001b[0mwavelength_region\u001b[0m\u001b[0;34m=\u001b[0m\u001b[0;34m\"UV\"\u001b[0m\u001b[0;34m,\u001b[0m \u001b[0minstrument_name\u001b[0m\u001b[0;34m=\u001b[0m\u001b[0;34m[\u001b[0m\u001b[0;34m\"COS/NUV\"\u001b[0m\u001b[0;34m,\u001b[0m\u001b[0;34m\"COS/FUV\"\u001b[0m\u001b[0;34m]\u001b[0m\u001b[0;34m,\u001b[0m\u001b[0;34m\u001b[0m\u001b[0;34m\u001b[0m\u001b[0m\n\u001b[1;32m      3\u001b[0m                                         dataproduct_type = \"spectrum\", filters = 'G160M')\n\u001b[1;32m      4\u001b[0m \u001b[0;34m\u001b[0m\u001b[0m\n\u001b[1;32m      5\u001b[0m \u001b[0;31m# Next line just simplifies the columns of data we see to some useful data we want to look at right now\u001b[0m\u001b[0;34m\u001b[0m\u001b[0;34m\u001b[0m\u001b[0;34m\u001b[0m\u001b[0m\n",
      "\u001b[0;31mNameError\u001b[0m: name 'Observations' is not defined"
     ]
    }
   ],
   "source": [
    "query_2 = Observations.query_criteria(s_ra=[165., 166.], s_dec=[+71.,+72.],\n",
    "                                        wavelength_region=\"UV\", instrument_name=[\"COS/NUV\",\"COS/FUV\"], \n",
    "                                        dataproduct_type = \"spectrum\", filters = 'G160M')\n",
    "\n",
    "# Next line just simplifies the columns of data we see to some useful data we want to look at right now\n",
    "limq2 = query_2['obsid','obs_id', 'target_name', 'dataproduct_type', 'instrument_name', 'project', 'filters', 'wavelength_region', 't_exptime'] \n",
    "sort_order = query_2.argsort('t_exptime') # This is the index list in order of exposure time, increasing\n",
    "print(limq2[sort_order])\n",
    "chosenObs = limq2[sort_order][-1] # Grab the last value of the sorted list\n",
    "print(f\"\\n\\nThe longest COS/FUV exposure with the G160M filter is: \\n\\n{chosenObs}\") "
   ]
  },
  {
   "cell_type": "markdown",
   "metadata": {},
   "source": [
    "#### Caution! \n",
    "<img src=./figures/warning.png width =\"60\" title=\"CAUTION\"> \n",
    "\n",
    "Please note that these queries are Astropy tables and do not always respond as expected for other data structures like Pandas DataFrames. For instance, the first way of filtering a table shown below is correct, but the second will consistently produce the *wrong result*. You *must* search and filter these tables by masking them, as in the first example below."
   ]
  },
  {
   "cell_type": "code",
   "execution_count": 2,
   "metadata": {},
   "outputs": [
    {
     "ename": "NameError",
     "evalue": "name 'query_1' is not defined",
     "output_type": "error",
     "traceback": [
      "\u001b[0;31m---------------------------------------------------------------------------\u001b[0m",
      "\u001b[0;31mNameError\u001b[0m                                 Traceback (most recent call last)",
      "\u001b[0;32m<ipython-input-2-e82d4b70cb9a>\u001b[0m in \u001b[0;36m<module>\u001b[0;34m\u001b[0m\n\u001b[1;32m      1\u001b[0m \u001b[0;31m# Searching a table generated with a query\u001b[0m\u001b[0;34m\u001b[0m\u001b[0;34m\u001b[0m\u001b[0;34m\u001b[0m\u001b[0m\n\u001b[1;32m      2\u001b[0m \u001b[0;31m## First correct way using masking\u001b[0m\u001b[0;34m\u001b[0m\u001b[0;34m\u001b[0m\u001b[0;34m\u001b[0m\u001b[0m\n\u001b[0;32m----> 3\u001b[0;31m \u001b[0mmask\u001b[0m \u001b[0;34m=\u001b[0m \u001b[0;34m(\u001b[0m\u001b[0mquery_1\u001b[0m\u001b[0;34m[\u001b[0m\u001b[0;34m'obs_id'\u001b[0m\u001b[0;34m]\u001b[0m \u001b[0;34m==\u001b[0m \u001b[0;34m'lbbd01020'\u001b[0m\u001b[0;34m)\u001b[0m \u001b[0;31m# NOTE, obs_id must be lower-case\u001b[0m\u001b[0;34m\u001b[0m\u001b[0;34m\u001b[0m\u001b[0m\n\u001b[0m\u001b[1;32m      4\u001b[0m \u001b[0mprint\u001b[0m\u001b[0;34m(\u001b[0m\u001b[0;34m\"Correct way yields: \\n\"\u001b[0m \u001b[0;34m,\u001b[0m \u001b[0mquery_1\u001b[0m\u001b[0;34m[\u001b[0m\u001b[0mmask\u001b[0m\u001b[0;34m]\u001b[0m\u001b[0;34m[\u001b[0m\u001b[0;34m'obs_id'\u001b[0m\u001b[0;34m]\u001b[0m\u001b[0;34m,\u001b[0m\u001b[0;34m\"\\n\\n\"\u001b[0m\u001b[0;34m)\u001b[0m\u001b[0;34m\u001b[0m\u001b[0;34m\u001b[0m\u001b[0m\n\u001b[1;32m      5\u001b[0m \u001b[0;34m\u001b[0m\u001b[0m\n",
      "\u001b[0;31mNameError\u001b[0m: name 'query_1' is not defined"
     ]
    }
   ],
   "source": [
    "# Searching a table generated with a query\n",
    "## First correct way using masking\n",
    "mask = (query_1['obs_id'] == 'lbbd01020') # NOTE, obs_id must be lower-case\n",
    "print(\"Correct way yields: \\n\" , query_1[mask]['obs_id'],\"\\n\\n\")\n",
    "\n",
    "# Second INCORRECT way\n",
    "print(\"Incorrect way yields: \\n\" , query_1['obs_id' == 'LBBD01020']['obs_id'], \"\\nwhich is NOT what we're looking for!\")"
   ]
  },
  {
   "cell_type": "markdown",
   "metadata": {},
   "source": [
    "<a id=dataprodsD></a>\n",
    "## 2.3. Choosing and Downloading Data Products\n",
    "\n",
    "### Now we can choose and download our data products from the archive dataset.\n",
    "\n",
    "We will first generate a list of data products in the dataset: `product_list`. This will generate a large list, but we will only show the first 10 values."
   ]
  },
  {
   "cell_type": "code",
   "execution_count": null,
   "metadata": {
    "execution": {
     "iopub.execute_input": "2020-12-17T00:04:08.077009Z",
     "iopub.status.busy": "2020-12-17T00:04:08.076361Z",
     "iopub.status.idle": "2020-12-17T00:04:08.271333Z",
     "shell.execute_reply": "2020-12-17T00:04:08.272319Z"
    }
   },
   "outputs": [],
   "source": [
    "product_list = Observations.get_product_list(chosenObs)\n",
    "product_list[:10] #NOT THE WHOLE THING, just 10 lines/observations"
   ]
  },
  {
   "cell_type": "markdown",
   "metadata": {},
   "source": [
    "Now, we will download *just the* **minimum recommended products** (*mrp*) which are the fully calibrated spectrum (denoted by the suffix `_x1d` or here `x1dsum`) and the association file (denoted by the suffix `_asn`). We do this by setting the parameter `mrp_only` to True. The association file contains no data, but rather the metadata explaining which exposures produced the `x1dsum` dataset. The `x1dsum` file is the final product summed across all of the [fixed pattern noise positions](https://hst-docs.stsci.edu/cosdhb/chapter-1-cos-overview/1-1-instrument-capabilities-and-design#id-1.1InstrumentCapabilitiesandDesign-GratingOffset(FP-POS)GratingOffsetPositions(FP-POS)) (`FP-POS`). The `x1d` and `x1dsum<n>` files are intermediate spectra. Much more information can be found in the [COS Instrument Handbook](https://hst-docs.stsci.edu/display/COSIHB/).\n",
    "\n",
    "We would set `mrp_only` to False, if we wanted to download ***all*** the data from the observation, including: \n",
    "- support files such as the spacecraft's pointing data over time (`jit` files).\n",
    "- intermediate data products such as calibrated TIME-TAG data (`corrtag` or `corrtag_a`/`corrtag_b` files) and extracted 1-dimensional spectra averaged over exposures with a specific `FP-POS` value (`x1dsum<n>` files).\n",
    "\n",
    "<img src=./figures/warning.png width =\"60\" title=\"CAUTION\">\n",
    "\n",
    "However, use caution with downloading all files, as in this case, setting `mrp_only` to False results in the transfer of **7 Gigabytes** of data, which can take a long time to transfer and eat away at your computer's storage! In general, only download the files you need. Since here we only need the final `x1dsum` and `asn` files, we only need to download 2 Megabytes."
   ]
  },
  {
   "cell_type": "code",
   "execution_count": null,
   "metadata": {
    "execution": {
     "iopub.execute_input": "2020-12-17T00:04:08.279641Z",
     "iopub.status.busy": "2020-12-17T00:04:08.279136Z",
     "iopub.status.idle": "2020-12-17T00:04:09.470468Z",
     "shell.execute_reply": "2020-12-17T00:04:09.471113Z"
    }
   },
   "outputs": [],
   "source": [
    "downloads = Observations.download_products(product_list, download_dir=data_dir , extension='fits', mrp_only=True, cache=False)"
   ]
  },
  {
   "cell_type": "markdown",
   "metadata": {},
   "source": [
    "### Exercise 2: *Download the raw counts data on TRAPPIST-1*\n",
    "\n",
    "In the previous exercise, we found an observation COS took on TRAPPIST-1 system. In case you skipped Exercise 1, the observation's Dataset ID is `LDLM40010`.\n",
    "\n",
    "Use `Astroquery.mast` to download the raw `TIME-TAG` data, rather than the x1d spectra files. See the [COS Data Handbook Ch. 2](https://hst-docs.stsci.edu/cosdhb/chapter-2-cos-data-files/2-4-cos-data-products) for details on TIME-TAG data files. Make sure to get the data from both segments of the FUV detector (i.e. both `RAWTAG_A` and `RAWTAG_B` files). If you do this correctly, there should be five data files for each detector segment.\n",
    "\n",
    "*Note that some of the obs_id may appear in the table as slightly different, i.e.: ldlm40alq and ldlm40axq, rather than ldlm40010. The main obs_id they fall under is still ldlm40010, and this will still work as a search term. They are linked together by the association file described here in section 2.3.*"
   ]
  },
  {
   "cell_type": "code",
   "execution_count": null,
   "metadata": {
    "execution": {
     "iopub.execute_input": "2020-12-17T00:04:09.474085Z",
     "iopub.status.busy": "2020-12-17T00:04:09.473563Z",
     "iopub.status.idle": "2020-12-17T00:04:09.475181Z",
     "shell.execute_reply": "2020-12-17T00:04:09.475752Z"
    }
   },
   "outputs": [],
   "source": [
    "# Your answer here\n",
    "\n",
    "\n"
   ]
  },
  {
   "cell_type": "markdown",
   "metadata": {},
   "source": [
    "<a id=Astroquery2D></a>\n",
    "## 2.4. Using astroquery to find data on a series of sources\n",
    "In this case, we'll look for COS data around several bright globular clusters:\n",
    "- omega Centauri\n",
    "- M5\n",
    "- M13\n",
    "- M15\n",
    "- M53\n",
    "\n",
    "We will first write a comma-separated-value (csv) file `objectname_list.csv` listing these sources by their common name. This is a bit redundant here, as we will immediately read back in what we have written; however it is done here to deliberately teach both sides of the writing/reading process, and as many users will find themselves with a csv sourcelist they must search."
   ]
  },
  {
   "cell_type": "code",
   "execution_count": null,
   "metadata": {
    "execution": {
     "iopub.execute_input": "2020-12-17T00:04:09.480178Z",
     "iopub.status.busy": "2020-12-17T00:04:09.479601Z",
     "iopub.status.idle": "2020-12-17T00:04:09.481557Z",
     "shell.execute_reply": "2020-12-17T00:04:09.482159Z"
    }
   },
   "outputs": [],
   "source": [
    "sourcelist = ['omega Centauri','M5','M13','M15','M53'] # The five sources we want to look for\n",
    "sourcelist_length = len(sourcelist) # measures the length of the list for if statements below \n",
    "\n",
    "with open('./objectname_list.csv', 'w') as f: # open up this new file in \"write\" mode\n",
    "    for i, item in enumerate(sourcelist): # We want a comma after each source name except the last one\n",
    "        if i < sourcelist_length - 1:\n",
    "            f.writelines(item + \",\")\n",
    "        if i == sourcelist_length - 1: # No comma after the last entry!\n",
    "            f.writelines(item)"
   ]
  },
  {
   "cell_type": "code",
   "execution_count": null,
   "metadata": {
    "execution": {
     "iopub.execute_input": "2020-12-17T00:04:09.486307Z",
     "iopub.status.busy": "2020-12-17T00:04:09.485779Z",
     "iopub.status.idle": "2020-12-17T00:04:12.739281Z",
     "shell.execute_reply": "2020-12-17T00:04:12.738917Z"
    }
   },
   "outputs": [],
   "source": [
    "with open('./objectname_list.csv', 'r', newline = '') as csvFile: # open up the file we just wrote in \"read\" mode\n",
    "    objList = list(reader(csvFile, delimiter = ','))[0] # This is the exact same list as `sourcelist`!\n",
    "\n",
    "print(\"The input csv file contained the following sources:\\n\", objList)\n",
    "\n",
    "globular_cluster_queries = {} # Make a dictionary, where each source name (i.e. \"M15\") corresponds to a list of its observations with COS\n",
    "for obj in objList: # each \"obj\" is a source name\n",
    "    query_x = Observations.query_criteria(objectname = obj, radius = \"5 min\", instrument_name=['COS/FUV', 'COS/NUV']) # query the area in +/- 5 arcminutes\n",
    "    globular_cluster_queries[obj] = (query_x) # add this entry to the dictionary\n",
    "    \n",
    "globular_cluster_queries # show the dictionary"
   ]
  },
  {
   "cell_type": "markdown",
   "metadata": {},
   "source": [
    "#### Excellent! You've now done the hardest part - finding and downloading the right data. From here, it's generally straightforward to read in and plot the spectrum. We recommend you look into our tutorial on [Viewing a COS Spectrum](#NEEDSLINK)."
   ]
  },
  {
   "cell_type": "markdown",
   "metadata": {},
   "source": [
    "## Congratulations! You finished this notebook!\n",
    "### There are more COS data walkthrough notebooks on different topics. You can find them [here](https://github.com/spacetelescope/COS-Notebooks)."
   ]
  },
  {
   "cell_type": "markdown",
   "metadata": {},
   "source": [
    "\n",
    "---\n",
    "## About this Notebook\n",
    "**Author:** Nat Kerman <nkerman@stsci.edu>\n",
    "\n",
    "**Updated On:** 2021-1-11\n",
    "\n",
    "> *This tutorial was generated to be in compliance with the [STScI style guides](https://github.com/spacetelescope/style-guides) and would like to cite the [Jupyter guide](https://github.com/spacetelescope/style-guides/blob/master/templates/example_notebook.ipynb) in particular.*\n",
    "\n",
    "## Citations\n",
    "\n",
    "If you use `astropy`, `matplotlib`, `astroquery`, or `numpy` for published research, please cite the\n",
    "authors. Follow these links for more information about citations:\n",
    "\n",
    "* [Citing `astropy`/`numpy`/`matplotlib`](https://www.scipy.org/citing.html)\n",
    "* [Citing `astroquery`](https://astroquery.readthedocs.io/en/latest/)\n",
    "\n",
    "---\n",
    "\n",
    "[Top of Page](#topD)\n",
    "<img style=\"float: right;\" src=\"https://raw.githubusercontent.com/spacetelescope/notebooks/master/assets/stsci_pri_combo_mark_horizonal_white_bkgd.png\" alt=\"Space Telescope Logo\" width=\"200px\"/> \n",
    "\n",
    "<br></br>\n",
    "<br></br>\n",
    "<br></br>"
   ]
  },
  {
   "cell_type": "markdown",
   "metadata": {},
   "source": [
    "## Exercise Solutions:\n",
    "Note, that for many of these, there are multiple ways to get an answer."
   ]
  },
  {
   "cell_type": "markdown",
   "metadata": {},
   "source": [
    "# We will import:\n",
    "- numpy to handle array functions\n",
    "- astropy.io fits for accessing FITS files\n",
    "- astropy.table Table for creating tidy tables of the data\n",
    "- matplotlib.pyplot for plotting data"
   ]
  },
  {
   "cell_type": "code",
   "execution_count": null,
   "metadata": {
    "execution": {
     "iopub.execute_input": "2020-12-17T00:04:12.744661Z",
     "iopub.status.busy": "2020-12-17T00:04:12.743863Z",
     "iopub.status.idle": "2020-12-17T00:04:13.000959Z",
     "shell.execute_reply": "2020-12-17T00:04:13.001664Z"
    }
   },
   "outputs": [],
   "source": [
    "#Make matplotlib look good in a notebook\n",
    "%matplotlib inline\n",
    "# Manipulating arrays\n",
    "import numpy as np\n",
    "# Reading in data\n",
    "from astropy.table import Table"
   ]
  },
  {
   "cell_type": "code",
   "execution_count": null,
   "metadata": {
    "execution": {
     "iopub.execute_input": "2020-12-17T00:04:13.005145Z",
     "iopub.status.busy": "2020-12-17T00:04:13.004608Z",
     "iopub.status.idle": "2020-12-17T00:04:13.006654Z",
     "shell.execute_reply": "2020-12-17T00:04:13.007204Z"
    }
   },
   "outputs": [],
   "source": [
    "## Ex. 1 soln:\n",
    "dataset_id_ = 'LDLM40010'\n",
    "exptime_ = 12403.904\n",
    "print(f\"The TRAPPIST-1 COS data is in dataset {dataset_id_}, taken with an exosure time of {exptime_}\")"
   ]
  },
  {
   "cell_type": "code",
   "execution_count": null,
   "metadata": {
    "execution": {
     "iopub.execute_input": "2020-12-17T00:04:13.015607Z",
     "iopub.status.busy": "2020-12-17T00:04:13.015062Z",
     "iopub.status.idle": "2020-12-17T00:04:43.921747Z",
     "shell.execute_reply": "2020-12-17T00:04:43.922146Z"
    }
   },
   "outputs": [],
   "source": [
    "## Ex. 2 soln:\n",
    "query_3 = Observations.query_criteria(obs_id = 'LDLM40010',\n",
    "                                        wavelength_region=\"UV\", instrument_name=\"COS/FUV\", filters = 'G130M')\n",
    "\n",
    "product_list2 = Observations.get_product_list(query_3)\n",
    "rawRowsA = np.where(product_list2['productSubGroupDescription'] == \"RAWTAG_A\")\n",
    "rawRowsB = np.where(product_list2['productSubGroupDescription'] == \"RAWTAG_B\")\n",
    "rawRows = np.append(rawRowsA,rawRowsB)\n",
    "!mkdir ./data/Ex2/\n",
    "downloads2 = Observations.download_products(product_list2[rawRows], download_dir=data_dir+'Ex2/' , extension='fits', mrp_only=False, cache=True)\n",
    "downloads3 = Observations.download_products(product_list2, download_dir=data_dir+'Ex2/' , extension='fits', mrp_only=True, cache=True)\n",
    "\n",
    "asn_data = Table.read('./data/Ex2/mastDownload/HST/ldlm40010/ldlm40010_asn.fits', hdu = 1)\n",
    "print(asn_data)"
   ]
  }
 ],
 "metadata": {
  "kernelspec": {
   "display_name": "Python 3",
   "language": "python",
   "name": "python3"
  },
  "language_info": {
   "codemirror_mode": {
    "name": "ipython",
    "version": 3
   },
   "file_extension": ".py",
   "mimetype": "text/x-python",
   "name": "python",
   "nbconvert_exporter": "python",
   "pygments_lexer": "ipython3",
   "version": "3.6.12"
  }
 },
 "nbformat": 4,
 "nbformat_minor": 4
}
