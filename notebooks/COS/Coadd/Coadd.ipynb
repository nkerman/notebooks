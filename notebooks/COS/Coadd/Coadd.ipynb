{
 "cells": [
  {
   "cell_type": "code",
   "execution_count": 8,
   "id": "offshore-buffer",
   "metadata": {},
   "outputs": [],
   "source": [
    "# Wide set of imports\n",
    "import numpy as np\n",
    "import matplotlib.pyplot as plt\n",
    "import os\n",
    "# import pandas as pd\n",
    "# import scipy as sp\n",
    "# import seaborn as sb\n",
    "# import scipy.signal as signal\n",
    "# from astropy.io import fits\n",
    "# from astropy import units as u\n",
    "from astroquery.mast import Observations as Obs\n",
    "from astropy.io import fits\n",
    "from astropy.table import Table\n",
    "import glob"
   ]
  },
  {
   "cell_type": "code",
   "execution_count": 9,
   "id": "responsible-transition",
   "metadata": {},
   "outputs": [],
   "source": [
    "import urllib\n",
    "import tarfile"
   ]
  },
  {
   "cell_type": "code",
   "execution_count": 9,
   "metadata": {},
   "outputs": [],
   "source": []
  },
  {
   "cell_type": "markdown",
   "id": "boring-overview",
   "metadata": {},
   "source": [
    "The source is [VFTS 72 *AKA* BI 253](https://simbad.u-strasbg.fr/simbad/sim-id?Ident=BI+253&submit=submit+id)"
   ]
  },
  {
   "cell_type": "code",
   "execution_count": 13,
   "id": "terminal-ceramic",
   "metadata": {},
   "outputs": [
    {
     "name": "stdout",
     "output_type": "stream",
     "text": [
      "Downloaded zipped ULLYSES data files to ./zipdata/vfts72\n"
     ]
    }
   ],
   "source": [
    "ull_data_dl_path = 'https://ullyses.stsci.edu/files/vfts72.tar.gz'\n",
    "!mkdir -p ./zipdata\n",
    "zip_data_path, headers = urllib.request.urlretrieve(ull_data_dl_path, './zipdata/vfts72')\n",
    "\n",
    "print(f\"Downloaded zipped ULLYSES data files to {zip_data_path}\")"
   ]
  },
  {
   "cell_type": "code",
   "execution_count": 19,
   "id": "executive-stick",
   "metadata": {},
   "outputs": [
    {
     "ename": "NotADirectoryError",
     "evalue": "[Errno 20] Not a directory: './zipdata/vfts72/vfts72'",
     "output_type": "error",
     "traceback": [
      "\u001B[0;31m---------------------------------------------------------------------------\u001B[0m",
      "\u001B[0;31mNotADirectoryError\u001B[0m                        Traceback (most recent call last)",
      "\u001B[0;32m<ipython-input-19-84356bf714c0>\u001B[0m in \u001B[0;36m<module>\u001B[0;34m\u001B[0m\n\u001B[1;32m      1\u001B[0m \u001B[0mtar\u001B[0m \u001B[0;34m=\u001B[0m \u001B[0mtarfile\u001B[0m\u001B[0;34m.\u001B[0m\u001B[0mopen\u001B[0m\u001B[0;34m(\u001B[0m\u001B[0mzip_data_path\u001B[0m\u001B[0;34m,\u001B[0m \u001B[0;34m\"r:gz\"\u001B[0m\u001B[0;34m)\u001B[0m\u001B[0;34m\u001B[0m\u001B[0;34m\u001B[0m\u001B[0m\n\u001B[0;32m----> 2\u001B[0;31m \u001B[0mtar\u001B[0m\u001B[0;34m.\u001B[0m\u001B[0mextractall\u001B[0m\u001B[0;34m(\u001B[0m\u001B[0;34m'./zipdata/vfts72'\u001B[0m\u001B[0;34m)\u001B[0m\u001B[0;34m\u001B[0m\u001B[0;34m\u001B[0m\u001B[0m\n\u001B[0m\u001B[1;32m      3\u001B[0m \u001B[0mtar\u001B[0m\u001B[0;34m.\u001B[0m\u001B[0mclose\u001B[0m\u001B[0;34m(\u001B[0m\u001B[0;34m)\u001B[0m\u001B[0;34m\u001B[0m\u001B[0;34m\u001B[0m\u001B[0m\n\u001B[1;32m      4\u001B[0m \u001B[0;34m\u001B[0m\u001B[0m\n\u001B[1;32m      5\u001B[0m \u001B[0mdatadir\u001B[0m \u001B[0;34m=\u001B[0m \u001B[0;34m'./extracted_data/vfts72/'\u001B[0m\u001B[0;34m\u001B[0m\u001B[0;34m\u001B[0m\u001B[0m\n",
      "\u001B[0;32m~/miniconda3/envs/astroconda/lib/python3.6/tarfile.py\u001B[0m in \u001B[0;36mextractall\u001B[0;34m(self, path, members, numeric_owner)\u001B[0m\n\u001B[1;32m   2010\u001B[0m             \u001B[0;31m# Do not set_attrs directories, as we will do that further down\u001B[0m\u001B[0;34m\u001B[0m\u001B[0;34m\u001B[0m\u001B[0;34m\u001B[0m\u001B[0m\n\u001B[1;32m   2011\u001B[0m             self.extract(tarinfo, path, set_attrs=not tarinfo.isdir(),\n\u001B[0;32m-> 2012\u001B[0;31m                          numeric_owner=numeric_owner)\n\u001B[0m\u001B[1;32m   2013\u001B[0m \u001B[0;34m\u001B[0m\u001B[0m\n\u001B[1;32m   2014\u001B[0m         \u001B[0;31m# Reverse sort directories.\u001B[0m\u001B[0;34m\u001B[0m\u001B[0;34m\u001B[0m\u001B[0;34m\u001B[0m\u001B[0m\n",
      "\u001B[0;32m~/miniconda3/envs/astroconda/lib/python3.6/tarfile.py\u001B[0m in \u001B[0;36mextract\u001B[0;34m(self, member, path, set_attrs, numeric_owner)\u001B[0m\n\u001B[1;32m   2052\u001B[0m             self._extract_member(tarinfo, os.path.join(path, tarinfo.name),\n\u001B[1;32m   2053\u001B[0m                                  \u001B[0mset_attrs\u001B[0m\u001B[0;34m=\u001B[0m\u001B[0mset_attrs\u001B[0m\u001B[0;34m,\u001B[0m\u001B[0;34m\u001B[0m\u001B[0;34m\u001B[0m\u001B[0m\n\u001B[0;32m-> 2054\u001B[0;31m                                  numeric_owner=numeric_owner)\n\u001B[0m\u001B[1;32m   2055\u001B[0m         \u001B[0;32mexcept\u001B[0m \u001B[0mOSError\u001B[0m \u001B[0;32mas\u001B[0m \u001B[0me\u001B[0m\u001B[0;34m:\u001B[0m\u001B[0;34m\u001B[0m\u001B[0;34m\u001B[0m\u001B[0m\n\u001B[1;32m   2056\u001B[0m             \u001B[0;32mif\u001B[0m \u001B[0mself\u001B[0m\u001B[0;34m.\u001B[0m\u001B[0merrorlevel\u001B[0m \u001B[0;34m>\u001B[0m \u001B[0;36m0\u001B[0m\u001B[0;34m:\u001B[0m\u001B[0;34m\u001B[0m\u001B[0;34m\u001B[0m\u001B[0m\n",
      "\u001B[0;32m~/miniconda3/envs/astroconda/lib/python3.6/tarfile.py\u001B[0m in \u001B[0;36m_extract_member\u001B[0;34m(self, tarinfo, targetpath, set_attrs, numeric_owner)\u001B[0m\n\u001B[1;32m   2114\u001B[0m             \u001B[0;31m# Create directories that are not part of the archive with\u001B[0m\u001B[0;34m\u001B[0m\u001B[0;34m\u001B[0m\u001B[0;34m\u001B[0m\u001B[0m\n\u001B[1;32m   2115\u001B[0m             \u001B[0;31m# default permissions.\u001B[0m\u001B[0;34m\u001B[0m\u001B[0;34m\u001B[0m\u001B[0;34m\u001B[0m\u001B[0m\n\u001B[0;32m-> 2116\u001B[0;31m             \u001B[0mos\u001B[0m\u001B[0;34m.\u001B[0m\u001B[0mmakedirs\u001B[0m\u001B[0;34m(\u001B[0m\u001B[0mupperdirs\u001B[0m\u001B[0;34m)\u001B[0m\u001B[0;34m\u001B[0m\u001B[0;34m\u001B[0m\u001B[0m\n\u001B[0m\u001B[1;32m   2117\u001B[0m \u001B[0;34m\u001B[0m\u001B[0m\n\u001B[1;32m   2118\u001B[0m         \u001B[0;32mif\u001B[0m \u001B[0mtarinfo\u001B[0m\u001B[0;34m.\u001B[0m\u001B[0mislnk\u001B[0m\u001B[0;34m(\u001B[0m\u001B[0;34m)\u001B[0m \u001B[0;32mor\u001B[0m \u001B[0mtarinfo\u001B[0m\u001B[0;34m.\u001B[0m\u001B[0missym\u001B[0m\u001B[0;34m(\u001B[0m\u001B[0;34m)\u001B[0m\u001B[0;34m:\u001B[0m\u001B[0;34m\u001B[0m\u001B[0;34m\u001B[0m\u001B[0m\n",
      "\u001B[0;32m~/miniconda3/envs/astroconda/lib/python3.6/os.py\u001B[0m in \u001B[0;36mmakedirs\u001B[0;34m(name, mode, exist_ok)\u001B[0m\n\u001B[1;32m    218\u001B[0m             \u001B[0;32mreturn\u001B[0m\u001B[0;34m\u001B[0m\u001B[0;34m\u001B[0m\u001B[0m\n\u001B[1;32m    219\u001B[0m     \u001B[0;32mtry\u001B[0m\u001B[0;34m:\u001B[0m\u001B[0;34m\u001B[0m\u001B[0;34m\u001B[0m\u001B[0m\n\u001B[0;32m--> 220\u001B[0;31m         \u001B[0mmkdir\u001B[0m\u001B[0;34m(\u001B[0m\u001B[0mname\u001B[0m\u001B[0;34m,\u001B[0m \u001B[0mmode\u001B[0m\u001B[0;34m)\u001B[0m\u001B[0;34m\u001B[0m\u001B[0;34m\u001B[0m\u001B[0m\n\u001B[0m\u001B[1;32m    221\u001B[0m     \u001B[0;32mexcept\u001B[0m \u001B[0mOSError\u001B[0m\u001B[0;34m:\u001B[0m\u001B[0;34m\u001B[0m\u001B[0;34m\u001B[0m\u001B[0m\n\u001B[1;32m    222\u001B[0m         \u001B[0;31m# Cannot rely on checking for EEXIST, since the operating system\u001B[0m\u001B[0;34m\u001B[0m\u001B[0;34m\u001B[0m\u001B[0;34m\u001B[0m\u001B[0m\n",
      "\u001B[0;31mNotADirectoryError\u001B[0m: [Errno 20] Not a directory: './zipdata/vfts72/vfts72'"
     ]
    }
   ],
   "source": [
    "tar = tarfile.open(zip_data_path, \"r:gz\")\n",
    "tar.extractall('./zipdata/vfts72')\n",
    "tar.close()\n",
    "\n",
    "datadir = './extracted_data/vfts72/'"
   ]
  },
  {
   "cell_type": "code",
   "execution_count": null,
   "id": "disturbed-harbor",
   "metadata": {},
   "outputs": [],
   "source": [
    "allexposures = glob.glob(datadir+'*x1d*')+glob.glob(datadir+'*vo*')"
   ]
  },
  {
   "cell_type": "code",
   "execution_count": null,
   "id": "understood-carol",
   "metadata": {},
   "outputs": [],
   "source": [
    "for efile in allexposures:\n",
    "    prihdr = fits.getheader(efile)\n",
    "    tab = Table.read(efile)\n",
    "    print(prihdr['TELESCOP'],prihdr['INSTRUME'], \"\\t: \", len(tab), '\\trows of data')"
   ]
  },
  {
   "cell_type": "code",
   "execution_count": null,
   "id": "brave-commodity",
   "metadata": {},
   "outputs": [],
   "source": [
    "! /Users/nkerman/miniconda3/envs/astroconda/bin/python ./wrapper.py -i ./NatTest/vfts72/ -o ./NatTest/vfts72/output2"
   ]
  },
  {
   "cell_type": "code",
   "execution_count": null,
   "id": "formal-leone",
   "metadata": {},
   "outputs": [],
   "source": [
    "Table.read('./NatTest/vfts72/output2/hlsp_ullyses_hst-fuse_fuse-cos-stis_vfts72_uv_dr2_sed.fits')"
   ]
  },
  {
   "cell_type": "code",
   "execution_count": null,
   "id": "northern-container",
   "metadata": {},
   "outputs": [],
   "source": [
    "def simple_plot(filename, ext = 0):\n",
    "    tab = Table.read(filename)[0]\n",
    "    wvln, flux = tab['WAVELENGTH'], tab['FLUX']\n",
    "    \n",
    "    plt.plot(wvln,flux)"
   ]
  },
  {
   "cell_type": "code",
   "execution_count": null,
   "id": "balanced-thread",
   "metadata": {},
   "outputs": [],
   "source": [
    "simple_plot('./NatTest/vfts72/output2/hlsp_ullyses_hst-fuse_fuse-cos-stis_vfts72_uv_dr2_sed.fits')"
   ]
  },
  {
   "cell_type": "code",
   "execution_count": null,
   "id": "ancient-energy",
   "metadata": {},
   "outputs": [],
   "source": []
  }
 ],
 "metadata": {
  "kernelspec": {
   "name": "python3",
   "language": "python",
   "display_name": "Python 3"
  },
  "language_info": {
   "codemirror_mode": {
    "name": "ipython",
    "version": 3
   },
   "file_extension": ".py",
   "mimetype": "text/x-python",
   "name": "python",
   "nbconvert_exporter": "python",
   "pygments_lexer": "ipython3",
   "version": "3.6.12-final"
  }
 },
 "nbformat": 4,
 "nbformat_minor": 5
}