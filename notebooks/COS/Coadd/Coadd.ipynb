{
 "cells": [
  {
   "cell_type": "code",
   "execution_count": null,
   "id": "offshore-buffer",
   "metadata": {},
   "outputs": [],
   "source": [
    "# Wide set of imports\n",
    "import numpy as np\n",
    "import matplotlib.pyplot as plt\n",
    "import os\n",
    "# import pandas as pd\n",
    "# import scipy as sp\n",
    "# import seaborn as sb\n",
    "# import scipy.signal as signal\n",
    "# from astropy.io import fits\n",
    "# from astropy import units as u\n",
    "from astroquery.mast import Observations as Obs\n",
    "from astropy.io import fits\n",
    "from astropy.table import Table\n",
    "import glob"
   ]
  },
  {
   "cell_type": "code",
   "execution_count": null,
   "id": "responsible-transition",
   "metadata": {},
   "outputs": [],
   "source": [
    "import urllib\n",
    "import tarfile"
   ]
  },
  {
   "cell_type": "code",
   "execution_count": null,
   "id": "310aa1e8",
   "metadata": {},
   "outputs": [],
   "source": []
  },
  {
   "cell_type": "markdown",
   "id": "boring-overview",
   "metadata": {},
   "source": [
    "The source is [VFTS 72 *AKA* BI 253](https://simbad.u-strasbg.fr/simbad/sim-id?Ident=BI+253&submit=submit+id)"
   ]
  },
  {
   "cell_type": "code",
   "execution_count": null,
   "id": "terminal-ceramic",
   "metadata": {},
   "outputs": [],
   "source": [
    "ull_data_dl_path = 'https://ullyses.stsci.edu/files/vfts72.tar.gz'\n",
    "!mkdir -p ./zipdata\n",
    "zip_data_path, headers = urllib.request.urlretrieve(ull_data_dl_path, './zipdata/vfts72')\n",
    "\n",
    "print(f\"Downloaded zipped ULLYSES data files to {zip_data_path}\")"
   ]
  },
  {
   "cell_type": "code",
   "execution_count": null,
   "id": "executive-stick",
   "metadata": {},
   "outputs": [],
   "source": [
    "tar = tarfile.open(zip_data_path, \"r:gz\")\n",
    "tar.extractall('./zipdata/vfts72')\n",
    "tar.close()\n",
    "\n",
    "datadir = './extracted_data/vfts72/'"
   ]
  },
  {
   "cell_type": "code",
   "execution_count": null,
   "id": "disturbed-harbor",
   "metadata": {},
   "outputs": [],
   "source": [
    "allexposures = glob.glob(datadir+'*x1d*')+glob.glob(datadir+'*vo*')"
   ]
  },
  {
   "cell_type": "code",
   "execution_count": null,
   "id": "understood-carol",
   "metadata": {},
   "outputs": [],
   "source": [
    "for efile in allexposures:\n",
    "    prihdr = fits.getheader(efile)\n",
    "    tab = Table.read(efile)\n",
    "    print(prihdr['TELESCOP'],prihdr['INSTRUME'], \"\\t: \", len(tab), '\\trows of data')"
   ]
  },
  {
   "cell_type": "code",
   "execution_count": null,
   "id": "brave-commodity",
   "metadata": {},
   "outputs": [],
   "source": [
    "! /Users/nkerman/miniconda3/envs/astroconda/bin/python ./wrapper.py -i ./NatTest/vfts72/ -o ./NatTest/vfts72/output2"
   ]
  },
  {
   "cell_type": "code",
   "execution_count": null,
   "id": "formal-leone",
   "metadata": {},
   "outputs": [],
   "source": [
    "Table.read('./NatTest/vfts72/output2/hlsp_ullyses_hst-fuse_fuse-cos-stis_vfts72_uv_dr2_sed.fits')"
   ]
  },
  {
   "cell_type": "code",
   "execution_count": null,
   "id": "northern-container",
   "metadata": {},
   "outputs": [],
   "source": [
    "def simple_plot(filename, ext = 0):\n",
    "    tab = Table.read(filename)[0]\n",
    "    wvln, flux = tab['WAVELENGTH'], tab['FLUX']\n",
    "    \n",
    "    plt.plot(wvln,flux)"
   ]
  },
  {
   "cell_type": "code",
   "execution_count": null,
   "id": "balanced-thread",
   "metadata": {},
   "outputs": [],
   "source": [
    "simple_plot('./NatTest/vfts72/output2/hlsp_ullyses_hst-fuse_fuse-cos-stis_vfts72_uv_dr2_sed.fits')"
   ]
  },
  {
   "cell_type": "code",
   "execution_count": null,
   "id": "ancient-energy",
   "metadata": {},
   "outputs": [],
   "source": []
  }
 ],
 "metadata": {
  "kernelspec": {
   "display_name": "Python 3",
   "language": "python",
   "name": "python3"
  },
  "language_info": {
   "codemirror_mode": {
    "name": "ipython",
    "version": 3
   },
   "file_extension": ".py",
   "mimetype": "text/x-python",
   "name": "python",
   "nbconvert_exporter": "python",
   "pygments_lexer": "ipython3",
   "version": "3.6.12-final"
  }
 },
 "nbformat": 4,
 "nbformat_minor": 5
}
