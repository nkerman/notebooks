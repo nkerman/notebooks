{
 "cells": [
  {
   "cell_type": "markdown",
   "metadata": {},
   "source": [
    "<a id=\"topV\"></a>\n",
    "\n",
    "# Viewing COS Data\n",
    "\n",
    "# Learning Goals\n",
    "<font size=\"4 \">**This Notebook is designed to walk the user (*you*) through:**</font><br>\n",
    "    \n",
    "<font size=\"3 \"> 1. **[Reading in the data](#readInV) using `Python`**</font><br>\n",
    "\\- 1.1. [Investigating the Data - *Basics*](#investV)\n",
    "    \n",
    "\\- 1.2. [Reading in the `x1d` Main Data](#readmainV)\n",
    "    \n",
    "\\- 1.3. [The Association `asn` file](#assocV)\n",
    "    \n",
    "<font size=\"3 \"> 2. **[Displaying the data](#plottingV) using common plotting techniques**</font>\n",
    "    \n",
    "\\- 2.1. [Plotting an FUV Spectrum](#fuvV)\n",
    "    \n",
    "> 2.1.1. [Our First Plot](#p1V)\n",
    "    \n",
    "> 2.1.2. [A Complex Look at the Entire FUV](#plotcompV)\n",
    "    \n",
    "> 2.1.3. [Looking Closer at Parts of the FUV Spectrum with a Cautionary Tale](#plotcloserV)\n",
    "    \n",
    "> 2.1.4. [Reading and plotting the data with `specutils` (*optional*)](#specvizV)\n",
    "    \n",
    "\\- 2.2. [Plotting an NUV Spectrum](#nuvV)\n",
    "    \n",
    "> 2.2.1. [Examining the first-order spectrum](#nuv1V)\n",
    "    \n",
    "> 2.2.2. [Examining the second-order spectrum](#nuv2V)\n",
    "    \n",
    "<font size=\"3 \"> 3. **[Making a quick assessment of the data](#AssessingV) with tools to bin and measure the data's SNR and resolution**</font>\n",
    "    \n",
    "\\- 3.1. [Understanding and Using Data Quality Flags](#DataQualV)\n",
    "    \n",
    "\\- 3.2. [Binning the Data](#BinningV)\n",
    "    \n",
    "> 3.2.1. [Bringing in Some Useful Functions for Binning](#BinfunV)\n",
    "    \n",
    "> 3.2.2. [Binning the FUV Data](#binfuvV)\n",
    "    \n",
    "\\- 3.3. [Calculating the Signal-to-Noise Ratio](#SnrV)\n",
    "    \n",
    "> 3.3.1. [Defining a Useful Function for Estimating SNR](#snrfunV)\n",
    "    \n",
    "> 3.3.2. [Choosing a Region to calculate SNR](#snrregV)\n",
    "    \n",
    "> 3.3.3. [Calculating the SNR](#snrcalcV)\n",
    "    \n",
    "\n",
    "*If you're confident with Reading-in and Plotting data in Python, you may run the first few cells defining directories and importing modules and then click the link to go ahead and skip to Section 3.*\n",
    "\n",
    "\n",
    "# 0. Introduction\n",
    "**The Cosmic Origins Spectrograph ([*COS*](https://www.nasa.gov/content/hubble-space-telescope-cosmic-origins-spectrograph)) is an ultraviolet spectrograph on-board the Hubble Space Telescope ([*HST*](https://www.stsci.edu/hst/about)) with capabilities in the near ultraviolet (*NUV*) and far ultraviolet (*FUV*).**\n",
    "\n",
    "**This tutorial aims to prepare you to begin analyzing COS data of your choice by walking you through reading and viewing a spectrum obtained with COS, as well as obtaining a few diagnostic measurements of your spectrum.**\n",
    "\n",
    "- For an in-depth manual to working with COS data and a discussion of caveats and user tips, see the [COS Data Handbook](https://hst-docs.stsci.edu/display/COSDHB/).\n",
    "- For a detailed overview of the COS instrument, see the [COS Instrument Handbook](https://hst-docs.stsci.edu/display/COSIHB/).\n",
    "\n",
    "### Notes for those new to Python/Jupyter/Coding:\n",
    "\n",
    "- You will frequently see exclamation points (**\\!**) or dollar signs (**\\$**) at the beginning of a line of code we are telling you to run. These are not part of the actual commands. The exclamation points tell a jupyter notebook to pass the following line to the command line, and the dollar sign merely indicates the start of a terminal prompt. "
   ]
  },
  {
   "cell_type": "markdown",
   "metadata": {},
   "source": [
    "<font size=\"5\"> We will import the following packages:</font>\n",
    "\n",
    "- `numpy` to handle array functions (version $\\ge$ 1.17)\n",
    "  - We also insert a line telling numpy to ignore a certain type of warning about divide-by-zeros. This is not always a good idea, so seriously consider it before copying it into your code!\n",
    "- `sys`, `os`, and `pathlib` for managing system variables and paths.\n",
    "- `astropy.io fits` for accessing FITS files\n",
    "- `astropy.table Table` for creating tidy tables of the data\n",
    "- `astropy.units` and `astropy.visualization.quantity_support` for dealing with units\n",
    "- `matplotlib.pyplot` for plotting data\n",
    "- `astroquery.mast Mast and Observations` for finding and downloading data from the [MAST](https://mast.stsci.edu/portal/Mashup/Clients/Mast/Portal.html) archive\n",
    "\n",
    "*Later on, we will import some functions from a local file*, `cos_functions.py`, which is installed as part of the same GitHub repository as this notebook. If you do not see this `Python` file in this directory, you can find it [here](https://github.com/spacetelescope/notebooks/tree/master/notebooks/COS/ViewData/)."
   ]
  },
  {
   "cell_type": "code",
   "execution_count": null,
   "metadata": {},
   "outputs": [],
   "source": [
    "# This line makes matplotlib plots appear in the notebook instead of possibly showing up in separate windows\n",
    "%matplotlib inline\n",
    "\n",
    "# Import for: Manipulating arrays\n",
    "import numpy as np\n",
    "\n",
    "# Import for: Managing system variables and paths\n",
    "import sys \n",
    "import os\n",
    "from pathlib import Path\n",
    "\n",
    "# Imports for: Reading in data\n",
    "from astropy.io import fits\n",
    "from astropy.table import Table\n",
    "\n",
    "# Imports for: Plotting\n",
    "import matplotlib.pyplot as plt\n",
    "\n",
    "# Imports for: Dealing with units and plotting them\n",
    "from astropy import units as u\n",
    "from astropy.visualization import quantity_support\n",
    "quantity_support()\n",
    "\n",
    "# Imports for: Downloading data from archive\n",
    "from astroquery.mast import Mast\n",
    "from astroquery.mast import Observations\n",
    "from astroquery.mast import Catalogs"
   ]
  },
  {
   "cell_type": "markdown",
   "metadata": {},
   "source": [
    "The brief cell below will prevent `numpy` from giving us a warning when we divide elements of an array by zero.\n",
    "This warning is not helpful for this notebook, but you should **be careful** before suppressing warnings in general."
   ]
  },
  {
   "cell_type": "code",
   "execution_count": null,
   "metadata": {},
   "outputs": [],
   "source": [
    "# Our arrays will encounter divide by 0 warnings, which is OK, but we want to suppress the warning text with the next code line.\n",
    "   # SO DO NOT COPY THIS NEXT LINE INTO YOUR CODE WITHOUT CAREFUL CONSIDERATION!\n",
    "np.warnings.filterwarnings('ignore')"
   ]
  },
  {
   "cell_type": "markdown",
   "metadata": {},
   "source": [
    "<font size=\"5\"> We will also define a few directories in which to place our data and plots, as well as a few colors we will use in plots later.</font>"
   ]
  },
  {
   "cell_type": "code",
   "execution_count": null,
   "metadata": {},
   "outputs": [],
   "source": [
    "# These will be important directories for the notebook\n",
    "\n",
    "datadir = Path('./data')\n",
    "outputsdir = Path('./output/')\n",
    "plotsdir = Path('./output/plots')\n",
    "# Make the directories if they don't exist\n",
    "datadir.mkdir(exist_ok=True), outputsdir.mkdir(exist_ok=True), plotsdir.mkdir(exist_ok=True)\n",
    "\n",
    "# Specifying a few colors for plotting by their hex code - feel free to change these, I just like them!\n",
    "## Many search engines will show you the hex color - i.e. Google \"#BC8C5B\" to see this orange color\n",
    "segment_colors = {'FUVA':'#BC8C5B', 'FUVB':'#4B6CA4', 'NUVA':'#1813CE','NUVB':'#61946E','NUVC':'#8C1A11'}"
   ]
  },
  {
   "cell_type": "markdown",
   "metadata": {},
   "source": [
    "<font size=\"5\">We will be working with some FUV and NUV datasets downloaded in the cell below. </font>\n",
    "\n",
    "\n",
    "These two datasets contain FUV observations of the QSO *3C48* and NUV observations of the Star *WD1057 + 719*, respectively.\n",
    "\n",
    "Searching for and downloading data is out of the scope of this tutorial. If you wish to learn more, please see our [tutorial on downloading COS data](https://github.com/spacetelescope/notebooks/blob/master/notebooks/COS/DataDl/DataDl.ipynb)\n"
   ]
  },
  {
   "cell_type": "code",
   "execution_count": null,
   "metadata": {},
   "outputs": [],
   "source": [
    "# Get the NUV data on WD1057+719 with the G230L grating; only the _x1dsum and _asn\n",
    "nuv_downloads = Observations.download_products(Observations.get_product_list(Observations.query_criteria(obs_id = 'lbbd01020')), \n",
    "                                           download_dir=str(datadir) , extension='fits', mrp_only=True, cache=False)\n",
    "# Get the FUV data on QSO 3C48; only the _x1dsum and _asn\n",
    "fuv_downloads = Observations.download_products(Observations.get_product_list(Observations.query_criteria(obs_id = 'lcxv13050')),\n",
    "                                           download_dir=str(datadir) , extension='fits', mrp_only=True, cache=False)"
   ]
  },
  {
   "cell_type": "markdown",
   "metadata": {},
   "source": [
    "**If you're confident Reading-in and Plotting data in Python, now go ahead to [Section 3](#AssessingV)**\n",
    "\n",
    "<a id=\"readInV\"></a>\n",
    "# 1. Reading in the data\n",
    "\n",
    "The calibrated spectrum data is now on our local machine as: **<`current-working-directory`>**`/data/mastDownload/HST/`**<`Obs_id`>**`/`**<`Obs_id`>**`_x1dsum.fits`,\n",
    "where the NUV and FUV Data are contained in the obs_ids:\n",
    "\n",
    "| Spectral Region | Obs_id| Object Name|Object Type|filepath|\n",
    "|-----|------------|------|-----------|--------|\n",
    "| FUV | LCXV13050|QSO| 3C48 |  ./data/mastDownload/HST/lcxv13050|\n",
    "| NUV | LBBD01020|Star| WD1057 + 719 |  ./data/mastDownload/HST/lbbd01020|\n",
    "\n",
    "<a id=\"investV\"></a>\n",
    "## 1.1. Investigating the Data - *Basics*\n",
    "We want to learn a bit about this file, then input the data.\n",
    "\n",
    "We can learn a great deal about our data from its primary fits header (see cell below)."
   ]
  },
  {
   "cell_type": "code",
   "execution_count": null,
   "metadata": {},
   "outputs": [],
   "source": [
    "# Make sure these point to your new FUV data!\n",
    "# NOTE, We'll refer to the x1dsum file with the prefix x1d for convenience\n",
    "## However, the files are x1dsum files, not the related x1d files - more info in the Data Handbook\n",
    "fuv_x1d_filepath = './data/mastDownload/HST/lcxv13050/lcxv13050_x1dsum.fits' \n",
    "# This is the association file\n",
    "fuv_asn_filepath = './data/mastDownload/HST/lcxv13050/lcxv13050_asn.fits'\n",
    "\n",
    "# Make sure these point to your new NUV data!\n",
    "nuv_x1d_filepath = './data/mastDownload/HST/lbbd01020/lbbd01020_x1dsum.fits'\n",
    "# This is the association file\n",
    "nuv_asn_filepath = './data/mastDownload/HST/lbbd01020/lbbd01020_asn.fits'\n",
    "\n",
    "\n",
    "nuv_header_x1d = fits.getheader(nuv_x1d_filepath)\n",
    "nuv_header_asn = fits.getheader(nuv_asn_filepath)\n",
    "\n",
    "fuv_header_x1d = fits.getheader(fuv_x1d_filepath)\n",
    "fuv_header_asn = fits.getheader(fuv_asn_filepath)\n",
    "\n",
    "fuv_header_x1d[:18],\"...\",fuv_header_x1d[45:50] #This is the main 0th header of the calibrated nuv spectrum; \n",
    "# THIS IS NOT THE WHOLE THING! The [:18] and [45:50] tell it to print the first 18 lines, as well as lines 45-50"
   ]
  },
  {
   "cell_type": "markdown",
   "metadata": {},
   "source": [
    "For instance, we notice that the NUV data was taken in [TIME-TAG mode](https://hst-docs.stsci.edu/cosdhb/chapter-5-cos-data-analysis/5-4-working-with-time-tag-data) and calibrated with `calCOS` version `3.3.10` (at the time of writing this - it may have been reprocessed by the time you read this).\n",
    "\n",
    "However, some metadata information, such as the time of observation and calculated exposure time, can be found in the **1-th header** rather than the 0th. We will read and print this below:"
   ]
  },
  {
   "cell_type": "code",
   "execution_count": null,
   "metadata": {},
   "outputs": [],
   "source": [
    "with fits.open(fuv_x1d_filepath) as hdu:\n",
    "    fuv_header1_x1d = hdu[1].header\n",
    "    fuv_date = fuv_header1_x1d['DATE-OBS']\n",
    "    fuv_time = fuv_header1_x1d['TIME-OBS']\n",
    "    fuv_exptime = fuv_header1_x1d['EXPTIME']\n",
    "    \n",
    "    #It's also perfectly valid to access the 1-th extension header using 'fits.getheader(fuv_x1d_filepath, ext=1)'\n",
    "\n",
    "print(f\"This FUV data was taken on {fuv_date} starting at {fuv_time} with a net exposure time of {fuv_exptime} seconds.\")\n",
    "    \n",
    "with fits.open(nuv_x1d_filepath) as hdu:\n",
    "    nuv_header1_x1d = hdu[1].header\n",
    "    nuv_date = nuv_header1_x1d['DATE-OBS']\n",
    "    nuv_time = nuv_header1_x1d['TIME-OBS']\n",
    "    nuv_exptime = nuv_header1_x1d['EXPTIME']\n",
    "\n",
    "print(f\"This NUV data was taken on {nuv_date} starting at {nuv_time} with a net exposure time of {nuv_exptime} seconds.\")"
   ]
  },
  {
   "cell_type": "markdown",
   "metadata": {},
   "source": [
    "<a id=readmainV></a>\n",
    "## 1.2. Reading in the `x1d` Main Data\n",
    "**The simplest way to read in the `x1d` data from fits extension \\#1 is using the [`astropy.table.getdata`](https://docs.astropy.org/en/stable/io/fits/api/files.html#astropy.io.table.getdata) command.**\n",
    "We can then display all the fields contained in this data table using the `.colnames` method. You can ignore the warnings about multiple slashes that come up while reading in the data. The proper units are displayed in LaTex as:\n",
    "\n",
    "- 'erg /s /cm\\**2 /angstrom'  ==> $$\\ \\ erg\\ s^{-1}\\ cm^{-2}\\ \\mathring{A}^{-1}$$\n",
    "- 'count /s /pixel'          ==> $$\\ \\ counts\\ s^{-1}\\ pixel^{-1}$$\n",
    "\n",
    "**In the case of the FUV data, we see an astropy style table of 2 rows** (*corresponding to FUVA and FUVB* - see next python cell). These rows contain data from the 2 segments of FUV Detector (see figure 1.1).\n",
    "\n",
    "### Fig. 1.1 from [COS DHB Fig. 1.6](https://hst-docs.stsci.edu/cosdhb/chapter-1-cos-overview/1-2-cos-physical-configuration#id-1.2COSPhysicalConfiguration-Figure1.6)\n",
    "\n",
    "<center>\n",
    "    <img src=figures/cosdhb_fig1p6.jpg width =\"900\" title=\"Layout of the COS FUV detector\">\n",
    "    <figcaption>Layout of the COS FUV detector. Note that FUVB corresponds to shorter wavelengths than FUVA.</figcaption>\n",
    "</center>\n",
    "\n",
    "**In the case of the NUV data, we see a similar astropy style table of 3 rows** (*corresponding to NUVA, NUVB, and NUVC* - see next python cell). These rows contain data from the 3 stripes of the NUV spectrum (see figure 1.2).\n",
    "\n",
    "### Fig. 1.2 from [COS DHB Fig. 1.10](https://hst-docs.stsci.edu/cosdhb/chapter-1-cos-overview/1-2-cos-physical-configuration#id-1.2COSPhysicalConfiguration-Figure1.10)\n",
    "\n",
    "<center>\n",
    "    <img src=figures/ch1_cos_overview3.10.jpg width =\"900\" title=\"An example COS NUV spectrum\">\n",
    "    <figcaption>An example COS NUV spectrum. The spectrum itself, taken with the Primary Science Aperture, is in the lower three stripes labeled 'PSA'. The upper stripes, labeled 'WCA' are for wavelength calibration.</figcaption>\n",
    "</center>\n",
    "\n",
    "<br/><br/>\n",
    "\n",
    "The columns of these tables include some scalar values which *describe* the data (i.e. EXPTIME), while the columns containing actual data hold it in lists of equal length (i.e. WAVELENGTH, FLUX, etc., where that length = NELEM).\n",
    "\n",
    "An important thing to note about this *NUV* data in particular is that with the grating used here (G230L), stripe C is actually a 2nd order spectrum with a higher dispersion (x2) and ~5% contamination from the 1st order spectrum. See the [COS Data Handbook](https://hst-docs.stsci.edu/cosdhb/chapter-1-cos-overview/1-1-instrument-capabilities-and-design#id-1.1InstrumentCapabilitiesandDesign-NUVSpectroscopyNUVSpectroscopy), *especially Fig. 1.3,* for more information."
   ]
  },
  {
   "cell_type": "code",
   "execution_count": null,
   "metadata": {},
   "outputs": [],
   "source": [
    "fuv_x1d_data = Table.read(fuv_x1d_filepath)\n",
    "columns = fuv_x1d_data.colnames\n",
    "\n",
    "print(\"\\n\\nTable of FUV data with columns:\\n\",columns, \"\\n\\n\")\n",
    "\n",
    "fuv_x1d_data"
   ]
  },
  {
   "cell_type": "markdown",
   "metadata": {},
   "source": [
    "<a id=assocV></a>\n",
    "## 1.3. The Association `asn` file\n",
    "\n",
    "It's also likely we will want to see what observations went into making this calibrated spectrum. This information is contained in the Association (`asn`) file, under the MEMNAME column."
   ]
  },
  {
   "cell_type": "code",
   "execution_count": null,
   "metadata": {},
   "outputs": [],
   "source": [
    "print(fits.info(fuv_asn_filepath),'\\n\\n----\\n')\n",
    "fuv_asn_data = Table.read(fuv_asn_filepath)\n",
    "print(fuv_asn_data)"
   ]
  },
  {
   "cell_type": "markdown",
   "metadata": {},
   "source": [
    "We see that our data has MEMTYPE = `PROD-FP`, meaning it is an Output science product, see COS DHB [Table 2.6](https://hst-docs.stsci.edu/cosdhb/chapter-2-cos-data-files/2-4-cos-data-products).\n",
    "This particular association file lists four `EXP-FP` (Input science exposure), with the `MEMNAME` (Dataset IDs) `[LCXV13FLQ, LCXV13FXQ, LCXV13G4Q, LCXV13GXQ]`. We could look for these datasets, if we wished to inspect the exposures individually."
   ]
  },
  {
   "cell_type": "markdown",
   "metadata": {},
   "source": [
    "### Exercise 1.1. *Finding Metadata for the NUV*\n",
    "1. Read in the NUV data, just as we did with the FUV data.\n",
    "2. From the 0th header of the `x1dsum` file, determine the time (in MJDs) that the data was processed. (keyword = PROCTIME) and from the 1th header, determine how many wavelength calibration \"flashes\" were used (keyword = NUMFLASH)\n",
    "3. From the `asn` file, determine how many input science exposures went into the NUV x1dsum file."
   ]
  },
  {
   "cell_type": "code",
   "execution_count": null,
   "metadata": {},
   "outputs": [],
   "source": [
    "### Your code here\n",
    "\n",
    "\n"
   ]
  },
  {
   "cell_type": "markdown",
   "metadata": {},
   "source": [
    "<a id=\"plottingV\"></a>\n",
    "# 2. Plotting the Data"
   ]
  },
  {
   "cell_type": "markdown",
   "metadata": {},
   "source": [
    "<a id = fuvV></a>\n",
    "## 2.1. Plotting an FUV Spectrum\n",
    "\n",
    "**Let's grab the simplest data we need to plot a spectrum:** <font size=\"4\">**WAVELENGTH, FLUX, and ERROR**.</font>\n",
    "- *Note that here, ERROR is flux error.*\n",
    "- *Also note that somewhat counterintuitively, the FUVB segment extends over shorter wavelengths than the FUVA.*\n",
    "\n",
    "<a id = p1V></a>\n",
    "### 2.1.1. Our First Plot\n",
    "\n",
    "**We begin with an extremely simple plot: simply a line plot of a single segment (FUVA) without its error.**\n",
    "The goal of this show is to demonstrate some of the common parameters of making a simple plot with `matplotlib` which you are likely to often need. The comments explain what each line does.\n",
    "\n",
    "<a id=\"fig2p1\"></a>"
   ]
  },
  {
   "cell_type": "code",
   "execution_count": null,
   "metadata": {},
   "outputs": [],
   "source": [
    "wvln, flux, segment  = fuv_x1d_data[0][\"WAVELENGTH\", \"FLUX\", \"SEGMENT\"] # [0] Accesses FUVA, the longer wvln segment and gets the data we need to plot a spectrum\n",
    "\n",
    "fig1, ax = plt.subplots(1,1,figsize=(10,4), dpi = 100)  # Sets up the plot as a single box with size of 10x4 inches, and with a dpi of 100, relevant should we choose to save it\n",
    "\n",
    "# The next few lines are the core of the cell, where we actually place the data onto the plot:\n",
    "###############\n",
    "ax.plot(wvln, flux, # First two arguments are assumed to be the x-data, y-data\n",
    "        linestyle = \"-\", linewidth = 0.25, c = 'black', # These parameters specify the look of the connecting line\n",
    "        marker = '.', markersize = 2, markerfacecolor = 'r', markeredgewidth = 0, # The marker parameters specify how the data points will look - if you don't want dots set marker = ''\n",
    "        label = segment) # The label is an optional parameter which will allow us to create a legend - useful when there are multiple datasets on the same plot\n",
    "\n",
    "# The lines after this are all about formatting, adding text, and saving as an image\n",
    "###############\n",
    "ax.set_title(\"Fig. 2.1\\nSimple COS Segment FUVA Spectrum\", size = 20) # Adds a title of fontsize 20 points\n",
    "ax.set_xlabel('Wavelength [$\\AA$]', size = 12) # Adds x axis label\n",
    "ax.set_ylabel('Flux [$erg\\ s^{-1}\\ cm^{-2}\\ Angstrom^{-1}$]', size = 12) # Adds y label\n",
    "\n",
    "plt.xlim(1605,1815) # These two lines set the x and y bounds of the image in whatever units we are plotting in \n",
    "plt.ylim(-1E-15, 1.85E-14)\n",
    "\n",
    "plt.legend(loc = 'upper right') # Adds a legend with the label specified in the plotting call\n",
    "plt.tight_layout() # Gets rid of blank space\n",
    "plt.savefig(str(plotsdir / \"Fig2.1.png\")) # Optionally you can save the plot as an image\n",
    "plt.show() # Shows all the plot calls in this cell and \"clears\" the plotting space - must come after any saving you want to do"
   ]
  },
  {
   "cell_type": "markdown",
   "metadata": {},
   "source": [
    "### Exercise 2.1: A better looking plot\n",
    "Plot the data from Segment FUVB, similar to the Segment FUVA plot above, but this time, normalize flux to a max of 1, and don't plot those distracting red markers!\n",
    "\n",
    "Note what can you simply copy over, and what you have to make sure to change."
   ]
  },
  {
   "cell_type": "code",
   "execution_count": null,
   "metadata": {},
   "outputs": [],
   "source": [
    "# Your code here\n",
    "\n",
    "\n"
   ]
  },
  {
   "cell_type": "markdown",
   "metadata": {},
   "source": [
    "<a id = plotcompV></a>\n",
    "### 2.1.2. A Complex Look at the Entire FUV\n",
    "\n",
    "**Now that we have an idea for how `matplotlib` works, let's make a more complicated graph showing both FUV segments - *independently and together*.**\n",
    "\n",
    "One of the most important steps to creating a plot is planning out how it will look and convey its information - so let's start out by planning this out below:\n",
    "\n",
    "|Panel|Contents|Information Conveyed|Notes|\n",
    "|-|-|-|-|\n",
    "|*top*|Entire FUV Spectrum as a **simple plot**|Overview of the entire spectrum we have, course look without much detail|Color by segment|\n",
    "|*middle*|Shorter Wavelength FUVB Spectrum as an **errorbar plot**|Closer look at the shorter wavelength spectrum with an idea of error|Color errorbar by segment, central line in black|\n",
    "|*bottom*|Longer Wavelength FUVA Spectrum as an **errorbar plot**|Closer look at the longer wavelength spectrum with an idea of error|Color errorbar by segment, central line in black|"
   ]
  },
  {
   "cell_type": "code",
   "execution_count": null,
   "metadata": {},
   "outputs": [],
   "source": [
    "fig, (ax0, ax1, ax2) = plt.subplots(3, 1, figsize = (16, 16)) # ax0, ax1, ax2 are our 3 panels: top, middle, and bottom\n",
    "\n",
    "for i in range(2): # Repeats for i = [0,1] to apply to each segment's data at a time\n",
    "    wvln, flux, fluxErr, segment = fuv_x1d_data[i][\"WAVELENGTH\", \"FLUX\", \"ERROR\", \"SEGMENT\"] # Grabs all useful data for the chosen segment\n",
    "    \n",
    "    # This section applies to the top panel:\n",
    "    ax0.plot(wvln, flux,\n",
    "                linestyle = \"-\", label = segment, c = segment_colors[segment])\n",
    "    ax0.legend(fontsize = 20 , loc = 'upper left')\n",
    "    ax0.set_title(\"Fig 2.2\\nFUV Spectra with G160M Grating\", size = 35)\n",
    "    ax0.set_xlim(1428,1805)\n",
    "    ax0.set_ylim(-1E-15,1.9E-14)\n",
    "\n",
    "    ######\n",
    "    \n",
    "    if i == 0: # This indented code applies only to segment FUVA data in bottom Panel \n",
    "        markers, caps, bars = ax2.errorbar(x = wvln, y = flux, yerr = fluxErr,\n",
    "                    linestyle = \"-\",  label = segment, marker = '', markersize = 1,\n",
    "                                           c = 'k', alpha = 1, ecolor = segment_colors[segment] )\n",
    "        ax2.set_xlim(1610,1810)\n",
    "        ax2.set_ylim(-3E-15,1.9E-14)\n",
    "        ax2.legend(fontsize = 20 , loc = 'upper left')\n",
    "        ax2.set_xlabel('Wavelength [$\\AA$]', size = 30)\n",
    "        [bar.set_alpha(0.75) for bar in bars]\n",
    "        \n",
    "    ######\n",
    "        \n",
    "    if i == 1: # This indented code applies only to segment FUVB data in middle Panel \n",
    "        markers, caps, bars = ax1.errorbar(x = wvln, y = flux, yerr = fluxErr,\n",
    "                    linestyle = \"-\",  label = segment, c = 'k', ecolor =  segment_colors[segment] )\n",
    "        ax1.set_xlim(1428,1615)\n",
    "        ax1.set_ylim(-1E-15,1.25E-14)\n",
    "        ax1.legend(fontsize = 20 , loc = 'upper left')\n",
    "        ax1.set_ylabel('Flux [$erg\\ s^{-1}\\ cm^{-2}\\ Angstrom^{-1}$]', size = 30)\n",
    "        [bar.set_alpha(0.75) for bar in bars]\n",
    "    \n",
    "    ######\n",
    "plt.tight_layout()\n",
    "plt.savefig(str(plotsdir/ 'Fig2.2.png'), dpi = 200)\n",
    "plt.show()"
   ]
  },
  {
   "cell_type": "markdown",
   "metadata": {},
   "source": [
    "<a id = plotcloserV></a>\n",
    "### 2.1.3. Looking Closer at Parts of the FUV Spectrum\n",
    "\n",
    "**It's very difficult to get any insights on small-scale details in the above plots - data is too dense to parse! Below, we'll show examples of:**\n",
    "- Plotting a small region around an absorption line feature.\n",
    "- Plotting an entire segment's spectrum in chunks of wavelength space.\n",
    "\n",
    "**Let's begin with showing a region around a line, in this case, we see a sharp line around 1670 Å.** "
   ]
  },
  {
   "cell_type": "code",
   "execution_count": null,
   "metadata": {},
   "outputs": [],
   "source": [
    "line1670 = 1670.79 # An aluminium spectral line looks to be in the right place to be our line\n",
    "                  # SOURCE: Leitherer, Claus, et al. The Astronomical Journal 141.2 (2011): 37.\n",
    "\n",
    "wvln, flux, fluxErr, segment = fuv_x1d_data[0][\"WAVELENGTH\", \"FLUX\", \"ERROR\", \"SEGMENT\"] # Grabs all useful data for the chosen segment\n",
    "\n",
    "wvln_extent = 2 # How many Angstroms in each direction around line1670 do we want to look at?\n",
    "\n",
    "lineRegion_mask = (wvln>line1670 - wvln_extent) & (wvln<line1670 +wvln_extent) # Mask the data to within +/- wvln_extent Angstrom of the line - this makes the plots run quicker\n",
    "wvln_region, flux_region, fluxErr_region = wvln[lineRegion_mask], flux[lineRegion_mask], fluxErr[lineRegion_mask] #applies the created mask\n",
    "\n",
    "plt.figure(figsize=(8, 6)) # how big should the plot be\n",
    "plt.axvline(x = line1670, c = 'k', linewidth = 4 , linestyle = 'dotted', # vertical line at x position line1670; color = 'k' AKA black, line thickness = 4 points, type of line is dotted\n",
    "            alpha = 0.8,  label = \"$\\lambda_{lab}$ of Al II\") # alpha sets transparency where 1 is opaque; label for the legend\n",
    "\n",
    "plt.errorbar(x = wvln_region, y = flux_region, yerr = fluxErr_region, label = 'FUVA', linestyle = '', marker = '.') # marker tells the point to look like a dot\n",
    "\n",
    "plt.xlabel('Wavelength [$\\AA$]', size = 20)\n",
    "plt.ylabel('Flux [$erg\\ s^{-1}\\ cm^{-2}\\ Angstrom^{-1}$]', size = 20)\n",
    "\n",
    "plt.legend( fontsize = 15)\n",
    "plt.tight_layout()\n",
    "plt.savefig(str(plotsdir / 'Fig2.3.png'), dpi = 200)\n",
    "plt.title(\"Fig. 2.3\\nZoom in on the line at 1670 $\\AA$\", size = 25)"
   ]
  },
  {
   "cell_type": "markdown",
   "metadata": {},
   "source": [
    "We note that this is around the lab-frame wavelength of Al II (1670.79 Å), an Aluminium spectral line sometimes seen in UV spectra. \n",
    "It's tempting to assume that because this line is close to a somewhat common spectral line (Al II) that it must correspond to that line... \n",
    "\n",
    "**But CAUTION!**\n",
    "\n",
    "<img src=figures/warning.png width =\"60\" title=\"CAUTION!\"> \n",
    "\n",
    "Remember the source we're looking at - the quasar 3C48. This quasar can be expected to have a substantial redshift, and indeed it does. $$z \\approx 0.37$$  \n",
    "\n",
    "Source: [Simbad search for 3C48](http://simbad.u-strasbg.fr/simbad/sim-basic?Ident=3c48&submit=SIMBAD+search)\n",
    "\n",
    "Indeed, at that redshift, we see this line to be an entirely different wavelength: $\\approx 1218$ Å. This is close to, and likely corresponds to, Lyman-$\\alpha$ emission, rather than Al II. This somewhat misleading line provides an excellent reminder to take what you know about the source into consideration."
   ]
  },
  {
   "cell_type": "markdown",
   "metadata": {},
   "source": [
    "<font size=\"5\">**Now we will create a much more complex plot,**</font> <font size=\"3\">allowing us to visualize an entire segment's spectrum in fine detail</font>\n",
    "We'll split the spectrum into \"chunks\" of \\~10 Angstroms, and plot the chunks in a vertical series. These plots may take a minute to create. If you want them to run quicker, hit the `Interrupt the Kernel` square-shaped button, and run this cell with a smaller number of rows.\n",
    "<a id=\"fig2p4V\"></a>"
   ]
  },
  {
   "cell_type": "code",
   "execution_count": null,
   "metadata": {},
   "outputs": [],
   "source": [
    "%%time\n",
    "# Let's see how long it takes with the above \"Cell magic\"\n",
    "for i in range(2): # Repeats for i = [0,1] to apply to each segment's data at a time\n",
    "    wvln, flux, fluxErr, segment = fuv_x1d_data[i][\"WAVELENGTH\", \"FLUX\", \"ERROR\", \"SEGMENT\"] # Grabs all useful data for the chosen segment\n",
    "    \n",
    "    minx, maxx = min(wvln), max(wvln)\n",
    "    miny, maxy = min(flux), max(flux)\n",
    "    rangex = maxx - minx\n",
    "    fig = plt.figure(figsize = (14,20))\n",
    "\n",
    "    nRows = 15\n",
    "\n",
    "    for i in range(nRows):\n",
    "        min_ = minx + i*rangex/nRows\n",
    "        max_ = minx + (i+1)*rangex/nRows\n",
    "        ax = plt.subplot(nRows,1, i+1)\n",
    "        \n",
    "        if i == 0: # A way to set Title, xlabel, and ylabel that will work INDEPENDENT of number of rows\n",
    "            ax.set_title(f\"Fig. 2.4{segment[-1]} \\nSegment {segment} Spectrum split into chunks\", size = 30)\n",
    "        if i == nRows - 1:\n",
    "            ax.set_xlabel(\"Wavelength [$\\AA$]\", size = 30)\n",
    "        if i == int(nRows/2):\n",
    "            ax.set_ylabel('Flux [$erg\\ s^{-1}\\ cm^{-2}\\ Angstrom^{-1}$]', size = 30)\n",
    "            \n",
    "            \n",
    "        ax.errorbar(wvln,flux,fluxErr, c = plt.cm.rainbow((i+1)/nRows), alpha = 0.8, \n",
    "                    marker = '.', markerfacecolor = 'k', markersize = 2, mew = 0)\n",
    "\n",
    "        ax.set_xlim(min_, max_)\n",
    "    plt.tight_layout()\n",
    "    plt.savefig(str(plotsdir / f'Fig2.4{segment[-1]}_{nRows}Rows_seg{segment}.png'), dpi = 200)\n",
    "    plt.show()\n",
    "    print(\"\\n----\\n\")"
   ]
  },
  {
   "cell_type": "markdown",
   "metadata": {},
   "source": [
    "### Exercise 2.2 Choosing and plotting a useful data range\n",
    "That last plot was a bit **excessive!** Make a scaled down version from just `1635 - 1675` Angstroms, and plot the data as a simple line graph."
   ]
  },
  {
   "cell_type": "code",
   "execution_count": null,
   "metadata": {},
   "outputs": [],
   "source": [
    "# Your code here\n",
    "\n",
    "\n"
   ]
  },
  {
   "cell_type": "markdown",
   "metadata": {},
   "source": [
    "<a id = specvizV></a>\n",
    "### 2.1.4. Reading and plotting the data with `specutils` (*OPTIONAL*)\n",
    "<font size=\"5\"> *Note, this section is entirely optional, and simply meant to give you more options for how to plot a spectrum.*</font>\n",
    "\n",
    "An alternative way to read in and work with spectral data is with the [`specutils` package](https://specutils.readthedocs.io/en/stable/), which contains *quite a bit of functionality* for working with spectra. It also can make dealing with units easier, as it generally works well with astropy units and other modules. Make sure that your package is up to date (version $\\ge$ 1.1). `specutils` is installed as part of the astroconda distribution, described in our notebook on setting up an environment.\n",
    "\n",
    "`specutils` treats spectra as special python objects rather than lists, and reads in the entire spectrum over both segments. \n",
    "\n",
    "Below is a simple example of using `specutils` to read-in, plot, and continuum-normalize our entire spectrum."
   ]
  },
  {
   "cell_type": "code",
   "execution_count": null,
   "metadata": {},
   "outputs": [],
   "source": [
    "import specutils\n",
    "from specutils.fitting import fit_generic_continuum\n",
    "\n",
    "from matplotlib import rcParams\n",
    "rcParams.update({'font.size': 20}) # The default fontsize it will use does not look good at this size\n",
    "\n",
    "spec1d = specutils.Spectrum1D.read(fuv_x1d_filepath)\n",
    "\n",
    "fig, (ax0,ax1) = plt.subplots(2,1,figsize = (10,8))\n",
    "\n",
    "#Plot the non-normalized flux\n",
    "ax0.plot(spec1d.spectral_axis , spec1d.flux)\n",
    "ax0.set_title(\"Fig. 2.5\\nProducing spectra with specutils\\nUn-normalized flux\", size = 20)\n",
    "\n",
    "# Continuum Normalize the flux:\n",
    "cont_norm_spec1d = spec1d / fit_generic_continuum(spec1d)(spec1d.spectral_axis) \n",
    "\n",
    "#Plot the normalized flux\n",
    "ax1.plot(cont_norm_spec1d.spectral_axis , cont_norm_spec1d.flux)\n",
    "ax1.set_title(\"Normalized flux\", size = 20)\n",
    "ax1.set_ylabel(\"Unitless\")\n",
    "# ax1.set_xlabel(ax2.xlabel, size = 20)\n",
    "\n",
    "plt.tight_layout()\n",
    "plt.savefig(str(plotsdir / 'Fig2.5.png'), dpi = 200)\n",
    "plt.show()\n",
    "\n",
    "wvln, flux, fluxErr = spec1d.wavelength, spec1d.flux, spec1d.uncertainty.quantity # Not necessary for this plot, but gives us all the data separately\n",
    "rcParams.update({'font.size': 10}) # Restore default fontsize"
   ]
  },
  {
   "cell_type": "markdown",
   "metadata": {},
   "source": [
    "`specutils` also works with the visualization [package `Jdaviz.Specviz`](https://github.com/spacetelescope/jdaviz), to produce very useful interactive spectral plots within a jupyter notebook GUI framework. Currently, this interactive program works well within the Jupyter Notebook environment, but not within Jupyter Lab environment. \n"
   ]
  },
  {
   "cell_type": "markdown",
   "metadata": {},
   "source": [
    "<a id=nuvV></a>\n",
    "## 2.2. Plotting an NUV Spectrum\n",
    "\n",
    "The NUV data is formatted very similarly to the FUV data, and can be accessed as in [Section 1](#readInV)."
   ]
  },
  {
   "cell_type": "code",
   "execution_count": null,
   "metadata": {},
   "outputs": [],
   "source": [
    "# Here we read in the data - it is ok to ignore any warnings about slashes in the notation\n",
    "nuv_x1d_data = Table.read(nuv_x1d_filepath)"
   ]
  },
  {
   "cell_type": "markdown",
   "metadata": {},
   "source": [
    "<a id = nuv1V></a>\n",
    "### 2.2.1. Examining the first-order spectrum\n",
    "\n",
    "**Again, let's grab the simplest data we need to plot a spectrum: WAVELENGTH, FLUX, and ERROR**.\n",
    "\n",
    "We will limit this first plot to only our first order spectra (so we will exclude stripe C). We will plot these two spectra together (in the top panel) and then stripe-by-stripe in the lower 2 panes, similar to fig. 2.2.\n",
    "- The former view gives a better sense of the continuum\n",
    "- The latter views show zooms which allow us to meaningfully view the errors and see specific emission/absorption features.\n",
    "\n",
    "The way we produce this plot with `Python` in the cell below is looping through both NUV first-order stripes - NUVA and NUVB - plotting both of them in the upper subplot, and plotting each of them once more in one of the lower two subplots."
   ]
  },
  {
   "cell_type": "code",
   "execution_count": null,
   "metadata": {},
   "outputs": [],
   "source": [
    "fig, (ax0, ax1, ax2) = plt.subplots(3, 1, figsize = (16, 16)) # Build a 3row x 1column -subplot figure\n",
    "\n",
    "for i in range(2): #iterate through the first 2 NUV segments/stripes\n",
    "    wvln, flux, fluxErr, segment = nuv_x1d_data[i][\"WAVELENGTH\"], nuv_x1d_data[i][\"FLUX\"], nuv_x1d_data[i][\"ERROR\"], nuv_x1d_data[i][\"SEGMENT\"] # Gather data\n",
    "\n",
    "    ax0.plot(wvln, flux, # Plot both segments/stripes in first panel \n",
    "                linestyle = \"-\", label = segment, c = segment_colors[segment])\n",
    "    ax0.legend(fontsize = 20 )\n",
    "    ax0.set_title(\"Fig 2.6\\nFirst-order NUV Spectra with G230L Grating\", size = 35)\n",
    "    \n",
    "    if i == 0: # Plot only 0th segment/stripe in 2nd panel\n",
    "        ax1.errorbar(x = wvln, y = flux, yerr = fluxErr,\n",
    "                    linestyle = \"\",  label = segment, c = segment_colors[segment])\n",
    "        ax1.set_xlim(2100,2510)\n",
    "        ax1.set_ylim(0.5E-13,1.5E-13)\n",
    "        ax1.legend(fontsize = 20 )\n",
    "        ax1.set_ylabel('Flux [$erg\\ s^{-1}\\ cm^{-2}\\ Angstrom^{-1}$]', size = 30)\n",
    "        \n",
    "    if i == 1: # Plot only 1th segment/stripe in 3rd panel\n",
    "        ax2.errorbar(x = wvln, y = flux, yerr = fluxErr,\n",
    "                    linestyle = \"\",  label = segment, c = segment_colors[segment])\n",
    "        ax2.set_xlim(3190,3600)\n",
    "        ax2.set_ylim(1E-14,4.5E-14)\n",
    "        ax2.legend(fontsize = 20 )\n",
    "        ax2.set_xlabel('Wavelength [$\\AA$]', size = 30)\n",
    "\n",
    "plt.tight_layout()\n",
    "plt.savefig(str(plotsdir / 'Fig2.6.png'), dpi = 200)\n",
    "plt.show()"
   ]
  },
  {
   "cell_type": "markdown",
   "metadata": {},
   "source": [
    "<a id = nuv2V></a>\n",
    "### 2.2.2. Examining the second-order spectrum\n",
    "\n",
    "On NUV stripe C data taken with the grating G230L, we have a more dispersed spectrum over a smaller chunk of the NUV. Below, we plot this second-order over the first-order spectrum from stripe A.\n",
    "Note that most NUV gratings produce first-order spectra over all three stripes. See the [Instrument Handbook](https://hst-docs.stsci.edu/cosihb/chapter-5-spectroscopy-with-cos/5-1-the-capabilities-of-cos#id-5.1TheCapabilitiesofCOS-Section5.1.35.1.3Second-OrderSensitivity) for more information."
   ]
  },
  {
   "cell_type": "code",
   "execution_count": null,
   "metadata": {},
   "outputs": [],
   "source": [
    "fig, (ax0,ax1) = plt.subplots(2,1,figsize = (16, 8))\n",
    "\n",
    "for i in [2,0]: #We reverse this order, so that the 0th stripe (A) is plotted OVER the 2nd stripe (C). It's purely aesthetic\n",
    "    wvln, flux, fluxErr, segment = nuv_x1d_data[i][\"WAVELENGTH\"], nuv_x1d_data[i][\"FLUX\"], nuv_x1d_data[i][\"ERROR\"], nuv_x1d_data[i][\"SEGMENT\"]\n",
    "    \n",
    "    if i == 0:\n",
    "        ax0.errorbar(x = wvln, y = flux, yerr = fluxErr,\n",
    "                    linestyle = \"\",  label = segment, c = 'k', alpha = 0.3)\n",
    "        \n",
    "        ax1.errorbar(x = wvln, y = flux, yerr = fluxErr,\n",
    "                    linestyle = \"\",  label = segment, c = 'k', alpha = 0.3)\n",
    "        \n",
    "    if i == 2:\n",
    "        ax0.errorbar(x = wvln, y = flux, yerr = fluxErr,\n",
    "                    linestyle = \"\",  label = segment, c = segment_colors[segment] , alpha = 0.8)\n",
    "        \n",
    "        ax1.errorbar(x = wvln, y = flux, yerr = fluxErr,\n",
    "                    linestyle = \"\",  label = segment, c = segment_colors[segment] , alpha = 0.8)\n",
    "\n",
    " \n",
    "ax0.set_xlim(2100,2510)\n",
    "ax0.set_ylim(0.48E-13,1.75E-13)\n",
    "\n",
    "ax0.set_title(\"Fig 2.7\\nOverlay of First and Second-order Spectrum with G230L Grating\", size = 25)\n",
    "\n",
    "ax1.set_xlim(2200,2210)\n",
    "ax1.set_ylim(0.6E-13,1.75E-13)\n",
    "\n",
    "ax1.set_xlabel('Wavelength [$\\AA$]', size = 20)\n",
    "fig.text(-0.015, 0.5, 'Flux [$erg\\ s^{-1}\\ cm^{-2}\\ Angstrom^{-1}$]', size = 20, va='center', rotation='vertical')       \n",
    "\n",
    "#Let's add a dashed rectangle to show where we are zooming into in the lower panel.\n",
    "ax0.plot([2210,2200,2200,2210,2210],[0.6E-13,0.6E-13,1.7E-13,1.7E-13,0.6E-13], \n",
    "        'b', linewidth = 5, linestyle = '--', alpha = 0.7, label = \"Lower panel zoom bounds\")\n",
    "\n",
    "\n",
    "handles,labels = ax0.get_legend_handles_labels() # These lines just ensure that the legend is ordered correctly (first ax0)\n",
    "handles = [handles[2], handles[1], handles[0]]\n",
    "labels = [labels[2], labels[1], labels[0]]\n",
    "ax0.legend(handles, labels, fontsize = 20 , loc = 'upper right')\n",
    "handles,labels = ax1.get_legend_handles_labels() # Now for ax1\n",
    "handles = [handles[1], handles[0]]\n",
    "labels = [labels[1], labels[0]]\n",
    "ax1.legend(handles,labels, fontsize = 20 , loc = 'upper right')\n",
    "\n",
    "plt.tight_layout()\n",
    "plt.savefig(str(plotsdir / 'Fig2.7.png'), dpi = 200)\n",
    "plt.show()"
   ]
  },
  {
   "cell_type": "markdown",
   "metadata": {},
   "source": [
    "**Clearly, our errorbars on the second-order spectrum are *much larger*.**\n",
    "\n",
    "However, if we need a very high dispersion, for instance, to split close-together lines, the lower panel (zoom) shows a potential advantage of stripe C. Its higher spectral sampling rate can allow for finer distinctions in wavelength, if an acceptable SNR can be reached."
   ]
  },
  {
   "cell_type": "markdown",
   "metadata": {},
   "source": [
    "<a id = AssessingV></a>\n",
    "# 3. Preliminary Review of the Data\n",
    "\n",
    "<font size=\"4\">**There is no one-size-fits-all approach to analyzing COS data.**</font>\n",
    "<font size=\"4\">This section aims to walk you through taking a brief critical look at your data by taking the first steps of [binning](https://en.wikipedia.org/wiki/Data_binning) the data, (to the size of COS' resolution elements - called [resels](https://hst-docs.stsci.edu/cosihb/chapter-3-description-and-performance-of-the-cos-optics/3-2-size-of-a-resolution-element)), and then measuring the Signal-to-Noise Ratio ([SNR](https://en.wikipedia.org/wiki/Signal-to-noise_ratio)).</font>\n",
    "\n",
    "\n",
    "*Note that the cell below is only necessary if you have chosen to skip sections \\#1 and \\#2*"
   ]
  },
  {
   "cell_type": "code",
   "execution_count": null,
   "metadata": {},
   "outputs": [],
   "source": [
    "fuv_x1d_filepath = './data/mastDownload/HST/lcxv13050/lcxv13050_x1dsum.fits' # Make sure these point to your new FUV data!\n",
    "fuv_x1d_data = Table.read(fuv_x1d_filepath)\n",
    "nuv_x1d_filepath = './data/mastDownload/HST/lbbd01020/lbbd01020_x1dsum.fits' # Make sure these point to your new NUV data!\n",
    "nuv_x1d_data = Table.read(nuv_x1d_filepath)"
   ]
  },
  {
   "cell_type": "markdown",
   "metadata": {},
   "source": [
    "<a id = DataQualV></a>\n",
    "## 3.1. Data Quality and Initial Cleanup\n",
    "\n",
    "One of the first things one notices in all of the plots we have made is that all of the segments/stripes have real, useful data, bookended on each side by zeros (see, for example, [Fig. 2.1](#fig2p1)).\n",
    "These zeros are regions on the active area of the detector which don't receive and detect light, but *are* read in as data. We don't want these data in our spectra, so we'll filter them out. The COS data we have downloaded conveniently has an extension devoted to data quality information. Information on the data quality array and the flags it contains can be found in [Table 2.18 of the COS Data Handbook](https://hst-docs.stsci.edu/cosdhb/chapter-2-cos-data-files/2-7-error-and-data-quality-array).\n",
    "\n",
    "Let's first look at the data quality flags. We'll do this by plotting a histogram, labelling the bins according to what the data quality value of that bin means. We add hatching to the histograms to make it easier to see where certain segments overlap."
   ]
  },
  {
   "cell_type": "code",
   "execution_count": null,
   "metadata": {},
   "outputs": [],
   "source": [
    "# To make plotting the bins linearly work, we deal with the base2 logs of the power-of-2 data quality values\n",
    "\n",
    "bins_titles = (np.logspace(-1,14, 16,base=2, dtype=int)) # The values are all powers of two from 2**1 to 2**14, except for 0, which is 2**-inf\n",
    "meanings = ['No Anomalies', 'Reed-Solomon Error', 'Hot Spot', 'Detector Shadow', 'Poorly Calibrated Region', # What each power of 2 means in order\n",
    "            'Very-low Response Region', 'Background Feature', 'Burst', 'Pixel Out-of-bounds', 'Fill Data',   # More info in the data handbook\n",
    "            'Pulse Height Out-of-bounds', 'Low Response Region', 'Bad Time Interval', 'Low PHA Feature', \n",
    "           'Gain-sag Hole', 'Not Used']\n",
    "\n",
    "meanings2 = [str(bt)+\": \"+ mn for bt, mn in zip(bins_titles, meanings)] # pair the meaning with its power of 2 value in a single string\n",
    "\n",
    "fig, (ax0,ax1) = plt.subplots(2,1,figsize = (10,12)) # Top (FUV) subplot and bottom (NUV) subplot\n",
    "\n",
    "for i in range(2): # First loop through the 2 FUV segments to make the top plot\n",
    "    dataQual, segment = fuv_x1d_data[i][\"DQ\"], fuv_x1d_data[i][\"SEGMENT\"] # Gather the data\n",
    "    bins_ = np.arange(-1,15) # all the log2 of the DQ values\n",
    "    bins_titles = (np.logspace(-1,14, 16,base=2, dtype=int))\n",
    "\n",
    "    logDQ = np.log2(dataQual)\n",
    "    logDQ = np.nan_to_num(logDQ, neginf = -1)    \n",
    "    \n",
    "    ax0.set_xticks([])\n",
    "    ax0.hist(logDQ , bins = bins_, color = 'cmy'[i], alpha =0.5+ 0.1*(i+1) , label = segment, hatch = '|-'[i]) # Add hatching to distinguish overlapping colors\n",
    "    ax0.legend(fontsize = 20)\n",
    "    ax0.set_yscale('log')\n",
    "    ax0.set_title(\"Fig. 3.1\\nData quality flag frequencies\",fontsize = 20)\n",
    "\n",
    "for i in range(3): # Next loop through the 3 NUV segments/stripes to make bottom plot\n",
    "    dataQual, segment = nuv_x1d_data[i][\"DQ\"], nuv_x1d_data[i][\"SEGMENT\"] # Gather the data\n",
    "    bins_ = np.arange(-1,15) # all the log2 of the DQ values\n",
    "\n",
    "    logDQ = np.log2(dataQual)\n",
    "    logDQ[np.where(-1*(logDQ) == np.inf)] = -1\n",
    "\n",
    "    ax1.hist(logDQ , bins = bins_, color = 'cmy'[i], alpha = 1 - 0.25*(i) , label = segment, hatch = '|-/'[i]) # Add hatching to distinguish overlapping colors\n",
    "    ax1.legend(fontsize = 20)\n",
    "    ax1.set_yscale('log')\n",
    "    \n",
    "plt.xticks(bins_+0.5, labels = meanings2, rotation = 'vertical', fontsize = 15)\n",
    "fig.set_tight_layout('tight')\n",
    "plt.savefig(str(plotsdir / 'Fig3.1.png'), dpi = 200)"
   ]
  },
  {
   "cell_type": "markdown",
   "metadata": {},
   "source": [
    "When the data is processed through `calCOS`, it has a summed set of \"Serious Data Quality\" [SDQ](https://hst-docs.stsci.edu/cosdhb/chapter-3-cos-calibration/3-4-descriptions-of-spectroscopic-calibration-steps) flags attached to it in the form of a single integer between 0 and $2^{15}$. This value is found in the 1-th header as `\"SDQFLAGS\"`. This can be decomposed into the powers of 2 data flags above, (by showing its binary representation,) and tells the pipeline whether to weight that pixel in that exposure by 0 or 1. These weights are then stored in the `x1d` and `x1dsum` files, in the `\"DQ_WGT\"` column. The `\"DQ_WGT\"` value for a given pixel in the `x1dsum` file will then be equal to the number of exposures which went into creating that `x1dsum` file in which no serious data quality flags apply to that pixel.\n",
    "\n",
    "Below, we first see *which* data quality flags the pipeline considered \"serious\", and then demonstrate masking out the datapoints assigned a weight of 0."
   ]
  },
  {
   "cell_type": "code",
   "execution_count": null,
   "metadata": {},
   "outputs": [],
   "source": [
    "sdqFlags_fuv = fits.getheader(fuv_x1d_filepath,1)[\"SDQFLAGS\"]\n",
    "print(f\"The FUV was processed with SDQFLAGS = {sdqFlags_fuv}, which in binary is {bin(sdqFlags_fuv)[2:]}\")\n",
    "print(\"\\t\\tThus, the following DQ-flagged data get weighted by 0:\\n\")\n",
    "for i, char in enumerate(bin(sdqFlags_fuv)[2:]):\n",
    "    if char =='1':\n",
    "        print(f\"\\t\\t\\t{(2**(i+1))}'s place - \", meanings[i+2])"
   ]
  },
  {
   "cell_type": "code",
   "execution_count": null,
   "metadata": {},
   "outputs": [],
   "source": [
    "# Filter the datapoints to where there are no serious DQ flags\n",
    "mask_noSDQ = fuv_x1d_data[0][\"DQ_WGT\"].astype(bool)\n",
    "wvln_FUVA_noSDQ, flux_FUVA_noSDQ = fuv_x1d_data[0][\"WAVELENGTH\"][mask_noSDQ], fuv_x1d_data[0][\"FLUX\"][mask_noSDQ]\n",
    "\n",
    "# Make the figure:\n",
    "plt.figure(figsize = (10,6))\n",
    "\n",
    "# Plot the filtered datapoints\n",
    "plt.plot(wvln_FUVA_noSDQ,flux_FUVA_noSDQ)\n",
    "\n",
    "# Format the figure\n",
    "plt.title(\"Fig 3.2\\nFUVA without SDQ flagged data\", size = 20)\n",
    "plt.xlabel('Wavelength [$\\AA$]', size = 20)\n",
    "plt.ylabel('Flux [$erg\\ s^{-1}\\ cm^{-2}\\ Angstrom^{-1}$]', size = 15)\n",
    "plt.tight_layout()\n",
    "plt.savefig(str(plotsdir / 'Fig3.2.png'), dpi = 200)"
   ]
  },
  {
   "cell_type": "markdown",
   "metadata": {},
   "source": [
    "Alternatively, we can ignore the SDQFLAGS and the weights decided by `calCOS` and pick which data quality flags we want to filter out. From Fig 3.1, we know the only problem in the FUV and the largest problem in the NUV are pixels flagged by **\"out of bounds\"**, corresponding to Data Quality: **128**.\n",
    "\n",
    "We will demonstrate removing only these datapoints from the FUV data below. You could also filter to only data with *0: no anomalies*, or to any other subset."
   ]
  },
  {
   "cell_type": "code",
   "execution_count": null,
   "metadata": {},
   "outputs": [],
   "source": [
    "plt.figure(figsize = (10,6))\n",
    "for i in range(2):\n",
    "    wvln, flux, fluxErr, dataQual, segment = fuv_x1d_data[i][\"WAVELENGTH\"], fuv_x1d_data[i][\"FLUX\"],\\\n",
    "    fuv_x1d_data[i][\"ERROR\"], fuv_x1d_data[i][\"DQ\"], fuv_x1d_data[i][\"SEGMENT\"]\n",
    "\n",
    "\n",
    "    plt.plot(wvln[dataQual != 128.0], flux[dataQual != 128.0], linewidth = 1, alpha = 0.5, \n",
    "             label = f\"{segment} Cleaned\")\n",
    "    plt.scatter(wvln[dataQual == 128.0], flux[dataQual == 128.0], s = 2, c = 'r', alpha = 1, \n",
    "                label = f\"{segment} Pix out-of-bounds\")\n",
    "plt.legend(fontsize = 18)\n",
    "plt.title(\"Fig. 3.3\\nRemoving only out-of-bounds pixels from the FUV\\n\", size = 25)\n",
    "plt.xlabel('Wavelength [$\\AA$]', size = 20)\n",
    "plt.ylabel('Flux [$erg\\ s^{-1}\\ cm^{-2}\\ Angstrom^{-1}$]', size = 15)\n",
    "plt.tight_layout()\n",
    "plt.savefig(str(plotsdir / 'Fig3.3.png'), dpi = 200)"
   ]
  },
  {
   "cell_type": "markdown",
   "metadata": {},
   "source": [
    "### Exercise 3.1: *Removing all flagged data from the NUV*\n",
    "\n",
    "The NUV data has flags for more than just out-of-bounds pixels.\n",
    "\n",
    "1. Filter out all data which has been flagged\n",
    "2. Plot the NUV spectrum from stripes NUVA and NUVB\n",
    "3. Plot the flagged data in another color to see where the removed data is"
   ]
  },
  {
   "cell_type": "code",
   "execution_count": null,
   "metadata": {},
   "outputs": [],
   "source": [
    "# Your answer here\n",
    "\n",
    "\n"
   ]
  },
  {
   "cell_type": "markdown",
   "metadata": {},
   "source": [
    "<a id=BinningV></a>\n",
    "## 3.2. Binning \n",
    "\n",
    "Up until now, the data we've been working with has one value per pixel of the detector.\n",
    "COS data is generally binned to a resolution element, or [resel](https://hst-docs.stsci.edu/cosihb/chapter-3-description-and-performance-of-the-cos-optics/3-2-size-of-a-resolution-element), when working with it. These resels are *generally* the following sizes *in pixels*.\n",
    "\n",
    "||FUV|NUV|\n",
    "|-|---|---|\n",
    "|**Dispersion Axis**|6|3|\n",
    "|**Cross-Dispersion Axis**|10|3|\n",
    "\n",
    "So, for the FUV, we generally want to preliminarily bin our x1d or x1dsum data by 6."
   ]
  },
  {
   "cell_type": "markdown",
   "metadata": {},
   "source": [
    "<a id=BinfunV></a>\n",
    "### 3.2.1. Bringing in Some Useful Functions for Binning\n",
    "\n",
    "In this directory, we also have the `Python` file: `cos_functions.py`, in which we have defined several long functions necessary for this data processing. \n",
    "\n",
    "*Note, if you downloaded this notebook file without cloning the entire GitHub repository, you must also download the file `cos_functions.py` from [here](https://github.com/spacetelescope/notebooks/tree/master/notebooks/COS/ViewData/)*.\n",
    "\n",
    "In the next few cells below, we import two functions from the file `cos_functions.py`:\n",
    "1. `downsample_1d`, for binning an array \n",
    "2. `bin_by_resel`, which applies this binning to an entire COS NUV or FUV dataset"
   ]
  },
  {
   "cell_type": "code",
   "execution_count": null,
   "metadata": {},
   "outputs": [],
   "source": [
    "from cos_functions import downsample_1d"
   ]
  },
  {
   "cell_type": "markdown",
   "metadata": {},
   "source": [
    "In addition to reading through this first function `downsample_1d`  in the `function_library` folder's file `cos_functions`, we can learn about it by calling the python function `help`:"
   ]
  },
  {
   "cell_type": "code",
   "execution_count": null,
   "metadata": {},
   "outputs": [],
   "source": [
    "help(downsample_1d)"
   ]
  },
  {
   "cell_type": "markdown",
   "metadata": {},
   "source": [
    "**We see that the function `downsample_1d` can optionally (1) average a given bin's in quadrature and/or (2) weight the averages by a value.**\n",
    "1. Working in quadrature is useful for dealing with errors. See [Uncertainty propogration](https://en.wikipedia.org/wiki/Propagation_of_uncertainty).\n",
    "2. Some pixels receive more total exposure time than their neighbors, because of how x1d and x1dsum files are created. Pixels with more exposure time should be weighted higher.\n",
    "\n",
    "**In the next cell, we import a function, `bin_by_resel`, that applies this downsampling selectively to all the data we have read in from a single COS x1dsum file.**"
   ]
  },
  {
   "cell_type": "code",
   "execution_count": null,
   "metadata": {},
   "outputs": [],
   "source": [
    "from cos_functions import bin_by_resel\n",
    "help(bin_by_resel)"
   ]
  },
  {
   "cell_type": "markdown",
   "metadata": {},
   "source": [
    "**`bin_by_resel` gives us a new table where all of the data is sensibly binned, such that errors are summed in quadrature, and each pixel's values are weighted by their exposure time.**\n",
    "<a id = binfuvV></a>\n",
    "### 3.2.2. Binning the FUV Data\n",
    "**Below we bin our FUV data by 6. Our resulting table is just under $\\dfrac{1}{6}$ the size of our input table, as a few of the last datapoints were cropped.**\n",
    "\n",
    "*Note*, this binning method works well for binsizes which are small compared to the spectrum, but if you increase your binsize significantly, you may lose important datapoints."
   ]
  },
  {
   "cell_type": "code",
   "execution_count": null,
   "metadata": {},
   "outputs": [],
   "source": [
    "# from astropy.table import Table\n",
    "binned_fuv_data = bin_by_resel(fuv_x1d_data)\n",
    "print(f\"\\nOriginal Dataset Length is {len(fuv_x1d_data[0]['WAVELENGTH'])}\")\n",
    "print(f\"Binned   Dataset Length is {len(binned_fuv_data[0]['WAVELENGTH'])}\")\n",
    "print(f\"\\t{len(fuv_x1d_data[0]['WAVELENGTH'])} over {len(binned_fuv_data[0]['WAVELENGTH'])} = {len(fuv_x1d_data[0]['WAVELENGTH'])/len(binned_fuv_data[0]['WAVELENGTH'])}\\n\")\n",
    "binned_fuv_data"
   ]
  },
  {
   "cell_type": "markdown",
   "metadata": {},
   "source": [
    "<a id=SnrV></a>\n",
    "## 3.3. Estimating the Signal-to-Noise (SNR) Ratio\n",
    "<a id=snrfunV></a>\n",
    "### 3.3.1.  Bringing in a Useful Function for Estimating SNR\n",
    "Below, we define a function to estimate the SNR of our data. One way to estimate the SNR for photon-counting instruments like COS is by the square-root of their number of gross counts. This is a simplification of the equation given for point sources in the [COS Instrument Handbook Section 7.3](https://hst-docs.stsci.edu/cosihb/chapter-7-exposure-time-calculator-etc/7-3-sensitivity-count-rate-and-signal-to-noise):\n",
    "\n",
    "$$\\dfrac{Signal}{Noise} = \\dfrac{C \\times t}{\\sqrt{C \\times t + N_{pix} \\times (B_{sky} + B_{det}) \\times t}}$$\n",
    "\n",
    "For bright point sources, $C >> B_{sky} + B_{det}$, and this approaches the simpler:\n",
    "\n",
    "$$\\dfrac{Signal}{Noise} = \\sqrt{C \\times t} = \\sqrt{Gross\\ Counts}$$\n",
    "\n",
    "<font size=\"5\">Caution!</font>\n",
    "\n",
    "<img src=figures/warning.png width =\"60\" title=\"CAUTION!\"> \n",
    "This simplification may not hold very well if your source is diffuse or faint."
   ]
  },
  {
   "cell_type": "code",
   "execution_count": null,
   "metadata": {},
   "outputs": [],
   "source": [
    "from cos_functions import estimate_snr\n",
    "help(estimate_snr)"
   ]
  },
  {
   "cell_type": "markdown",
   "metadata": {},
   "source": [
    "**The function `estimate_snr` gives a $\\sqrt{Gross\\ Counts}$ estimate of SNR for an input Astropy Table of COS data.**\n",
    "\n",
    "By default, it does not bin the data before calculating the SNR, nor does it weight the output SNR by exposure time; however, it has the functionality to do both. In most cases, a range should be specified over which to calculate the SNR. If no range is specified, then SNR will be computed for all Resels, but no mean/weighted average will be computed; instead, -1 will be returned in place of the mean.\n",
    "\n",
    "<a id = snrregV></a>\n",
    "\n",
    "### 3.3.2. Choosing a Region to calculate SNR\n",
    "\n",
    "The SNR should be calculated over a region of continuum, rather than one with significant spectral lines.\n",
    "Looking back to [Fig. 2.4](#fig2p4V), we see a broad stretch with no obvious lines from \\[1675 - 1690 Å] in the FUVA segment. We'll make a quick plot of that region below just to check."
   ]
  },
  {
   "cell_type": "code",
   "execution_count": null,
   "metadata": {},
   "outputs": [],
   "source": [
    "plt.figure(figsize = (12,4))\n",
    "wvln, flux = fuv_x1d_data[0][\"WAVELENGTH\", \"FLUX\"]\n",
    "wvln_range_mask = (wvln > 1670) & (wvln < 1700)\n",
    "plt.plot(wvln[wvln_range_mask], flux[wvln_range_mask])\n",
    "plt.axvline(1675, c = 'k', linewidth = 3)\n",
    "plt.axvline(1690, c = 'k', linewidth = 3)\n",
    "plt.title(\"Fig. 3.4\\nRange for SNR Calculation\",size = 20)\n",
    "plt.xlabel('Wavelength [$\\AA$]', size = 20)\n",
    "plt.ylabel('Flux\\n[$erg\\ s^{-1}\\ cm^{-2}\\ Angstrom^{-1}$]', size = 12)\n",
    "plt.tight_layout()\n",
    "plt.savefig(str(plotsdir/'Fig3.4.png'), dpi = 200)"
   ]
  },
  {
   "cell_type": "markdown",
   "metadata": {},
   "source": [
    "Our chosen region, between the black lines, looks quite good for calculating SNR, as it is free of lines.\n",
    "<a id = snrcalcV></a>\n",
    "### 3.3.3. Calculating the SNR\n",
    "Below, we calculate the SNR of the FUV data over the region [1675, 1690]. *Note*, we input the unbinned data, and bin by an FUV Resel of 6 first. We'll leave `verbose = True`, so we can see what is going on in the function.\n",
    "\n",
    "It turns out this dataset has a fairly low SNR. After calculating the SNR and mean SNR over the specified region, we plot both over wavelength."
   ]
  },
  {
   "cell_type": "code",
   "execution_count": null,
   "metadata": {},
   "outputs": [],
   "source": [
    "# Calculates the SNR\n",
    "res_size = 6 # Set the correct resel size as in the data handbook\n",
    "meanSNR_range1675_1690, range1675_1690 = estimate_snr(fuv_x1d_data, bin_data_first=True, binsize_=res_size, snr_range = [1675,1690]) # Gather data \n",
    "#Creates a plot\n",
    "plt.figure(figsize = (12,8))\n",
    "plt.plot(range1675_1690[0][0], range1675_1690[0][1], c = '#466599', \n",
    "         marker = '.', markersize = 8, markerfacecolor = 'k', # add a marker (black dot) to the plotted line\n",
    "         label = f\"SNR Binned by Resel size {res_size}\")\n",
    "plt.axhline(meanSNR_range1675_1690, c = 'r', linestyle = '-.', linewidth = 4, label = \"Mean SNR over the Region\") # plot a horizontal line at y = mean SNR\n",
    "\n",
    "plt.legend(fontsize = 20)\n",
    "plt.title(\"Fig. 3.5\\nResults of SNR Calculation by Wavelength\", size = 30)\n",
    "plt.xlabel('Wavelength [$\\AA$]', size = 20)\n",
    "plt.ylabel('SNR', size = 20)\n",
    "plt.tight_layout()\n",
    "plt.savefig(str(plotsdir/'Fig3.5.png'), dpi = 200)"
   ]
  },
  {
   "cell_type": "markdown",
   "metadata": {},
   "source": [
    "### Exercise 3.2. *Binning the NUV Data and Calculating its SNR*\n",
    "\n",
    "1. Bin the NUV data, remembering that the resel size is different than that for the FUV\n",
    "2. Find a continuum region of the NUV data with no significant spectral lines\n",
    "3. Calculate the mean SNR over that region"
   ]
  },
  {
   "cell_type": "code",
   "execution_count": null,
   "metadata": {},
   "outputs": [],
   "source": [
    "# Your code here\n",
    "\n",
    "\n"
   ]
  },
  {
   "cell_type": "markdown",
   "metadata": {},
   "source": [
    "## Congratulations! You finished this notebook!\n",
    "### There are more COS data walkthrough notebooks on different topics. You can find them [here](https://github.com/spacetelescope/notebooks)."
   ]
  },
  {
   "cell_type": "markdown",
   "metadata": {},
   "source": [
    "\n",
    "---\n",
    "## About this Notebook\n",
    "**Author:** [Nat Kerman](nkerman@stsci.edu)\n",
    "\n",
    "**Updated On:** 2021-5-17\n",
    "\n",
    "\n",
    "> *This tutorial was generated to be in compliance with the [STScI style guides](https://github.com/spacetelescope/style-guides) and would like to cite the [Jupyter guide](https://github.com/spacetelescope/style-guides/blob/master/templates/example_notebook.ipynb) in particular.*\n",
    "## Citations\n",
    "\n",
    "If you use `astropy`, `matplotlib`, `astroquery`, or `numpy` for published research, please cite the\n",
    "authors. Follow these links for more information about citations:\n",
    "\n",
    "* [Citing `astropy`/`numpy`/`matplotlib`](https://www.scipy.org/citing.html)\n",
    "* [Citing `astroquery`](https://astroquery.readthedocs.io/en/latest/)\n",
    "\n",
    "---\n",
    "\n",
    "[Top of Page](#topV)\n",
    "<img style=\"float: right;\" src=\"https://raw.githubusercontent.com/spacetelescope/notebooks/master/assets/stsci_pri_combo_mark_horizonal_white_bkgd.png\" alt=\"Space Telescope Logo\" width=\"200px\"/> \n",
    "\n"
   ]
  },
  {
   "cell_type": "markdown",
   "metadata": {},
   "source": [
    "<br></br>\n",
    "<br></br>\n",
    "<br></br>"
   ]
  },
  {
   "cell_type": "markdown",
   "metadata": {},
   "source": [
    "## Exercise Solutions:"
   ]
  },
  {
   "cell_type": "code",
   "execution_count": null,
   "metadata": {},
   "outputs": [],
   "source": [
    "# Exercise 1.1 Soln\n",
    "###1\n",
    "# Here we read in the data - it is ok to ignore any warnings about slashes in the notation\n",
    "nuv_x1d_data = Table.read(nuv_x1d_filepath)\n",
    "###2\n",
    "nuv_header_x1d = fits.getheader(nuv_x1d_filepath)\n",
    "nuv_header1_x1d = fits.getheader(nuv_x1d_filepath, ext = 1)\n",
    "print(f\"Processed at MJD = {nuv_header_x1d['PROCTIME']}\\nTaken with {nuv_header1_x1d['NUMFLASH']} wavecal flashes\\n\" )\n",
    "###3\n",
    "nuv_asn_data = Table.read(nuv_asn_filepath)\n",
    "print(nuv_asn_data)"
   ]
  },
  {
   "cell_type": "code",
   "execution_count": null,
   "metadata": {},
   "outputs": [],
   "source": [
    "# Ex. 2.1 Soln:\n",
    "wvln, flux, segment  = fuv_x1d_data[1][\"WAVELENGTH\", \"FLUX\", \"SEGMENT\"] # [0] Accesses FUVA: the longer wvln segment and gets the data we need to plot a spectrum\n",
    "                                                                        # [1] Accesses FUVB\n",
    "wvln *= u.AA # Adds unit to the wvln of Angstroms\n",
    "flux *= u.erg/( u.second *u.AA * (u.cm)**2) # Adds unit to the flux of erg / (Angstrom cm2 s)\n",
    "flux/= (np.nanmax(flux))\n",
    "with quantity_support(): # Allows us to view the units attached to the data as the axes labels. This isn't generally necessary unless you want the unit support.\n",
    "    \n",
    "    fig1, ax = plt.subplots(1,1,figsize=(10,4), dpi = 100)  # Sets up the plot as a single box with size of 10x4 inches, and with a dpi of 100, relavent should we choose to save it\n",
    "    \n",
    "    # The next few lines are the core of the cell, where we actually place the data onto the plot:\n",
    "    ###############\n",
    "    ax.plot(wvln, flux, # First two arguments are assumed to be the x-data, y-data\n",
    "            linestyle = \"-\", linewidth = 0.25, c = 'black', # These parameters specify the look of the connecting line\n",
    "            marker = '',# The marker parameters specify how the data points will look - if you don't want dots set marker = ''\n",
    "            label = segment) # The label is an optional parameter which will allow us to create a legend - useful when there are multiple datasets on the same plot\n",
    "    \n",
    "    ax.set_title(\"Exercise 2.1\\nSimple COS Segment FUVB Spectrum\", size = 20) # Adds a title of fontsize 20 points\n",
    "    \n",
    "    plt.xlim(1420,1620) # These two lines set the x and y bounds of the image in whatever units we are plotting in \n",
    "    plt.ylim(-0.05, 1)\n",
    "    \n",
    "    plt.legend(loc = 'upper right') # Adds a legend with the label specified in the plotting call\n",
    "    plt.tight_layout() # Gets rid of blank space\n",
    "    plt.show() # Shows all the plot calls in this cell and \"clears\" the plotting space - must come after any saving you want to do"
   ]
  },
  {
   "cell_type": "code",
   "execution_count": null,
   "metadata": {},
   "outputs": [],
   "source": [
    "# Ex. 2.2 Soln\n",
    "wvln, flux, fluxErr, segment = fuv_x1d_data[0][\"WAVELENGTH\", \"FLUX\", \"ERROR\", \"SEGMENT\"] # Grabs all useful data for the chosen segment = FUVA\n",
    "\n",
    "minx, maxx = 1635, 1675\n",
    "miny, maxy = min(flux), max(flux)\n",
    "\n",
    "wvln_range_mask = (wvln > minx) & (wvln < maxx)\n",
    "\n",
    "wvln = wvln[wvln_range_mask]\n",
    "flux = flux[wvln_range_mask]\n",
    "fluxErr = fluxErr[wvln_range_mask]\n",
    "\n",
    "rangex = maxx - minx\n",
    "fig = plt.figure(figsize = (14,10))\n",
    "\n",
    "nRows = 3\n",
    "\n",
    "for i in range(nRows):\n",
    "    min_ = minx + i*rangex/nRows\n",
    "    max_ = minx + (i+1)*rangex/nRows\n",
    "    ax = plt.subplot(nRows,1, i+1)\n",
    "\n",
    "    if i == 0: # A way to set Title, xlabel, and ylabel that will work INDEPENDENT of number of rows\n",
    "        ax.set_title(f\"Ex 2.2 Solution FUV{segment[-1]} \\nSegment {segment} Spectrum split into chunks\", size = 30)\n",
    "    if i == nRows - 1:\n",
    "        ax.set_xlabel(\"Wavelength [$\\AA$]\", size = 30)\n",
    "    if i == int(nRows/2):\n",
    "        ax.set_ylabel('Flux [$erg\\ s^{-1}\\ cm^{-2}\\ Angstrom^{-1}$]', size = 30)\n",
    "\n",
    "\n",
    "    ax.errorbar(wvln,flux,fluxErr, c = plt.cm.rainbow((i+1)/nRows), alpha = 0.8, \n",
    "                marker = '.', markerfacecolor = 'k', markersize = 2, mew = 0)\n",
    "\n",
    "    ax.set_xlim(min_, max_)\n",
    "plt.tight_layout()\n",
    "plt.show()"
   ]
  },
  {
   "cell_type": "code",
   "execution_count": null,
   "metadata": {},
   "outputs": [],
   "source": [
    "# Ex. 3.1 Soln\n",
    "\n",
    "plt.figure(figsize = (12,6))\n",
    "for i in range(2):\n",
    "    dataQual = nuv_x1d_data[i][\"DQ\"]\n",
    "    wvln, flux, fluxErr, segment = nuv_x1d_data[i][\"WAVELENGTH\"], nuv_x1d_data[i][\"FLUX\"],\\\n",
    "    nuv_x1d_data[i][\"ERROR\"], nuv_x1d_data[i][\"SEGMENT\"]\n",
    "\n",
    "\n",
    "    plt.plot(wvln[dataQual == 0], flux[dataQual == 0], linewidth = 1, alpha = 0.5, \n",
    "             label = f\"{segment} Un-Flagged Pixel\")\n",
    "    plt.scatter(wvln[dataQual != 0], flux[dataQual != 0], s = 2, c = 'r', alpha = 1, \n",
    "                label = f\"{segment} Flagged Pixel\")\n",
    "plt.legend(fontsize = 18)\n",
    "plt.title(\"Ex 3.1 Solution\\nRemoving only out-of-bounds pixels from the NUV\\n\", size = 30)\n",
    "plt.xlabel('Wavelength [$\\AA$]', size = 20)\n",
    "plt.ylabel('Flux [$erg\\ s^{-1}\\ cm^{-2}\\ Angstrom^{-1}$]', size = 15)\n",
    "plt.tight_layout()"
   ]
  },
  {
   "cell_type": "code",
   "execution_count": null,
   "metadata": {},
   "outputs": [],
   "source": [
    "#Ex. 3.2 Soln\n",
    "\n",
    "# This whole process can be accomplished in one line, provided we use Fig 2.6 to find a line free region.\n",
    "# We use the estimate_snr function to bin by the NUV resel size of 3, then mean calculate SNR over the region.\n",
    "\n",
    "meanSNR_nuv_range, nuv_range = estimate_snr(nuv_x1d_data, bin_data_first=True, binsize_=3, snr_range = [3400,3450])\n",
    "\n",
    "# Let's plot it as in Fig 3.5\n",
    "\n",
    "plt.figure(figsize = (12,8))\n",
    "plt.plot(nuv_range[1][0], nuv_range[1][1], label = \"SNR Binned by Resel\")\n",
    "plt.axhline(meanSNR_nuv_range, c = 'r', linestyle = '-.', linewidth = 4, label = \"Mean SNR over the Region\")\n",
    "plt.legend(fontsize = 20)\n",
    "plt.title(\"Ex. 3.2 Solution\\nResults of SNR Calculation\", size = 30)\n",
    "plt.xlabel('Wavelength [$\\AA$]', size = 20)\n",
    "plt.ylabel('SNR', size = 20)\n",
    "plt.tight_layout()"
   ]
  }
 ],
 "metadata": {
  "kernelspec": {
   "display_name": "Python 3",
   "language": "python",
   "name": "python3"
  },
  "language_info": {
   "codemirror_mode": {
    "name": "ipython",
    "version": 3
   },
   "file_extension": ".py",
   "mimetype": "text/x-python",
   "name": "python",
   "nbconvert_exporter": "python",
   "pygments_lexer": "ipython3",
   "version": "3.6.13"
  }
 },
 "nbformat": 4,
 "nbformat_minor": 4
}
