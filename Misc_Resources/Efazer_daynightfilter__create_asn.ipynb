{
 "cells": [
  {
   "cell_type": "markdown",
   "metadata": {},
   "source": [
    "# Creating ASN File for splittag Products"
   ]
  },
  {
   "cell_type": "code",
   "execution_count": null,
   "metadata": {},
   "outputs": [],
   "source": [
    "from costools import timefilter\n",
    "import calcos \n",
    "\n",
    "from astropy.io import fits                                            \n",
    "from astropy.table import Table\n",
    "\n",
    "import numpy as np\n",
    "import glob\n",
    "import os\n",
    "\n",
    "\n",
    "import matplotlib.pyplot as plt\n",
    "from matplotlib import gridspec"
   ]
  },
  {
   "cell_type": "markdown",
   "metadata": {},
   "source": [
    "### timefilter example from https://costools.readthedocs.io/en/latest/timefilter.html"
   ]
  },
  {
   "cell_type": "code",
   "execution_count": null,
   "metadata": {},
   "outputs": [],
   "source": [
    "!rm ./filtered_corrtag_*.fits\n",
    "!rm filtered_asn.fits\n",
    "\n",
    "data_dir = '../DayNight/data/'\n",
    "output_dir = './output/'\n",
    "plots_dir = output_dir + 'plots/'\n",
    "!mkdir ./output\n",
    "!mkdir ./output/plots/\n",
    "\n",
    "filename_root = 'lb3q01meq'\n",
    "\n",
    "\n",
    "timefilter.TimelineFilter(data_dir+filename_root+\"_corrtag_a.fits\", \"filtered_corrtag_a.fits\",  # your input names will be different\n",
    "                              \"sun_alt > 0.\")\n",
    "timefilter.TimelineFilter(data_dir+filename_root+\"_corrtag_b.fits\", \"filtered_corrtag_b.fits\",\n",
    "                              \"sun_alt > 0.\")\n",
    "# This must be repeated for all exposures"
   ]
  },
  {
   "cell_type": "markdown",
   "metadata": {},
   "source": [
    "### Creating an ASN file out of the above files"
   ]
  },
  {
   "cell_type": "code",
   "execution_count": null,
   "metadata": {},
   "outputs": [],
   "source": [
    "# this properly assigns the type of exposure in a way that CalCOS will recognize\n",
    "type_dict = {'WAVECAL' : 'EXP-AWAVE',\n",
    "             'EXTERNAL/SCI' : 'EXP-FP'}\n",
    "\n",
    "files = glob.glob(data_dir+filename_root+\"_corrtag_a.fits\") # This will be different depending on your output name ## only need the A segment in the ASN, and calcos will find B for you\n",
    "\n",
    "for f in files:\n",
    "    \n",
    "    # Adding the file details to the association table\n",
    "    rootnames = [f]  # MEMNAME\n",
    "    types = [type_dict[fits.getval(f, 'EXPTYPE')]] # MEMTYPE\n",
    "    included = [True] # MEMPRSNT\n",
    "    \n",
    "    # Adding the ASN details to the end of the association table\n",
    "    # the rootname needs to be the full name, not just the rootname\n",
    "    asn_root = os.path.basename(f.split('corrtag')[0][:-1]) # removing the extra \"_\" at the end of this\n",
    "    rootnames.append(asn_root.upper()) # MEMNAME\n",
    "    types.append('PROD-FP') # MEMTYPE\n",
    "    included.append(True) # MEMPRSNT\n",
    "    \n",
    "    # Putting together the fits table\n",
    "    #   40 is the number of characters allowed in this field. If your rootname is longer than 40, \n",
    "    #     you will need to increase this\n",
    "    c1 = fits.Column(name='MEMNAME', array=np.array(rootnames), format='40A') \n",
    "    c2 = fits.Column(name='MEMTYPE', array=np.array(types), format='14A')\n",
    "    c3 = fits.Column(name='MEMPRSNT', format='L', array=included)\n",
    "    t = fits.BinTableHDU.from_columns([c1, c2, c3])\n",
    "    \n",
    "    # Writing the fits table\n",
    "    t.writeto(asn_root.lower()+'_asn.fits')\n",
    "\n",
    "    print('Saved: {}'.format(asn_root.lower()+'_asn.fits'))\n"
   ]
  },
  {
   "cell_type": "code",
   "execution_count": null,
   "metadata": {},
   "outputs": [],
   "source": [
    "# this properly assigns the type of exposure in a way that CalCOS will recognize\n",
    "type_dict = {'WAVECAL' : 'EXP-AWAVE',\n",
    "             'EXTERNAL/SCI' : 'EXP-FP'}\n",
    "\n",
    "files = glob.glob('filtered_corrtag_a*') ## This will be different depending on your output name ## only need the A segment in the ASN, and calcos will find B for you\n",
    "\n",
    "for f in files:\n",
    "    \n",
    "    # Adding the file details to the association table\n",
    "    rootnames = [f]  # MEMNAME\n",
    "    types = [type_dict[fits.getval(f, 'EXPTYPE')]] # MEMTYPE\n",
    "    included = [True] # MEMPRSNT\n",
    "    \n",
    "    # Adding the ASN details to the end of the association table\n",
    "    # the rootname needs to be the full name, not just the rootname\n",
    "    asn_root = os.path.basename(f.split('corrtag')[0][:-1]) # removing the extra \"_\" at the end of this\n",
    "    rootnames.append(asn_root.upper()) # MEMNAME\n",
    "    types.append('PROD-FP') # MEMTYPE\n",
    "    included.append(True) # MEMPRSNT\n",
    "    \n",
    "    # Putting together the fits table\n",
    "    #   40 is the number of characters allowed in this field. If your rootname is longer than 40, \n",
    "    #     you will need to increase this\n",
    "    c1 = fits.Column(name='MEMNAME', array=np.array(rootnames), format='40A') \n",
    "    c2 = fits.Column(name='MEMTYPE', array=np.array(types), format='14A')\n",
    "    c3 = fits.Column(name='MEMPRSNT', format='L', array=included)\n",
    "    t = fits.BinTableHDU.from_columns([c1, c2, c3])\n",
    "    \n",
    "    # Writing the fits table\n",
    "    t.writeto(asn_root.lower()+'_asn.fits')\n",
    "\n",
    "    print('Saved: {}'.format(asn_root.lower()+'_asn.fits'))\n"
   ]
  },
  {
   "cell_type": "markdown",
   "metadata": {},
   "source": [
    "### Then run CalCOS on those individual files"
   ]
  },
  {
   "cell_type": "code",
   "execution_count": null,
   "metadata": {},
   "outputs": [],
   "source": [
    "#First run with the initial \"FULL\" data with all time-tag datapoints\n",
    "calcos.calcos('./lb3q01meq_asn.fits', outdir=\"full_data_outs\", verbosity = 0)"
   ]
  },
  {
   "cell_type": "code",
   "execution_count": null,
   "metadata": {},
   "outputs": [],
   "source": [
    "#Now run with the \"FILTERED\" data with only time-tag datapoints allowed by the filter\n",
    "calcos.calcos('./filtered_asn.fits', outdir=\"filtered_data_outs\", verbosity= 0)"
   ]
  },
  {
   "cell_type": "code",
   "execution_count": null,
   "metadata": {},
   "outputs": [],
   "source": [
    "ftab = Table.read(\"./full_data_outs/\"+filename_root+\"_x1dsum.fits\")['WAVELENGTH','FLUX']\n",
    "ttab = Table.read(\"./filtered_data_outs/filtered_x1dsum.fits\")['WAVELENGTH','FLUX']\n",
    "\n",
    "combo_dict_f = {'WAVELENGTH':[], 'FLUX':[]}\n",
    "combo_dict_t = {'WAVELENGTH':[], 'FLUX':[]}\n",
    "\n",
    "for row in ftab:\n",
    "    for key in row.colnames:\n",
    "        combo_dict_f[key]+=(list(row[key]))\n",
    "        \n",
    "for row in ttab:\n",
    "    for key in row.colnames:\n",
    "        combo_dict_t[key]+=(list(row[key]))"
   ]
  },
  {
   "cell_type": "code",
   "execution_count": null,
   "metadata": {},
   "outputs": [],
   "source": [
    "fig = plt.figure(figsize=(15, 15)) \n",
    "gs = gridspec.GridSpec(3,1, height_ratios=[1, 3,3]) \n",
    "ax0 = plt.subplot(gs[0])\n",
    "ax1 = plt.subplot(gs[1])\n",
    "ax2 = plt.subplot(gs[2])\n",
    "\n",
    "\n",
    "ax0.scatter(combo_dict_f[\"WAVELENGTH\"], combo_dict_f[\"FLUX\"], s = 2, alpha = 1, c = 'C1',label = \"Unfiltered\")\n",
    "ax0.scatter(combo_dict_t[\"WAVELENGTH\"], combo_dict_t[\"FLUX\"], s = 2, alpha = 1, c = 'C2', label = \"Filtered to SUN_ALT<0\")\n",
    "\n",
    "ax1.scatter(combo_dict_f[\"WAVELENGTH\"], combo_dict_f[\"FLUX\"], s = 2, alpha = 1, c = 'C1',label = \"Unfiltered\")\n",
    "ax0.set_xticks([])\n",
    "ax2.scatter(combo_dict_t[\"WAVELENGTH\"], combo_dict_t[\"FLUX\"], s = 2, alpha = 1, c = 'C2', label = \"Filtered to SUN_ALT<0\")\n",
    "ax1.set_xticks([])\n",
    "\n",
    "ax0.legend(fontsize = 20)\n",
    "ax1.legend(fontsize = 20)\n",
    "ax2.legend(fontsize = 20)\n",
    "\n",
    "ax2.set_xlabel(\"Wavelength [$\\AA$]\", fontsize = 30)\n",
    "ax0.set_title(\"Spectra of Filtered and Unfiltered by `SUN_ALT`\", size = 35)\n",
    "ax1.set_ylabel(\"Flux [$\\AA$]\", fontsize = 30, y=0.2, horizontalalignment='center')\n",
    "plt.tight_layout()\n",
    "\n",
    "plt.savefig(plots_dir + 'compare_spectra_sunalt.png', dpi = 300)"
   ]
  },
  {
   "cell_type": "code",
   "execution_count": null,
   "metadata": {},
   "outputs": [],
   "source": [
    "tab"
   ]
  },
  {
   "cell_type": "code",
   "execution_count": null,
   "metadata": {},
   "outputs": [],
   "source": []
  },
  {
   "cell_type": "code",
   "execution_count": null,
   "metadata": {},
   "outputs": [],
   "source": [
    "fits.info(\"../DayNight/lb3q01meq_corrtag_b.fits\")\n",
    "fits.info(\"./temp_corrtag_b.fits\")\n",
    "\n",
    "for extnum in [2]:\n",
    "    print(Table.read(\"../DayNight/lb3q01meq_corrtag_b.fits\", hdu = extnum),\"\\n=================================\\n\")\n",
    "\n",
    "for extnum in [2,4]:\n",
    "    print(Table.read(\"./temp_corrtag_b.fits\", hdu = extnum))"
   ]
  },
  {
   "cell_type": "code",
   "execution_count": null,
   "metadata": {},
   "outputs": [],
   "source": [
    "\n"
   ]
  },
  {
   "cell_type": "code",
   "execution_count": null,
   "metadata": {},
   "outputs": [],
   "source": []
  },
  {
   "cell_type": "code",
   "execution_count": null,
   "metadata": {},
   "outputs": [],
   "source": [
    "orig3= Table.read(\"../DayNight/lb3q01meq_corrtag_a.fits\", hdu =3)\n",
    "t,sa = orig3[\"TIME\"],orig3[\"SUN_ALT\"]\n",
    "Y = np.polyval(np.polyfit(t,sa,1),t)\n",
    "################\n",
    "# plot it\n",
    "fig = plt.figure(figsize=(12, 10)) \n",
    "gs = gridspec.GridSpec(2,1, height_ratios=[2, 1]) \n",
    "ax0 = plt.subplot(gs[0])\n",
    "ax0.plot(t, sa)\n",
    "ax0.set_xticks([])\n",
    "ax0.set_ylabel(\"Sun Altitude\", size = 14)\n",
    "\n",
    "ax1 = plt.subplot(gs[1])\n",
    "ax1.plot(t, sa - Y, \"C1\")\n",
    "ax1.set_ylabel(\"Residual (Data - Model)\", size = 14)\n",
    "ax1.set_xlabel(\"Time (seconds)\" , size = 20)\n",
    "\n",
    "plt.tight_layout()"
   ]
  },
  {
   "cell_type": "code",
   "execution_count": null,
   "metadata": {},
   "outputs": [],
   "source": [
    "np.polyval(np.polyfit(t,sa,1),249.98399353027344)"
   ]
  },
  {
   "cell_type": "code",
   "execution_count": null,
   "metadata": {},
   "outputs": [],
   "source": [
    "Table.read(\"filtered_asn.fits\")"
   ]
  },
  {
   "cell_type": "code",
   "execution_count": null,
   "metadata": {},
   "outputs": [],
   "source": []
  },
  {
   "cell_type": "code",
   "execution_count": null,
   "metadata": {},
   "outputs": [],
   "source": []
  },
  {
   "cell_type": "code",
   "execution_count": null,
   "metadata": {},
   "outputs": [],
   "source": []
  },
  {
   "cell_type": "code",
   "execution_count": null,
   "metadata": {},
   "outputs": [],
   "source": []
  },
  {
   "cell_type": "code",
   "execution_count": null,
   "metadata": {},
   "outputs": [],
   "source": []
  },
  {
   "cell_type": "code",
   "execution_count": null,
   "metadata": {},
   "outputs": [],
   "source": []
  },
  {
   "cell_type": "code",
   "execution_count": null,
   "metadata": {},
   "outputs": [],
   "source": []
  },
  {
   "cell_type": "code",
   "execution_count": null,
   "metadata": {},
   "outputs": [],
   "source": []
  },
  {
   "cell_type": "code",
   "execution_count": null,
   "metadata": {},
   "outputs": [],
   "source": []
  },
  {
   "cell_type": "code",
   "execution_count": null,
   "metadata": {},
   "outputs": [],
   "source": []
  },
  {
   "cell_type": "code",
   "execution_count": null,
   "metadata": {},
   "outputs": [],
   "source": []
  },
  {
   "cell_type": "code",
   "execution_count": null,
   "metadata": {},
   "outputs": [],
   "source": []
  },
  {
   "cell_type": "markdown",
   "metadata": {},
   "source": [
    "First, exploring can we do this with rawtag, corrtag:"
   ]
  },
  {
   "cell_type": "code",
   "execution_count": null,
   "metadata": {},
   "outputs": [],
   "source": [
    "from costools import timefilter\n",
    "\n",
    "import calcos \n",
    "\n",
    "from astropy.io import fits      \n",
    "from astropy.table import Table\n",
    "import matplotlib.pyplot as plt\n",
    "import numpy as np\n",
    "import glob\n",
    "import os\n",
    "\n",
    "from astroquery.mast import Observations"
   ]
  },
  {
   "cell_type": "code",
   "execution_count": null,
   "metadata": {},
   "outputs": [],
   "source": [
    "data_dir = './data/'\n",
    "output_dir = './output/'"
   ]
  },
  {
   "cell_type": "code",
   "execution_count": null,
   "metadata": {},
   "outputs": [],
   "source": []
  },
  {
   "cell_type": "code",
   "execution_count": null,
   "metadata": {},
   "outputs": [],
   "source": [
    "pl = Observations.get_product_list(Observations.query_criteria(obs_id = 'lb3q01070'))\n",
    "mask_ = np.where((pl[\"productSubGroupDescription\"] == \"CORRTAG_A\") | (pl[\"productSubGroupDescription\"] == \"CORRTAG_B\"))\n",
    "Observations.download_products(pl[mask_], data_dir, cache=False)"
   ]
  },
  {
   "cell_type": "code",
   "execution_count": null,
   "metadata": {},
   "outputs": [],
   "source": [
    "!rm output/temp*_corrtag_a.fits\n",
    "\n",
    "timefilter.TimelineFilter(data_dir+ \"mastDownload/HST/lb3q01kbq/\" +\"lb3q01kbq_corrtag_a.fits\", output_dir+\"temp2_corrtag_a.fits\", # your input names will be different\n",
    "                              \"sun_alt > -40\", verbose = True)"
   ]
  },
  {
   "cell_type": "code",
   "execution_count": null,
   "metadata": {},
   "outputs": [],
   "source": [
    "orig1 = Table.read(data_dir+ \"mastDownload/HST/lb3q01kbq/\" +\"lb3q01kbq_corrtag_a.fits\", hdu =1)\n",
    "temp1 = Table.read(output_dir+\"temp2_corrtag_a.fits\", hdu =1)\n",
    "\n",
    "orig2 = Table.read(data_dir+ \"mastDownload/HST/lb3q01kbq/\" +\"lb3q01kbq_corrtag_a.fits\", hdu =2)\n",
    "temp2 = Table.read(output_dir+\"temp2_corrtag_a.fits\", hdu =2)\n",
    "\n",
    "orig3 = Table.read(data_dir+ \"mastDownload/HST/lb3q01kbq/\" +\"lb3q01kbq_corrtag_a.fits\", hdu =3)\n",
    "temp3 = Table.read(output_dir+\"temp2_corrtag_a.fits\", hdu =3)\n",
    "\n",
    "# orig0 = Table.read(data_dir+ \"mastDownload/HST/lb3q01kbq/\" +\"lb3q01kbq_corrtag_a.fits\", hdu =0)\n",
    "temp0 = Table.read(output_dir+\"temp2_corrtag_a.fits\", hdu =4)\n",
    "\n",
    "len(orig1),len(temp1)"
   ]
  },
  {
   "cell_type": "code",
   "execution_count": null,
   "metadata": {},
   "outputs": [],
   "source": [
    "bins_ = np.arange(0,16)\n",
    "xticks_ = [0] + list(np.linspace(start = 0, stop = 14 ,num = 15, dtype = int))\n",
    "xtick_labels_ = [0] + list(np.logspace(start = 0, stop = 14, base=2, num = 15, dtype = int))\n",
    "meanings = ['No Anomalies', 'Reed-Solomon Error', 'Hot Spot', 'Detector Shadow', 'Poorly Calibrated Region', # What each power of 2 means in order\n",
    "            'Very-low Response Region', 'Background Feature', 'Burst', 'Pixel Out-of-bounds', 'Fill Data', \n",
    "            'Pulse Height Out-of-bounds', 'Low Response Region', 'Bad Time Interval', 'Low PHA Feature', \n",
    "           'Gain-sag Hole', 'Not Used']\n",
    "xtick_labels_ = [str(bt)+\":\"+ mn for bt, mn in zip(xtick_labels_, meanings)]\n",
    "\n",
    "np.warnings.filterwarnings('ignore')\n",
    "\n",
    "fig, (ax0,ax1) = plt.subplots(2,1,figsize = (10,8))\n",
    "ax0.hist(np.nan_to_num(np.log2(orig1[\"DQ\"]), neginf=0), bins = bins_, alpha = 1, \n",
    "         color = 'C0', label = \"Before Time Filter\")\n",
    "ax1.hist(np.nan_to_num(np.log2(temp1[\"DQ\"]), neginf=0),bins = bins_, alpha = 1, \n",
    "         color = 'C1', label = \"After Time Filter\")\n",
    "ax0.set_xticks([])\n",
    "ax1.set_xticks(np.add(0.5,xticks_))\n",
    "ax1.set_xticklabels(xtick_labels_, rotation = 90, fontsize = 14)\n",
    "ax0.legend()\n",
    "ax1.legend()\n",
    "ax0.set_title(\"DQ Flags Before/After of Sun-Altitude Filter\", size = 20)\n",
    "plt.tight_layout()"
   ]
  },
  {
   "cell_type": "code",
   "execution_count": null,
   "metadata": {},
   "outputs": [],
   "source": [
    "fits.getheader(data_dir+ \"mastDownload/HST/lb3q01kbq/\" +\"lb3q01kbq_corrtag_a.fits\",ext=1)[\"SDQFLAGS\"],fits.getheader(output_dir+ \"temp2_corrtag_a.fits\",ext=1)[\"SDQFLAGS\"]"
   ]
  },
  {
   "cell_type": "code",
   "execution_count": null,
   "metadata": {},
   "outputs": [],
   "source": [
    "def interpret_sdq(flags):\n",
    "    print(\"Bit\\tFlagged?\\tMeaning\")\n",
    "    for i, char in enumerate(bin(flags)[::-1][:-2]):\n",
    "        print(2**(i),\"\\t\", bool(int(char)),\"\\t\", meanings[i+1])\n",
    "\n",
    "interpret_sdq(8346)"
   ]
  },
  {
   "cell_type": "code",
   "execution_count": null,
   "metadata": {},
   "outputs": [],
   "source": [
    "orig2"
   ]
  },
  {
   "cell_type": "code",
   "execution_count": null,
   "metadata": {},
   "outputs": [],
   "source": [
    "temp3"
   ]
  },
  {
   "cell_type": "code",
   "execution_count": null,
   "metadata": {},
   "outputs": [],
   "source": [
    "temp0"
   ]
  },
  {
   "cell_type": "code",
   "execution_count": null,
   "metadata": {},
   "outputs": [],
   "source": [
    "Table.read(output_dir+\"temp2_corrtag_a.fits\", hdu =4)"
   ]
  },
  {
   "cell_type": "code",
   "execution_count": null,
   "metadata": {},
   "outputs": [],
   "source": [
    "fits.info(output_dir+ \"temp2_corrtag_a.fits\")"
   ]
  },
  {
   "cell_type": "code",
   "execution_count": null,
   "metadata": {},
   "outputs": [],
   "source": [
    "fits.info(data_dir + 'lbgu17qnq_corrtag_a.fits')"
   ]
  },
  {
   "cell_type": "code",
   "execution_count": null,
   "metadata": {},
   "outputs": [],
   "source": [
    "glob.glob(data_dir + \"**/*fits\", recursive=True)"
   ]
  },
  {
   "cell_type": "code",
   "execution_count": null,
   "metadata": {},
   "outputs": [],
   "source": [
    "t,sa = orig3[\"TIME\"],orig3[\"SUN_ALT\"]\n",
    "plt.scatter(t,sa, s =.1)"
   ]
  }
 ],
 "metadata": {
  "kernelspec": {
   "display_name": "Python 3",
   "language": "python",
   "name": "python3"
  },
  "language_info": {
   "codemirror_mode": {
    "name": "ipython",
    "version": 3
   },
   "file_extension": ".py",
   "mimetype": "text/x-python",
   "name": "python",
   "nbconvert_exporter": "python",
   "pygments_lexer": "ipython3",
   "version": "3.6.12"
  }
 },
 "nbformat": 4,
 "nbformat_minor": 4
}
