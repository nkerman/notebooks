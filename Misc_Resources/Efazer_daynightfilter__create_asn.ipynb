{
 "cells": [
  {
   "cell_type": "markdown",
   "metadata": {},
   "source": [
    "# Creating ASN File for splittag Products"
   ]
  },
  {
   "cell_type": "code",
   "execution_count": 2,
   "metadata": {},
   "outputs": [
    {
     "name": "stdout",
     "output_type": "stream",
     "text": [
      "The following tasks in the costools package can be run with TEAL:\n",
      "         splittag                 timefilter                 x1dcorr\n"
     ]
    }
   ],
   "source": [
    "from costools import timefilter\n",
    "\n",
    "import calcos \n",
    "\n",
    "from astropy.io import fits                                            \n",
    "import numpy as np\n",
    "import glob\n",
    "import os"
   ]
  },
  {
   "cell_type": "markdown",
   "metadata": {},
   "source": [
    "### timefilter example from https://costools.readthedocs.io/en/latest/timefilter.html"
   ]
  },
  {
   "cell_type": "code",
   "execution_count": 6,
   "metadata": {},
   "outputs": [
    {
     "data": {
      "text/plain": [
       "<costools.timefilter.TimelineFilter at 0x1c1f3fea58>"
      ]
     },
     "execution_count": 6,
     "metadata": {},
     "output_type": "execute_result"
    }
   ],
   "source": [
    "timefilter.TimelineFilter(\"lb3q01meq_corrtag_a.fits\", \"temp_corrtag_a.fits\",  # your input names will be different\n",
    "                              \"sun_alt > 0.\")\n",
    "timefilter.TimelineFilter(\"lb3q01meq_corrtag_b.fits\", \"temp_corrtag_b.fits\",\n",
    "                              \"sun_alt > 0.\")\n",
    "# repeat this for all exposures"
   ]
  },
  {
   "cell_type": "markdown",
   "metadata": {},
   "source": [
    "### Creating an ASN file out of the above files"
   ]
  },
  {
   "cell_type": "code",
   "execution_count": 10,
   "metadata": {},
   "outputs": [
    {
     "name": "stdout",
     "output_type": "stream",
     "text": [
      "Saved: temp_asn.fits\n"
     ]
    }
   ],
   "source": [
    "# this properly assigns the type of exposure in a way that CalCOS will recognize\n",
    "type_dict = {'WAVECAL' : 'EXP-AWAVE',\n",
    "             'EXTERNAL/SCI' : 'EXP-FP'}\n",
    "\n",
    "files = glob.glob('temp_corrtag_a*') ## This will be different depending on your output name ## only need the A segment in the ASN, and calcos will find B for you\n",
    "\n",
    "for f in files:\n",
    "    \n",
    "    # Adding the file details to the association table\n",
    "    rootnames = [f]  # MEMNAME\n",
    "    types = [type_dict[fits.getval(f, 'EXPTYPE')]] # MEMTYPE\n",
    "    included = [True] # MEMPRSNT\n",
    "    \n",
    "    # Adding the ASN details to the end of the association table\n",
    "    # the rootname needs to be the full name, not just the rootname\n",
    "    asn_root = os.path.basename(f.split('corrtag')[0][:-1]) # removing the extra \"_\" at the end of this\n",
    "    rootnames.append(asn_root.upper()) # MEMNAME\n",
    "    types.append('PROD-FP') # MEMTYPE\n",
    "    included.append(True) # MEMPRSNT\n",
    "    \n",
    "    # Putting together the fits table\n",
    "    #   40 is the number of characters allowed in this field. If your rootname is longer than 40, \n",
    "    #     you will need to increase this\n",
    "    c1 = fits.Column(name='MEMNAME', array=np.array(rootnames), format='40A') \n",
    "    c2 = fits.Column(name='MEMTYPE', array=np.array(types), format='14A')\n",
    "    c3 = fits.Column(name='MEMPRSNT', format='L', array=included)\n",
    "    t = fits.BinTableHDU.from_columns([c1, c2, c3])\n",
    "    \n",
    "    # Writing the fits table\n",
    "    t.writeto(asn_root.lower()+'_asn.fits')\n",
    "\n",
    "    print('Saved: {}'.format(asn_root.lower()+'_asn.fits'))\n"
   ]
  },
  {
   "cell_type": "code",
   "execution_count": 11,
   "metadata": {},
   "outputs": [
    {
     "name": "stdout",
     "output_type": "stream",
     "text": [
      "[('temp_corrtag_a.fits', 'EXP-FP',  1) ('TEMP', 'PROD-FP',  1)]\n"
     ]
    }
   ],
   "source": [
    "asnfile = 'temp_asn.fits'\n",
    "print(fits.getdata(asnfile))"
   ]
  },
  {
   "cell_type": "markdown",
   "metadata": {},
   "source": [
    "### Then run CalCOS on those individual files"
   ]
  },
  {
   "cell_type": "code",
   "execution_count": 12,
   "metadata": {},
   "outputs": [
    {
     "name": "stdout",
     "output_type": "stream",
     "text": [
      "Warning:  Creating output directory 'calibrated_filtered'.\n",
      "CALCOS version 3.3.7 (2019-07-09)\n",
      "numpy version 1.16.4\n",
      "astropy version 3.2.1\n",
      "Begin 10-Apr-2020 10:50:18 EDT\n",
      "Association file = temp_asn.fits\n",
      "\n",
      "TIME-TAG calibration -- 10-Apr-2020 10:50:20 EDT\n",
      "Input     temp_corrtag_a.fits\n",
      "OutTag    calibrated_filtered/temp_corrtag_a.fits\n",
      "OutFlt    calibrated_filtered/temp_flt_a.fits\n",
      "OutCounts calibrated_filtered/temp_counts_a.fits\n",
      "OutFlash  calibrated_filtered/temp_lampflash_a.fits\n",
      "DETECTOR  FUV, segment A\n",
      "EXPTYPE   EXTERNAL/SCI\n",
      "OPT_ELEM  G160M, CENWAVE 1623, FPOFFSET 0\n",
      "APERTURE  PSA\n",
      "\n",
      "BADTCORR  OMIT\n",
      "RANDCORR  OMIT (already complete)\n",
      "TEMPCORR  OMIT (already complete)\n",
      "GEOCORR   OMIT (already complete)\n",
      "DGEOCORR  OMIT\n",
      "DEADCORR  OMIT (already complete)\n",
      "PHACORR   OMIT (already complete)\n",
      "DOPPCORR  OMIT (already complete)\n",
      "XTRACTAB= lref$x1v17414l_1dx.fits\n",
      "DISPTAB = lref$05i1639ml_disp.fits\n",
      "BRFTAB  = lref$x1u1459il_brf.fits\n",
      "FLATCORR  OMIT (already complete)\n",
      "WAVECORR  OMIT (already complete)\n",
      "BRSTCORR  OMIT\n",
      "TRCECORR  OMIT\n",
      "ALGNCORR  OMIT\n",
      "DQICORR   PERFORM (complete, but repeat)\n",
      "BPIXTAB = lref$36d1836ml_bpix.fits\n",
      "GSAGTAB = lref$34t20129l_gsag.fits\n",
      "SPOTTAB = lref$zas1615jl_spot.fits\n",
      "Warning:  No trace profile, using zero\n",
      "Shifting to -30, 0\n",
      "Shifting to -29, 0\n",
      "Shifting to -28, 0\n",
      "Shifting to -30, 0\n",
      "Shifting to -29, 0\n",
      "Shifting to -28, 0\n",
      "STATFLAG  T\n",
      "Update the TIMELINE extension.\n",
      "Warning:  spt file not found, so TIMELINE extension is incomplete\n",
      "\n",
      "Spectral Extraction -- 10-Apr-2020 10:50:38 EDT\n",
      "Input     calibrated_filtered/temp_flt_a.fits\n",
      "Incounts  calibrated_filtered/temp_counts_a.fits\n",
      "Output    calibrated_filtered/temp_x1d_a.fits\n",
      "\n",
      "Info:  find-target option = no\n",
      "X1DCORR   PERFORM\n",
      "Extraction algorithm = BOXCAR\n",
      "XTRACTAB= lref$x1v17414l_1dx.fits\n",
      "DISPTAB = lref$05i1639ml_disp.fits\n",
      "HELCORR   PERFORM\n",
      "BACKCORR  PERFORM\n",
      "STATFLAG  T\n",
      "FLUXCORR  PERFORM\n",
      "FLUXTAB = lref$23n1744pl_phot.fits\n",
      "TDSCORR   PERFORM\n",
      "TDSTAB  = lref$29o1427cl_tds.fits\n"
     ]
    },
    {
     "name": "stderr",
     "output_type": "stream",
     "text": [
      "WARNING: AstropyDeprecationWarning: The following keywords are now recognized as special column-related attributes and should be set via the Column objects: TCDLTn, TCRPXn, TCRVLn, TCTYPn, TCUNIn. In future, these values will be dropped from manually specified headers automatically and replaced with values generated based on the Column objects. [astropy.io.fits.hdu.table]\n"
     ]
    },
    {
     "name": "stdout",
     "output_type": "stream",
     "text": [
      "FUVA spectrum was found at y = 480.11 vs. nominal y = 478.06\n",
      "    error estimate for y location = 8.52, FWHM = 4.06\n",
      "Spectrum will be extracted at y = 478.06\n",
      "\n",
      "TIME-TAG calibration -- 10-Apr-2020 10:50:41 EDT\n",
      "Input     temp_corrtag_b.fits\n",
      "OutTag    calibrated_filtered/temp_corrtag_b.fits\n",
      "OutFlt    calibrated_filtered/temp_flt_b.fits\n",
      "OutCounts calibrated_filtered/temp_counts_b.fits\n",
      "OutFlash  calibrated_filtered/temp_lampflash_b.fits\n",
      "DETECTOR  FUV, segment B\n",
      "EXPTYPE   EXTERNAL/SCI\n",
      "OPT_ELEM  G160M, CENWAVE 1623, FPOFFSET 0\n",
      "APERTURE  PSA\n",
      "\n",
      "BADTCORR  OMIT\n",
      "RANDCORR  OMIT (already complete)\n",
      "TEMPCORR  OMIT (already complete)\n",
      "GEOCORR   OMIT (already complete)\n",
      "DGEOCORR  OMIT\n",
      "DEADCORR  OMIT (already complete)\n",
      "PHACORR   OMIT (already complete)\n",
      "DOPPCORR  OMIT (already complete)\n",
      "XTRACTAB= lref$x1v17414l_1dx.fits\n",
      "DISPTAB = lref$05i1639ml_disp.fits\n",
      "BRFTAB  = lref$x1u1459il_brf.fits\n",
      "FLATCORR  OMIT (already complete)\n",
      "WAVECORR  OMIT (already complete)\n",
      "BRSTCORR  OMIT\n",
      "TRCECORR  OMIT\n",
      "ALGNCORR  OMIT\n",
      "DQICORR   PERFORM (complete, but repeat)\n",
      "BPIXTAB = lref$36d1836ml_bpix.fits\n",
      "GSAGTAB = lref$34t20129l_gsag.fits\n",
      "SPOTTAB = lref$zas1615jl_spot.fits\n",
      "Warning:  No trace profile, using zero\n",
      "Shifting to -34, 0\n",
      "Shifting to -33, 0\n",
      "Shifting to -32, 0\n",
      "Shifting to -34, 0\n",
      "Shifting to -33, 0\n",
      "Shifting to -32, 0\n",
      "STATFLAG  T\n",
      "Update the TIMELINE extension.\n",
      "Warning:  spt file not found, so TIMELINE extension is incomplete\n",
      "\n",
      "Spectral Extraction -- 10-Apr-2020 10:50:57 EDT\n",
      "Input     calibrated_filtered/temp_flt_b.fits\n",
      "Incounts  calibrated_filtered/temp_counts_b.fits\n",
      "Output    calibrated_filtered/temp_x1d_b.fits\n",
      "\n",
      "Info:  find-target option = no\n",
      "X1DCORR   PERFORM\n",
      "Extraction algorithm = BOXCAR\n",
      "XTRACTAB= lref$x1v17414l_1dx.fits\n",
      "DISPTAB = lref$05i1639ml_disp.fits\n",
      "HELCORR   PERFORM\n",
      "BACKCORR  PERFORM\n",
      "STATFLAG  T\n",
      "FLUXCORR  PERFORM\n",
      "FLUXTAB = lref$23n1744pl_phot.fits\n",
      "TDSCORR   PERFORM\n",
      "TDSTAB  = lref$29o1427cl_tds.fits\n",
      "FUVB spectrum was found at y = 538.02 vs. nominal y = 538.63\n",
      "    error estimate for y location = 3.91, FWHM = 4.16\n",
      "Spectrum will be extracted at y = 538.63\n",
      "SPWCSTAB= lref$2bj2256kl_spwcs.fits\n",
      "\n",
      "Average 1-D spectra -- 10-Apr-2020 10:51:01 EDT\n",
      "Input     ['calibrated_filtered/temp_x1d.fits']\n",
      "Output    calibrated_filtered/temp_x1dsum.fits\n",
      "\n",
      "Average 1-D spectra -- 10-Apr-2020 10:51:01 EDT\n",
      "Input     ['calibrated_filtered/temp_x1d.fits']\n",
      "Output    calibrated_filtered/temp_x1dsum3.fits\n",
      "Warning:  spt file not found, so not copied to product\n",
      "End   10-Apr-2020 10:51:01 EDT\n"
     ]
    }
   ],
   "source": [
    "for f in glob.glob('temp_asn.fits'):\n",
    "    calcos.calcos(f, outdir='calibrated_filtered')"
   ]
  },
  {
   "cell_type": "code",
   "execution_count": null,
   "metadata": {},
   "outputs": [],
   "source": []
  }
 ],
 "metadata": {
  "kernelspec": {
   "display_name": "Python 3",
   "language": "python",
   "name": "python3"
  },
  "language_info": {
   "codemirror_mode": {
    "name": "ipython",
    "version": 3
   },
   "file_extension": ".py",
   "mimetype": "text/x-python",
   "name": "python",
   "nbconvert_exporter": "python",
   "pygments_lexer": "ipython3",
   "version": "3.6.10"
  }
 },
 "nbformat": 4,
 "nbformat_minor": 2
}
